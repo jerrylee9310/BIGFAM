{
 "cells": [
  {
   "cell_type": "code",
   "execution_count": 4,
   "metadata": {},
   "outputs": [],
   "source": [
    "import pandas as pd\n",
    "import numpy as np\n",
    "import os\n",
    "from tqdm import tqdm\n",
    "import sys\n",
    "\n",
    "import sys\n",
    "sys.path.append(\"/data/jerrylee/pjt/BIGFAM.v.2.0\")\n",
    "from src import obj1, tools\n",
    "import importlib"
   ]
  },
  {
   "cell_type": "code",
   "execution_count": 5,
   "metadata": {},
   "outputs": [],
   "source": [
    "cohort = \"GS\"# UKB, GS"
   ]
  },
  {
   "cell_type": "markdown",
   "metadata": {},
   "source": [
    "# Step 1. Load FR-reg"
   ]
  },
  {
   "cell_type": "code",
   "execution_count": 3,
   "metadata": {},
   "outputs": [],
   "source": [
    "frreg_path = f\"/data/jerrylee/pjt/BIGFAM.v.2.0/data/{cohort}/po-sib/frreg\"\n",
    "slope_path = f\"/data/jerrylee/pjt/BIGFAM.v.2.0/data/{cohort}/po-sib/slope-test\""
   ]
  },
  {
   "cell_type": "code",
   "execution_count": 6,
   "metadata": {},
   "outputs": [],
   "source": [
    "def select_DOR_level_frreg(fns):\n",
    "    fns = [fn for fn in fns if fn.split(\".\")[1] in [\"PC\", \"SB\"]]\n",
    "    return fns\n",
    "\n",
    "def select_slope_file(fns):\n",
    "    fns = [fn for fn in fns if fn.split(\".\")[1] != \"raw\"]\n",
    "    return fns"
   ]
  },
  {
   "cell_type": "code",
   "execution_count": 7,
   "metadata": {},
   "outputs": [
    {
     "data": {
      "text/plain": [
       "(64, 128)"
      ]
     },
     "execution_count": 7,
     "metadata": {},
     "output_type": "execute_result"
    }
   ],
   "source": [
    "# frreg, slope fns\n",
    "frreg_fns = os.listdir(frreg_path)\n",
    "frreg_fns = select_DOR_level_frreg(frreg_fns)\n",
    "\n",
    "slope_fns = os.listdir(slope_path)\n",
    "slope_fns = select_slope_file(slope_fns)\n",
    "len(frreg_fns), len(slope_fns)"
   ]
  },
  {
   "cell_type": "code",
   "execution_count": 12,
   "metadata": {},
   "outputs": [
    {
     "data": {
      "text/plain": [
       "32"
      ]
     },
     "execution_count": 12,
     "metadata": {},
     "output_type": "execute_result"
    }
   ],
   "source": [
    "frreg_phenos = [fn.split(\".\")[0] for fn in frreg_fns]\n",
    "slope_phenos = [fn.split(\".\")[0] for fn in slope_fns]\n",
    "\n",
    "common_phenos = list(set([pheno for pheno in frreg_phenos if pheno in slope_phenos]))\n",
    "len(common_phenos)"
   ]
  },
  {
   "cell_type": "markdown",
   "metadata": {},
   "source": [
    "# Step 2. Prediction"
   ]
  },
  {
   "cell_type": "code",
   "execution_count": 14,
   "metadata": {},
   "outputs": [
    {
     "name": "stdout",
     "output_type": "stream",
     "text": [
      "/data/jerrylee/pjt/BIGFAM.v.2.0/data/GS/po-sib/prediction\n"
     ]
    }
   ],
   "source": [
    "output_path = f\"/data/jerrylee/pjt/BIGFAM.v.2.0/data/{cohort}/po-sib/prediction\"\n",
    "\n",
    "if os.path.exists(output_path):\n",
    "    print(output_path)"
   ]
  },
  {
   "cell_type": "code",
   "execution_count": 15,
   "metadata": {},
   "outputs": [],
   "source": [
    "def get_slope_test_results(df_slope_test):\n",
    "    lower, upper = df_slope_test.loc[\n",
    "        df_slope_test[\"param\"] == \"slope\", \n",
    "        [\"lower(2.5%)\", \"upper(97.5%)\"]\n",
    "    ].values[0]\n",
    "    \n",
    "    return([lower, upper])"
   ]
  },
  {
   "cell_type": "code",
   "execution_count": 16,
   "metadata": {},
   "outputs": [
    {
     "name": "stderr",
     "output_type": "stream",
     "text": [
      "  0%|          | 0/32 [00:00<?, ?it/s]"
     ]
    },
    {
     "name": "stdout",
     "output_type": "stream",
     "text": [
      "1..2..3..4..5..6..7..8..9..10.."
     ]
    },
    {
     "name": "stderr",
     "output_type": "stream",
     "text": [
      "  0%|          | 0/32 [00:53<?, ?it/s]\n"
     ]
    }
   ],
   "source": [
    "for ii, pheno in enumerate(tqdm(common_phenos)):\n",
    "    for subgroup in [\"PC\", \"SB\"]:\n",
    "            \n",
    "        # load FR-reg\n",
    "        frreg_fn = f\"{frreg_path}/{pheno}.{subgroup}.frreg\"\n",
    "        df_frreg = pd.read_csv(\n",
    "            frreg_fn, \n",
    "            sep='\\t'\n",
    "        )\n",
    "        \n",
    "        # resampling FR-reg to compute CIs\n",
    "        df_lmbds = obj1.resampleFrregCoefficients(df_frreg, n_resample=100)    \n",
    "        \n",
    "        # load slope test results\n",
    "        df_slope_test = pd.read_csv(\n",
    "            f\"{slope_path}/{pheno}.{subgroup}.slope\", \n",
    "            sep = '\\t'\n",
    "        )\n",
    "        \n",
    "        # save slope test results\n",
    "        df_gsw = obj1.prediction(\n",
    "            df_lmbds, \n",
    "            get_slope_test_results(df_slope_test),\n",
    "            print_prog=True\n",
    "        )\n",
    "        \n",
    "        # # save prediction results \n",
    "        savefn_pred = f\"{output_path}/{pheno}.{subgroup}\"\n",
    "        (tools\n",
    "        .raw2long(df_gsw, params=df_gsw.columns)\n",
    "        .to_csv(\n",
    "            f\"{savefn_pred}.pred\", \n",
    "            sep='\\t', \n",
    "            index=False)\n",
    "        )\n",
    "        df_gsw.to_csv(\n",
    "            f\"{savefn_pred}.raw.pred\", \n",
    "            sep='\\t', \n",
    "            index=False\n",
    "        )\n",
    "        "
   ]
  },
  {
   "cell_type": "code",
   "execution_count": null,
   "metadata": {},
   "outputs": [],
   "source": []
  }
 ],
 "metadata": {
  "kernelspec": {
   "display_name": "BIGFAM",
   "language": "python",
   "name": "python3"
  },
  "language_info": {
   "codemirror_mode": {
    "name": "ipython",
    "version": 3
   },
   "file_extension": ".py",
   "mimetype": "text/x-python",
   "name": "python",
   "nbconvert_exporter": "python",
   "pygments_lexer": "ipython3",
   "version": "3.9.19"
  }
 },
 "nbformat": 4,
 "nbformat_minor": 2
}
