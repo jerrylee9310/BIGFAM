{
 "cells": [
  {
   "cell_type": "code",
   "execution_count": 1,
   "metadata": {},
   "outputs": [],
   "source": [
    "import pandas as pd\n",
    "import numpy as np\n",
    "import os\n",
    "from tqdm import tqdm\n",
    "import sys\n",
    "\n",
    "import sys; sys.path.append(\n",
    "    \"/data/jerrylee/pjt/BIGFAM.v.2.0\"\n",
    "    )\n",
    "from src import obj1, tools\n",
    "import importlib"
   ]
  },
  {
   "cell_type": "code",
   "execution_count": 16,
   "metadata": {},
   "outputs": [],
   "source": [
    "cohort = \"UKB\" # UKB, GS"
   ]
  },
  {
   "cell_type": "markdown",
   "metadata": {},
   "source": [
    "# Step 1. Load FR-reg results"
   ]
  },
  {
   "cell_type": "code",
   "execution_count": 17,
   "metadata": {},
   "outputs": [],
   "source": [
    "frreg_path = f\"/data/jerrylee/pjt/BIGFAM.v.2.0/data/{cohort}/po-sib/frreg\""
   ]
  },
  {
   "cell_type": "code",
   "execution_count": 18,
   "metadata": {},
   "outputs": [],
   "source": [
    "def select_DOR_level_frreg(fns):\n",
    "    fns = [fn for fn in fns if fn.split(\".\")[1] in [\"PC\", \"SB\"]]\n",
    "    return fns"
   ]
  },
  {
   "cell_type": "code",
   "execution_count": 19,
   "metadata": {},
   "outputs": [
    {
     "data": {
      "text/plain": [
       "212"
      ]
     },
     "execution_count": 19,
     "metadata": {},
     "output_type": "execute_result"
    }
   ],
   "source": [
    "fns = os.listdir(frreg_path)\n",
    "fns = select_DOR_level_frreg(fns)\n",
    "len(fns)"
   ]
  },
  {
   "cell_type": "markdown",
   "metadata": {},
   "source": [
    "# Step 2. Slope test\n"
   ]
  },
  {
   "cell_type": "code",
   "execution_count": 20,
   "metadata": {},
   "outputs": [
    {
     "name": "stdout",
     "output_type": "stream",
     "text": [
      "/data/jerrylee/pjt/BIGFAM.v.2.0/data/UKB/po-sib/slope-test\n"
     ]
    }
   ],
   "source": [
    "output_path = f\"/data/jerrylee/pjt/BIGFAM.v.2.0/data/{cohort}/po-sib/slope-test\"\n",
    "\n",
    "if os.path.exists(output_path):\n",
    "    print(output_path)\n"
   ]
  },
  {
   "cell_type": "code",
   "execution_count": 21,
   "metadata": {},
   "outputs": [
    {
     "name": "stderr",
     "output_type": "stream",
     "text": [
      "100%|██████████| 212/212 [01:48<00:00,  1.95it/s]\n"
     ]
    }
   ],
   "source": [
    "for ii, fn in enumerate(tqdm(fns)):\n",
    "    pheno_name = fn.split(\".\")[0]\n",
    "    subgroup = fn.split(\".\")[1]\n",
    "    \n",
    "    # print(pheno_name, subgroup)\n",
    "    \n",
    "    # load FR-reg\n",
    "    frreg_fn = f\"{frreg_path}/{fn}\"\n",
    "    df_frreg = pd.read_csv(frreg_fn, delim_whitespace=True)\n",
    "    \n",
    "    # resampling FR-reg to compute CIs\n",
    "    df_lmbds = obj1.resampleFrregCoefficients(df_frreg, n_resample=100)    \n",
    "    \n",
    "    # slope test(FRLog-reg)\n",
    "    df_frlogreg = obj1.familialRelationshipLogRegression(df_lmbds)\n",
    "    sig = obj1._slopeSig(df_frlogreg[\"slope\"])\n",
    "    \n",
    "    # save slope test results\n",
    "    savefn_slopetest = f\"{output_path}/{pheno_name}.{subgroup}\"\n",
    "    (tools\n",
    "     .raw2long(df_frlogreg, params=[\"slope\", \"intercept\"])\n",
    "     .to_csv(\n",
    "         f\"{savefn_slopetest}.slope\", \n",
    "         sep='\\t', \n",
    "         index=False)\n",
    "     )\n",
    "    df_frlogreg.to_csv(\n",
    "        f\"{savefn_slopetest}.raw.slope\", \n",
    "         sep='\\t',\n",
    "         index=False\n",
    "    )"
   ]
  },
  {
   "cell_type": "code",
   "execution_count": null,
   "metadata": {},
   "outputs": [],
   "source": []
  }
 ],
 "metadata": {
  "kernelspec": {
   "display_name": "BIGFAM",
   "language": "python",
   "name": "python3"
  },
  "language_info": {
   "codemirror_mode": {
    "name": "ipython",
    "version": 3
   },
   "file_extension": ".py",
   "mimetype": "text/x-python",
   "name": "python",
   "nbconvert_exporter": "python",
   "pygments_lexer": "ipython3",
   "version": "3.9.19"
  }
 },
 "nbformat": 4,
 "nbformat_minor": 2
}
