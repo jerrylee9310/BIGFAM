{
 "cells": [
  {
   "cell_type": "code",
   "execution_count": 8,
   "metadata": {},
   "outputs": [],
   "source": [
    "import pandas as pd\n",
    "import numpy as np\n",
    "import os\n",
    "from tqdm import tqdm\n",
    "import sys; sys.path.append(\"/data/jerrylee/pjt/BIGFAM.v.2.0\")\n",
    "from src import frreg"
   ]
  },
  {
   "cell_type": "code",
   "execution_count": 9,
   "metadata": {},
   "outputs": [],
   "source": [
    "cohort = \"UKB\" # UKB, GS"
   ]
  },
  {
   "cell_type": "markdown",
   "metadata": {},
   "source": [
    "# Step 1. Load relatives phenotype data"
   ]
  },
  {
   "cell_type": "code",
   "execution_count": 10,
   "metadata": {},
   "outputs": [],
   "source": [
    "# parameters\n",
    "info_fn = f\"/data/jerrylee/pjt/BIGFAM.v.2.0/data/{cohort}/relationship_information/relatives.formatted.info\"\n",
    "pheno_path = f\"/data/jerrylee/pjt/BIGFAM.v.2.0/data/{cohort}/phenotype\"\n",
    "frreg_path = f\"/data/jerrylee/pjt/BIGFAM.v.2.0/data/{cohort}/frreg\"\n",
    "output_path = f\"/data/jerrylee/pjt/BIGFAM.v.2.0/data/{cohort}/po-sib\""
   ]
  },
  {
   "cell_type": "code",
   "execution_count": 11,
   "metadata": {},
   "outputs": [
    {
     "data": {
      "text/html": [
       "<div>\n",
       "<style scoped>\n",
       "    .dataframe tbody tr th:only-of-type {\n",
       "        vertical-align: middle;\n",
       "    }\n",
       "\n",
       "    .dataframe tbody tr th {\n",
       "        vertical-align: top;\n",
       "    }\n",
       "\n",
       "    .dataframe thead th {\n",
       "        text-align: right;\n",
       "    }\n",
       "</style>\n",
       "<table border=\"1\" class=\"dataframe\">\n",
       "  <thead>\n",
       "    <tr style=\"text-align: right;\">\n",
       "      <th></th>\n",
       "      <th>DOR</th>\n",
       "      <th>rcode</th>\n",
       "      <th>relationship</th>\n",
       "      <th>volid</th>\n",
       "      <th>relid</th>\n",
       "      <th>volage</th>\n",
       "      <th>relage</th>\n",
       "      <th>volsex</th>\n",
       "      <th>relsex</th>\n",
       "      <th>Erx</th>\n",
       "    </tr>\n",
       "  </thead>\n",
       "  <tbody>\n",
       "    <tr>\n",
       "      <th>0</th>\n",
       "      <td>1</td>\n",
       "      <td>SB</td>\n",
       "      <td>daughter-sister</td>\n",
       "      <td>1000094</td>\n",
       "      <td>3653174</td>\n",
       "      <td>65</td>\n",
       "      <td>64</td>\n",
       "      <td>F</td>\n",
       "      <td>F</td>\n",
       "      <td>0.75</td>\n",
       "    </tr>\n",
       "    <tr>\n",
       "      <th>1</th>\n",
       "      <td>1</td>\n",
       "      <td>NaN</td>\n",
       "      <td>NaN</td>\n",
       "      <td>1000220</td>\n",
       "      <td>1691267</td>\n",
       "      <td>64</td>\n",
       "      <td>64</td>\n",
       "      <td>F</td>\n",
       "      <td>F</td>\n",
       "      <td>NaN</td>\n",
       "    </tr>\n",
       "    <tr>\n",
       "      <th>2</th>\n",
       "      <td>1</td>\n",
       "      <td>NaN</td>\n",
       "      <td>NaN</td>\n",
       "      <td>1000286</td>\n",
       "      <td>1571411</td>\n",
       "      <td>53</td>\n",
       "      <td>70</td>\n",
       "      <td>F</td>\n",
       "      <td>F</td>\n",
       "      <td>NaN</td>\n",
       "    </tr>\n",
       "    <tr>\n",
       "      <th>3</th>\n",
       "      <td>1</td>\n",
       "      <td>NaN</td>\n",
       "      <td>NaN</td>\n",
       "      <td>1000295</td>\n",
       "      <td>1045127</td>\n",
       "      <td>60</td>\n",
       "      <td>41</td>\n",
       "      <td>F</td>\n",
       "      <td>F</td>\n",
       "      <td>NaN</td>\n",
       "    </tr>\n",
       "    <tr>\n",
       "      <th>4</th>\n",
       "      <td>1</td>\n",
       "      <td>NaN</td>\n",
       "      <td>NaN</td>\n",
       "      <td>1000476</td>\n",
       "      <td>3599303</td>\n",
       "      <td>50</td>\n",
       "      <td>51</td>\n",
       "      <td>F</td>\n",
       "      <td>M</td>\n",
       "      <td>NaN</td>\n",
       "    </tr>\n",
       "  </tbody>\n",
       "</table>\n",
       "</div>"
      ],
      "text/plain": [
       "   DOR rcode     relationship    volid    relid  volage  relage volsex relsex  \\\n",
       "0    1    SB  daughter-sister  1000094  3653174      65      64      F      F   \n",
       "1    1   NaN              NaN  1000220  1691267      64      64      F      F   \n",
       "2    1   NaN              NaN  1000286  1571411      53      70      F      F   \n",
       "3    1   NaN              NaN  1000295  1045127      60      41      F      F   \n",
       "4    1   NaN              NaN  1000476  3599303      50      51      F      M   \n",
       "\n",
       "    Erx  \n",
       "0  0.75  \n",
       "1   NaN  \n",
       "2   NaN  \n",
       "3   NaN  \n",
       "4   NaN  "
      ]
     },
     "execution_count": 11,
     "metadata": {},
     "output_type": "execute_result"
    }
   ],
   "source": [
    "# relative information format\n",
    "df_pair = pd.read_csv(info_fn, sep='\\t')\n",
    "df_pair.head()\n"
   ]
  },
  {
   "cell_type": "code",
   "execution_count": 12,
   "metadata": {},
   "outputs": [
    {
     "data": {
      "text/plain": [
       "106"
      ]
     },
     "execution_count": 12,
     "metadata": {},
     "output_type": "execute_result"
    }
   ],
   "source": [
    "pheno_fns = os.listdir(pheno_path)\n",
    "len(pheno_fns)"
   ]
  },
  {
   "cell_type": "code",
   "execution_count": 13,
   "metadata": {},
   "outputs": [
    {
     "name": "stderr",
     "output_type": "stream",
     "text": [
      "100%|██████████| 100/100 [00:14<00:00,  6.90it/s]\n",
      "/data/jerrylee/pjt/BIGFAM.v.2.0/src/frreg.py:174: FutureWarning: The behavior of DataFrame concatenation with empty or all-NA entries is deprecated. In a future version, this will no longer exclude empty or all-NA columns when determining the result dtypes. To retain the old behavior, exclude the relevant entries before the concat operation.\n",
      "  df_frreg = (pd.concat([df_frreg, results])\n",
      "100%|██████████| 100/100 [00:25<00:00,  3.87it/s]\n",
      "100%|██████████| 100/100 [01:33<00:00,  1.07it/s]"
     ]
    },
    {
     "name": "stdout",
     "output_type": "stream",
     "text": [
      "SAVED in /data/jerrylee/pjt/BIGFAM.v.2.0/data/UKB/po-sib/White_blood_cell__leukocyte__count.PC.frreg\n"
     ]
    },
    {
     "name": "stderr",
     "output_type": "stream",
     "text": [
      "\n",
      "100%|██████████| 100/100 [00:18<00:00,  5.42it/s]\n",
      "/data/jerrylee/pjt/BIGFAM.v.2.0/src/frreg.py:174: FutureWarning: The behavior of DataFrame concatenation with empty or all-NA entries is deprecated. In a future version, this will no longer exclude empty or all-NA columns when determining the result dtypes. To retain the old behavior, exclude the relevant entries before the concat operation.\n",
      "  df_frreg = (pd.concat([df_frreg, results])\n",
      "100%|██████████| 100/100 [00:24<00:00,  4.08it/s]\n",
      "100%|██████████| 100/100 [01:33<00:00,  1.07it/s]"
     ]
    },
    {
     "name": "stdout",
     "output_type": "stream",
     "text": [
      "SAVED in /data/jerrylee/pjt/BIGFAM.v.2.0/data/UKB/po-sib/White_blood_cell__leukocyte__count.SB.frreg\n"
     ]
    },
    {
     "name": "stderr",
     "output_type": "stream",
     "text": [
      "\n",
      "  0%|          | 0/106 [05:05<?, ?it/s]\n"
     ]
    }
   ],
   "source": [
    "# Do FR-reg\n",
    "subgroups = [\"PC\", \"SB\"]\n",
    "\n",
    "for fn in tqdm(pheno_fns):\n",
    "    pheno = fn.split(\".\")[0]\n",
    "    pheno_fn = f\"{pheno_path}/{fn}\"\n",
    "    df_pheno = pd.read_csv(pheno_fn, sep=\"\\t\", names=[\"eid\", \"pheno\"])\n",
    "    df_pheno = frreg.remove_outliers(df_pheno, \"pheno\")\n",
    "    \n",
    "    for subgroup in subgroups:\n",
    "        # DOR=1인 데이터 중 rcode=\"SB\"만 남기고, 나머지 DOR은 유지\n",
    "        df_pair_filtered = pd.concat([\n",
    "            # DOR=1이면서 rcode=\"SB\"인 데이터\n",
    "            df_pair[(df_pair[\"DOR\"] == 1) & (df_pair[\"rcode\"] == subgroup)],\n",
    "            # DOR이 1이 아닌 모든 데이터\n",
    "            df_pair[df_pair[\"DOR\"] != 1]\n",
    "        ]).reset_index(drop=True)\n",
    "\n",
    "        # merge pheno with relatives\n",
    "        df_mrg = frreg.merge_pheno_info(df_pheno, df_pair_filtered)\n",
    "        try:\n",
    "            df_frreg, msgs = frreg.familial_relationship_regression_DOR(\n",
    "                df_mrg.drop(columns=[\"rcode\", \"relationship\", \"Erx\"]),\n",
    "                n_bootstrap=100\n",
    "            )\n",
    "            \n",
    "            df_frreg.to_csv(\n",
    "                f\"{output_path}/{pheno}.{subgroup}.frreg\",\n",
    "                sep='\\t',\n",
    "                index=False\n",
    "            )\n",
    "            \n",
    "            print(\n",
    "                f\"SAVED in {output_path}/{pheno}.{subgroup}.frreg\", \n",
    "                flush=True\n",
    "            )\n",
    "                \n",
    "        except:\n",
    "            continue\n",
    "    break"
   ]
  },
  {
   "cell_type": "code",
   "execution_count": null,
   "metadata": {},
   "outputs": [],
   "source": []
  }
 ],
 "metadata": {
  "kernelspec": {
   "display_name": "BIGFAM",
   "language": "python",
   "name": "python3"
  },
  "language_info": {
   "codemirror_mode": {
    "name": "ipython",
    "version": 3
   },
   "file_extension": ".py",
   "mimetype": "text/x-python",
   "name": "python",
   "nbconvert_exporter": "python",
   "pygments_lexer": "ipython3",
   "version": "3.9.20"
  }
 },
 "nbformat": 4,
 "nbformat_minor": 2
}
