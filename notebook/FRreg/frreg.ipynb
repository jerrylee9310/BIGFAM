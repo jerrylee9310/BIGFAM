{
 "cells": [
  {
   "cell_type": "code",
   "execution_count": 1,
   "metadata": {},
   "outputs": [],
   "source": [
    "import pandas as pd\n",
    "import numpy as np\n",
    "import os\n",
    "from tqdm import tqdm\n",
    "import sys; sys.path.append(\"/data/jerrylee/pjt/BIGFAM.v.2.0\")\n",
    "from src import frreg, tools\n",
    "import importlib"
   ]
  },
  {
   "cell_type": "code",
   "execution_count": 2,
   "metadata": {},
   "outputs": [],
   "source": [
    "cohort = \"GS\""
   ]
  },
  {
   "cell_type": "markdown",
   "metadata": {},
   "source": [
    "# Step 1. Load relatives phenotype data"
   ]
  },
  {
   "cell_type": "code",
   "execution_count": 3,
   "metadata": {},
   "outputs": [],
   "source": [
    "# parameters\n",
    "info_fn = f\"/data/jerrylee/pjt/BIGFAM.v.0.1/data/{cohort}/relative_information/relatives.formatted.info\""
   ]
  },
  {
   "cell_type": "code",
   "execution_count": 4,
   "metadata": {},
   "outputs": [
    {
     "data": {
      "text/html": [
       "<div>\n",
       "<style scoped>\n",
       "    .dataframe tbody tr th:only-of-type {\n",
       "        vertical-align: middle;\n",
       "    }\n",
       "\n",
       "    .dataframe tbody tr th {\n",
       "        vertical-align: top;\n",
       "    }\n",
       "\n",
       "    .dataframe thead th {\n",
       "        text-align: right;\n",
       "    }\n",
       "</style>\n",
       "<table border=\"1\" class=\"dataframe\">\n",
       "  <thead>\n",
       "    <tr style=\"text-align: right;\">\n",
       "      <th></th>\n",
       "      <th>DOR</th>\n",
       "      <th>rcode</th>\n",
       "      <th>relationship</th>\n",
       "      <th>volid</th>\n",
       "      <th>relid</th>\n",
       "      <th>volage</th>\n",
       "      <th>relage</th>\n",
       "      <th>volsex</th>\n",
       "      <th>relsex</th>\n",
       "      <th>Erx</th>\n",
       "    </tr>\n",
       "  </thead>\n",
       "  <tbody>\n",
       "    <tr>\n",
       "      <th>0</th>\n",
       "      <td>1</td>\n",
       "      <td>SB</td>\n",
       "      <td>daughter-sister</td>\n",
       "      <td>18826</td>\n",
       "      <td>21244</td>\n",
       "      <td>50</td>\n",
       "      <td>36</td>\n",
       "      <td>F</td>\n",
       "      <td>F</td>\n",
       "      <td>0.750000</td>\n",
       "    </tr>\n",
       "    <tr>\n",
       "      <th>1</th>\n",
       "      <td>1</td>\n",
       "      <td>SB</td>\n",
       "      <td>different-sex-sibling</td>\n",
       "      <td>34422</td>\n",
       "      <td>23884</td>\n",
       "      <td>33</td>\n",
       "      <td>35</td>\n",
       "      <td>F</td>\n",
       "      <td>M</td>\n",
       "      <td>0.353553</td>\n",
       "    </tr>\n",
       "    <tr>\n",
       "      <th>2</th>\n",
       "      <td>1</td>\n",
       "      <td>PC</td>\n",
       "      <td>daughter-mother</td>\n",
       "      <td>79198</td>\n",
       "      <td>67531</td>\n",
       "      <td>66</td>\n",
       "      <td>44</td>\n",
       "      <td>F</td>\n",
       "      <td>F</td>\n",
       "      <td>0.500000</td>\n",
       "    </tr>\n",
       "    <tr>\n",
       "      <th>3</th>\n",
       "      <td>1</td>\n",
       "      <td>SB</td>\n",
       "      <td>daughter-sister</td>\n",
       "      <td>20399</td>\n",
       "      <td>67531</td>\n",
       "      <td>38</td>\n",
       "      <td>44</td>\n",
       "      <td>F</td>\n",
       "      <td>F</td>\n",
       "      <td>0.750000</td>\n",
       "    </tr>\n",
       "    <tr>\n",
       "      <th>4</th>\n",
       "      <td>1</td>\n",
       "      <td>SB</td>\n",
       "      <td>daughter-sister</td>\n",
       "      <td>67267</td>\n",
       "      <td>67531</td>\n",
       "      <td>43</td>\n",
       "      <td>44</td>\n",
       "      <td>F</td>\n",
       "      <td>F</td>\n",
       "      <td>0.750000</td>\n",
       "    </tr>\n",
       "  </tbody>\n",
       "</table>\n",
       "</div>"
      ],
      "text/plain": [
       "   DOR rcode           relationship  volid  relid  volage  relage volsex  \\\n",
       "0    1    SB        daughter-sister  18826  21244      50      36      F   \n",
       "1    1    SB  different-sex-sibling  34422  23884      33      35      F   \n",
       "2    1    PC        daughter-mother  79198  67531      66      44      F   \n",
       "3    1    SB        daughter-sister  20399  67531      38      44      F   \n",
       "4    1    SB        daughter-sister  67267  67531      43      44      F   \n",
       "\n",
       "  relsex       Erx  \n",
       "0      F  0.750000  \n",
       "1      M  0.353553  \n",
       "2      F  0.500000  \n",
       "3      F  0.750000  \n",
       "4      F  0.750000  "
      ]
     },
     "execution_count": 4,
     "metadata": {},
     "output_type": "execute_result"
    }
   ],
   "source": [
    "# relative information format\n",
    "df_pair = pd.read_csv(info_fn, sep='\\t')\n",
    "df_pair.head()"
   ]
  },
  {
   "cell_type": "markdown",
   "metadata": {},
   "source": [
    "# Step 2. Do FR-reg"
   ]
  },
  {
   "cell_type": "code",
   "execution_count": 5,
   "metadata": {},
   "outputs": [],
   "source": [
    "pheno_path = f\"/data/jerrylee/pjt/BIGFAM.v.2.0/data/{cohort}/phenotype\"\n",
    "frreg_path = f\"/data/jerrylee/pjt/BIGFAM.v.2.0/data/{cohort}/frreg\""
   ]
  },
  {
   "cell_type": "code",
   "execution_count": 9,
   "metadata": {},
   "outputs": [
    {
     "data": {
      "text/plain": [
       "40"
      ]
     },
     "execution_count": 9,
     "metadata": {},
     "output_type": "execute_result"
    }
   ],
   "source": [
    "pheno_fns = os.listdir(pheno_path)\n",
    "len(pheno_fns)"
   ]
  },
  {
   "cell_type": "markdown",
   "metadata": {},
   "source": [
    "## Step 2.1. DOR level"
   ]
  },
  {
   "cell_type": "code",
   "execution_count": 10,
   "metadata": {},
   "outputs": [
    {
     "name": "stderr",
     "output_type": "stream",
     "text": [
      "100%|██████████| 10/10 [00:07<00:00,  1.42it/s]\n",
      "100%|██████████| 10/10 [00:02<00:00,  4.10it/s]\n",
      "100%|██████████| 10/10 [00:10<00:00,  1.04s/it]\n",
      "  0%|          | 0/106 [00:44<?, ?it/s]\n"
     ]
    }
   ],
   "source": [
    "warning_dicts = {}\n",
    "\n",
    "for fn in tqdm(pheno_fns):\n",
    "    pheno = fn.split(\".\")[0]\n",
    "    pheno_fn = f\"{pheno_path}/{fn}\"\n",
    "    df_pheno = pd.read_csv(pheno_fn, sep=\"\\t\")\n",
    "    df_pheno = frreg.remove_outliers(df_pheno, \"pheno\")\n",
    "    \n",
    "    # merge pheno with relatives\n",
    "    df_mrg = frreg.merge_pheno_info(df_pheno, df_pair)\n",
    "    try:\n",
    "        df_frreg, msgs = frreg.familial_relationship_regression_DOR(\n",
    "            df_mrg.drop(columns=[\"rcode\", \"relationship\", \"Erx\"]),\n",
    "            n_bootstrap=10\n",
    "        )\n",
    "        \n",
    "        if len(msgs) > 0:\n",
    "            warning_dicts[pheno] = msgs\n",
    "            continue\n",
    "        \n",
    "        df_frreg.to_csv(\n",
    "            f\"{frreg_path}/{pheno}.DOR.frreg\",\n",
    "            sep='\\t',\n",
    "            index=False\n",
    "        )\n",
    "    except:\n",
    "        continue\n",
    "    \n",
    "    break"
   ]
  },
  {
   "cell_type": "markdown",
   "metadata": {},
   "source": [
    "## Step 2.2. REL level"
   ]
  },
  {
   "cell_type": "code",
   "execution_count": 7,
   "metadata": {},
   "outputs": [
    {
     "name": "stderr",
     "output_type": "stream",
     "text": [
      "100%|██████████| 10/10 [00:02<00:00,  3.73it/s]\n",
      "100%|██████████| 10/10 [00:02<00:00,  3.68it/s]\n",
      "100%|██████████| 10/10 [00:02<00:00,  3.72it/s]\n",
      "100%|██████████| 10/10 [00:02<00:00,  3.69it/s]\n",
      "100%|██████████| 10/10 [00:02<00:00,  3.70it/s]\n",
      "100%|██████████| 10/10 [00:02<00:00,  3.69it/s]\n",
      "100%|██████████| 10/10 [00:02<00:00,  3.67it/s]\n",
      "100%|██████████| 10/10 [00:01<00:00,  6.62it/s]\n",
      "100%|██████████| 10/10 [00:01<00:00,  7.91it/s]\n",
      "100%|██████████| 10/10 [00:01<00:00,  7.89it/s]\n",
      "100%|██████████| 10/10 [00:01<00:00,  7.89it/s]\n",
      "100%|██████████| 10/10 [00:01<00:00,  7.86it/s]\n",
      "100%|██████████| 10/10 [00:01<00:00,  7.91it/s]\n",
      "100%|██████████| 10/10 [00:01<00:00,  7.97it/s]\n",
      "100%|██████████| 10/10 [00:01<00:00,  7.88it/s]\n",
      "100%|██████████| 10/10 [00:01<00:00,  7.92it/s]\n",
      "100%|██████████| 10/10 [00:01<00:00,  7.87it/s]\n",
      "100%|██████████| 10/10 [00:01<00:00,  7.90it/s]\n",
      "100%|██████████| 10/10 [00:00<00:00, 26.69it/s]\n",
      "100%|██████████| 10/10 [00:00<00:00, 26.12it/s]\n",
      "100%|██████████| 10/10 [00:00<00:00, 26.62it/s]\n",
      "100%|██████████| 10/10 [00:00<00:00, 26.77it/s]\n",
      "100%|██████████| 10/10 [00:00<00:00, 26.91it/s]\n",
      "100%|██████████| 10/10 [00:00<00:00, 26.19it/s]\n",
      "100%|██████████| 10/10 [00:00<00:00, 25.56it/s]\n",
      "100%|██████████| 10/10 [00:00<00:00, 26.86it/s]\n",
      "100%|██████████| 10/10 [00:00<00:00, 26.53it/s]\n",
      " 50%|█████     | 5/10 [00:01<00:01,  3.13it/s]\n",
      "100%|██████████| 10/10 [00:02<00:00,  3.73it/s]\n",
      "100%|██████████| 10/10 [00:02<00:00,  3.50it/s]\n"
     ]
    },
    {
     "name": "stderr",
     "output_type": "stream",
     "text": [
      "  0%|          | 0/10 [00:00<?, ?it/s]\n",
      "  8%|▊         | 3/40 [01:26<13:59, 22.70s/it]"
     ]
    }
   ],
   "source": [
    "warning_dicts = {}\n",
    "\n",
    "for fn in tqdm(pheno_fns):\n",
    "    pheno = fn.split(\".\")[0]\n",
    "    pheno_fn = f\"{pheno_path}/{fn}\"\n",
    "    df_pheno = pd.read_csv(pheno_fn, sep=\"\\t\")\n",
    "    df_pheno = frreg.remove_outliers(df_pheno, \"pheno\")\n",
    "    \n",
    "    # merge pheno with relatives\n",
    "    df_mrg = frreg.merge_pheno_info(df_pheno, df_pair)\n",
    "    \n",
    "    try:\n",
    "        df_frreg, msgs = frreg.familial_relationship_regression_REL(\n",
    "            df_mrg,\n",
    "            n_bootstrap=10\n",
    "            )\n",
    "        \n",
    "        df_frreg_positive = (df_frreg[df_frreg[\"slope\"] > 0]\n",
    "                             .reset_index(drop=True))\n",
    "        \n",
    "        if len(msgs) > 0:\n",
    "            print(fn, msgs)\n",
    "            warning_dicts[pheno] = msgs\n",
    "        \n",
    "        if len(df_frreg_positive) < 10:\n",
    "            print(fn, \"not sufficient data\")\n",
    "            continue\n",
    "    \n",
    "        df_frreg_positive.to_csv(\n",
    "            f\"{frreg_path}/{pheno}.REL.frreg\",\n",
    "            sep='\\t',\n",
    "            index=False\n",
    "        )\n",
    "    except:\n",
    "        continue"
   ]
  },
  {
   "cell_type": "markdown",
   "metadata": {},
   "source": [
    "# Step 3. PO-SIB\n"
   ]
  },
  {
   "cell_type": "code",
   "execution_count": 10,
   "metadata": {},
   "outputs": [
    {
     "data": {
      "text/plain": [
       "'/data/jerrylee/pjt/BIGFAM.v.2.0/data/GS/po-sib'"
      ]
     },
     "execution_count": 10,
     "metadata": {},
     "output_type": "execute_result"
    }
   ],
   "source": [
    "output_path = f\"/data/jerrylee/pjt/BIGFAM.v.2.0/data/{cohort}/po-sib\"\n",
    "output_path"
   ]
  },
  {
   "cell_type": "code",
   "execution_count": 13,
   "metadata": {},
   "outputs": [
    {
     "name": "stderr",
     "output_type": "stream",
     "text": [
      "  0%|          | 0/40 [00:00<?, ?it/s]\n"
     ]
    }
   ],
   "source": [
    "subgroups = [\"PC\", \"SB\"]\n",
    "\n",
    "for fn in tqdm(pheno_fns):\n",
    "    pheno = fn.split(\".\")[0]\n",
    "    pheno_fn = f\"{pheno_path}/{fn}\"\n",
    "    df_pheno = pd.read_csv(pheno_fn, sep=\"\\t\")\n",
    "    df_pheno = frreg.remove_outliers(df_pheno, \"pheno\")\n",
    "    \n",
    "    for subgroup in subgroups:\n",
    "        # DOR=1인 데이터 중 rcode=\"SB\"만 남기고, 나머지 DOR은 유지\n",
    "        df_pair_filtered = pd.concat([\n",
    "            # DOR=1이면서 rcode=\"SB\"인 데이터\n",
    "            df_pair[(df_pair[\"DOR\"] == 1) & (df_pair[\"rcode\"] == subgroup)],\n",
    "            # DOR이 1이 아닌 모든 데이터\n",
    "            df_pair[df_pair[\"DOR\"] != 1]\n",
    "        ]).reset_index(drop=True)\n",
    "\n",
    "        # merge pheno with relatives\n",
    "        df_mrg = frreg.merge_pheno_info(df_pheno, df_pair_filtered)\n",
    "        break\n",
    "        try:\n",
    "            df_frreg, msgs = frreg.familial_relationship_regression_DOR(\n",
    "                df_mrg.drop(columns=[\"rcode\", \"relationship\", \"Erx\"]),\n",
    "                n_bootstrap=100\n",
    "            )\n",
    "            \n",
    "            df_frreg.to_csv(\n",
    "                f\"{output_path}/{pheno}.{subgroup}.frreg\",\n",
    "                sep='\\t',\n",
    "                index=False\n",
    "            )\n",
    "                \n",
    "        except:\n",
    "            continue\n",
    "    break"
   ]
  },
  {
   "cell_type": "code",
   "execution_count": 17,
   "metadata": {},
   "outputs": [
    {
     "data": {
      "text/plain": [
       "array(['SB', 'PC'], dtype=object)"
      ]
     },
     "execution_count": 17,
     "metadata": {},
     "output_type": "execute_result"
    }
   ],
   "source": [
    "df_pair.loc[df_pair[\"DOR\"] == 1][\"rcode\"].unique()"
   ]
  },
  {
   "cell_type": "code",
   "execution_count": 27,
   "metadata": {},
   "outputs": [
    {
     "data": {
      "text/html": [
       "<div>\n",
       "<style scoped>\n",
       "    .dataframe tbody tr th:only-of-type {\n",
       "        vertical-align: middle;\n",
       "    }\n",
       "\n",
       "    .dataframe tbody tr th {\n",
       "        vertical-align: top;\n",
       "    }\n",
       "\n",
       "    .dataframe thead th {\n",
       "        text-align: right;\n",
       "    }\n",
       "</style>\n",
       "<table border=\"1\" class=\"dataframe\">\n",
       "  <thead>\n",
       "    <tr style=\"text-align: right;\">\n",
       "      <th></th>\n",
       "      <th>DOR</th>\n",
       "      <th>slope</th>\n",
       "      <th>se</th>\n",
       "      <th>p</th>\n",
       "      <th>n</th>\n",
       "    </tr>\n",
       "  </thead>\n",
       "  <tbody>\n",
       "    <tr>\n",
       "      <th>0</th>\n",
       "      <td>1</td>\n",
       "      <td>0.189230</td>\n",
       "      <td>0.008803</td>\n",
       "      <td>0.0</td>\n",
       "      <td>8724</td>\n",
       "    </tr>\n",
       "    <tr>\n",
       "      <th>1</th>\n",
       "      <td>2</td>\n",
       "      <td>0.092695</td>\n",
       "      <td>0.007556</td>\n",
       "      <td>0.0</td>\n",
       "      <td>17450</td>\n",
       "    </tr>\n",
       "    <tr>\n",
       "      <th>2</th>\n",
       "      <td>3</td>\n",
       "      <td>0.045820</td>\n",
       "      <td>0.003846</td>\n",
       "      <td>0.0</td>\n",
       "      <td>82132</td>\n",
       "    </tr>\n",
       "  </tbody>\n",
       "</table>\n",
       "</div>"
      ],
      "text/plain": [
       "   DOR     slope        se    p      n\n",
       "0    1  0.189230  0.008803  0.0   8724\n",
       "1    2  0.092695  0.007556  0.0  17450\n",
       "2    3  0.045820  0.003846  0.0  82132"
      ]
     },
     "execution_count": 27,
     "metadata": {},
     "output_type": "execute_result"
    }
   ],
   "source": [
    "df_frreg"
   ]
  },
  {
   "cell_type": "code",
   "execution_count": null,
   "metadata": {},
   "outputs": [],
   "source": []
  }
 ],
 "metadata": {
  "kernelspec": {
   "display_name": "BIGFAM",
   "language": "python",
   "name": "python3"
  },
  "language_info": {
   "codemirror_mode": {
    "name": "ipython",
    "version": 3
   },
   "file_extension": ".py",
   "mimetype": "text/x-python",
   "name": "python",
   "nbconvert_exporter": "python",
   "pygments_lexer": "ipython3",
   "version": "3.9.20"
  }
 },
 "nbformat": 4,
 "nbformat_minor": 2
}
