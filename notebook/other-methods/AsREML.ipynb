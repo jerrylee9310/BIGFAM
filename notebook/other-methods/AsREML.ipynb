{
 "cells": [
  {
   "cell_type": "code",
   "execution_count": 1,
   "metadata": {
    "vscode": {
     "languageId": "r"
    }
   },
   "outputs": [
    {
     "name": "stderr",
     "output_type": "stream",
     "text": [
      "필요한 패키지를 로딩중입니다: Matrix\n",
      "\n"
     ]
    },
    {
     "name": "stdout",
     "output_type": "stream",
     "text": [
      "No License found Fri Nov 29 15:34:23 2024\n"
     ]
    },
    {
     "name": "stderr",
     "output_type": "stream",
     "text": [
      "Loading ASReml-R version 4.2\n",
      "\n",
      "\n"
     ]
    }
   ],
   "source": [
    "library(asreml)"
   ]
  },
  {
   "cell_type": "code",
   "execution_count": 21,
   "metadata": {
    "vscode": {
     "languageId": "r"
    }
   },
   "outputs": [
    {
     "data": {
      "text/html": [
       "<table class=\"dataframe\">\n",
       "<caption>A matrix: 6 × 3 of type dbl</caption>\n",
       "<thead>\n",
       "\t<tr><th scope=col>Row</th><th scope=col>Column</th><th scope=col>Ainverse</th></tr>\n",
       "</thead>\n",
       "<tbody>\n",
       "\t<tr><td>1</td><td>1</td><td> 1.5</td></tr>\n",
       "\t<tr><td>2</td><td>1</td><td> 0.5</td></tr>\n",
       "\t<tr><td>2</td><td>2</td><td> 1.5</td></tr>\n",
       "\t<tr><td>3</td><td>1</td><td>-1.0</td></tr>\n",
       "\t<tr><td>3</td><td>2</td><td>-1.0</td></tr>\n",
       "\t<tr><td>3</td><td>3</td><td> 2.0</td></tr>\n",
       "</tbody>\n",
       "</table>\n"
      ],
      "text/latex": [
       "A matrix: 6 × 3 of type dbl\n",
       "\\begin{tabular}{lll}\n",
       " Row & Column & Ainverse\\\\\n",
       "\\hline\n",
       "\t 1 & 1 &  1.5\\\\\n",
       "\t 2 & 1 &  0.5\\\\\n",
       "\t 2 & 2 &  1.5\\\\\n",
       "\t 3 & 1 & -1.0\\\\\n",
       "\t 3 & 2 & -1.0\\\\\n",
       "\t 3 & 3 &  2.0\\\\\n",
       "\\end{tabular}\n"
      ],
      "text/markdown": [
       "\n",
       "A matrix: 6 × 3 of type dbl\n",
       "\n",
       "| Row | Column | Ainverse |\n",
       "|---|---|---|\n",
       "| 1 | 1 |  1.5 |\n",
       "| 2 | 1 |  0.5 |\n",
       "| 2 | 2 |  1.5 |\n",
       "| 3 | 1 | -1.0 |\n",
       "| 3 | 2 | -1.0 |\n",
       "| 3 | 3 |  2.0 |\n",
       "\n"
      ],
      "text/plain": [
       "     Row Column Ainverse\n",
       "[1,] 1   1       1.5    \n",
       "[2,] 2   1       0.5    \n",
       "[3,] 2   2       1.5    \n",
       "[4,] 3   1      -1.0    \n",
       "[5,] 3   2      -1.0    \n",
       "[6,] 3   3       2.0    "
      ]
     },
     "metadata": {},
     "output_type": "display_data"
    }
   ],
   "source": [
    "# Pedigree 데이터 생성\n",
    "pedigree_data <- data.frame(\n",
    "  ID = c(\"A\", \"B\", \"C\"),\n",
    "  Sire = c(0, 0, \"A\"),\n",
    "  Dam = c(0, 0, \"B\")\n",
    ")\n",
    "\n",
    "# NA를 0으로 변환\n",
    "pedigree_data$Sire[is.na(pedigree_data$Sire)] <- 0\n",
    "pedigree_data$Dam[is.na(pedigree_data$Dam)] <- 0\n",
    "\n",
    "# 역계통 행렬 생성\n",
    "ainv <- ainverse(pedigree_data)\n",
    "\n",
    "ainv"
   ]
  },
  {
   "cell_type": "code",
   "execution_count": 23,
   "metadata": {
    "vscode": {
     "languageId": "r"
    }
   },
   "outputs": [
    {
     "data": {
      "text/plain": [
       "3 x 3 sparse Matrix of class \"dgCMatrix\"\n",
       "                \n",
       "[1,]  1.5  .   .\n",
       "[2,]  0.5  1.5 .\n",
       "[3,] -1.0 -1.0 2"
      ]
     },
     "metadata": {},
     "output_type": "display_data"
    }
   ],
   "source": [
    "# 행렬을 데이터프레임으로 변환\n",
    "ainv_df <- as.data.frame(ainv)\n",
    "\n",
    "# 열 이름 확인 및 설정 (필요시)\n",
    "colnames(ainv_df) <- c(\"Row\", \"Column\", \"Value\")\n",
    "\n",
    "library(Matrix)\n",
    "\n",
    "# 희소 행렬로 변환\n",
    "Ainv_sparse <- sparseMatrix(\n",
    "  i = ainv_df$Row,\n",
    "  j = ainv_df$Column,\n",
    "  x = ainv_df$Value\n",
    ")\n",
    "Ainv_sparse"
   ]
  },
  {
   "cell_type": "code",
   "execution_count": 25,
   "metadata": {
    "vscode": {
     "languageId": "r"
    }
   },
   "outputs": [
    {
     "data": {
      "text/html": [
       "<table class=\"dataframe\">\n",
       "<caption>A matrix: 3 × 3 of type dbl</caption>\n",
       "<tbody>\n",
       "\t<tr><td>1.0</td><td>0.0</td><td>0.5</td></tr>\n",
       "\t<tr><td>0.0</td><td>1.0</td><td>0.5</td></tr>\n",
       "\t<tr><td>0.5</td><td>0.5</td><td>1.0</td></tr>\n",
       "</tbody>\n",
       "</table>\n"
      ],
      "text/latex": [
       "A matrix: 3 × 3 of type dbl\n",
       "\\begin{tabular}{lll}\n",
       "\t 1.0 & 0.0 & 0.5\\\\\n",
       "\t 0.0 & 1.0 & 0.5\\\\\n",
       "\t 0.5 & 0.5 & 1.0\\\\\n",
       "\\end{tabular}\n"
      ],
      "text/markdown": [
       "\n",
       "A matrix: 3 × 3 of type dbl\n",
       "\n",
       "| 1.0 | 0.0 | 0.5 |\n",
       "| 0.0 | 1.0 | 0.5 |\n",
       "| 0.5 | 0.5 | 1.0 |\n",
       "\n"
      ],
      "text/plain": [
       "     [,1] [,2] [,3]\n",
       "[1,] 1.0  0.0  0.5 \n",
       "[2,] 0.0  1.0  0.5 \n",
       "[3,] 0.5  0.5  1.0 "
      ]
     },
     "metadata": {},
     "output_type": "display_data"
    }
   ],
   "source": [
    "test_A = matrix(\n",
    "    data = c(1, 0, 0.5, 0, 1, 0.5, 0.5, 0.5, 1),\n",
    "    nrow = 3,\n",
    "    byrow = TRUE\n",
    ")\n",
    "test_A"
   ]
  },
  {
   "cell_type": "code",
   "execution_count": 26,
   "metadata": {
    "vscode": {
     "languageId": "r"
    }
   },
   "outputs": [
    {
     "data": {
      "text/html": [
       "<table class=\"dataframe\">\n",
       "<caption>A matrix: 3 × 3 of type dbl</caption>\n",
       "<tbody>\n",
       "\t<tr><td> 1.5</td><td> 0.5</td><td>-1</td></tr>\n",
       "\t<tr><td> 0.5</td><td> 1.5</td><td>-1</td></tr>\n",
       "\t<tr><td>-1.0</td><td>-1.0</td><td> 2</td></tr>\n",
       "</tbody>\n",
       "</table>\n"
      ],
      "text/latex": [
       "A matrix: 3 × 3 of type dbl\n",
       "\\begin{tabular}{lll}\n",
       "\t  1.5 &  0.5 & -1\\\\\n",
       "\t  0.5 &  1.5 & -1\\\\\n",
       "\t -1.0 & -1.0 &  2\\\\\n",
       "\\end{tabular}\n"
      ],
      "text/markdown": [
       "\n",
       "A matrix: 3 × 3 of type dbl\n",
       "\n",
       "|  1.5 |  0.5 | -1 |\n",
       "|  0.5 |  1.5 | -1 |\n",
       "| -1.0 | -1.0 |  2 |\n",
       "\n"
      ],
      "text/plain": [
       "     [,1] [,2] [,3]\n",
       "[1,]  1.5  0.5 -1  \n",
       "[2,]  0.5  1.5 -1  \n",
       "[3,] -1.0 -1.0  2  "
      ]
     },
     "metadata": {},
     "output_type": "display_data"
    }
   ],
   "source": [
    "solve(test_A)"
   ]
  },
  {
   "cell_type": "code",
   "execution_count": 4,
   "metadata": {
    "vscode": {
     "languageId": "r"
    }
   },
   "outputs": [
    {
     "name": "stdout",
     "output_type": "stream",
     "text": [
      "No License found Fri Nov 29 15:34:40 2024\n"
     ]
    },
    {
     "ename": "ERROR",
     "evalue": "Error in asreml(fixed = trait ~ 1, random = ~vm(ID, ainv), data = phenotype_data): License error: No license for product (-1)\n\n",
     "output_type": "error",
     "traceback": [
      "Error in asreml(fixed = trait ~ 1, random = ~vm(ID, ainv), data = phenotype_data): License error: No license for product (-1)\n\nTraceback:\n",
      "1. vs_Call(\"vs_main\", data, list(info = ginverse, obj = asr_grm(ginverse, \n .     data = data), mef = mkr(mef)), R.param, G.param, predict, \n .     options, CORE_VERSION = ddd$core_version)",
      "2. vsn.tryCatch.W.E.rethrow(.Call(.NAME, ..., PACKAGE = this_info$dll_name), \n .     call. = this_call)",
      "3. stop(ew)"
     ]
    }
   ],
   "source": [
    "# 표현형 데이터 생성\n",
    "phenotype_data <- data.frame(\n",
    "  ID = c(\"A\", \"B\", \"C\"),\n",
    "  trait = c(10.2, 12.5, 11.7)\n",
    ")\n",
    "\n",
    "# ID 변수를 factor로 변환\n",
    "phenotype_data$ID <- as.factor(phenotype_data$ID)\n",
    "\n",
    "# 혼합 모델 피팅\n",
    "model <- asreml(\n",
    "  fixed = trait ~ 1,          # 고정 효과: 절편만 포함\n",
    "  random = ~ vm(ID, ainv),    # vm() 함수로 역계통 행렬 사용\n",
    "  data = phenotype_data       # 표현형 데이터\n",
    ")\n",
    "\n",
    "# 결과 요약\n",
    "summary(model)\n"
   ]
  },
  {
   "cell_type": "code",
   "execution_count": null,
   "metadata": {
    "vscode": {
     "languageId": "r"
    }
   },
   "outputs": [],
   "source": []
  }
 ],
 "metadata": {
  "kernelspec": {
   "display_name": "R",
   "language": "R",
   "name": "ir"
  },
  "language_info": {
   "codemirror_mode": "r",
   "file_extension": ".r",
   "mimetype": "text/x-r-source",
   "name": "R",
   "pygments_lexer": "r",
   "version": "4.3.1"
  }
 },
 "nbformat": 4,
 "nbformat_minor": 2
}
