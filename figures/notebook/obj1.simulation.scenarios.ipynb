{
 "cells": [
  {
   "cell_type": "code",
   "execution_count": 1,
   "metadata": {
    "vscode": {
     "languageId": "r"
    }
   },
   "outputs": [
    {
     "name": "stderr",
     "output_type": "stream",
     "text": [
      "Warning message:\n",
      "“패키지 ‘ggplot2’는 R 버전 4.3.3에서 작성되었습니다”\n",
      "Warning message:\n",
      "“패키지 ‘dplyr’는 R 버전 4.3.3에서 작성되었습니다”\n",
      "\n",
      "다음의 패키지를 부착합니다: ‘dplyr’\n",
      "\n",
      "\n",
      "The following objects are masked from ‘package:data.table’:\n",
      "\n",
      "    between, first, last\n",
      "\n",
      "\n",
      "The following objects are masked from ‘package:stats’:\n",
      "\n",
      "    filter, lag\n",
      "\n",
      "\n",
      "The following objects are masked from ‘package:base’:\n",
      "\n",
      "    intersect, setdiff, setequal, union\n",
      "\n",
      "\n",
      "Warning message:\n",
      "“패키지 ‘tidyr’는 R 버전 4.3.3에서 작성되었습니다”\n",
      "Warning message:\n",
      "“패키지 ‘purrr’는 R 버전 4.3.3에서 작성되었습니다”\n",
      "\n",
      "다음의 패키지를 부착합니다: ‘purrr’\n",
      "\n",
      "\n",
      "The following object is masked from ‘package:data.table’:\n",
      "\n",
      "    transpose\n",
      "\n",
      "\n",
      "Warning message:\n",
      "“패키지 ‘patchwork’는 R 버전 4.3.3에서 작성되었습니다”\n",
      "\n",
      "다음의 패키지를 부착합니다: ‘cowplot’\n",
      "\n",
      "\n",
      "The following object is masked from ‘package:patchwork’:\n",
      "\n",
      "    align_plots\n",
      "\n",
      "\n",
      "\u001b[90mggbreak v0.1.2\n",
      "\n",
      "If you use ggbreak in published research, please cite the following\n",
      "paper:\n",
      "\n",
      "S Xu, M Chen, T Feng, L Zhan, L Zhou, G Yu. Use ggbreak to effectively\n",
      "utilize plotting space to deal with large datasets and outliers.\n",
      "Frontiers in Genetics. 2021, 12:774846. doi: 10.3389/fgene.2021.774846\n",
      "\u001b[39m\n",
      "\n",
      "Warning message:\n",
      "“패키지 ‘scales’는 R 버전 4.3.3에서 작성되었습니다”\n",
      "\n",
      "다음의 패키지를 부착합니다: ‘scales’\n",
      "\n",
      "\n",
      "The following object is masked from ‘package:purrr’:\n",
      "\n",
      "    discard\n",
      "\n",
      "\n",
      "필요한 패키지를 로딩중입니다: extrafont\n",
      "\n",
      "Registering fonts with R\n",
      "\n"
     ]
    }
   ],
   "source": [
    "library(ggplot2)\n",
    "library(data.table)\n",
    "library(dplyr)\n",
    "library(tidyr)\n",
    "library(purrr) \n",
    "library(patchwork)\n",
    "library(cowplot)\n",
    "library(ggbreak)\n",
    "library(scales)\n",
    "if (!require(extrafont)) install.packages(\"extrafont\")\n",
    "library(extrafont)\n",
    "\n",
    "# 3. 폰트 로드\n",
    "loadfonts()"
   ]
  },
  {
   "cell_type": "code",
   "execution_count": 2,
   "metadata": {
    "vscode": {
     "languageId": "r"
    }
   },
   "outputs": [],
   "source": [
    "cohort <- \"simulation\" # UKB, GS"
   ]
  },
  {
   "cell_type": "markdown",
   "metadata": {},
   "source": [
    "# Step 1. Load data"
   ]
  },
  {
   "cell_type": "code",
   "execution_count": 3,
   "metadata": {
    "vscode": {
     "languageId": "r"
    }
   },
   "outputs": [
    {
     "data": {
      "text/html": [
       "<table class=\"dataframe\">\n",
       "<caption>A data.table: 6 × 20</caption>\n",
       "<thead>\n",
       "\t<tr><th scope=col>scenario</th><th scope=col>G</th><th scope=col>S</th><th scope=col>w</th><th scope=col>slope_slope</th><th scope=col>slope_slope_lower</th><th scope=col>slope_slope_upper</th><th scope=col>slope_intercept</th><th scope=col>slope_intercept_lower</th><th scope=col>slope_intercept_upper</th><th scope=col>slope_sig</th><th scope=col>pred_G</th><th scope=col>pred_G_lower</th><th scope=col>pred_G_upper</th><th scope=col>pred_S</th><th scope=col>pred_S_lower</th><th scope=col>pred_S_upper</th><th scope=col>pred_w</th><th scope=col>pred_w_lower</th><th scope=col>pred_w_upper</th></tr>\n",
       "\t<tr><th scope=col>&lt;chr&gt;</th><th scope=col>&lt;dbl&gt;</th><th scope=col>&lt;dbl&gt;</th><th scope=col>&lt;dbl&gt;</th><th scope=col>&lt;dbl&gt;</th><th scope=col>&lt;dbl&gt;</th><th scope=col>&lt;dbl&gt;</th><th scope=col>&lt;dbl&gt;</th><th scope=col>&lt;dbl&gt;</th><th scope=col>&lt;dbl&gt;</th><th scope=col>&lt;chr&gt;</th><th scope=col>&lt;dbl&gt;</th><th scope=col>&lt;dbl&gt;</th><th scope=col>&lt;dbl&gt;</th><th scope=col>&lt;dbl&gt;</th><th scope=col>&lt;dbl&gt;</th><th scope=col>&lt;dbl&gt;</th><th scope=col>&lt;dbl&gt;</th><th scope=col>&lt;dbl&gt;</th><th scope=col>&lt;dbl&gt;</th></tr>\n",
       "</thead>\n",
       "<tbody>\n",
       "\t<tr><td>SC1</td><td>0.5</td><td>0.1</td><td>1.3</td><td>0.7561424</td><td>0.7009104</td><td>0.8241895</td><td>-0.7762546</td><td>-0.8508345</td><td>-0.6800193</td><td>slow   </td><td>0.4997307</td><td>0.0000010</td><td>0.59803138</td><td>0.100027207</td><td>0.05279191</td><td>0.35355945</td><td>  1.298701</td><td>  1.724138</td><td> 1.052632</td></tr>\n",
       "\t<tr><td>SC2</td><td>0.5</td><td>0.1</td><td>1.3</td><td>1.2377609</td><td>1.1325671</td><td>1.3503776</td><td>-0.3510885</td><td>-0.5281518</td><td>-0.2023353</td><td>fast   </td><td>0.4979194</td><td>0.4880778</td><td>0.49933276</td><td>0.101247286</td><td>0.10054808</td><td>0.10490034</td><td>100.000000</td><td>100.000000</td><td>16.666667</td></tr>\n",
       "\t<tr><td>SC3</td><td>0.5</td><td>0.1</td><td>1.3</td><td>0.7878265</td><td>0.7435635</td><td>0.8373077</td><td>-0.6930705</td><td>-0.7609551</td><td>-0.6032038</td><td>slow   </td><td>0.6300295</td><td>0.6023121</td><td>0.63129969</td><td>0.047568481</td><td>0.04712416</td><td>0.06050023</td><td>  1.052632</td><td>  1.143184</td><td> 1.052632</td></tr>\n",
       "\t<tr><td>SC4</td><td>0.5</td><td>0.1</td><td>1.3</td><td>0.7647846</td><td>0.7084024</td><td>0.8311256</td><td>-0.4914831</td><td>-0.5764579</td><td>-0.3892906</td><td>slow   </td><td>0.0000010</td><td>0.0000010</td><td>0.02207389</td><td>0.418665525</td><td>0.40192866</td><td>0.42627698</td><td>  1.694915</td><td>  1.724138</td><td> 1.666667</td></tr>\n",
       "\t<tr><td>SC1</td><td>0.5</td><td>0.1</td><td>2.0</td><td>0.9990757</td><td>0.9212513</td><td>1.0913834</td><td>-0.5154353</td><td>-0.6311239</td><td>-0.3988698</td><td>similar</td><td>0.6889750</td><td>0.5995490</td><td>0.69757203</td><td>0.003907094</td><td>0.00000100</td><td>0.04975858</td><td>  2.040816</td><td>  2.500000</td><td> 1.679966</td></tr>\n",
       "\t<tr><td>SC2</td><td>0.5</td><td>0.1</td><td>2.0</td><td>1.2444795</td><td>1.1438122</td><td>1.3544987</td><td>-0.3483674</td><td>-0.4869465</td><td>-0.2158492</td><td>fast   </td><td>0.4960101</td><td>0.4849277</td><td>0.49736817</td><td>0.101539588</td><td>0.10075677</td><td>0.10542744</td><td>100.000000</td><td>100.000000</td><td>15.325670</td></tr>\n",
       "</tbody>\n",
       "</table>\n"
      ],
      "text/latex": [
       "A data.table: 6 × 20\n",
       "\\begin{tabular}{llllllllllllllllllll}\n",
       " scenario & G & S & w & slope\\_slope & slope\\_slope\\_lower & slope\\_slope\\_upper & slope\\_intercept & slope\\_intercept\\_lower & slope\\_intercept\\_upper & slope\\_sig & pred\\_G & pred\\_G\\_lower & pred\\_G\\_upper & pred\\_S & pred\\_S\\_lower & pred\\_S\\_upper & pred\\_w & pred\\_w\\_lower & pred\\_w\\_upper\\\\\n",
       " <chr> & <dbl> & <dbl> & <dbl> & <dbl> & <dbl> & <dbl> & <dbl> & <dbl> & <dbl> & <chr> & <dbl> & <dbl> & <dbl> & <dbl> & <dbl> & <dbl> & <dbl> & <dbl> & <dbl>\\\\\n",
       "\\hline\n",
       "\t SC1 & 0.5 & 0.1 & 1.3 & 0.7561424 & 0.7009104 & 0.8241895 & -0.7762546 & -0.8508345 & -0.6800193 & slow    & 0.4997307 & 0.0000010 & 0.59803138 & 0.100027207 & 0.05279191 & 0.35355945 &   1.298701 &   1.724138 &  1.052632\\\\\n",
       "\t SC2 & 0.5 & 0.1 & 1.3 & 1.2377609 & 1.1325671 & 1.3503776 & -0.3510885 & -0.5281518 & -0.2023353 & fast    & 0.4979194 & 0.4880778 & 0.49933276 & 0.101247286 & 0.10054808 & 0.10490034 & 100.000000 & 100.000000 & 16.666667\\\\\n",
       "\t SC3 & 0.5 & 0.1 & 1.3 & 0.7878265 & 0.7435635 & 0.8373077 & -0.6930705 & -0.7609551 & -0.6032038 & slow    & 0.6300295 & 0.6023121 & 0.63129969 & 0.047568481 & 0.04712416 & 0.06050023 &   1.052632 &   1.143184 &  1.052632\\\\\n",
       "\t SC4 & 0.5 & 0.1 & 1.3 & 0.7647846 & 0.7084024 & 0.8311256 & -0.4914831 & -0.5764579 & -0.3892906 & slow    & 0.0000010 & 0.0000010 & 0.02207389 & 0.418665525 & 0.40192866 & 0.42627698 &   1.694915 &   1.724138 &  1.666667\\\\\n",
       "\t SC1 & 0.5 & 0.1 & 2.0 & 0.9990757 & 0.9212513 & 1.0913834 & -0.5154353 & -0.6311239 & -0.3988698 & similar & 0.6889750 & 0.5995490 & 0.69757203 & 0.003907094 & 0.00000100 & 0.04975858 &   2.040816 &   2.500000 &  1.679966\\\\\n",
       "\t SC2 & 0.5 & 0.1 & 2.0 & 1.2444795 & 1.1438122 & 1.3544987 & -0.3483674 & -0.4869465 & -0.2158492 & fast    & 0.4960101 & 0.4849277 & 0.49736817 & 0.101539588 & 0.10075677 & 0.10542744 & 100.000000 & 100.000000 & 15.325670\\\\\n",
       "\\end{tabular}\n"
      ],
      "text/markdown": [
       "\n",
       "A data.table: 6 × 20\n",
       "\n",
       "| scenario &lt;chr&gt; | G &lt;dbl&gt; | S &lt;dbl&gt; | w &lt;dbl&gt; | slope_slope &lt;dbl&gt; | slope_slope_lower &lt;dbl&gt; | slope_slope_upper &lt;dbl&gt; | slope_intercept &lt;dbl&gt; | slope_intercept_lower &lt;dbl&gt; | slope_intercept_upper &lt;dbl&gt; | slope_sig &lt;chr&gt; | pred_G &lt;dbl&gt; | pred_G_lower &lt;dbl&gt; | pred_G_upper &lt;dbl&gt; | pred_S &lt;dbl&gt; | pred_S_lower &lt;dbl&gt; | pred_S_upper &lt;dbl&gt; | pred_w &lt;dbl&gt; | pred_w_lower &lt;dbl&gt; | pred_w_upper &lt;dbl&gt; |\n",
       "|---|---|---|---|---|---|---|---|---|---|---|---|---|---|---|---|---|---|---|---|\n",
       "| SC1 | 0.5 | 0.1 | 1.3 | 0.7561424 | 0.7009104 | 0.8241895 | -0.7762546 | -0.8508345 | -0.6800193 | slow    | 0.4997307 | 0.0000010 | 0.59803138 | 0.100027207 | 0.05279191 | 0.35355945 |   1.298701 |   1.724138 |  1.052632 |\n",
       "| SC2 | 0.5 | 0.1 | 1.3 | 1.2377609 | 1.1325671 | 1.3503776 | -0.3510885 | -0.5281518 | -0.2023353 | fast    | 0.4979194 | 0.4880778 | 0.49933276 | 0.101247286 | 0.10054808 | 0.10490034 | 100.000000 | 100.000000 | 16.666667 |\n",
       "| SC3 | 0.5 | 0.1 | 1.3 | 0.7878265 | 0.7435635 | 0.8373077 | -0.6930705 | -0.7609551 | -0.6032038 | slow    | 0.6300295 | 0.6023121 | 0.63129969 | 0.047568481 | 0.04712416 | 0.06050023 |   1.052632 |   1.143184 |  1.052632 |\n",
       "| SC4 | 0.5 | 0.1 | 1.3 | 0.7647846 | 0.7084024 | 0.8311256 | -0.4914831 | -0.5764579 | -0.3892906 | slow    | 0.0000010 | 0.0000010 | 0.02207389 | 0.418665525 | 0.40192866 | 0.42627698 |   1.694915 |   1.724138 |  1.666667 |\n",
       "| SC1 | 0.5 | 0.1 | 2.0 | 0.9990757 | 0.9212513 | 1.0913834 | -0.5154353 | -0.6311239 | -0.3988698 | similar | 0.6889750 | 0.5995490 | 0.69757203 | 0.003907094 | 0.00000100 | 0.04975858 |   2.040816 |   2.500000 |  1.679966 |\n",
       "| SC2 | 0.5 | 0.1 | 2.0 | 1.2444795 | 1.1438122 | 1.3544987 | -0.3483674 | -0.4869465 | -0.2158492 | fast    | 0.4960101 | 0.4849277 | 0.49736817 | 0.101539588 | 0.10075677 | 0.10542744 | 100.000000 | 100.000000 | 15.325670 |\n",
       "\n"
      ],
      "text/plain": [
       "  scenario G   S   w   slope_slope slope_slope_lower slope_slope_upper\n",
       "1 SC1      0.5 0.1 1.3 0.7561424   0.7009104         0.8241895        \n",
       "2 SC2      0.5 0.1 1.3 1.2377609   1.1325671         1.3503776        \n",
       "3 SC3      0.5 0.1 1.3 0.7878265   0.7435635         0.8373077        \n",
       "4 SC4      0.5 0.1 1.3 0.7647846   0.7084024         0.8311256        \n",
       "5 SC1      0.5 0.1 2.0 0.9990757   0.9212513         1.0913834        \n",
       "6 SC2      0.5 0.1 2.0 1.2444795   1.1438122         1.3544987        \n",
       "  slope_intercept slope_intercept_lower slope_intercept_upper slope_sig\n",
       "1 -0.7762546      -0.8508345            -0.6800193            slow     \n",
       "2 -0.3510885      -0.5281518            -0.2023353            fast     \n",
       "3 -0.6930705      -0.7609551            -0.6032038            slow     \n",
       "4 -0.4914831      -0.5764579            -0.3892906            slow     \n",
       "5 -0.5154353      -0.6311239            -0.3988698            similar  \n",
       "6 -0.3483674      -0.4869465            -0.2158492            fast     \n",
       "  pred_G    pred_G_lower pred_G_upper pred_S      pred_S_lower pred_S_upper\n",
       "1 0.4997307 0.0000010    0.59803138   0.100027207 0.05279191   0.35355945  \n",
       "2 0.4979194 0.4880778    0.49933276   0.101247286 0.10054808   0.10490034  \n",
       "3 0.6300295 0.6023121    0.63129969   0.047568481 0.04712416   0.06050023  \n",
       "4 0.0000010 0.0000010    0.02207389   0.418665525 0.40192866   0.42627698  \n",
       "5 0.6889750 0.5995490    0.69757203   0.003907094 0.00000100   0.04975858  \n",
       "6 0.4960101 0.4849277    0.49736817   0.101539588 0.10075677   0.10542744  \n",
       "  pred_w     pred_w_lower pred_w_upper\n",
       "1   1.298701   1.724138    1.052632   \n",
       "2 100.000000 100.000000   16.666667   \n",
       "3   1.052632   1.143184    1.052632   \n",
       "4   1.694915   1.724138    1.666667   \n",
       "5   2.040816   2.500000    1.679966   \n",
       "6 100.000000 100.000000   15.325670   "
      ]
     },
     "metadata": {},
     "output_type": "display_data"
    }
   ],
   "source": [
    "prediction_path <- paste0(\n",
    "    \"/data/jerrylee/pjt/BIGFAM.v.2.0/data/\", \n",
    "    cohort, \n",
    "    \"/scenarios/SC1-SC4.fixed.GSW.tsv\"\n",
    ")\n",
    "\n",
    "df_prediction <- fread(\n",
    "    prediction_path,\n",
    "    sep = \"\\t\"\n",
    ")\n",
    "\n",
    "head(df_prediction)"
   ]
  },
  {
   "cell_type": "code",
   "execution_count": 4,
   "metadata": {
    "vscode": {
     "languageId": "r"
    }
   },
   "outputs": [
    {
     "data": {
      "text/html": [
       "<style>\n",
       ".list-inline {list-style: none; margin:0; padding: 0}\n",
       ".list-inline>li {display: inline-block}\n",
       ".list-inline>li:not(:last-child)::after {content: \"\\00b7\"; padding: 0 .5ex}\n",
       "</style>\n",
       "<ol class=list-inline><li>12000</li><li>21</li></ol>\n"
      ],
      "text/latex": [
       "\\begin{enumerate*}\n",
       "\\item 12000\n",
       "\\item 21\n",
       "\\end{enumerate*}\n"
      ],
      "text/markdown": [
       "1. 12000\n",
       "2. 21\n",
       "\n",
       "\n"
      ],
      "text/plain": [
       "[1] 12000    21"
      ]
     },
     "metadata": {},
     "output_type": "display_data"
    }
   ],
   "source": [
    "# annotate true decay pattern\n",
    "df_prediction <- df_prediction %>%\n",
    "    mutate(\n",
    "        sig = case_when(\n",
    "            w == 1.3 ~ \"slow\",\n",
    "            w == 2.0 ~ \"similar\",\n",
    "            w == 4.0 ~ \"fast\",\n",
    "            TRUE ~ NA_character_  # 다른 값이 있을 경우 NA\n",
    "        )\n",
    "    )\n",
    "\n",
    "dim(df_prediction)\n",
    "# annotate true significant\n"
   ]
  },
  {
   "cell_type": "markdown",
   "metadata": {},
   "source": [
    "# plot theme"
   ]
  },
  {
   "cell_type": "code",
   "execution_count": 5,
   "metadata": {
    "vscode": {
     "languageId": "r"
    }
   },
   "outputs": [],
   "source": [
    "# 공통 테마 함수 정의\n",
    "get_nature_theme <- function() {\n",
    "    theme_bw() +\n",
    "        theme(\n",
    "            # 전체적인 배경\n",
    "            panel.background = element_rect(fill = NA, color = NA),\n",
    "            panel.grid.major = element_blank(),\n",
    "            panel.grid.minor = element_blank(),\n",
    "            panel.border = element_blank(),  \n",
    "            \n",
    "            # 축 설정\n",
    "            axis.line.x.top = element_blank(),\n",
    "            axis.line.y.right = element_blank(),\n",
    "            axis.line.x.bottom = element_line(color = \"black\", size = 0.3),  \n",
    "            axis.line.y.left = element_line(color = \"black\", size = 0.3),    \n",
    "            axis.text = element_text(size = 6.5, color = \"black\"),\n",
    "            axis.title = element_text(size = 7.5, color = \"black\"),\n",
    "            axis.ticks = element_line(size = 0.3),\n",
    "            axis.ticks.length = unit(0.8, \"mm\"),\n",
    "            \n",
    "            # 범례 설정\n",
    "            legend.margin = margin(1, 1, 1, 1, unit = \"mm\"),\n",
    "            # legend.spacing.y = unit(0.1, \"cm\"),\n",
    "            \n",
    "            # 여백 설정\n",
    "            # plot.margin = unit(c(0.1, 0.2, 0.1, 0.1), \"cm\")\n",
    "            plot.margin = margin(0, 0, 0, 0)\n",
    "        )\n",
    "}\n",
    "\n",
    "# 공통 색상 정의\n",
    "color_values <- c(\n",
    "    \"fast\" = \"#E64B35\",\n",
    "    \"slow\" = \"#4DBBD5\",\n",
    "    \"similar\" = \"#7E7E7E\"\n",
    ")"
   ]
  },
  {
   "cell_type": "markdown",
   "metadata": {},
   "source": [
    "# Step 2. Plot"
   ]
  },
  {
   "cell_type": "code",
   "execution_count": 6,
   "metadata": {
    "vscode": {
     "languageId": "r"
    }
   },
   "outputs": [
    {
     "data": {
      "text/html": [
       "<style>\n",
       ".list-inline {list-style: none; margin:0; padding: 0}\n",
       ".list-inline>li {display: inline-block}\n",
       ".list-inline>li:not(:last-child)::after {content: \"\\00b7\"; padding: 0 .5ex}\n",
       "</style>\n",
       "<ol class=list-inline><li>6056</li><li>21</li></ol>\n"
      ],
      "text/latex": [
       "\\begin{enumerate*}\n",
       "\\item 6056\n",
       "\\item 21\n",
       "\\end{enumerate*}\n"
      ],
      "text/markdown": [
       "1. 6056\n",
       "2. 21\n",
       "\n",
       "\n"
      ],
      "text/plain": [
       "[1] 6056   21"
      ]
     },
     "metadata": {},
     "output_type": "display_data"
    }
   ],
   "source": [
    "for_plot <- df_prediction %>% \n",
    "    filter(pred_G_lower > 1e-5 & pred_S_lower > 1e-5)\n",
    "\n",
    "# for_plot <- df_prediction\n",
    "\n",
    "# 필터링 결과 확인\n",
    "dim(for_plot)"
   ]
  },
  {
   "cell_type": "markdown",
   "metadata": {},
   "source": [
    "## fast decaying"
   ]
  },
  {
   "cell_type": "code",
   "execution_count": 9,
   "metadata": {
    "vscode": {
     "languageId": "r"
    }
   },
   "outputs": [],
   "source": [
    "w_value <- 5\n",
    "\n",
    "filtered_data <- for_plot %>%\n",
    "    filter(w == w_value)\n",
    "\n",
    "summary_data <- filtered_data %>%\n",
    "    group_by(scenario) %>%\n",
    "    summarise(\n",
    "        mean_G = mean(pred_G),\n",
    "        sd_G = sd(pred_G),\n",
    "        mean_S = mean(pred_S),\n",
    "        sd_S = sd(pred_S),\n",
    "        mean_w = mean(pred_w),\n",
    "        sd_w = sd(pred_w),\n",
    "        .groups = 'drop'\n",
    "    )"
   ]
  },
  {
   "cell_type": "code",
   "execution_count": 12,
   "metadata": {
    "vscode": {
     "languageId": "r"
    }
   },
   "outputs": [
    {
     "data": {
      "text/html": [
       "<table class=\"dataframe\">\n",
       "<caption>A tibble: 3 × 7</caption>\n",
       "<thead>\n",
       "\t<tr><th scope=col>scenario</th><th scope=col>mean_G</th><th scope=col>sd_G</th><th scope=col>mean_S</th><th scope=col>sd_S</th><th scope=col>mean_w</th><th scope=col>sd_w</th></tr>\n",
       "\t<tr><th scope=col>&lt;chr&gt;</th><th scope=col>&lt;dbl&gt;</th><th scope=col>&lt;dbl&gt;</th><th scope=col>&lt;dbl&gt;</th><th scope=col>&lt;dbl&gt;</th><th scope=col>&lt;dbl&gt;</th><th scope=col>&lt;dbl&gt;</th></tr>\n",
       "</thead>\n",
       "<tbody>\n",
       "\t<tr><td>SC1</td><td>0.496</td><td>0.013</td><td>0.102</td><td>0.006</td><td> 4.936</td><td> 0.519</td></tr>\n",
       "\t<tr><td>SC2</td><td>0.496</td><td>0.003</td><td>0.102</td><td>0.002</td><td>92.097</td><td>18.997</td></tr>\n",
       "\t<tr><td>SC3</td><td>0.506</td><td>0.010</td><td>0.111</td><td>0.005</td><td> 6.155</td><td> 0.638</td></tr>\n",
       "</tbody>\n",
       "</table>\n"
      ],
      "text/latex": [
       "A tibble: 3 × 7\n",
       "\\begin{tabular}{lllllll}\n",
       " scenario & mean\\_G & sd\\_G & mean\\_S & sd\\_S & mean\\_w & sd\\_w\\\\\n",
       " <chr> & <dbl> & <dbl> & <dbl> & <dbl> & <dbl> & <dbl>\\\\\n",
       "\\hline\n",
       "\t SC1 & 0.496 & 0.013 & 0.102 & 0.006 &  4.936 &  0.519\\\\\n",
       "\t SC2 & 0.496 & 0.003 & 0.102 & 0.002 & 92.097 & 18.997\\\\\n",
       "\t SC3 & 0.506 & 0.010 & 0.111 & 0.005 &  6.155 &  0.638\\\\\n",
       "\\end{tabular}\n"
      ],
      "text/markdown": [
       "\n",
       "A tibble: 3 × 7\n",
       "\n",
       "| scenario &lt;chr&gt; | mean_G &lt;dbl&gt; | sd_G &lt;dbl&gt; | mean_S &lt;dbl&gt; | sd_S &lt;dbl&gt; | mean_w &lt;dbl&gt; | sd_w &lt;dbl&gt; |\n",
       "|---|---|---|---|---|---|---|\n",
       "| SC1 | 0.496 | 0.013 | 0.102 | 0.006 |  4.936 |  0.519 |\n",
       "| SC2 | 0.496 | 0.003 | 0.102 | 0.002 | 92.097 | 18.997 |\n",
       "| SC3 | 0.506 | 0.010 | 0.111 | 0.005 |  6.155 |  0.638 |\n",
       "\n"
      ],
      "text/plain": [
       "  scenario mean_G sd_G  mean_S sd_S  mean_w sd_w  \n",
       "1 SC1      0.496  0.013 0.102  0.006  4.936  0.519\n",
       "2 SC2      0.496  0.003 0.102  0.002 92.097 18.997\n",
       "3 SC3      0.506  0.010 0.111  0.005  6.155  0.638"
      ]
     },
     "metadata": {},
     "output_type": "display_data"
    }
   ],
   "source": [
    "tt <- filtered_data %>%\n",
    "    group_by(scenario) %>%\n",
    "    summarise(\n",
    "        mean_G = round(mean(pred_G), 3),\n",
    "        sd_G = round(sd(pred_G), 3),\n",
    "        mean_S = round(mean(pred_S), 3),\n",
    "        sd_S = round(sd(pred_S), 3),\n",
    "        mean_w = round(mean(pred_w), 3),\n",
    "        sd_w = round(sd(pred_w), 3),\n",
    "        .groups = 'drop'\n",
    "    )\n",
    "tt"
   ]
  },
  {
   "cell_type": "code",
   "execution_count": 176,
   "metadata": {
    "vscode": {
     "languageId": "r"
    }
   },
   "outputs": [
    {
     "name": "stderr",
     "output_type": "stream",
     "text": [
      "Warning message:\n",
      "“\u001b[1m\u001b[22mRemoved 1 row containing missing values or values outside the scale range\n",
      "(`geom_bar()`).”\n",
      "Warning message:\n",
      "“\u001b[1m\u001b[22mRemoved 1 row containing missing values or values outside the scale range\n",
      "(`geom_bar()`).”\n"
     ]
    },
    {
     "data": {
      "image/png": "[encoded data removed]",
      "text/plain": [
       "plot without title"
      ]
     },
     "metadata": {
      "image/png": {
       "height": 420,
       "width": 420
      }
     },
     "output_type": "display_data"
    }
   ],
   "source": [
    "# G.variance\n",
    "all_scenarios <- data.frame(scenario = c(\"SC1\", \"SC2\", \"SC3\", \"SC4\"))\n",
    "\n",
    "# 기존 summary_data와 합치기\n",
    "plot_data <- all_scenarios %>%\n",
    "    left_join(summary_data, by = \"scenario\")\n",
    "\n",
    "plot <- ggplot(plot_data, aes(x = scenario, y = mean_G, fill = scenario)) +\n",
    "    # reference line (true value)\n",
    "    geom_hline(yintercept = 0.5, linetype = \"dashed\", color = \"black\") +  \n",
    "    # violin plot\n",
    "    geom_bar(stat = \"identity\", alpha = 0.6, width = 0.7) +\n",
    "    geom_errorbar(aes(ymin = mean_G - sd_G, ymax = mean_G + sd_G), \n",
    "                 width = 0.2) +\n",
    "    scale_fill_manual(values = scenario_colors) +\n",
    "    # scale_x_discrete(\n",
    "    #     labels = c(\n",
    "    #         \"SC1\" = \"reference\",\n",
    "    #         \"SC2\" = \"family\",\n",
    "    #         \"SC3\" = \"maternal\",\n",
    "    #         \"SC4\" = \"2D-dominant\"\n",
    "    #     )\n",
    "    # ) +\n",
    "    scale_y_break(\n",
    "        c(0.042, 0.42), \n",
    "        scales = 2) +\n",
    "    scale_y_continuous(\n",
    "        limits = c(0, 0.55),\n",
    "        breaks = c(0, 0.02, 0.04, 0.45, 0.5, 0.55)) +\n",
    "    # NA 표시를 위한 텍스트 추가\n",
    "    geom_text(data = plot_data %>% filter(is.na(mean_G)),\n",
    "              aes(y = 0.02, label = \"NA\"),  # y 위치를 0.45로 조정\n",
    "              size = 2) +\n",
    "    labs(x = \"Scenario\", title = \"G.variance\") +\n",
    "    common_theme + \n",
    "    theme(\n",
    "        plot.margin = margin(0, 0, 0, 0),\n",
    "        axis.text.y.right = element_blank(),\n",
    "        axis.ticks.y.right = element_blank()\n",
    "    )\n",
    "\n",
    "print(plot)\n",
    "\n",
    "output_path <- paste0(\n",
    "    \"/data/jerrylee/pjt/BIGFAM.v.2.0/figures/\", \n",
    "    cohort,\n",
    "    \".scenarios.g\", \n",
    "    gsub(\"\\\\.\", \"\", as.character(w_value)),  # w값을 파일명에 포함\n",
    "    \".prediction.pdf\"\n",
    ")\n",
    "\n",
    "ggsave(\n",
    "    filename = output_path,\n",
    "    plot = plot,\n",
    "    width = 40,\n",
    "    height = 48,\n",
    "    units = \"mm\",\n",
    "    dpi = 300,\n",
    "    device = cairo_pdf\n",
    ")\n"
   ]
  },
  {
   "cell_type": "code",
   "execution_count": 177,
   "metadata": {
    "vscode": {
     "languageId": "r"
    }
   },
   "outputs": [
    {
     "name": "stderr",
     "output_type": "stream",
     "text": [
      "Warning message:\n",
      "“\u001b[1m\u001b[22mRemoved 1 row containing missing values or values outside the scale range\n",
      "(`geom_bar()`).”\n",
      "Warning message:\n",
      "“\u001b[1m\u001b[22mRemoved 1 row containing missing values or values outside the scale range\n",
      "(`geom_bar()`).”\n"
     ]
    },
    {
     "data": {
      "image/png": "[encoded data removed]",
      "text/plain": [
       "plot without title"
      ]
     },
     "metadata": {
      "image/png": {
       "height": 420,
       "width": 420
      }
     },
     "output_type": "display_data"
    }
   ],
   "source": [
    "# S.variance\n",
    "all_scenarios <- data.frame(scenario = c(\"SC1\", \"SC2\", \"SC3\", \"SC4\"))\n",
    "\n",
    "# 기존 summary_data와 합치기\n",
    "plot_data <- all_scenarios %>%\n",
    "    left_join(summary_data, by = \"scenario\")\n",
    "\n",
    "plot <- ggplot(plot_data, aes(x = scenario, y = mean_S, fill = scenario)) +\n",
    "    # reference line (true value)\n",
    "    geom_hline(yintercept = 0.1, linetype = \"dashed\", color = \"black\") +  \n",
    "    # violin plot\n",
    "    geom_bar(stat = \"identity\", alpha = 0.6, width = 0.7) +\n",
    "    geom_errorbar(aes(ymin = mean_S - sd_S, ymax = mean_S + sd_S), \n",
    "                 width = 0.2) +\n",
    "    scale_fill_manual(values = scenario_colors) +\n",
    "    scale_y_break(\n",
    "        c(0.042, 0.08), \n",
    "        scales = 2) +\n",
    "    scale_y_continuous(\n",
    "        limits = c(0, 0.12),\n",
    "        breaks = c(0, 0.02, 0.04, 0.08, 0.10, 0.12)) +\n",
    "    # NA 표시를 위한 텍스트 추가\n",
    "    geom_text(data = plot_data %>% filter(is.na(mean_S)),\n",
    "              aes(y = 0.02, label = \"NA\"),  # y 위치를 0.45로 조정\n",
    "              size = 2) +\n",
    "    labs(x = \"Scenario\", title = \"S.variance\") +\n",
    "    common_theme + \n",
    "    theme(\n",
    "        plot.margin = margin(0, 0, 0, 0),\n",
    "        axis.text.y.right = element_blank(),\n",
    "        axis.ticks.y.right = element_blank()\n",
    "    )\n",
    "\n",
    "print(plot)\n",
    "\n",
    "output_path <- paste0(\n",
    "    \"/data/jerrylee/pjt/BIGFAM.v.2.0/figures/\", \n",
    "    cohort,\n",
    "    \".scenarios.s\", \n",
    "    gsub(\"\\\\.\", \"\", as.character(w_value)),  # w값을 파일명에 포함\n",
    "    \".prediction.pdf\"\n",
    ")\n",
    "\n",
    "ggsave(\n",
    "    filename = output_path,\n",
    "    plot = plot,\n",
    "    width = 40,\n",
    "    height = 48,\n",
    "    units = \"mm\",\n",
    "    dpi = 300,\n",
    "    device = cairo_pdf\n",
    ")\n"
   ]
  },
  {
   "cell_type": "code",
   "execution_count": 178,
   "metadata": {
    "vscode": {
     "languageId": "r"
    }
   },
   "outputs": [
    {
     "name": "stderr",
     "output_type": "stream",
     "text": [
      "Warning message:\n",
      "“\u001b[1m\u001b[22mRemoved 1 row containing missing values or values outside the scale range\n",
      "(`geom_bar()`).”\n",
      "Warning message:\n",
      "“\u001b[1m\u001b[22mRemoved 1 row containing missing values or values outside the scale range\n",
      "(`geom_bar()`).”\n"
     ]
    },
    {
     "data": {
      "image/png": "[encoded data removed]",
      "text/plain": [
       "plot without title"
      ]
     },
     "metadata": {
      "image/png": {
       "height": 420,
       "width": 420
      }
     },
     "output_type": "display_data"
    }
   ],
   "source": [
    "# S.variance\n",
    "all_scenarios <- data.frame(scenario = c(\"SC1\", \"SC2\", \"SC3\", \"SC4\"))\n",
    "\n",
    "# 기존 summary_data와 합치기\n",
    "plot_data <- all_scenarios %>%\n",
    "    left_join(summary_data, by = \"scenario\")\n",
    "\n",
    "plot <- ggplot(plot_data, aes(x = scenario, y = mean_w, fill = scenario)) +\n",
    "    # reference line (true value)\n",
    "    geom_hline(yintercept = w_value, linetype = \"dashed\", color = \"black\") +  \n",
    "    # violin plot\n",
    "    geom_bar(stat = \"identity\", alpha = 0.6, width = 0.7) +\n",
    "    geom_errorbar(aes(ymin = mean_w - sd_w, ymax = mean_w + sd_w), \n",
    "                 width = 0.2) +\n",
    "    scale_fill_manual(values = scenario_colors) +\n",
    "    scale_y_break(c(10, 60), scales = 0.5) +\n",
    "    scale_y_continuous(limits = c(0, 120),\n",
    "        breaks = c(1, 5, 9, 100)) +\n",
    "    # NA 표시를 위한 텍스트 추가\n",
    "    geom_text(data = plot_data %>% filter(is.na(mean_w)),\n",
    "              aes(y = 1, label = \"NA\"),  # y 위치를 0.45로 조정\n",
    "              size = 2) +\n",
    "    labs(x = \"Scenario\", title = \"S.variance\") +\n",
    "    common_theme + \n",
    "    theme(\n",
    "        plot.margin = margin(0, 0, 0, 0),\n",
    "        axis.text.y.right = element_blank(),\n",
    "        axis.ticks.y.right = element_blank()\n",
    "    )\n",
    "\n",
    "print(plot)\n",
    "\n",
    "output_path <- paste0(\n",
    "    \"/data/jerrylee/pjt/BIGFAM.v.2.0/figures/\", \n",
    "    cohort,\n",
    "    \".scenarios.w\", \n",
    "    gsub(\"\\\\.\", \"\", as.character(w_value)),  # w값을 파일명에 포함\n",
    "    \".prediction.pdf\"\n",
    ")\n",
    "\n",
    "ggsave(\n",
    "    filename = output_path,\n",
    "    plot = plot,\n",
    "    width = 40,\n",
    "    height = 48,\n",
    "    units = \"mm\",\n",
    "    dpi = 300,\n",
    "    device = cairo_pdf\n",
    ")\n"
   ]
  },
  {
   "cell_type": "markdown",
   "metadata": {},
   "source": [
    "## similar decaying"
   ]
  },
  {
   "cell_type": "code",
   "execution_count": 179,
   "metadata": {
    "vscode": {
     "languageId": "r"
    }
   },
   "outputs": [
    {
     "data": {
      "text/html": [
       "<table class=\"dataframe\">\n",
       "<caption>A tibble: 4 × 7</caption>\n",
       "<thead>\n",
       "\t<tr><th scope=col>scenario</th><th scope=col>mean_G</th><th scope=col>sd_G</th><th scope=col>mean_S</th><th scope=col>sd_S</th><th scope=col>mean_w</th><th scope=col>sd_w</th></tr>\n",
       "\t<tr><th scope=col>&lt;chr&gt;</th><th scope=col>&lt;dbl&gt;</th><th scope=col>&lt;dbl&gt;</th><th scope=col>&lt;dbl&gt;</th><th scope=col>&lt;dbl&gt;</th><th scope=col>&lt;dbl&gt;</th><th scope=col>&lt;dbl&gt;</th></tr>\n",
       "</thead>\n",
       "<tbody>\n",
       "\t<tr><td>SC1</td><td>0.6634141</td><td>0.0265867844</td><td>0.01821071</td><td>0.0137639211</td><td> 2.055250</td><td> 0.08157173</td></tr>\n",
       "\t<tr><td>SC2</td><td>0.4960485</td><td>0.0027655759</td><td>0.10194896</td><td>0.0014818888</td><td>93.448571</td><td>17.34706413</td></tr>\n",
       "\t<tr><td>SC3</td><td>0.5452977</td><td>0.0635223145</td><td>0.08798662</td><td>0.0307934378</td><td> 2.209719</td><td> 0.12826040</td></tr>\n",
       "\t<tr><td>SC4</td><td>0.5252213</td><td>0.0002775168</td><td>0.14520151</td><td>0.0007070159</td><td> 2.036428</td><td> 0.01183661</td></tr>\n",
       "</tbody>\n",
       "</table>\n"
      ],
      "text/latex": [
       "A tibble: 4 × 7\n",
       "\\begin{tabular}{lllllll}\n",
       " scenario & mean\\_G & sd\\_G & mean\\_S & sd\\_S & mean\\_w & sd\\_w\\\\\n",
       " <chr> & <dbl> & <dbl> & <dbl> & <dbl> & <dbl> & <dbl>\\\\\n",
       "\\hline\n",
       "\t SC1 & 0.6634141 & 0.0265867844 & 0.01821071 & 0.0137639211 &  2.055250 &  0.08157173\\\\\n",
       "\t SC2 & 0.4960485 & 0.0027655759 & 0.10194896 & 0.0014818888 & 93.448571 & 17.34706413\\\\\n",
       "\t SC3 & 0.5452977 & 0.0635223145 & 0.08798662 & 0.0307934378 &  2.209719 &  0.12826040\\\\\n",
       "\t SC4 & 0.5252213 & 0.0002775168 & 0.14520151 & 0.0007070159 &  2.036428 &  0.01183661\\\\\n",
       "\\end{tabular}\n"
      ],
      "text/markdown": [
       "\n",
       "A tibble: 4 × 7\n",
       "\n",
       "| scenario &lt;chr&gt; | mean_G &lt;dbl&gt; | sd_G &lt;dbl&gt; | mean_S &lt;dbl&gt; | sd_S &lt;dbl&gt; | mean_w &lt;dbl&gt; | sd_w &lt;dbl&gt; |\n",
       "|---|---|---|---|---|---|---|\n",
       "| SC1 | 0.6634141 | 0.0265867844 | 0.01821071 | 0.0137639211 |  2.055250 |  0.08157173 |\n",
       "| SC2 | 0.4960485 | 0.0027655759 | 0.10194896 | 0.0014818888 | 93.448571 | 17.34706413 |\n",
       "| SC3 | 0.5452977 | 0.0635223145 | 0.08798662 | 0.0307934378 |  2.209719 |  0.12826040 |\n",
       "| SC4 | 0.5252213 | 0.0002775168 | 0.14520151 | 0.0007070159 |  2.036428 |  0.01183661 |\n",
       "\n"
      ],
      "text/plain": [
       "  scenario mean_G    sd_G         mean_S     sd_S         mean_w    sd_w       \n",
       "1 SC1      0.6634141 0.0265867844 0.01821071 0.0137639211  2.055250  0.08157173\n",
       "2 SC2      0.4960485 0.0027655759 0.10194896 0.0014818888 93.448571 17.34706413\n",
       "3 SC3      0.5452977 0.0635223145 0.08798662 0.0307934378  2.209719  0.12826040\n",
       "4 SC4      0.5252213 0.0002775168 0.14520151 0.0007070159  2.036428  0.01183661"
      ]
     },
     "metadata": {},
     "output_type": "display_data"
    }
   ],
   "source": [
    "w_value <- 2\n",
    "\n",
    "filtered_data <- for_plot %>%\n",
    "    filter(w == w_value)\n",
    "\n",
    "summary_data <- filtered_data %>%\n",
    "    group_by(scenario) %>%\n",
    "    summarise(\n",
    "        mean_G = mean(pred_G),\n",
    "        sd_G = sd(pred_G),\n",
    "        mean_S = mean(pred_S),\n",
    "        sd_S = sd(pred_S),\n",
    "        mean_w = mean(pred_w),\n",
    "        sd_w = sd(pred_w),\n",
    "        .groups = 'drop'\n",
    "    )\n",
    "\n",
    "summary_data"
   ]
  },
  {
   "cell_type": "code",
   "execution_count": 180,
   "metadata": {
    "vscode": {
     "languageId": "r"
    }
   },
   "outputs": [
    {
     "data": {
      "image/png": "[encoded data removed]",
      "text/plain": [
       "plot without title"
      ]
     },
     "metadata": {
      "image/png": {
       "height": 420,
       "width": 420
      }
     },
     "output_type": "display_data"
    }
   ],
   "source": [
    "# G.variance\n",
    "all_scenarios <- data.frame(scenario = c(\"SC1\", \"SC2\", \"SC3\", \"SC4\"))\n",
    "\n",
    "# 기존 summary_data와 합치기\n",
    "plot_data <- all_scenarios %>%\n",
    "    left_join(summary_data, by = \"scenario\")\n",
    "\n",
    "plot <- ggplot(plot_data, aes(x = scenario, y = mean_G, fill = scenario)) +\n",
    "    # reference line (true value)\n",
    "    geom_hline(yintercept = 0.5, linetype = \"dashed\", color = \"black\") +  \n",
    "    # violin plot\n",
    "    geom_bar(stat = \"identity\", alpha = 0.6, width = 0.7) +\n",
    "    geom_errorbar(aes(ymin = mean_G - sd_G, ymax = mean_G + sd_G), \n",
    "                 width = 0.2) +\n",
    "    scale_fill_manual(values = scenario_colors) +\n",
    "    scale_y_break(\n",
    "        c(0.042, 0.42), \n",
    "        scales = 2) +\n",
    "    scale_y_continuous(\n",
    "        limits = c(0, 0.7),\n",
    "        breaks = c(0, 0.02, 0.04, 0.4, 0.5, 0.6, 0.7)) +\n",
    "    # NA 표시를 위한 텍스트 추가\n",
    "    geom_text(data = plot_data %>% filter(is.na(mean_G)),\n",
    "              aes(y = 0.02, label = \"NA\"),  # y 위치를 0.45로 조정\n",
    "              size = 2) +\n",
    "    labs(x = \"Scenario\", title = \"G.variance\") +\n",
    "    common_theme + \n",
    "    theme(\n",
    "        plot.margin = margin(0, 0, 0, 0),\n",
    "        axis.text.y.right = element_blank(),\n",
    "        axis.ticks.y.right = element_blank()\n",
    "    )\n",
    "\n",
    "print(plot)\n",
    "\n",
    "output_path <- paste0(\n",
    "    \"/data/jerrylee/pjt/BIGFAM.v.2.0/figures/\", \n",
    "    cohort,\n",
    "    \".scenarios.g\", \n",
    "    gsub(\"\\\\.\", \"\", as.character(w_value)),  # w값을 파일명에 포함\n",
    "    \".prediction.pdf\"\n",
    ")\n",
    "\n",
    "ggsave(\n",
    "    filename = output_path,\n",
    "    plot = plot,\n",
    "    width = 40,\n",
    "    height = 48,\n",
    "    units = \"mm\",\n",
    "    dpi = 300,\n",
    "    device = cairo_pdf\n",
    ")\n"
   ]
  },
  {
   "cell_type": "code",
   "execution_count": 181,
   "metadata": {
    "vscode": {
     "languageId": "r"
    }
   },
   "outputs": [
    {
     "data": {
      "image/png": "[encoded data removed]",
      "text/plain": [
       "plot without title"
      ]
     },
     "metadata": {
      "image/png": {
       "height": 420,
       "width": 420
      }
     },
     "output_type": "display_data"
    }
   ],
   "source": [
    "# S.variance\n",
    "all_scenarios <- data.frame(scenario = c(\"SC1\", \"SC2\", \"SC3\", \"SC4\"))\n",
    "\n",
    "# 기존 summary_data와 합치기\n",
    "plot_data <- all_scenarios %>%\n",
    "    left_join(summary_data, by = \"scenario\")\n",
    "\n",
    "plot <- ggplot(plot_data, aes(x = scenario, y = mean_S, fill = scenario)) +\n",
    "    # reference line (true value)\n",
    "    geom_hline(yintercept = 0.1, linetype = \"dashed\", color = \"black\") +  \n",
    "    # violin plot\n",
    "    geom_bar(stat = \"identity\", alpha = 0.6, width = 0.7) +\n",
    "    geom_errorbar(aes(ymin = mean_S - sd_S, ymax = mean_S + sd_S), \n",
    "                 width = 0.2) +\n",
    "    scale_fill_manual(values = scenario_colors) +\n",
    "    # scale_y_break(\n",
    "    #     c(0.042, 0.08), \n",
    "    #     scales = 2) +\n",
    "    # scale_y_continuous(\n",
    "    #     limits = c(0, 0.12),\n",
    "    #     breaks = c(0, 0.02, 0.04, 0.08, 0.10, 0.12)) +\n",
    "    # NA 표시를 위한 텍스트 추가\n",
    "    geom_text(data = plot_data %>% filter(is.na(mean_S)),\n",
    "              aes(y = 0.02, label = \"NA\"),  # y 위치를 0.45로 조정\n",
    "              size = 2) +\n",
    "    labs(x = \"Scenario\", title = \"S.variance\") +\n",
    "    common_theme + \n",
    "    theme(\n",
    "        plot.margin = margin(0, 0, 0, 0),\n",
    "        axis.text.y.right = element_blank(),\n",
    "        axis.ticks.y.right = element_blank()\n",
    "    )\n",
    "\n",
    "print(plot)\n",
    "\n",
    "output_path <- paste0(\n",
    "    \"/data/jerrylee/pjt/BIGFAM.v.2.0/figures/\", \n",
    "    cohort,\n",
    "    \".scenarios.s\", \n",
    "    gsub(\"\\\\.\", \"\", as.character(w_value)),  # w값을 파일명에 포함\n",
    "    \".prediction.pdf\"\n",
    ")\n",
    "\n",
    "ggsave(\n",
    "    filename = output_path,\n",
    "    plot = plot,\n",
    "    width = 40,\n",
    "    height = 48,\n",
    "    units = \"mm\",\n",
    "    dpi = 300,\n",
    "    device = cairo_pdf\n",
    ")\n"
   ]
  },
  {
   "cell_type": "code",
   "execution_count": 182,
   "metadata": {
    "vscode": {
     "languageId": "r"
    }
   },
   "outputs": [
    {
     "data": {
      "image/png": "[encoded data removed]",
      "text/plain": [
       "plot without title"
      ]
     },
     "metadata": {
      "image/png": {
       "height": 420,
       "width": 420
      }
     },
     "output_type": "display_data"
    }
   ],
   "source": [
    "# S.variance\n",
    "all_scenarios <- data.frame(scenario = c(\"SC1\", \"SC2\", \"SC3\", \"SC4\"))\n",
    "\n",
    "# 기존 summary_data와 합치기\n",
    "plot_data <- all_scenarios %>%\n",
    "    left_join(summary_data, by = \"scenario\")\n",
    "\n",
    "plot <- ggplot(plot_data, aes(x = scenario, y = mean_w, fill = scenario)) +\n",
    "    # reference line (true value)\n",
    "    geom_hline(yintercept = w_value, linetype = \"dashed\", color = \"black\") +  \n",
    "    # violin plot\n",
    "    geom_bar(stat = \"identity\", alpha = 0.6, width = 0.7) +\n",
    "    geom_errorbar(aes(ymin = mean_w - sd_w, ymax = mean_w + sd_w), \n",
    "                 width = 0.2) +\n",
    "    scale_fill_manual(values = scenario_colors) +\n",
    "    scale_y_break(c(4, 60), scales = 0.5) +\n",
    "    scale_y_continuous(limits = c(0, 120),\n",
    "        breaks = c(1, 2, 3, 100)) +\n",
    "    # NA 표시를 위한 텍스트 추가\n",
    "    geom_text(data = plot_data %>% filter(is.na(mean_w)),\n",
    "              aes(y = 1, label = \"NA\"),  # y 위치를 0.45로 조정\n",
    "              size = 2) +\n",
    "    labs(x = \"Scenario\", title = \"S.variance\") +\n",
    "    common_theme + \n",
    "    theme(\n",
    "        plot.margin = margin(0, 0, 0, 0),\n",
    "        axis.text.y.right = element_blank(),\n",
    "        axis.ticks.y.right = element_blank()\n",
    "    )\n",
    "\n",
    "print(plot)\n",
    "\n",
    "output_path <- paste0(\n",
    "    \"/data/jerrylee/pjt/BIGFAM.v.2.0/figures/\", \n",
    "    cohort,\n",
    "    \".scenarios.w\", \n",
    "    gsub(\"\\\\.\", \"\", as.character(w_value)),  # w값을 파일명에 포함\n",
    "    \".prediction.pdf\"\n",
    ")\n",
    "\n",
    "ggsave(\n",
    "    filename = output_path,\n",
    "    plot = plot,\n",
    "    width = 40,\n",
    "    height = 48,\n",
    "    units = \"mm\",\n",
    "    dpi = 300,\n",
    "    device = cairo_pdf\n",
    ")\n"
   ]
  },
  {
   "cell_type": "markdown",
   "metadata": {},
   "source": [
    "# slow decaying"
   ]
  },
  {
   "cell_type": "code",
   "execution_count": 183,
   "metadata": {
    "vscode": {
     "languageId": "r"
    }
   },
   "outputs": [
    {
     "data": {
      "text/html": [
       "<table class=\"dataframe\">\n",
       "<caption>A tibble: 3 × 7</caption>\n",
       "<thead>\n",
       "\t<tr><th scope=col>scenario</th><th scope=col>mean_G</th><th scope=col>sd_G</th><th scope=col>mean_S</th><th scope=col>sd_S</th><th scope=col>mean_w</th><th scope=col>sd_w</th></tr>\n",
       "\t<tr><th scope=col>&lt;chr&gt;</th><th scope=col>&lt;dbl&gt;</th><th scope=col>&lt;dbl&gt;</th><th scope=col>&lt;dbl&gt;</th><th scope=col>&lt;dbl&gt;</th><th scope=col>&lt;dbl&gt;</th><th scope=col>&lt;dbl&gt;</th></tr>\n",
       "</thead>\n",
       "<tbody>\n",
       "\t<tr><td>SC1</td><td>0.5190488</td><td>0.019197038</td><td>0.09050111</td><td>0.0093442652</td><td> 1.258491</td><td> 0.042176771</td></tr>\n",
       "\t<tr><td>SC2</td><td>0.4961610</td><td>0.002718188</td><td>0.10185275</td><td>0.0014831631</td><td>93.295238</td><td>17.399900020</td></tr>\n",
       "\t<tr><td>SC3</td><td>0.6329519</td><td>0.002407993</td><td>0.04685287</td><td>0.0008095254</td><td> 1.052868</td><td> 0.002461075</td></tr>\n",
       "</tbody>\n",
       "</table>\n"
      ],
      "text/latex": [
       "A tibble: 3 × 7\n",
       "\\begin{tabular}{lllllll}\n",
       " scenario & mean\\_G & sd\\_G & mean\\_S & sd\\_S & mean\\_w & sd\\_w\\\\\n",
       " <chr> & <dbl> & <dbl> & <dbl> & <dbl> & <dbl> & <dbl>\\\\\n",
       "\\hline\n",
       "\t SC1 & 0.5190488 & 0.019197038 & 0.09050111 & 0.0093442652 &  1.258491 &  0.042176771\\\\\n",
       "\t SC2 & 0.4961610 & 0.002718188 & 0.10185275 & 0.0014831631 & 93.295238 & 17.399900020\\\\\n",
       "\t SC3 & 0.6329519 & 0.002407993 & 0.04685287 & 0.0008095254 &  1.052868 &  0.002461075\\\\\n",
       "\\end{tabular}\n"
      ],
      "text/markdown": [
       "\n",
       "A tibble: 3 × 7\n",
       "\n",
       "| scenario &lt;chr&gt; | mean_G &lt;dbl&gt; | sd_G &lt;dbl&gt; | mean_S &lt;dbl&gt; | sd_S &lt;dbl&gt; | mean_w &lt;dbl&gt; | sd_w &lt;dbl&gt; |\n",
       "|---|---|---|---|---|---|---|\n",
       "| SC1 | 0.5190488 | 0.019197038 | 0.09050111 | 0.0093442652 |  1.258491 |  0.042176771 |\n",
       "| SC2 | 0.4961610 | 0.002718188 | 0.10185275 | 0.0014831631 | 93.295238 | 17.399900020 |\n",
       "| SC3 | 0.6329519 | 0.002407993 | 0.04685287 | 0.0008095254 |  1.052868 |  0.002461075 |\n",
       "\n"
      ],
      "text/plain": [
       "  scenario mean_G    sd_G        mean_S     sd_S         mean_w    sd_w        \n",
       "1 SC1      0.5190488 0.019197038 0.09050111 0.0093442652  1.258491  0.042176771\n",
       "2 SC2      0.4961610 0.002718188 0.10185275 0.0014831631 93.295238 17.399900020\n",
       "3 SC3      0.6329519 0.002407993 0.04685287 0.0008095254  1.052868  0.002461075"
      ]
     },
     "metadata": {},
     "output_type": "display_data"
    }
   ],
   "source": [
    "w_value <- 1.3\n",
    "\n",
    "filtered_data <- for_plot %>%\n",
    "    filter(w == w_value)\n",
    "\n",
    "summary_data <- filtered_data %>%\n",
    "    group_by(scenario) %>%\n",
    "    summarise(\n",
    "        mean_G = mean(pred_G),\n",
    "        sd_G = sd(pred_G),\n",
    "        mean_S = mean(pred_S),\n",
    "        sd_S = sd(pred_S),\n",
    "        mean_w = mean(pred_w),\n",
    "        sd_w = sd(pred_w),\n",
    "        .groups = 'drop'\n",
    "    )\n",
    "\n",
    "summary_data"
   ]
  },
  {
   "cell_type": "code",
   "execution_count": 184,
   "metadata": {
    "vscode": {
     "languageId": "r"
    }
   },
   "outputs": [
    {
     "name": "stderr",
     "output_type": "stream",
     "text": [
      "Warning message:\n",
      "“\u001b[1m\u001b[22mRemoved 1 row containing missing values or values outside the scale range\n",
      "(`geom_bar()`).”\n",
      "Warning message:\n",
      "“\u001b[1m\u001b[22mRemoved 1 row containing missing values or values outside the scale range\n",
      "(`geom_bar()`).”\n"
     ]
    },
    {
     "data": {
      "image/png": "[encoded data removed]",
      "text/plain": [
       "plot without title"
      ]
     },
     "metadata": {
      "image/png": {
       "height": 420,
       "width": 420
      }
     },
     "output_type": "display_data"
    }
   ],
   "source": [
    "# G.variance\n",
    "all_scenarios <- data.frame(scenario = c(\"SC1\", \"SC2\", \"SC3\", \"SC4\"))\n",
    "\n",
    "# 기존 summary_data와 합치기\n",
    "plot_data <- all_scenarios %>%\n",
    "    left_join(summary_data, by = \"scenario\")\n",
    "\n",
    "plot <- ggplot(plot_data, aes(x = scenario, y = mean_G, fill = scenario)) +\n",
    "    # reference line (true value)\n",
    "    geom_hline(yintercept = 0.5, linetype = \"dashed\", color = \"black\") +  \n",
    "    # violin plot\n",
    "    geom_bar(stat = \"identity\", alpha = 0.6, width = 0.7) +\n",
    "    geom_errorbar(aes(ymin = mean_G - sd_G, ymax = mean_G + sd_G), \n",
    "                 width = 0.2) +\n",
    "    scale_fill_manual(values = scenario_colors) +\n",
    "    scale_y_break(\n",
    "        c(0.042, 0.42), \n",
    "        scales = 2) +\n",
    "    scale_y_continuous(\n",
    "        limits = c(0, 0.7),\n",
    "        breaks = c(0, 0.02, 0.04, 0.4, 0.5, 0.6, 0.7)) +\n",
    "    # NA 표시를 위한 텍스트 추가\n",
    "    geom_text(data = plot_data %>% filter(is.na(mean_G)),\n",
    "              aes(y = 0.02, label = \"NA\"),  # y 위치를 0.45로 조정\n",
    "              size = 2) +\n",
    "    labs(x = \"Scenario\", title = \"G.variance\") +\n",
    "    common_theme + \n",
    "    theme(\n",
    "        plot.margin = margin(0, 0, 0, 0),\n",
    "        axis.text.y.right = element_blank(),\n",
    "        axis.ticks.y.right = element_blank()\n",
    "    )\n",
    "\n",
    "print(plot)\n",
    "\n",
    "output_path <- paste0(\n",
    "    \"/data/jerrylee/pjt/BIGFAM.v.2.0/figures/\", \n",
    "    cohort,\n",
    "    \".scenarios.g\", \n",
    "    gsub(\"\\\\.\", \"\", as.character(w_value)),  # w값을 파일명에 포함\n",
    "    \".prediction.pdf\"\n",
    ")\n",
    "\n",
    "ggsave(\n",
    "    filename = output_path,\n",
    "    plot = plot,\n",
    "    width = 40,\n",
    "    height = 48,\n",
    "    units = \"mm\",\n",
    "    dpi = 300,\n",
    "    device = cairo_pdf\n",
    ")\n"
   ]
  },
  {
   "cell_type": "code",
   "execution_count": 186,
   "metadata": {
    "vscode": {
     "languageId": "r"
    }
   },
   "outputs": [
    {
     "name": "stderr",
     "output_type": "stream",
     "text": [
      "Warning message:\n",
      "“\u001b[1m\u001b[22mRemoved 1 row containing missing values or values outside the scale range\n",
      "(`geom_bar()`).”\n",
      "Warning message:\n",
      "“\u001b[1m\u001b[22mRemoved 1 row containing missing values or values outside the scale range\n",
      "(`geom_bar()`).”\n"
     ]
    },
    {
     "data": {
      "image/png": "[encoded data removed]",
      "text/plain": [
       "plot without title"
      ]
     },
     "metadata": {
      "image/png": {
       "height": 420,
       "width": 420
      }
     },
     "output_type": "display_data"
    }
   ],
   "source": [
    "# S.variance\n",
    "all_scenarios <- data.frame(scenario = c(\"SC1\", \"SC2\", \"SC3\", \"SC4\"))\n",
    "\n",
    "# 기존 summary_data와 합치기\n",
    "plot_data <- all_scenarios %>%\n",
    "    left_join(summary_data, by = \"scenario\")\n",
    "\n",
    "plot <- ggplot(plot_data, aes(x = scenario, y = mean_S, fill = scenario)) +\n",
    "    # reference line (true value)\n",
    "    geom_hline(yintercept = 0.1, linetype = \"dashed\", color = \"black\") +  \n",
    "    # violin plot\n",
    "    geom_bar(stat = \"identity\", alpha = 0.6, width = 0.7) +\n",
    "    geom_errorbar(aes(ymin = mean_S - sd_S, ymax = mean_S + sd_S), \n",
    "                 width = 0.2) +\n",
    "    scale_fill_manual(values = scenario_colors) +\n",
    "    # scale_y_break(\n",
    "    #     c(0.042, 0.08), \n",
    "    #     scales = 2) +\n",
    "    scale_y_continuous(\n",
    "        limits = c(0, 0.12)) +\n",
    "    # NA 표시를 위한 텍스트 추가\n",
    "    geom_text(data = plot_data %>% filter(is.na(mean_S)),\n",
    "              aes(y = 0.02, label = \"NA\"),  # y 위치를 0.45로 조정\n",
    "              size = 2) +\n",
    "    labs(x = \"Scenario\", title = \"S.variance\") +\n",
    "    common_theme + \n",
    "    theme(\n",
    "        plot.margin = margin(0, 0, 0, 0),\n",
    "        axis.text.y.right = element_blank(),\n",
    "        axis.ticks.y.right = element_blank()\n",
    "    )\n",
    "\n",
    "print(plot)\n",
    "\n",
    "output_path <- paste0(\n",
    "    \"/data/jerrylee/pjt/BIGFAM.v.2.0/figures/\", \n",
    "    cohort,\n",
    "    \".scenarios.S\", \n",
    "    gsub(\"\\\\.\", \"\", as.character(w_value)),  # w값을 파일명에 포함\n",
    "    \".prediction.pdf\"\n",
    ")\n",
    "\n",
    "ggsave(\n",
    "    filename = output_path,\n",
    "    plot = plot,\n",
    "    width = 40,\n",
    "    height = 48,\n",
    "    units = \"mm\",\n",
    "    dpi = 300,\n",
    "    device = cairo_pdf\n",
    ")\n"
   ]
  },
  {
   "cell_type": "code",
   "execution_count": 187,
   "metadata": {
    "vscode": {
     "languageId": "r"
    }
   },
   "outputs": [
    {
     "name": "stderr",
     "output_type": "stream",
     "text": [
      "Warning message:\n",
      "“\u001b[1m\u001b[22mRemoved 1 row containing missing values or values outside the scale range\n",
      "(`geom_bar()`).”\n",
      "Warning message:\n",
      "“\u001b[1m\u001b[22mRemoved 1 row containing missing values or values outside the scale range\n",
      "(`geom_bar()`).”\n"
     ]
    },
    {
     "data": {
      "image/png": "[encoded data removed]",
      "text/plain": [
       "plot without title"
      ]
     },
     "metadata": {
      "image/png": {
       "height": 420,
       "width": 420
      }
     },
     "output_type": "display_data"
    }
   ],
   "source": [
    "# S.variance\n",
    "all_scenarios <- data.frame(scenario = c(\"SC1\", \"SC2\", \"SC3\", \"SC4\"))\n",
    "\n",
    "# 기존 summary_data와 합치기\n",
    "plot_data <- all_scenarios %>%\n",
    "    left_join(summary_data, by = \"scenario\")\n",
    "\n",
    "plot <- ggplot(plot_data, aes(x = scenario, y = mean_w, fill = scenario)) +\n",
    "    # reference line (true value)\n",
    "    geom_hline(yintercept = w_value, linetype = \"dashed\", color = \"black\") +  \n",
    "    # violin plot\n",
    "    geom_bar(stat = \"identity\", alpha = 0.6, width = 0.7) +\n",
    "    geom_errorbar(aes(ymin = mean_w - sd_w, ymax = mean_w + sd_w), \n",
    "                 width = 0.2) +\n",
    "    scale_fill_manual(values = scenario_colors) +\n",
    "    scale_y_break(c(4, 60), scales = 0.5) +\n",
    "    scale_y_continuous(limits = c(0, 120),\n",
    "        breaks = c(1, 2, 3, 100)) +\n",
    "    # NA 표시를 위한 텍스트 추가\n",
    "    geom_text(data = plot_data %>% filter(is.na(mean_w)),\n",
    "              aes(y = 1, label = \"NA\"),  # y 위치를 0.45로 조정\n",
    "              size = 2) +\n",
    "    labs(x = \"Scenario\", title = \"S.variance\") +\n",
    "    common_theme + \n",
    "    theme(\n",
    "        plot.margin = margin(0, 0, 0, 0),\n",
    "        axis.text.y.right = element_blank(),\n",
    "        axis.ticks.y.right = element_blank()\n",
    "    )\n",
    "\n",
    "print(plot)\n",
    "\n",
    "output_path <- paste0(\n",
    "    \"/data/jerrylee/pjt/BIGFAM.v.2.0/figures/\", \n",
    "    cohort,\n",
    "    \".scenarios.w\", \n",
    "    gsub(\"\\\\.\", \"\", as.character(w_value)),  # w값을 파일명에 포함\n",
    "    \".prediction.pdf\"\n",
    ")\n",
    "\n",
    "ggsave(\n",
    "    filename = output_path,\n",
    "    plot = plot,\n",
    "    width = 40,\n",
    "    height = 48,\n",
    "    units = \"mm\",\n",
    "    dpi = 300,\n",
    "    device = cairo_pdf\n",
    ")\n"
   ]
  },
  {
   "cell_type": "code",
   "execution_count": null,
   "metadata": {
    "vscode": {
     "languageId": "r"
    }
   },
   "outputs": [],
   "source": []
  },
  {
   "cell_type": "code",
   "execution_count": null,
   "metadata": {
    "vscode": {
     "languageId": "r"
    }
   },
   "outputs": [],
   "source": []
  },
  {
   "cell_type": "code",
   "execution_count": null,
   "metadata": {
    "vscode": {
     "languageId": "r"
    }
   },
   "outputs": [],
   "source": []
  },
  {
   "cell_type": "code",
   "execution_count": 129,
   "metadata": {
    "vscode": {
     "languageId": "r"
    }
   },
   "outputs": [
    {
     "name": "stderr",
     "output_type": "stream",
     "text": [
      "Warning message:\n",
      "“\u001b[1m\u001b[22mRemoved 1 row containing missing values or values outside the scale range\n",
      "(`geom_bar()`).”\n",
      "Warning message:\n",
      "“\u001b[1m\u001b[22mRemoved 1 row containing missing values or values outside the scale range\n",
      "(`geom_bar()`).”\n"
     ]
    },
    {
     "data": {
      "image/png": "[encoded data removed]",
      "text/plain": [
       "plot without title"
      ]
     },
     "metadata": {
      "image/png": {
       "height": 420,
       "width": 420
      }
     },
     "output_type": "display_data"
    }
   ],
   "source": [
    "w_value <- 1.3\n",
    "\n",
    "filtered_data <- for_plot %>%\n",
    "    filter(w == w_value)\n",
    "\n",
    "summary_data <- filtered_data %>%\n",
    "    group_by(scenario) %>%\n",
    "    summarise(\n",
    "        mean_G = mean(pred_G),\n",
    "        sd_G = sd(pred_G),\n",
    "        mean_S = mean(pred_S),\n",
    "        sd_S = sd(pred_S),\n",
    "        mean_w = mean(pred_w),\n",
    "        sd_w = sd(pred_w),\n",
    "        .groups = 'drop'\n",
    "    )\n",
    "\n",
    "\n",
    "plot <- ggplot(summary_data, aes(x = scenario, y = mean_G, fill = scenario)) +\n",
    "    # reference line (true value)\n",
    "    geom_hline(yintercept = 0.5, linetype = \"dashed\", color = \"black\") +  \n",
    "    # violin plot\n",
    "    geom_bar(stat = \"identity\", alpha = 0.6, width = 0.7) +\n",
    "    geom_errorbar(aes(ymin = mean_G - sd_G, ymax = mean_G + sd_G), \n",
    "                         width = 0.2) +\n",
    "    scale_fill_manual(values = scenario_colors) +\n",
    "    scale_y_break(\n",
    "        c(0.042, 0.42), \n",
    "        scales = 2) +\n",
    "    scale_y_continuous(\n",
    "        limits = c(0, 0.55),\n",
    "        breaks = c(0, 0.02, 0.04, 0.45, 0.5, 0.55)) +\n",
    "    labs(x = \"Scenario\", title = \"G.variance\") +\n",
    "    common_theme + \n",
    "    theme(\n",
    "        plot.margin = margin(0, 0, 0, 0),\n",
    "        axis.text.y.right = element_blank(),\n",
    "        axis.ticks.y.right = element_blank()\n",
    "    )\n",
    "print(plot)\n",
    "\n",
    "output_path <- paste0(\n",
    "    \"/data/jerrylee/pjt/BIGFAM.v.2.0/figures/\", \n",
    "    \"test.scenarios.g\", \n",
    "    gsub(\"\\\\.\", \"\", as.character(true_w)),  # w값을 파일명에 포함\n",
    "    \".prediction.pdf\"\n",
    ")\n",
    "\n",
    "ggsave(\n",
    "    filename = output_path,\n",
    "    plot = plot,\n",
    "    width = 34.5,\n",
    "    height = 38,\n",
    "    units = \"mm\",\n",
    "    dpi = 300,\n",
    "    device = cairo_pdf\n",
    ")\n"
   ]
  },
  {
   "cell_type": "code",
   "execution_count": 101,
   "metadata": {
    "vscode": {
     "languageId": "r"
    }
   },
   "outputs": [],
   "source": [
    "plot_scenario_predictions <- function(data, w_value, variable = \"w\", true_values) {\n",
    "    # w값에 해당하는 데이터만 필터링\n",
    "    filtered_data <- data %>%\n",
    "        filter(w == w_value)\n",
    "    \n",
    "    # 평균과 표준편차 계산\n",
    "    summary_data <- filtered_data %>%\n",
    "        group_by(scenario) %>%\n",
    "        summarise(\n",
    "            mean_G = mean(pred_G),\n",
    "            sd_G = sd(pred_G),\n",
    "            mean_S = mean(pred_S),\n",
    "            sd_S = sd(pred_S),\n",
    "            mean_w = mean(pred_w),\n",
    "            sd_w = sd(pred_w),\n",
    "            .groups = 'drop'\n",
    "        )\n",
    "    \n",
    "    # 시나리오별 색상 정의\n",
    "    scenario_colors <- c(\n",
    "        \"SC1\" = \"#4DBBD5\",\n",
    "        \"SC2\" = \"#E64B35\",\n",
    "        \"SC3\" = \"#00A087\",\n",
    "        \"SC4\" = \"#3C5488\"\n",
    "    )\n",
    "\n",
    "    common_theme <- get_nature_theme() +\n",
    "        theme(\n",
    "            axis.text.x = element_text(angle = 45, hjust = 1),\n",
    "            legend.position = \"none\",\n",
    "            # plot.margin = margin(20, 5, 5, 5),  # 상단 여백 증가\n",
    "            # plot.title = element_text(\n",
    "            #     hjust = 0.5, \n",
    "            #     margin = margin(b = 10),\n",
    "            #     size = 10  # 글자 크기 조절 (기본값은 보통 14)\n",
    "            # ),\n",
    "            plot.title = element_blank(),\n",
    "            axis.title.y = element_blank()  # y축 라벨 제거\n",
    "        )\n",
    "    \n",
    "    # 변수에 따른 플롯 생성\n",
    "    if(variable == \"G\") {\n",
    "        plot <- ggplot(summary_data, aes(x = scenario, y = mean_G, fill = scenario)) +\n",
    "            geom_hline(yintercept = true_values[\"G\"], linetype = \"dashed\", color = \"black\") +  # true 값 추가\n",
    "            geom_bar(stat = \"identity\", alpha = 0.6, width = 0.7) +\n",
    "            geom_errorbar(aes(ymin = mean_G - sd_G, ymax = mean_G + sd_G), \n",
    "                         width = 0.2) +\n",
    "            scale_fill_manual(values = scenario_colors) +\n",
    "            scale_y_break(\n",
    "                c(0.042, 0.42), \n",
    "                scales = c(0.8, 0.2)) +\n",
    "            scale_y_continuous(\n",
    "                limits = c(0, 0.55),\n",
    "                breaks = c(0, 0.02, 0.04, 0.45, 0.5, 0.55)) +\n",
    "            labs(x = \"Scenario\", title = \"G. variance\") +\n",
    "            common_theme + \n",
    "            theme(\n",
    "                plot.margin = margin(0, 0, 0, 0),\n",
    "                axis.text.y.right = element_blank(),\n",
    "                axis.ticks.y.right = element_blank()\n",
    "            )\n",
    "    } else if(variable == \"S\") {\n",
    "        plot <- ggplot(summary_data, aes(x = scenario, y = mean_S, fill = scenario)) +\n",
    "            geom_hline(yintercept = true_values[\"S\"], linetype = \"dashed\", color = \"black\") +  # true 값 추가\n",
    "            geom_bar(stat = \"identity\", alpha = 0.6, width = 0.7) +\n",
    "            geom_errorbar(aes(ymin = mean_S - sd_S, ymax = mean_S + sd_S), \n",
    "                         width = 0.2) +\n",
    "            scale_fill_manual(values = scenario_colors) +\n",
    "            labs(x = \"Scenario\", title = \"S. variance\") +\n",
    "            common_theme\n",
    "    } else if(variable == \"w\") {\n",
    "        plot <- ggplot(summary_data, aes(x = scenario, y = mean_w, fill = scenario)) +\n",
    "            geom_hline(yintercept = true_values[\"w\"], linetype = \"dashed\", color = \"black\") +  # true 값 추가\n",
    "            geom_bar(stat = \"identity\", alpha = 0.6, width = 0.7) +\n",
    "            geom_errorbar(aes(ymin = mean_w - sd_w, ymax = mean_w + sd_w), \n",
    "                         width = 0.2) +\n",
    "            scale_fill_manual(values = scenario_colors) +\n",
    "            scale_y_break(c(7, 60), scales = c(0.2, 1)) +\n",
    "            scale_y_continuous(breaks = c(0, 2, 4, 6, 100)) +\n",
    "            labs(x = \"Scenario\", title = \"S. decay\") +\n",
    "            common_theme + \n",
    "            theme(\n",
    "                plot.margin = margin(0, 0, 0, 0),\n",
    "                axis.text.y.right = element_blank(),\n",
    "                axis.ticks.y.right = element_blank()\n",
    "            )\n",
    "    }\n",
    "\n",
    "    return(plot)\n",
    "}"
   ]
  },
  {
   "cell_type": "code",
   "execution_count": 87,
   "metadata": {
    "vscode": {
     "languageId": "r"
    }
   },
   "outputs": [],
   "source": [
    "true_w <- 5\n",
    "\n",
    "true_values <- c(G = 0.5, S = 0.1, w = true_w)  # true 값 설정\n",
    "\n",
    "p_g <- plot_scenario_predictions(df_prediction, true_w, \"G\", true_values)\n",
    "p_s <- plot_scenario_predictions(df_prediction, true_w, \"S\", true_values)\n",
    "p_w <- plot_scenario_predictions(df_prediction, true_w, \"w\", true_values)"
   ]
  },
  {
   "cell_type": "code",
   "execution_count": 88,
   "metadata": {
    "vscode": {
     "languageId": "r"
    }
   },
   "outputs": [
    {
     "data": {
      "image/png": "[encoded data removed]",
      "text/plain": [
       "plot without title"
      ]
     },
     "metadata": {
      "image/png": {
       "height": 420,
       "width": 420
      }
     },
     "output_type": "display_data"
    }
   ],
   "source": [
    "print(p_g)\n",
    "# 파일 저장\n",
    "output_path <- paste0(\n",
    "    \"/data/jerrylee/pjt/BIGFAM.v.2.0/figures/\", \n",
    "    cohort, \n",
    "    \".scenarios.g\", \n",
    "    gsub(\"\\\\.\", \"\", as.character(true_w)),  # w값을 파일명에 포함\n",
    "    \".prediction.pdf\"\n",
    ")\n",
    "\n",
    "ggsave(\n",
    "    filename = output_path,\n",
    "    plot = p_g,\n",
    "    width = 34.5,\n",
    "    height = 38,\n",
    "    units = \"mm\",\n",
    "    dpi = 300,\n",
    "    device = cairo_pdf\n",
    ")\n"
   ]
  },
  {
   "cell_type": "code",
   "execution_count": 89,
   "metadata": {
    "vscode": {
     "languageId": "r"
    }
   },
   "outputs": [
    {
     "data": {
      "image/png": "[encoded data removed]",
      "text/plain": [
       "plot without title"
      ]
     },
     "metadata": {
      "image/png": {
       "height": 420,
       "width": 420
      }
     },
     "output_type": "display_data"
    }
   ],
   "source": [
    "print(p_w)\n",
    "\n",
    "# 파일 저장\n",
    "output_path <- paste0(\n",
    "    \"/data/jerrylee/pjt/BIGFAM.v.2.0/figures/\", \n",
    "    cohort, \n",
    "    \".scenarios.w\", \n",
    "    gsub(\"\\\\.\", \"\", as.character(true_w)),  # w값을 파일명에 포함\n",
    "    \".prediction.pdf\"\n",
    ")\n",
    "\n",
    "ggsave(\n",
    "    filename = output_path,\n",
    "    plot = p_w,\n",
    "    width = 41,\n",
    "    height = 44.45,\n",
    "    units = \"mm\",\n",
    "    dpi = 300,\n",
    "    device = cairo_pdf\n",
    ")\n"
   ]
  },
  {
   "cell_type": "code",
   "execution_count": 90,
   "metadata": {
    "vscode": {
     "languageId": "r"
    }
   },
   "outputs": [
    {
     "data": {
      "image/png": "[encoded data removed]",
      "text/plain": [
       "plot without title"
      ]
     },
     "metadata": {
      "image/png": {
       "height": 420,
       "width": 420
      }
     },
     "output_type": "display_data"
    }
   ],
   "source": [
    "print(p_s)\n",
    "# 파일 저장\n",
    "output_path <- paste0(\n",
    "    \"/data/jerrylee/pjt/BIGFAM.v.2.0/figures/\", \n",
    "    cohort, \n",
    "    \".scenarios.S\", \n",
    "    gsub(\"\\\\.\", \"\", as.character(true_w)),  # w값을 파일명에 포함\n",
    "    \".prediction.pdf\"\n",
    ")\n",
    "\n",
    "ggsave(\n",
    "    filename = output_path,\n",
    "    plot = p_s,\n",
    "    width = 34.5,\n",
    "    height = 38,\n",
    "    units = \"mm\",\n",
    "    dpi = 300,\n",
    "    device = cairo_pdf\n",
    ")\n"
   ]
  },
  {
   "cell_type": "code",
   "execution_count": null,
   "metadata": {
    "vscode": {
     "languageId": "r"
    }
   },
   "outputs": [],
   "source": []
  },
  {
   "cell_type": "markdown",
   "metadata": {},
   "source": [
    "# facet\n"
   ]
  },
  {
   "cell_type": "code",
   "execution_count": 156,
   "metadata": {
    "vscode": {
     "languageId": "r"
    }
   },
   "outputs": [],
   "source": [
    "plot_scenario_predictions_facet <- function(data, w_values, true_values) {\n",
    "    # 데이터 준비\n",
    "    all_predictions <- lapply(w_values, function(w_val) {\n",
    "        filtered_data <- data %>%\n",
    "            filter(w == w_val) %>%\n",
    "            group_by(scenario) %>%\n",
    "            summarise(\n",
    "                G_mean = mean(pred_G),\n",
    "                G_sd = sd(pred_G),\n",
    "                S_mean = mean(pred_S),\n",
    "                S_sd = sd(pred_S),\n",
    "                .groups = 'drop'\n",
    "            ) %>%\n",
    "            mutate(w_value = paste0(\"w: \", w_val))\n",
    "    }) %>% bind_rows()\n",
    "    \n",
    "    # 데이터를 long 형태로 변환\n",
    "    long_data <- all_predictions %>%\n",
    "        pivot_longer(\n",
    "            cols = c(G_mean, S_mean),\n",
    "            names_to = \"variable\",\n",
    "            values_to = \"mean\"\n",
    "        ) %>%\n",
    "        mutate(\n",
    "            sd = case_when(\n",
    "                variable == \"G_mean\" ~ G_sd,\n",
    "                variable == \"S_mean\" ~ S_sd\n",
    "            ),\n",
    "            variable = factor(variable,\n",
    "                            levels = c(\"G_mean\", \"S_mean\"),\n",
    "                            labels = c(\"G. variance\", \"S. variance\"))\n",
    "        )\n",
    "    \n",
    "    # 시나리오별 색상 정의\n",
    "    scenario_colors <- c(\n",
    "        \"SC1\" = \"#4DBBD5\",\n",
    "        \"SC2\" = \"#E64B35\",\n",
    "        \"SC3\" = \"#00A087\",\n",
    "        \"SC4\" = \"#3C5488\"\n",
    "    )\n",
    "    \n",
    "    # Plot 생성\n",
    "    p <- ggplot(long_data, aes(x = scenario, y = mean, fill = scenario)) +\n",
    "        geom_bar(stat = \"identity\", alpha = 0.6, width = 0.7) +\n",
    "        geom_errorbar(aes(ymin = mean - sd, ymax = mean + sd), width = 0.2) +\n",
    "        geom_hline(data = data.frame(\n",
    "            variable = c(\"G. variance\", \"S. variance\"),\n",
    "            true_value = c(true_values[\"G\"], true_values[\"S\"])\n",
    "        ), aes(yintercept = true_value), linetype = \"dashed\") +\n",
    "        scale_fill_manual(values = scenario_colors) +\n",
    "        facet_grid(variable ~ w_value, scales = \"free_y\") +\n",
    "        labs(x = \"Scenario\", y = \"\") +\n",
    "        theme_minimal() +\n",
    "        theme(\n",
    "            # 패널 배경과 테두리 설정\n",
    "            panel.background = element_rect(fill = \"white\", color = \"black\"),  # 테두리 검은색\n",
    "            panel.grid.major = element_line(color = \"gray90\"),\n",
    "            panel.grid.minor = element_line(color = \"gray95\"),\n",
    "            \n",
    "            # facet strip 설정\n",
    "            strip.background = element_rect(fill = \"#FFFAE6\", color = \"black\"),  # strip 테두리도 검은색\n",
    "            strip.text = element_text(size = 10, color = \"gray20\"),\n",
    "            strip.text.y = element_text(angle = 0),\n",
    "            \n",
    "            # 기타 설정\n",
    "            axis.text.x = element_text(angle = 45, hjust = 1),\n",
    "            legend.position = \"none\",\n",
    "            panel.spacing = unit(1, \"lines\"),\n",
    "            plot.background = element_rect(fill = \"white\", color = NA)\n",
    "        )\n",
    "    \n",
    "    return(p)\n",
    "}\n",
    "\n",
    "# 사용 예시\n",
    "w_values <- c(1.3, 2, 5)\n",
    "true_values <- c(G = 0.5, S = 0.1, w = 1.3)\n",
    "\n",
    "p_facet <- plot_scenario_predictions_facet(df_prediction, w_values, true_values)\n",
    "\n",
    "# 저장\n",
    "ggsave(\n",
    "    filename = \"/data/jerrylee/pjt/BIGFAM.v.2.0/figures/simulation.scenarios.facet.prediction.pdf\",\n",
    "    plot = p_facet,\n",
    "    width = 180,\n",
    "    height = 120,  # 높이 조정 (2개의 행만 있으므로)\n",
    "    units = \"mm\",\n",
    "    dpi = 300,\n",
    "    device = cairo_pdf\n",
    ")"
   ]
  },
  {
   "cell_type": "code",
   "execution_count": null,
   "metadata": {
    "vscode": {
     "languageId": "r"
    }
   },
   "outputs": [],
   "source": []
  },
  {
   "cell_type": "code",
   "execution_count": null,
   "metadata": {
    "vscode": {
     "languageId": "r"
    }
   },
   "outputs": [],
   "source": []
  }
 ],
 "metadata": {
  "kernelspec": {
   "display_name": "R",
   "language": "R",
   "name": "ir"
  },
  "language_info": {
   "codemirror_mode": "r",
   "file_extension": ".r",
   "mimetype": "text/x-r-source",
   "name": "R",
   "pygments_lexer": "r",
   "version": "4.3.1"
  }
 },
 "nbformat": 4,
 "nbformat_minor": 2
}
