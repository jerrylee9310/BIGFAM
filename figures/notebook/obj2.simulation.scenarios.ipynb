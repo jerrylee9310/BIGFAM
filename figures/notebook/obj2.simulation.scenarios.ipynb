{
 "cells": [
  {
   "cell_type": "code",
   "execution_count": 47,
   "metadata": {
    "vscode": {
     "languageId": "r"
    }
   },
   "outputs": [
    {
     "name": "stderr",
     "output_type": "stream",
     "text": [
      "Scanning ttf files in /usr/share/fonts/ ...\n",
      "\n",
      "Extracting .afm files from .ttf files...\n",
      "\n",
      "/usr/share/fonts/dejavu/DejaVuSans-Bold.ttf\n",
      " => /home/jerrylee/miniconda3/envs/r_env/lib/R/library/extrafontdb/metrics/DejaVuSans-Bold\n",
      "\n",
      "/usr/share/fonts/dejavu/DejaVuSans-BoldOblique.ttf\n",
      " => /home/jerrylee/miniconda3/envs/r_env/lib/R/library/extrafontdb/metrics/DejaVuSans-BoldOblique\n",
      "\n",
      "/usr/share/fonts/dejavu/DejaVuSans-ExtraLight.ttf\n",
      " => /home/jerrylee/miniconda3/envs/r_env/lib/R/library/extrafontdb/metrics/DejaVuSans-ExtraLight\n",
      "\n",
      "/usr/share/fonts/dejavu/DejaVuSans-Oblique.ttf\n",
      " => /home/jerrylee/miniconda3/envs/r_env/lib/R/library/extrafontdb/metrics/DejaVuSans-Oblique\n",
      "\n",
      "/usr/share/fonts/dejavu/DejaVuSans.ttf\n",
      " => /home/jerrylee/miniconda3/envs/r_env/lib/R/library/extrafontdb/metrics/DejaVuSans\n",
      "\n",
      "/usr/share/fonts/dejavu/DejaVuSansCondensed-Bold.ttf\n",
      " => /home/jerrylee/miniconda3/envs/r_env/lib/R/library/extrafontdb/metrics/DejaVuSansCondensed-Bold\n",
      "\n",
      "/usr/share/fonts/dejavu/DejaVuSansCondensed-BoldOblique.ttf\n",
      " => /home/jerrylee/miniconda3/envs/r_env/lib/R/library/extrafontdb/metrics/DejaVuSansCondensed-BoldOblique\n",
      "\n",
      "/usr/share/fonts/dejavu/DejaVuSansCondensed-Oblique.ttf\n",
      " => /home/jerrylee/miniconda3/envs/r_env/lib/R/library/extrafontdb/metrics/DejaVuSansCondensed-Oblique\n",
      "\n",
      "/usr/share/fonts/dejavu/DejaVuSansCondensed.ttf\n",
      " => /home/jerrylee/miniconda3/envs/r_env/lib/R/library/extrafontdb/metrics/DejaVuSansCondensed\n",
      "\n",
      "/usr/share/fonts/liberation/LiberationMono-Bold.ttf\n",
      " => /home/jerrylee/miniconda3/envs/r_env/lib/R/library/extrafontdb/metrics/LiberationMono-Bold\n",
      "\n",
      "/usr/share/fonts/liberation/LiberationMono-BoldItalic.ttf\n",
      " => /home/jerrylee/miniconda3/envs/r_env/lib/R/library/extrafontdb/metrics/LiberationMono-BoldItalic\n",
      "\n",
      "/usr/share/fonts/liberation/LiberationMono-Italic.ttf\n",
      " => /home/jerrylee/miniconda3/envs/r_env/lib/R/library/extrafontdb/metrics/LiberationMono-Italic\n",
      "\n",
      "/usr/share/fonts/liberation/LiberationMono-Regular.ttf\n",
      " => /home/jerrylee/miniconda3/envs/r_env/lib/R/library/extrafontdb/metrics/LiberationMono-Regular\n",
      "\n",
      "/usr/share/fonts/lyx/cmex10.ttf\n",
      " => /home/jerrylee/miniconda3/envs/r_env/lib/R/library/extrafontdb/metrics/cmex10\n",
      "\n",
      "/usr/share/fonts/lyx/cmmi10.ttf\n",
      " => /home/jerrylee/miniconda3/envs/r_env/lib/R/library/extrafontdb/metrics/cmmi10\n",
      "\n",
      "/usr/share/fonts/lyx/cmr10.ttf\n",
      " => /home/jerrylee/miniconda3/envs/r_env/lib/R/library/extrafontdb/metrics/cmr10\n",
      "\n",
      "/usr/share/fonts/lyx/cmsy10.ttf\n",
      " => /home/jerrylee/miniconda3/envs/r_env/lib/R/library/extrafontdb/metrics/cmsy10\n",
      "\n",
      "/usr/share/fonts/lyx/esint10.ttf\n",
      " => /home/jerrylee/miniconda3/envs/r_env/lib/R/library/extrafontdb/metrics/esint10\n",
      "\n",
      "/usr/share/fonts/lyx/eufm10.ttf\n",
      " => /home/jerrylee/miniconda3/envs/r_env/lib/R/library/extrafontdb/metrics/eufm10\n",
      "\n",
      "/usr/share/fonts/lyx/msam10.ttf\n",
      " => /home/jerrylee/miniconda3/envs/r_env/lib/R/library/extrafontdb/metrics/msam10\n",
      "\n",
      "/usr/share/fonts/lyx/msbm10.ttf\n",
      " => /home/jerrylee/miniconda3/envs/r_env/lib/R/library/extrafontdb/metrics/msbm10\n",
      "\n",
      "/usr/share/fonts/lyx/rsfs10.ttf\n",
      " => /home/jerrylee/miniconda3/envs/r_env/lib/R/library/extrafontdb/metrics/rsfs10\n",
      "\n",
      "/usr/share/fonts/lyx/stmary10.ttf\n",
      " => /home/jerrylee/miniconda3/envs/r_env/lib/R/library/extrafontdb/metrics/stmary10\n",
      "\n",
      "/usr/share/fonts/lyx/wasy10.ttf\n",
      " => /home/jerrylee/miniconda3/envs/r_env/lib/R/library/extrafontdb/metrics/wasy10\n",
      "\n",
      "Found FontName for 24 fonts.\n",
      "\n",
      "Scanning afm files in /home/jerrylee/miniconda3/envs/r_env/lib/R/library/extrafontdb/metrics\n",
      "\n",
      "Writing font table in /home/jerrylee/miniconda3/envs/r_env/lib/R/library/extrafontdb/fontmap/fonttable.csv\n",
      "\n",
      "Writing Fontmap to /home/jerrylee/miniconda3/envs/r_env/lib/R/library/extrafontdb/fontmap/Fontmap...\n",
      "\n",
      "Registering font with R using pdfFont(): cmex10\n",
      "\n",
      "Registering font with R using pdfFont(): cmmi10\n",
      "\n",
      "Registering font with R using pdfFont(): cmr10\n",
      "\n",
      "Registering font with R using pdfFont(): cmsy10\n",
      "\n",
      "Registering font with R using pdfFont(): DejaVu Sans\n",
      "\n",
      "Registering font with R using pdfFont(): DejaVu Sans Condensed\n",
      "\n",
      "Registering font with R using pdfFont(): DejaVu Sans Light\n",
      "\n",
      "Registering font with R using pdfFont(): esint10\n",
      "\n",
      "Registering font with R using pdfFont(): eufm10\n",
      "\n",
      "Registering font with R using pdfFont(): Liberation Mono\n",
      "\n",
      "Registering font with R using pdfFont(): msam10\n",
      "\n",
      "Registering font with R using pdfFont(): msbm10\n",
      "\n",
      "Registering font with R using pdfFont(): rsfs10\n",
      "\n",
      "Registering font with R using pdfFont(): stmary10\n",
      "\n",
      "Registering font with R using pdfFont(): wasy10\n",
      "\n"
     ]
    }
   ],
   "source": [
    "library(ggplot2)\n",
    "library(data.table)\n",
    "library(dplyr)\n",
    "library(tidyr)\n",
    "library(purrr) \n",
    "library(patchwork)\n",
    "library(cowplot)\n",
    "library(ggbreak)\n",
    "library(scales)\n",
    "if (!require(extrafont)) install.packages(\"extrafont\")\n",
    "library(extrafont)\n",
    "\n",
    "# 3. 폰트 로드\n",
    "loadfonts()\n",
    "loadfonts(device = \"pdf\")  # pdf 출력을 위해"
   ]
  },
  {
   "cell_type": "markdown",
   "metadata": {},
   "source": [
    "# Step 1. Load data"
   ]
  },
  {
   "cell_type": "code",
   "execution_count": 2,
   "metadata": {
    "vscode": {
     "languageId": "r"
    }
   },
   "outputs": [
    {
     "data": {
      "text/html": [
       "<table class=\"dataframe\">\n",
       "<caption>A data.table: 6 × 6</caption>\n",
       "<thead>\n",
       "\t<tr><th scope=col>A_true</th><th scope=col>X_true</th><th scope=col>scenario</th><th scope=col>X</th><th scope=col>lower_X</th><th scope=col>upper_X</th></tr>\n",
       "\t<tr><th scope=col>&lt;dbl&gt;</th><th scope=col>&lt;dbl&gt;</th><th scope=col>&lt;chr&gt;</th><th scope=col>&lt;dbl&gt;</th><th scope=col>&lt;dbl&gt;</th><th scope=col>&lt;dbl&gt;</th></tr>\n",
       "</thead>\n",
       "<tbody>\n",
       "\t<tr><td>0.4</td><td>0.02</td><td>SC1</td><td>0.025776585</td><td> 0.012060856</td><td>0.03935364</td></tr>\n",
       "\t<tr><td>0.4</td><td>0.02</td><td>SC2</td><td>0.001936408</td><td>-0.010300307</td><td>0.01858264</td></tr>\n",
       "\t<tr><td>0.4</td><td>0.02</td><td>SC3</td><td>0.039074958</td><td> 0.021871130</td><td>0.05467987</td></tr>\n",
       "\t<tr><td>0.4</td><td>0.02</td><td>SC4</td><td>0.016162659</td><td> 0.003015871</td><td>0.03824083</td></tr>\n",
       "\t<tr><td>0.4</td><td>0.02</td><td>SC1</td><td>0.031588547</td><td> 0.013717674</td><td>0.04348933</td></tr>\n",
       "\t<tr><td>0.4</td><td>0.02</td><td>SC2</td><td>0.028418641</td><td> 0.013919892</td><td>0.04096459</td></tr>\n",
       "</tbody>\n",
       "</table>\n"
      ],
      "text/latex": [
       "A data.table: 6 × 6\n",
       "\\begin{tabular}{llllll}\n",
       " A\\_true & X\\_true & scenario & X & lower\\_X & upper\\_X\\\\\n",
       " <dbl> & <dbl> & <chr> & <dbl> & <dbl> & <dbl>\\\\\n",
       "\\hline\n",
       "\t 0.4 & 0.02 & SC1 & 0.025776585 &  0.012060856 & 0.03935364\\\\\n",
       "\t 0.4 & 0.02 & SC2 & 0.001936408 & -0.010300307 & 0.01858264\\\\\n",
       "\t 0.4 & 0.02 & SC3 & 0.039074958 &  0.021871130 & 0.05467987\\\\\n",
       "\t 0.4 & 0.02 & SC4 & 0.016162659 &  0.003015871 & 0.03824083\\\\\n",
       "\t 0.4 & 0.02 & SC1 & 0.031588547 &  0.013717674 & 0.04348933\\\\\n",
       "\t 0.4 & 0.02 & SC2 & 0.028418641 &  0.013919892 & 0.04096459\\\\\n",
       "\\end{tabular}\n"
      ],
      "text/markdown": [
       "\n",
       "A data.table: 6 × 6\n",
       "\n",
       "| A_true &lt;dbl&gt; | X_true &lt;dbl&gt; | scenario &lt;chr&gt; | X &lt;dbl&gt; | lower_X &lt;dbl&gt; | upper_X &lt;dbl&gt; |\n",
       "|---|---|---|---|---|---|\n",
       "| 0.4 | 0.02 | SC1 | 0.025776585 |  0.012060856 | 0.03935364 |\n",
       "| 0.4 | 0.02 | SC2 | 0.001936408 | -0.010300307 | 0.01858264 |\n",
       "| 0.4 | 0.02 | SC3 | 0.039074958 |  0.021871130 | 0.05467987 |\n",
       "| 0.4 | 0.02 | SC4 | 0.016162659 |  0.003015871 | 0.03824083 |\n",
       "| 0.4 | 0.02 | SC1 | 0.031588547 |  0.013717674 | 0.04348933 |\n",
       "| 0.4 | 0.02 | SC2 | 0.028418641 |  0.013919892 | 0.04096459 |\n",
       "\n"
      ],
      "text/plain": [
       "  A_true X_true scenario X           lower_X      upper_X   \n",
       "1 0.4    0.02   SC1      0.025776585  0.012060856 0.03935364\n",
       "2 0.4    0.02   SC2      0.001936408 -0.010300307 0.01858264\n",
       "3 0.4    0.02   SC3      0.039074958  0.021871130 0.05467987\n",
       "4 0.4    0.02   SC4      0.016162659  0.003015871 0.03824083\n",
       "5 0.4    0.02   SC1      0.031588547  0.013717674 0.04348933\n",
       "6 0.4    0.02   SC2      0.028418641  0.013919892 0.04096459"
      ]
     },
     "metadata": {},
     "output_type": "display_data"
    }
   ],
   "source": [
    "df_prediction <- fread(\n",
    "    \"/data/jerrylee/pjt/BIGFAM.v.2.0/data/simulation/obj2/simulation.scenarios.tsv\",\n",
    "    sep = \"\\t\"\n",
    ")\n",
    "\n",
    "head(df_prediction)"
   ]
  },
  {
   "cell_type": "code",
   "execution_count": 3,
   "metadata": {
    "vscode": {
     "languageId": "r"
    }
   },
   "outputs": [
    {
     "data": {
      "text/html": [
       "<table class=\"dataframe\">\n",
       "<caption>A tibble: 4 × 4</caption>\n",
       "<thead>\n",
       "\t<tr><th scope=col>scenario</th><th scope=col>X</th><th scope=col>lower_X</th><th scope=col>upper_X</th></tr>\n",
       "\t<tr><th scope=col>&lt;chr&gt;</th><th scope=col>&lt;dbl&gt;</th><th scope=col>&lt;dbl&gt;</th><th scope=col>&lt;dbl&gt;</th></tr>\n",
       "</thead>\n",
       "<tbody>\n",
       "\t<tr><td>SC1</td><td>0.01951010</td><td>0.0025464394</td><td>0.03623676</td></tr>\n",
       "\t<tr><td>SC2</td><td>0.01734360</td><td>0.0006590988</td><td>0.03205073</td></tr>\n",
       "\t<tr><td>SC3</td><td>0.02974023</td><td>0.0131746001</td><td>0.04497745</td></tr>\n",
       "\t<tr><td>SC4</td><td>0.01805187</td><td>0.0018136436</td><td>0.03506002</td></tr>\n",
       "</tbody>\n",
       "</table>\n"
      ],
      "text/latex": [
       "A tibble: 4 × 4\n",
       "\\begin{tabular}{llll}\n",
       " scenario & X & lower\\_X & upper\\_X\\\\\n",
       " <chr> & <dbl> & <dbl> & <dbl>\\\\\n",
       "\\hline\n",
       "\t SC1 & 0.01951010 & 0.0025464394 & 0.03623676\\\\\n",
       "\t SC2 & 0.01734360 & 0.0006590988 & 0.03205073\\\\\n",
       "\t SC3 & 0.02974023 & 0.0131746001 & 0.04497745\\\\\n",
       "\t SC4 & 0.01805187 & 0.0018136436 & 0.03506002\\\\\n",
       "\\end{tabular}\n"
      ],
      "text/markdown": [
       "\n",
       "A tibble: 4 × 4\n",
       "\n",
       "| scenario &lt;chr&gt; | X &lt;dbl&gt; | lower_X &lt;dbl&gt; | upper_X &lt;dbl&gt; |\n",
       "|---|---|---|---|\n",
       "| SC1 | 0.01951010 | 0.0025464394 | 0.03623676 |\n",
       "| SC2 | 0.01734360 | 0.0006590988 | 0.03205073 |\n",
       "| SC3 | 0.02974023 | 0.0131746001 | 0.04497745 |\n",
       "| SC4 | 0.01805187 | 0.0018136436 | 0.03506002 |\n",
       "\n"
      ],
      "text/plain": [
       "  scenario X          lower_X      upper_X   \n",
       "1 SC1      0.01951010 0.0025464394 0.03623676\n",
       "2 SC2      0.01734360 0.0006590988 0.03205073\n",
       "3 SC3      0.02974023 0.0131746001 0.04497745\n",
       "4 SC4      0.01805187 0.0018136436 0.03506002"
      ]
     },
     "metadata": {},
     "output_type": "display_data"
    }
   ],
   "source": [
    "df_prediction %>% \n",
    "    group_by(scenario) %>% \n",
    "    summarise(\n",
    "        X = median(X),\n",
    "        lower_X = median(lower_X),\n",
    "        upper_X = median(upper_X)\n",
    "    )\n"
   ]
  },
  {
   "cell_type": "markdown",
   "metadata": {},
   "source": [
    "# plot theme"
   ]
  },
  {
   "cell_type": "code",
   "execution_count": 48,
   "metadata": {
    "vscode": {
     "languageId": "r"
    }
   },
   "outputs": [],
   "source": [
    "# 공통 테마 함수 정의\n",
    "get_nature_theme <- function() {\n",
    "    theme_bw() +\n",
    "    theme(\n",
    "        # 전체적인 배경\n",
    "        panel.background = element_rect(fill = NA, color = NA),\n",
    "        panel.grid.major = element_blank(),\n",
    "        panel.grid.minor = element_blank(),\n",
    "        panel.border = element_blank(),  \n",
    "        \n",
    "        # 축 설정\n",
    "        axis.line.x.top = element_blank(),\n",
    "        axis.line.y.right = element_blank(),\n",
    "        axis.line.x.bottom = element_line(color = \"black\", size = 0.3),  \n",
    "        axis.line.y.left = element_line(color = \"black\", size = 0.3),    \n",
    "        axis.text = element_text(size = 6.5, color = \"black\"),\n",
    "        axis.title = element_text(size = 7.5, color = \"black\"),\n",
    "        axis.ticks = element_line(size = 0.3),\n",
    "        axis.ticks.length = unit(0.8, \"mm\"),\n",
    "        \n",
    "        # 범례 설정\n",
    "        legend.margin = margin(1, 1, 1, 1, unit = \"mm\"),\n",
    "        # legend.spacing.y = unit(0.1, \"cm\"),\n",
    "        \n",
    "        # 여백 설정\n",
    "        # plot.margin = unit(c(0.1, 0.2, 0.1, 0.1), \"cm\")\n",
    "        plot.margin = margin(0, 0, 0, 0)\n",
    "    ) + \n",
    "    # Arial\n",
    "    theme(\n",
    "        # 기본 텍스트 설정\n",
    "        text = element_text(family = \"Arial\"),\n",
    "        \n",
    "        # 축 제목\n",
    "        axis.title = element_text(family = \"Arial\", size = 10),\n",
    "        \n",
    "        # 축 텍스트\n",
    "        axis.text = element_text(family = \"Arial\", size = 8),\n",
    "        \n",
    "        # 범례\n",
    "        legend.text = element_text(family = \"Arial\", size = 8),\n",
    "        legend.title = element_text(family = \"Arial\", size = 10),\n",
    "        \n",
    "        # 플롯 제목\n",
    "        plot.title = element_text(family = \"Arial\", size = 10, face = \"bold\"),\n",
    "        \n",
    "        # 축 설정\n",
    "        axis.line = element_line(colour = \"black\", size = 0.5),\n",
    "        axis.ticks = element_line(colour = \"black\", size = 0.5),\n",
    "        \n",
    "        # 패널 설정\n",
    "        panel.grid = element_blank(),\n",
    "        panel.border = element_blank(),\n",
    "        panel.background = element_blank(),\n",
    "        \n",
    "        # 여백 설정\n",
    "        plot.margin = unit(c(5.5, 5.5, 5.5, 5.5), \"points\")\n",
    "    )\n",
    "}"
   ]
  },
  {
   "cell_type": "markdown",
   "metadata": {},
   "source": [
    "# Step 2. Plot"
   ]
  },
  {
   "cell_type": "code",
   "execution_count": 49,
   "metadata": {
    "vscode": {
     "languageId": "r"
    }
   },
   "outputs": [
    {
     "data": {
      "image/png": "[encoded data removed]",
      "text/plain": [
       "plot without title"
      ]
     },
     "metadata": {
      "image/png": {
       "height": 420,
       "width": 420
      }
     },
     "output_type": "display_data"
    }
   ],
   "source": [
    "# 데이터 전처리 및 플로팅\n",
    "plot_scenario_means <- function(data) {\n",
    "    # 시나리오별 평균값 계산\n",
    "    scenario_means <- data %>%\n",
    "        group_by(scenario) %>%\n",
    "        summarise(\n",
    "            mean_X = median(X),\n",
    "            mean_lower = median(lower_X),\n",
    "            mean_upper = median(upper_X),\n",
    "            .groups = 'drop'\n",
    "        )\n",
    "    \n",
    "    # 시나리오별 색상 정의\n",
    "    scenario_colors <- c(\n",
    "        \"SC1\" = \"#87CEEB\",  \n",
    "        \"SC2\" = \"#F8A7A7\",  # 빨간색\n",
    "        \"SC3\" = \"#66CDAA\",  # 초록색\n",
    "        \"SC4\" = \"#8B9DC3\"   # 남색\n",
    "    )\n",
    "\n",
    "    # 시나리오 이름 매핑 추가\n",
    "    scenario_names <- c(\n",
    "        \"SC1\" = \"Scenario.1\",\n",
    "        \"SC2\" = \"Scenario.2\",\n",
    "        \"SC3\" = \"Scenario.3\",\n",
    "        \"SC4\" = \"Scenario.4\"\n",
    "    )\n",
    "    \n",
    "    \n",
    "    ggplot(scenario_means, aes(x = scenario, y = mean_X, color = scenario)) +\n",
    "        # 실제 X_true 값을 수평선으로 표시\n",
    "        geom_hline(\n",
    "            yintercept = unique(data$X_true),\n",
    "            linetype = \"dashed\",\n",
    "            color = \"gray40\"\n",
    "        ) +\n",
    "        # 평균값을 점으로 표시\n",
    "        geom_point(size = 2) +\n",
    "        # CI를 에러바로 표시\n",
    "        geom_errorbar(\n",
    "            aes(ymin = mean_lower, ymax = mean_upper),\n",
    "            width = 0.2\n",
    "        ) +\n",
    "        # 스타일링\n",
    "        scale_color_manual(values = scenario_colors) +\n",
    "        labs(\n",
    "            x = \"\",  # X축 레이블을 비워둠으로써 없애버림\n",
    "            y = \"Variance (chr.X)\"\n",
    "        ) +\n",
    "        get_nature_theme() +\n",
    "        scale_x_discrete(labels = scenario_names) +  # x축 레이블 변경\n",
    "        theme(\n",
    "            legend.position = \"none\",\n",
    "            plot.title = element_text(size = 10, face = \"bold\"),\n",
    "            axis.text.x = element_text(\n",
    "                family = \"Arial\",\n",
    "                size = 8,\n",
    "                angle = 45,           # 45도 회전\n",
    "                hjust = 1             # 텍스트 정렬 조정\n",
    "            ),\n",
    "            axis.text.y = element_text(size = 8),\n",
    "            axis.title.x = element_blank(),\n",
    "            axis.title.y = element_text(size = 9)\n",
    "        )\n",
    "}\n",
    "\n",
    "p <- plot_scenario_means(df_prediction)\n",
    "p"
   ]
  },
  {
   "cell_type": "code",
   "execution_count": 50,
   "metadata": {
    "vscode": {
     "languageId": "r"
    }
   },
   "outputs": [],
   "source": [
    "\n",
    "output_path <- paste0(\n",
    "    \"/data/jerrylee/pjt/BIGFAM.v.2.0/figures/simulation.X-scenario.pdf\"\n",
    ")\n",
    "\n",
    "ggsave(\n",
    "    filename = output_path,\n",
    "    plot = p,\n",
    "    width = 50,\n",
    "    height = 46,\n",
    "    units = \"mm\",\n",
    "    dpi = 300,\n",
    "    device = cairo_pdf\n",
    ")\n"
   ]
  },
  {
   "cell_type": "code",
   "execution_count": null,
   "metadata": {
    "vscode": {
     "languageId": "r"
    }
   },
   "outputs": [],
   "source": []
  }
 ],
 "metadata": {
  "kernelspec": {
   "display_name": "R",
   "language": "R",
   "name": "ir"
  },
  "language_info": {
   "codemirror_mode": "r",
   "file_extension": ".r",
   "mimetype": "text/x-r-source",
   "name": "R",
   "pygments_lexer": "r",
   "version": "4.3.1"
  }
 },
 "nbformat": 4,
 "nbformat_minor": 2
}
