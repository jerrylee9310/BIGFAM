{
 "cells": [
  {
   "cell_type": "code",
   "execution_count": 2,
   "metadata": {
    "vscode": {
     "languageId": "r"
    }
   },
   "outputs": [
    {
     "name": "stderr",
     "output_type": "stream",
     "text": [
      "\n",
      "다음의 패키지를 부착합니다: ‘dplyr’\n",
      "\n",
      "\n",
      "The following objects are masked from ‘package:stats’:\n",
      "\n",
      "    filter, lag\n",
      "\n",
      "\n",
      "The following objects are masked from ‘package:base’:\n",
      "\n",
      "    intersect, setdiff, setequal, union\n",
      "\n",
      "\n",
      "\n",
      "다음의 패키지를 부착합니다: ‘scales’\n",
      "\n",
      "\n",
      "The following object is masked from ‘package:purrr’:\n",
      "\n",
      "    discard\n",
      "\n",
      "\n",
      "필요한 패키지를 로딩중입니다: extrafont\n",
      "\n",
      "Registering fonts with R\n",
      "\n",
      "cmex10 already registered with pdfFont().\n",
      "\n",
      "cmmi10 already registered with pdfFont().\n",
      "\n",
      "cmr10 already registered with pdfFont().\n",
      "\n",
      "cmsy10 already registered with pdfFont().\n",
      "\n",
      "DejaVu Sans already registered with pdfFont().\n",
      "\n",
      "DejaVu Sans Condensed already registered with pdfFont().\n",
      "\n",
      "DejaVu Sans Light already registered with pdfFont().\n",
      "\n",
      "esint10 already registered with pdfFont().\n",
      "\n",
      "eufm10 already registered with pdfFont().\n",
      "\n",
      "Liberation Mono already registered with pdfFont().\n",
      "\n",
      "msam10 already registered with pdfFont().\n",
      "\n",
      "msbm10 already registered with pdfFont().\n",
      "\n",
      "rsfs10 already registered with pdfFont().\n",
      "\n",
      "stmary10 already registered with pdfFont().\n",
      "\n",
      "wasy10 already registered with pdfFont().\n",
      "\n",
      "cmex10 already registered with postscriptFont().\n",
      "\n",
      "cmmi10 already registered with postscriptFont().\n",
      "\n",
      "cmr10 already registered with postscriptFont().\n",
      "\n",
      "cmsy10 already registered with postscriptFont().\n",
      "\n",
      "DejaVu Sans already registered with postscriptFont().\n",
      "\n",
      "DejaVu Sans Condensed already registered with postscriptFont().\n",
      "\n",
      "DejaVu Sans Light already registered with postscriptFont().\n",
      "\n",
      "esint10 already registered with postscriptFont().\n",
      "\n",
      "eufm10 already registered with postscriptFont().\n",
      "\n",
      "Liberation Mono already registered with postscriptFont().\n",
      "\n",
      "msam10 already registered with postscriptFont().\n",
      "\n",
      "msbm10 already registered with postscriptFont().\n",
      "\n",
      "rsfs10 already registered with postscriptFont().\n",
      "\n",
      "stmary10 already registered with postscriptFont().\n",
      "\n",
      "wasy10 already registered with postscriptFont().\n",
      "\n"
     ]
    }
   ],
   "source": [
    "library(ggplot2)\n",
    "library(dplyr)\n",
    "library(tidyr)\n",
    "library(purrr) \n",
    "library(scales)\n",
    "if (!require(extrafont)) install.packages(\"extrafont\")\n",
    "library(extrafont)\n",
    "\n",
    "# 2. 시스템 폰트 가져오기 (처음 한 번만 실행하면 됨)\n",
    "# font_import()  # 이 작업은 시간이 좀 걸립니다\n",
    "\n",
    "# 3. 폰트 로드\n",
    "loadfonts()\n"
   ]
  },
  {
   "cell_type": "code",
   "execution_count": 3,
   "metadata": {
    "vscode": {
     "languageId": "r"
    }
   },
   "outputs": [],
   "source": [
    "# 공통 테마 함수 정의\n",
    "get_nature_theme <- function() {\n",
    "    theme_bw() +\n",
    "        theme(\n",
    "            # 전체적인 배경\n",
    "            panel.background = element_rect(fill = NA, color = NA),\n",
    "            panel.grid.major = element_blank(),\n",
    "            panel.grid.minor = element_blank(),\n",
    "            panel.border = element_rect(color = \"black\", fill = NA, size = 0.6),  # size로 선 굵기 조절\n",
    "            \n",
    "            # panel.border = element_blank(),  \n",
    "            \n",
    "            # 축 설정\n",
    "            # axis.line.x.top = element_line(color = \"black\", size = 0.3),  \n",
    "            # axis.line.y.right = element_line(color = \"black\", size = 0.3),  \n",
    "            # axis.line.x.bottom = element_line(color = \"black\", size = 0.3),  \n",
    "            # axis.line.y.left = element_line(color = \"black\", size = 0.3),    \n",
    "            axis.text = element_text(size = 6.5, color = \"black\"),\n",
    "            axis.title = element_text(size = 7.5, color = \"black\"),\n",
    "            axis.ticks = element_line(size = 0.3),\n",
    "            axis.ticks.length = unit(0.8, \"mm\"),\n",
    "            \n",
    "            # 메인 figure에 박스 추가\n",
    "            # plot.background = element_rect(color = \"black\", fill = NA),\n",
    "            \n",
    "            # legend 박스 제거\n",
    "            legend.box.background = element_blank(),  # 이전: element_rect(color = \"black\")\n",
    "            \n",
    "            # 범례 설정\n",
    "            legend.margin = margin(1, 1, 1, 1, unit = \"mm\"),\n",
    "            # legend.spacing.y = unit(0.1, \"cm\"),\n",
    "            \n",
    "            # 여백 설정\n",
    "            # plot.margin = unit(c(0.1, 0.2, 0.1, 0.1), \"cm\")\n",
    "            plot.margin = margin(1, 1, 1, 1, unit = \"mm\")\n",
    "        )\n",
    "}"
   ]
  },
  {
   "cell_type": "code",
   "execution_count": 4,
   "metadata": {
    "vscode": {
     "languageId": "r"
    }
   },
   "outputs": [],
   "source": [
    "source <- \"UKB\""
   ]
  },
  {
   "cell_type": "markdown",
   "metadata": {},
   "source": [
    "# Step 1. Load relationship information data"
   ]
  },
  {
   "cell_type": "code",
   "execution_count": 5,
   "metadata": {
    "vscode": {
     "languageId": "r"
    }
   },
   "outputs": [
    {
     "data": {
      "text/html": [
       "<table class=\"dataframe\">\n",
       "<caption>A data.frame: 6 × 10</caption>\n",
       "<thead>\n",
       "\t<tr><th></th><th scope=col>DOR</th><th scope=col>rcode</th><th scope=col>relationship</th><th scope=col>volid</th><th scope=col>relid</th><th scope=col>volage</th><th scope=col>relage</th><th scope=col>volsex</th><th scope=col>relsex</th><th scope=col>Erx</th></tr>\n",
       "\t<tr><th></th><th scope=col>&lt;int&gt;</th><th scope=col>&lt;chr&gt;</th><th scope=col>&lt;chr&gt;</th><th scope=col>&lt;int&gt;</th><th scope=col>&lt;int&gt;</th><th scope=col>&lt;int&gt;</th><th scope=col>&lt;int&gt;</th><th scope=col>&lt;chr&gt;</th><th scope=col>&lt;chr&gt;</th><th scope=col>&lt;dbl&gt;</th></tr>\n",
       "</thead>\n",
       "<tbody>\n",
       "\t<tr><th scope=row>1</th><td>1</td><td>SB</td><td>daughter-sister</td><td>1000094</td><td>3653174</td><td>65</td><td>64</td><td>F</td><td>F</td><td>0.75</td></tr>\n",
       "\t<tr><th scope=row>2</th><td>1</td><td>  </td><td>               </td><td>1000220</td><td>1691267</td><td>64</td><td>64</td><td>F</td><td>F</td><td>  NA</td></tr>\n",
       "\t<tr><th scope=row>3</th><td>1</td><td>  </td><td>               </td><td>1000286</td><td>1571411</td><td>53</td><td>70</td><td>F</td><td>F</td><td>  NA</td></tr>\n",
       "\t<tr><th scope=row>4</th><td>1</td><td>  </td><td>               </td><td>1000295</td><td>1045127</td><td>60</td><td>41</td><td>F</td><td>F</td><td>  NA</td></tr>\n",
       "\t<tr><th scope=row>5</th><td>1</td><td>  </td><td>               </td><td>1000476</td><td>3599303</td><td>50</td><td>51</td><td>F</td><td>M</td><td>  NA</td></tr>\n",
       "\t<tr><th scope=row>6</th><td>1</td><td>  </td><td>               </td><td>1000615</td><td>4315497</td><td>60</td><td>58</td><td>F</td><td>M</td><td>  NA</td></tr>\n",
       "</tbody>\n",
       "</table>\n"
      ],
      "text/latex": [
       "A data.frame: 6 × 10\n",
       "\\begin{tabular}{r|llllllllll}\n",
       "  & DOR & rcode & relationship & volid & relid & volage & relage & volsex & relsex & Erx\\\\\n",
       "  & <int> & <chr> & <chr> & <int> & <int> & <int> & <int> & <chr> & <chr> & <dbl>\\\\\n",
       "\\hline\n",
       "\t1 & 1 & SB & daughter-sister & 1000094 & 3653174 & 65 & 64 & F & F & 0.75\\\\\n",
       "\t2 & 1 &    &                 & 1000220 & 1691267 & 64 & 64 & F & F &   NA\\\\\n",
       "\t3 & 1 &    &                 & 1000286 & 1571411 & 53 & 70 & F & F &   NA\\\\\n",
       "\t4 & 1 &    &                 & 1000295 & 1045127 & 60 & 41 & F & F &   NA\\\\\n",
       "\t5 & 1 &    &                 & 1000476 & 3599303 & 50 & 51 & F & M &   NA\\\\\n",
       "\t6 & 1 &    &                 & 1000615 & 4315497 & 60 & 58 & F & M &   NA\\\\\n",
       "\\end{tabular}\n"
      ],
      "text/markdown": [
       "\n",
       "A data.frame: 6 × 10\n",
       "\n",
       "| <!--/--> | DOR &lt;int&gt; | rcode &lt;chr&gt; | relationship &lt;chr&gt; | volid &lt;int&gt; | relid &lt;int&gt; | volage &lt;int&gt; | relage &lt;int&gt; | volsex &lt;chr&gt; | relsex &lt;chr&gt; | Erx &lt;dbl&gt; |\n",
       "|---|---|---|---|---|---|---|---|---|---|---|\n",
       "| 1 | 1 | SB | daughter-sister | 1000094 | 3653174 | 65 | 64 | F | F | 0.75 |\n",
       "| 2 | 1 | <!----> | <!----> | 1000220 | 1691267 | 64 | 64 | F | F |   NA |\n",
       "| 3 | 1 | <!----> | <!----> | 1000286 | 1571411 | 53 | 70 | F | F |   NA |\n",
       "| 4 | 1 | <!----> | <!----> | 1000295 | 1045127 | 60 | 41 | F | F |   NA |\n",
       "| 5 | 1 | <!----> | <!----> | 1000476 | 3599303 | 50 | 51 | F | M |   NA |\n",
       "| 6 | 1 | <!----> | <!----> | 1000615 | 4315497 | 60 | 58 | F | M |   NA |\n",
       "\n"
      ],
      "text/plain": [
       "  DOR rcode relationship    volid   relid   volage relage volsex relsex Erx \n",
       "1 1   SB    daughter-sister 1000094 3653174 65     64     F      F      0.75\n",
       "2 1                         1000220 1691267 64     64     F      F        NA\n",
       "3 1                         1000286 1571411 53     70     F      F        NA\n",
       "4 1                         1000295 1045127 60     41     F      F        NA\n",
       "5 1                         1000476 3599303 50     51     F      M        NA\n",
       "6 1                         1000615 4315497 60     58     F      M        NA"
      ]
     },
     "metadata": {},
     "output_type": "display_data"
    }
   ],
   "source": [
    "# 방법 1: paste0() 사용\n",
    "df_rel_info <- read.csv(\n",
    "    paste0(\"/data/jerrylee/pjt/BIGFAM.v.2.0/data/\", source, \"/relationship_information/relatives.formatted.info\"),\n",
    "    sep=\"\\t\"\n",
    ")\n",
    "\n",
    "head(df_rel_info)"
   ]
  },
  {
   "cell_type": "code",
   "execution_count": 6,
   "metadata": {
    "vscode": {
     "languageId": "r"
    }
   },
   "outputs": [
    {
     "data": {
      "text/html": [
       "<style>\n",
       ".list-inline {list-style: none; margin:0; padding: 0}\n",
       ".list-inline>li {display: inline-block}\n",
       ".list-inline>li:not(:last-child)::after {content: \"\\00b7\"; padding: 0 .5ex}\n",
       "</style>\n",
       "<ol class=list-inline><li>81326</li><li>10</li></ol>\n"
      ],
      "text/latex": [
       "\\begin{enumerate*}\n",
       "\\item 81326\n",
       "\\item 10\n",
       "\\end{enumerate*}\n"
      ],
      "text/markdown": [
       "1. 81326\n",
       "2. 10\n",
       "\n",
       "\n"
      ],
      "text/plain": [
       "[1] 81326    10"
      ]
     },
     "metadata": {},
     "output_type": "display_data"
    }
   ],
   "source": [
    "dim(df_rel_info)"
   ]
  },
  {
   "cell_type": "code",
   "execution_count": 7,
   "metadata": {
    "vscode": {
     "languageId": "r"
    }
   },
   "outputs": [
    {
     "data": {
      "text/html": [
       "<table class=\"dataframe\">\n",
       "<caption>A data.frame: 1 × 10</caption>\n",
       "<thead>\n",
       "\t<tr><th scope=col>DOR</th><th scope=col>rcode</th><th scope=col>relationship</th><th scope=col>volid</th><th scope=col>relid</th><th scope=col>volage</th><th scope=col>relage</th><th scope=col>volsex</th><th scope=col>relsex</th><th scope=col>Erx</th></tr>\n",
       "\t<tr><th scope=col>&lt;int&gt;</th><th scope=col>&lt;chr&gt;</th><th scope=col>&lt;chr&gt;</th><th scope=col>&lt;int&gt;</th><th scope=col>&lt;int&gt;</th><th scope=col>&lt;int&gt;</th><th scope=col>&lt;int&gt;</th><th scope=col>&lt;chr&gt;</th><th scope=col>&lt;chr&gt;</th><th scope=col>&lt;dbl&gt;</th></tr>\n",
       "</thead>\n",
       "<tbody>\n",
       "\t<tr><td>1</td><td>SB</td><td>daughter-sister</td><td>1000094</td><td>3653174</td><td>65</td><td>64</td><td>F</td><td>F</td><td>0.75</td></tr>\n",
       "</tbody>\n",
       "</table>\n"
      ],
      "text/latex": [
       "A data.frame: 1 × 10\n",
       "\\begin{tabular}{llllllllll}\n",
       " DOR & rcode & relationship & volid & relid & volage & relage & volsex & relsex & Erx\\\\\n",
       " <int> & <chr> & <chr> & <int> & <int> & <int> & <int> & <chr> & <chr> & <dbl>\\\\\n",
       "\\hline\n",
       "\t 1 & SB & daughter-sister & 1000094 & 3653174 & 65 & 64 & F & F & 0.75\\\\\n",
       "\\end{tabular}\n"
      ],
      "text/markdown": [
       "\n",
       "A data.frame: 1 × 10\n",
       "\n",
       "| DOR &lt;int&gt; | rcode &lt;chr&gt; | relationship &lt;chr&gt; | volid &lt;int&gt; | relid &lt;int&gt; | volage &lt;int&gt; | relage &lt;int&gt; | volsex &lt;chr&gt; | relsex &lt;chr&gt; | Erx &lt;dbl&gt; |\n",
       "|---|---|---|---|---|---|---|---|---|---|\n",
       "| 1 | SB | daughter-sister | 1000094 | 3653174 | 65 | 64 | F | F | 0.75 |\n",
       "\n"
      ],
      "text/plain": [
       "  DOR rcode relationship    volid   relid   volage relage volsex relsex Erx \n",
       "1 1   SB    daughter-sister 1000094 3653174 65     64     F      F      0.75"
      ]
     },
     "metadata": {},
     "output_type": "display_data"
    }
   ],
   "source": [
    "# df_rel_info <- df_rel_info %>% filter((volid == 1000094) | (relid == 54887))\n",
    "df_rel_info <- df_rel_info %>% filter((volid == 1000094) | (relid == 1000094))\n",
    "df_rel_info"
   ]
  },
  {
   "cell_type": "markdown",
   "metadata": {},
   "source": [
    "# Load kinship in UKB"
   ]
  },
  {
   "cell_type": "code",
   "execution_count": 8,
   "metadata": {
    "vscode": {
     "languageId": "r"
    }
   },
   "outputs": [
    {
     "data": {
      "text/html": [
       "<table class=\"dataframe\">\n",
       "<caption>A data.frame: 6 × 5</caption>\n",
       "<thead>\n",
       "\t<tr><th></th><th scope=col>ID1</th><th scope=col>ID2</th><th scope=col>HetHet</th><th scope=col>IBS0</th><th scope=col>Kinship</th></tr>\n",
       "\t<tr><th></th><th scope=col>&lt;int&gt;</th><th scope=col>&lt;int&gt;</th><th scope=col>&lt;dbl&gt;</th><th scope=col>&lt;dbl&gt;</th><th scope=col>&lt;dbl&gt;</th></tr>\n",
       "</thead>\n",
       "<tbody>\n",
       "\t<tr><th scope=row>1</th><td>1000094</td><td>3653174</td><td>0.077</td><td>0.0052</td><td>0.4942</td></tr>\n",
       "\t<tr><th scope=row>2</th><td>1000174</td><td>3765836</td><td>0.052</td><td>0.0092</td><td>0.2504</td></tr>\n",
       "\t<tr><th scope=row>3</th><td>1000174</td><td>4593489</td><td>0.054</td><td>0.0079</td><td>0.2868</td></tr>\n",
       "\t<tr><th scope=row>4</th><td>1000220</td><td>1691267</td><td>0.082</td><td>0.0037</td><td>0.5520</td></tr>\n",
       "\t<tr><th scope=row>5</th><td>1000220</td><td>5516453</td><td>0.050</td><td>0.0123</td><td>0.1798</td></tr>\n",
       "\t<tr><th scope=row>6</th><td>1000243</td><td>2489078</td><td>0.044</td><td>0.0150</td><td>0.1070</td></tr>\n",
       "</tbody>\n",
       "</table>\n"
      ],
      "text/latex": [
       "A data.frame: 6 × 5\n",
       "\\begin{tabular}{r|lllll}\n",
       "  & ID1 & ID2 & HetHet & IBS0 & Kinship\\\\\n",
       "  & <int> & <int> & <dbl> & <dbl> & <dbl>\\\\\n",
       "\\hline\n",
       "\t1 & 1000094 & 3653174 & 0.077 & 0.0052 & 0.4942\\\\\n",
       "\t2 & 1000174 & 3765836 & 0.052 & 0.0092 & 0.2504\\\\\n",
       "\t3 & 1000174 & 4593489 & 0.054 & 0.0079 & 0.2868\\\\\n",
       "\t4 & 1000220 & 1691267 & 0.082 & 0.0037 & 0.5520\\\\\n",
       "\t5 & 1000220 & 5516453 & 0.050 & 0.0123 & 0.1798\\\\\n",
       "\t6 & 1000243 & 2489078 & 0.044 & 0.0150 & 0.1070\\\\\n",
       "\\end{tabular}\n"
      ],
      "text/markdown": [
       "\n",
       "A data.frame: 6 × 5\n",
       "\n",
       "| <!--/--> | ID1 &lt;int&gt; | ID2 &lt;int&gt; | HetHet &lt;dbl&gt; | IBS0 &lt;dbl&gt; | Kinship &lt;dbl&gt; |\n",
       "|---|---|---|---|---|---|\n",
       "| 1 | 1000094 | 3653174 | 0.077 | 0.0052 | 0.4942 |\n",
       "| 2 | 1000174 | 3765836 | 0.052 | 0.0092 | 0.2504 |\n",
       "| 3 | 1000174 | 4593489 | 0.054 | 0.0079 | 0.2868 |\n",
       "| 4 | 1000220 | 1691267 | 0.082 | 0.0037 | 0.5520 |\n",
       "| 5 | 1000220 | 5516453 | 0.050 | 0.0123 | 0.1798 |\n",
       "| 6 | 1000243 | 2489078 | 0.044 | 0.0150 | 0.1070 |\n",
       "\n"
      ],
      "text/plain": [
       "  ID1     ID2     HetHet IBS0   Kinship\n",
       "1 1000094 3653174 0.077  0.0052 0.4942 \n",
       "2 1000174 3765836 0.052  0.0092 0.2504 \n",
       "3 1000174 4593489 0.054  0.0079 0.2868 \n",
       "4 1000220 1691267 0.082  0.0037 0.5520 \n",
       "5 1000220 5516453 0.050  0.0123 0.1798 \n",
       "6 1000243 2489078 0.044  0.0150 0.1070 "
      ]
     },
     "metadata": {},
     "output_type": "display_data"
    }
   ],
   "source": [
    "# 방법 1: paste0() 사용\n",
    "df_kinship <- read.csv(\n",
    "    \"/data01/UKB202005/data/genotype/ukbgene_rel/ukb59688_rel_s488249.dat\",\n",
    "    sep=\" \"\n",
    ")\n",
    "\n",
    "df_kinship$Kinship <- 2 * df_kinship$Kinship\n",
    "\n",
    "head(df_kinship)"
   ]
  },
  {
   "cell_type": "code",
   "execution_count": 9,
   "metadata": {
    "vscode": {
     "languageId": "r"
    }
   },
   "outputs": [],
   "source": [
    "df_kinship_filtered <- df_kinship %>% filter(Kinship > 0)"
   ]
  },
  {
   "cell_type": "code",
   "execution_count": 15,
   "metadata": {
    "vscode": {
     "languageId": "r"
    }
   },
   "outputs": [
    {
     "data": {
      "image/png": "[encoded data removed]",
      "text/plain": [
       "plot without title"
      ]
     },
     "metadata": {
      "image/png": {
       "height": 420,
       "width": 420
      }
     },
     "output_type": "display_data"
    }
   ],
   "source": [
    "p <- ggplot(\n",
    "    df_kinship_filtered, aes(x = Kinship)) +\n",
    "    scale_x_continuous(breaks = c(0.125, 0.25, 0.5, 1)) +\n",
    "    geom_histogram(aes(y = ..density..), alpha = 0.2, bins = 100, color = \"grey\") +\n",
    "    geom_density() + \n",
    "    # 1촌 관계 (0.4-0.6)\n",
    "    geom_vline(xintercept = c(0.4, 0.6), \n",
    "               color = \"#DC0000\", \n",
    "               linetype = \"dashed\",\n",
    "               size = 0.5) +\n",
    "    # 2촌 관계 (0.2-0.3)\n",
    "    geom_vline(xintercept = c(0.2, 0.3), \n",
    "               color = \"#EE7733\", \n",
    "               linetype = \"dashed\",\n",
    "               size = 0.5) +\n",
    "    # 3촌 관계 (0.1-0.15)\n",
    "    geom_vline(xintercept = c(0.1, 0.15), \n",
    "               color = \"#3C5488\", \n",
    "               linetype = \"dashed\",\n",
    "               size = 0.5) +\n",
    "    get_nature_theme()\n",
    "\n",
    "p"
   ]
  },
  {
   "cell_type": "code",
   "execution_count": 16,
   "metadata": {
    "vscode": {
     "languageId": "r"
    }
   },
   "outputs": [],
   "source": [
    "# Save plot\n",
    "ggsave(\n",
    "    \"/data/jerrylee/pjt/BIGFAM.v.2.0/figures/UKB.kinship.pdf\",\n",
    "    plot = p,\n",
    "    width = 177,\n",
    "    height = 55,\n",
    "    dpi = 300,\n",
    "    units = \"mm\"\n",
    ")"
   ]
  },
  {
   "cell_type": "code",
   "execution_count": null,
   "metadata": {
    "vscode": {
     "languageId": "r"
    }
   },
   "outputs": [],
   "source": []
  }
 ],
 "metadata": {
  "kernelspec": {
   "display_name": "R",
   "language": "R",
   "name": "ir"
  },
  "language_info": {
   "codemirror_mode": "r",
   "file_extension": ".r",
   "mimetype": "text/x-r-source",
   "name": "R",
   "pygments_lexer": "r",
   "version": "4.3.1"
  }
 },
 "nbformat": 4,
 "nbformat_minor": 2
}
