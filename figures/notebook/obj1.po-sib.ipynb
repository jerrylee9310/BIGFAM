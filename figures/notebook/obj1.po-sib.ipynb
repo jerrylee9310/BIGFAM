{
 "cells": [
  {
   "cell_type": "code",
   "execution_count": 3,
   "metadata": {
    "vscode": {
     "languageId": "r"
    }
   },
   "outputs": [],
   "source": [
    "library(ggplot2)\n",
    "# library(scatterpie)\n",
    "# library(ggforce)\n",
    "library(patchwork)\n",
    "library(data.table)\n",
    "library(dplyr)\n",
    "library(tidyr)\n",
    "library(purrr) \n",
    "library(scales)\n",
    "library(extrafont)\n",
    "\n",
    "# 3. 폰트 로드\n",
    "loadfonts()"
   ]
  },
  {
   "cell_type": "code",
   "execution_count": 4,
   "metadata": {
    "vscode": {
     "languageId": "r"
    }
   },
   "outputs": [],
   "source": [
    "# 공통 테마 함수 정의\n",
    "get_nature_theme <- function() {\n",
    "    theme_bw() +\n",
    "        theme(\n",
    "            # 전체적인 배경\n",
    "            panel.background = element_rect(fill = NA, color = NA),\n",
    "            panel.grid.major = element_blank(),\n",
    "            panel.grid.minor = element_blank(),\n",
    "            panel.border = element_rect(color = \"black\", fill = NA, size = 0.6),  # size로 선 굵기 조절\n",
    "            \n",
    "            # panel.border = element_blank(),  \n",
    "            \n",
    "            # 축 설정\n",
    "            # axis.line.x.top = element_line(color = \"black\", size = 0.3),  \n",
    "            # axis.line.y.right = element_line(color = \"black\", size = 0.3),  \n",
    "            # axis.line.x.bottom = element_line(color = \"black\", size = 0.3),  \n",
    "            # axis.line.y.left = element_line(color = \"black\", size = 0.3),    \n",
    "            axis.text = element_text(size = 6.5, color = \"black\"),\n",
    "            axis.title = element_text(size = 7.5, color = \"black\"),\n",
    "            axis.ticks = element_line(size = 0.3),\n",
    "            axis.ticks.length = unit(0.8, \"mm\"),\n",
    "            \n",
    "            # 메인 figure에 박스 추가\n",
    "            # plot.background = element_rect(color = \"black\", fill = NA),\n",
    "            \n",
    "            # legend 박스 제거\n",
    "            legend.box.background = element_blank(),  # 이전: element_rect(color = \"black\")\n",
    "            \n",
    "            # 범례 설정\n",
    "            legend.margin = margin(1, 1, 1, 1, unit = \"mm\"),\n",
    "            # legend.spacing.y = unit(0.1, \"cm\"),\n",
    "            \n",
    "            # 여백 설정\n",
    "            # plot.margin = unit(c(0.1, 0.2, 0.1, 0.1), \"cm\")\n",
    "            plot.margin = margin(0.1, 0.1, 0.1, 0.1, unit = \"mm\")\n",
    "        )\n",
    "}\n",
    "\n",
    "# 공통 색상 정의\n",
    "color_values <- c(\n",
    "    \"fast\" = \"#E64B35\",\n",
    "    \"slow\" = \"#4DBBD5\",\n",
    "    \"similar\" = \"#7E7E7E\"\n",
    ")"
   ]
  },
  {
   "cell_type": "code",
   "execution_count": 5,
   "metadata": {
    "vscode": {
     "languageId": "r"
    }
   },
   "outputs": [],
   "source": [
    "# read *.frreg files in /data/jerrylee/pjt/BIGFAM.v.2.0/data/GS/po-sib/frreg"
   ]
  },
  {
   "cell_type": "code",
   "execution_count": 6,
   "metadata": {
    "vscode": {
     "languageId": "r"
    }
   },
   "outputs": [
    {
     "name": "stdout",
     "output_type": "stream",
     "text": [
      "  DOR 2: slope = 0.014 (-0.001 - 0.028)\n",
      "  DOR 1: slope = -0.403 (-0.414 - -0.392)\n",
      "  DOR 2: slope = -0.462 (-0.477 - -0.448)\n",
      "  DOR 3: slope = 0.021 (-0.016 - 0.058)\n",
      "  DOR 3: slope = -0.001 (-0.035 - 0.033)\n",
      "  DOR 1: slope = -0.332 (-0.345 - -0.320)\n",
      "  DOR 2: slope = -0.304 (-0.320 - -0.288)\n",
      "  DOR 1: slope = -0.374 (-0.386 - -0.362)\n",
      "  DOR 2: slope = -0.374 (-0.390 - -0.359)\n",
      "  DOR 1: slope = -0.313 (-0.327 - -0.300)\n",
      "  DOR 2: slope = -0.316 (-0.332 - -0.300)\n"
     ]
    }
   ],
   "source": [
    "check_frreg_files <- function(\n",
    "    cohort,\n",
    "    base_path = \"/data/jerrylee/pjt/BIGFAM.v.2.0/data\",\n",
    "    subdir = \"po-sib/frreg\"\n",
    ") {\n",
    "    # 파일 경로 생성\n",
    "    frreg_path <- file.path(base_path, cohort, subdir)\n",
    "    \n",
    "    # .frreg 파일 리스트 불러오기\n",
    "    files_list <- list.files(\n",
    "        path = frreg_path, \n",
    "        pattern = \"\\\\.frreg$\",\n",
    "        full.names = TRUE\n",
    "    )\n",
    "    \n",
    "    # 2개의 파일이 있는 표현형 찾기\n",
    "    phenotype_counts <- table(sapply(strsplit(basename(files_list), \"\\\\.\"), `[`, 1))\n",
    "    valid_phenos <- names(phenotype_counts[phenotype_counts == 2])\n",
    "    \n",
    "    for (file in files_list) {\n",
    "        file_parts <- strsplit(basename(file), \"\\\\.\")[[1]]\n",
    "        pheno_name <- file_parts[1]\n",
    "        \n",
    "        # 2개의 파일이 있는 표현형만 처리\n",
    "        if (!(pheno_name %in% valid_phenos)) next\n",
    "        \n",
    "        df <- fread(file)\n",
    "        \n",
    "        # 각 DOR에 대해 slope ± 1.96*se 계산\n",
    "        df$lower <- df$slope - 1.96 * df$se\n",
    "        df$upper <- df$slope + 1.96 * df$se\n",
    "        \n",
    "        # 조건 확인\n",
    "        invalid_rows <- which(df$lower < 0 | df$upper > 1)\n",
    "        \n",
    "        if (length(invalid_rows) > 0) {\n",
    "            # cat(sprintf(\"\\n표현형 %s 제외됨:\\n\", pheno_name))\n",
    "            for (row in invalid_rows) {\n",
    "                cat(sprintf(\"  DOR %d: slope = %.3f (%.3f - %.3f)\\n\",\n",
    "                    df$DOR[row], df$slope[row], df$lower[row], df$upper[row]))\n",
    "            }\n",
    "            # invalid한 경우 해당 표현형 제외\n",
    "            valid_phenos <- valid_phenos[valid_phenos != pheno_name]\n",
    "        }\n",
    "    }\n",
    "    \n",
    "    return(valid_phenos)\n",
    "}\n",
    "\n",
    "# 사용 예시:\n",
    "ukb_valid <- check_frreg_files(\"UKB\")\n",
    "gs_valid <- check_frreg_files(\"GS\")"
   ]
  },
  {
   "cell_type": "markdown",
   "metadata": {},
   "source": [
    "# Step 1. Slope test results"
   ]
  },
  {
   "cell_type": "code",
   "execution_count": 67,
   "metadata": {
    "vscode": {
     "languageId": "r"
    }
   },
   "outputs": [],
   "source": [
    "read_slope_test_files <- function(\n",
    "    cohort,\n",
    "    base_path = \"/data/jerrylee/pjt/BIGFAM.v.2.0/data\",\n",
    "    subdir = \"po-sib/slope-test\",\n",
    "    significance_thresholds = c(lower = 2.5, upper = 97.5)\n",
    ") {\n",
    "    # 파일 경로 생성\n",
    "    frreg_path <- file.path(base_path, cohort, subdir)\n",
    "    \n",
    "    # .slope 파일 리스트 불러오기\n",
    "    files_list <- list.files(\n",
    "        path = frreg_path, \n",
    "        pattern = \"\\\\.slope$\",  \n",
    "        full.names = TRUE\n",
    "    ) %>% \n",
    "        # .raw.slope 파일 제외\n",
    "        .[!grepl(\"\\\\.raw\\\\.slope$\", .)]\n",
    "    \n",
    "    # 파일이 없는 경우 에러 처리\n",
    "    if (length(files_list) == 0) {\n",
    "        stop(sprintf(\"No .slope files found in %s\", frreg_path))\n",
    "    }\n",
    "    \n",
    "    # 모든 .slope 파일 읽고 원하는 형태로 가공하기\n",
    "    df_slope_test <- files_list %>%\n",
    "        # 각 파일을 읽어서 리스트로 만들기\n",
    "        map(function(file) {\n",
    "            # 파일명에서 pheno 이름 추출\n",
    "            file_parts <- basename(file) %>%\n",
    "                strsplit(\"\\\\.\") %>%\n",
    "                .[[1]]\n",
    "            \n",
    "            pheno <- file_parts[1]\n",
    "            subgroup <- file_parts[2]\n",
    "            \n",
    "            # 파일 읽기\n",
    "            tryCatch({\n",
    "                df <- fread(file)\n",
    "                \n",
    "                # slope와 intercept의 median 값 추출\n",
    "                slope_val <- df[param == \"slope\", median]\n",
    "                intercept_val <- df[param == \"intercept\", median]\n",
    "                \n",
    "                # significant 판단\n",
    "                lower_col <- sprintf(\"lower(%g%%)\", significance_thresholds[\"lower\"])\n",
    "                upper_col <- sprintf(\"upper(%g%%)\", significance_thresholds[\"upper\"])\n",
    "                \n",
    "                slope_lower <- df[param == \"slope\", get(lower_col)]\n",
    "                slope_upper <- df[param == \"slope\", get(upper_col)]\n",
    "                \n",
    "                significant <- case_when(\n",
    "                    slope_lower > 1 ~ \"fast\",\n",
    "                    slope_upper < 1 ~ \"slow\",\n",
    "                    TRUE ~ \"similar\"\n",
    "                )\n",
    "                \n",
    "                # 데이터프레임 생성\n",
    "                data.frame(\n",
    "                    pheno = pheno,\n",
    "                    subgroup = subgroup,\n",
    "                    slope = slope_val,\n",
    "                    intercept = intercept_val,\n",
    "                    significant = significant\n",
    "                )\n",
    "            }, error = function(e) {\n",
    "                warning(sprintf(\"Error processing file %s: %s\", file, e$message))\n",
    "                return(NULL)\n",
    "            })\n",
    "        }) %>%\n",
    "        # NULL 값 제거하고 모든 데이터프레임 합치기\n",
    "        compact() %>%\n",
    "        bind_rows()\n",
    "    \n",
    "    return(df_slope_test)\n",
    "}"
   ]
  },
  {
   "cell_type": "code",
   "execution_count": 68,
   "metadata": {
    "vscode": {
     "languageId": "r"
    }
   },
   "outputs": [
    {
     "data": {
      "text/html": [
       "<table class=\"dataframe\">\n",
       "<caption>A data.frame: 6 × 6</caption>\n",
       "<thead>\n",
       "\t<tr><th></th><th scope=col>pheno</th><th scope=col>subgroup</th><th scope=col>slope</th><th scope=col>intercept</th><th scope=col>significant</th><th scope=col>cohort</th></tr>\n",
       "\t<tr><th></th><th scope=col>&lt;chr&gt;</th><th scope=col>&lt;chr&gt;</th><th scope=col>&lt;dbl&gt;</th><th scope=col>&lt;dbl&gt;</th><th scope=col>&lt;chr&gt;</th><th scope=col>&lt;chr&gt;</th></tr>\n",
       "</thead>\n",
       "<tbody>\n",
       "\t<tr><th scope=row>1</th><td>Alanine_aminotransferase</td><td>PC</td><td>1.1463519</td><td>-2.0968806</td><td>similar</td><td>UKB</td></tr>\n",
       "\t<tr><th scope=row>2</th><td>Alanine_aminotransferase</td><td>SB</td><td>1.4374232</td><td>-1.2521152</td><td>fast   </td><td>UKB</td></tr>\n",
       "\t<tr><th scope=row>3</th><td>Albumin                 </td><td>PC</td><td>0.9254041</td><td>-1.9002497</td><td>similar</td><td>UKB</td></tr>\n",
       "\t<tr><th scope=row>4</th><td>Albumin                 </td><td>SB</td><td>0.9986368</td><td>-1.7279637</td><td>similar</td><td>UKB</td></tr>\n",
       "\t<tr><th scope=row>5</th><td>Alkaline_phosphatase    </td><td>PC</td><td>1.0042203</td><td>-0.9499377</td><td>similar</td><td>UKB</td></tr>\n",
       "\t<tr><th scope=row>6</th><td>Alkaline_phosphatase    </td><td>SB</td><td>1.0791253</td><td>-0.7444057</td><td>similar</td><td>UKB</td></tr>\n",
       "</tbody>\n",
       "</table>\n"
      ],
      "text/latex": [
       "A data.frame: 6 × 6\n",
       "\\begin{tabular}{r|llllll}\n",
       "  & pheno & subgroup & slope & intercept & significant & cohort\\\\\n",
       "  & <chr> & <chr> & <dbl> & <dbl> & <chr> & <chr>\\\\\n",
       "\\hline\n",
       "\t1 & Alanine\\_aminotransferase & PC & 1.1463519 & -2.0968806 & similar & UKB\\\\\n",
       "\t2 & Alanine\\_aminotransferase & SB & 1.4374232 & -1.2521152 & fast    & UKB\\\\\n",
       "\t3 & Albumin                  & PC & 0.9254041 & -1.9002497 & similar & UKB\\\\\n",
       "\t4 & Albumin                  & SB & 0.9986368 & -1.7279637 & similar & UKB\\\\\n",
       "\t5 & Alkaline\\_phosphatase     & PC & 1.0042203 & -0.9499377 & similar & UKB\\\\\n",
       "\t6 & Alkaline\\_phosphatase     & SB & 1.0791253 & -0.7444057 & similar & UKB\\\\\n",
       "\\end{tabular}\n"
      ],
      "text/markdown": [
       "\n",
       "A data.frame: 6 × 6\n",
       "\n",
       "| <!--/--> | pheno &lt;chr&gt; | subgroup &lt;chr&gt; | slope &lt;dbl&gt; | intercept &lt;dbl&gt; | significant &lt;chr&gt; | cohort &lt;chr&gt; |\n",
       "|---|---|---|---|---|---|---|\n",
       "| 1 | Alanine_aminotransferase | PC | 1.1463519 | -2.0968806 | similar | UKB |\n",
       "| 2 | Alanine_aminotransferase | SB | 1.4374232 | -1.2521152 | fast    | UKB |\n",
       "| 3 | Albumin                  | PC | 0.9254041 | -1.9002497 | similar | UKB |\n",
       "| 4 | Albumin                  | SB | 0.9986368 | -1.7279637 | similar | UKB |\n",
       "| 5 | Alkaline_phosphatase     | PC | 1.0042203 | -0.9499377 | similar | UKB |\n",
       "| 6 | Alkaline_phosphatase     | SB | 1.0791253 | -0.7444057 | similar | UKB |\n",
       "\n"
      ],
      "text/plain": [
       "  pheno                    subgroup slope     intercept  significant cohort\n",
       "1 Alanine_aminotransferase PC       1.1463519 -2.0968806 similar     UKB   \n",
       "2 Alanine_aminotransferase SB       1.4374232 -1.2521152 fast        UKB   \n",
       "3 Albumin                  PC       0.9254041 -1.9002497 similar     UKB   \n",
       "4 Albumin                  SB       0.9986368 -1.7279637 similar     UKB   \n",
       "5 Alkaline_phosphatase     PC       1.0042203 -0.9499377 similar     UKB   \n",
       "6 Alkaline_phosphatase     SB       1.0791253 -0.7444057 similar     UKB   "
      ]
     },
     "metadata": {},
     "output_type": "display_data"
    }
   ],
   "source": [
    "# 기본 사용\n",
    "ukb_slope_test <- read_slope_test_files(\"UKB\")\n",
    "gs_slope_test <- read_slope_test_files(\"GS\")\n",
    "\n",
    "gs_slope_test$cohort <- \"GS\"\n",
    "ukb_slope_test$cohort <- \"UKB\"\n",
    "\n",
    "# merge\n",
    "df_slope_test <- bind_rows(ukb_slope_test, gs_slope_test)\n",
    "\n",
    "head(df_slope_test)"
   ]
  },
  {
   "cell_type": "markdown",
   "metadata": {},
   "source": [
    "# Step 2. Prediction results"
   ]
  },
  {
   "cell_type": "code",
   "execution_count": 69,
   "metadata": {
    "vscode": {
     "languageId": "r"
    }
   },
   "outputs": [],
   "source": [
    "read_prediction_files <- function(\n",
    "    cohort,\n",
    "    base_path = \"/data/jerrylee/pjt/BIGFAM.v.2.0/data\",\n",
    "    subdir = \"po-sib/prediction\",\n",
    "    ci_thresholds = c(lower = 2.5, upper = 97.5)\n",
    ") {\n",
    "    # 파일 경로 생성\n",
    "    frreg_path <- file.path(base_path, cohort, subdir)\n",
    "    \n",
    "    # .pred 파일 리스트 불러오기\n",
    "    files_list <- list.files(\n",
    "        path = frreg_path, \n",
    "        pattern = \"\\\\.pred$\",  \n",
    "        full.names = TRUE\n",
    "    ) %>% \n",
    "        # .raw.pred 파일 제외\n",
    "        .[!grepl(\"\\\\.raw\\\\.pred$\", .)]\n",
    "    \n",
    "    # 파일이 없는 경우 에러 처리\n",
    "    if (length(files_list) == 0) {\n",
    "        stop(sprintf(\"No .pred files found in %s\", frreg_path))\n",
    "    }\n",
    "    \n",
    "    # 모든 .pred 파일 읽고 원하는 형태로 가공하기\n",
    "    df_prediction <- files_list %>%\n",
    "        # 각 파일을 읽어서 리스트로 만들기\n",
    "        map(function(file) {\n",
    "            # 파일명에서 pheno 이름 추출\n",
    "            file_parts <- basename(file) %>%\n",
    "                strsplit(\"\\\\.\") %>%\n",
    "                .[[1]]\n",
    "            \n",
    "            pheno <- file_parts[1]\n",
    "            subgroup <- file_parts[2]\n",
    "            \n",
    "            # 파일 읽기\n",
    "            tryCatch({\n",
    "                df <- fread(file)\n",
    "                \n",
    "                # 필요한 파라미터만 추출 (V(g), V(s), w)\n",
    "                df_filtered <- df %>%\n",
    "                    filter(param %in% c(\"V(g)\", \"V(s)\", \"w\"))\n",
    "                \n",
    "                # CI 컬럼명 생성\n",
    "                lower_col <- sprintf(\"lower(%g%%)\", ci_thresholds[\"lower\"])\n",
    "                upper_col <- sprintf(\"upper(%g%%)\", ci_thresholds[\"upper\"])\n",
    "                \n",
    "                # wide format으로 변환\n",
    "                data.frame(\n",
    "                    pheno = pheno,\n",
    "                    subgroup = subgroup,\n",
    "                    # V(g) 관련 컬럼\n",
    "                    Vg_median = df_filtered[param == \"V(g)\", median],\n",
    "                    Vg_lower = df_filtered[param == \"V(g)\", get(lower_col)],\n",
    "                    Vg_upper = df_filtered[param == \"V(g)\", get(upper_col)],\n",
    "                    # V(s) 관련 컬럼\n",
    "                    Vs_median = df_filtered[param == \"V(s)\", median],\n",
    "                    Vs_lower = df_filtered[param == \"V(s)\", get(lower_col)],\n",
    "                    Vs_upper = df_filtered[param == \"V(s)\", get(upper_col)],\n",
    "                    # w 관련 컬럼\n",
    "                    w_median = df_filtered[param == \"w\", median],\n",
    "                    w_lower = df_filtered[param == \"w\", get(lower_col)],\n",
    "                    w_upper = df_filtered[param == \"w\", get(upper_col)]\n",
    "                )\n",
    "            }, error = function(e) {\n",
    "                warning(sprintf(\"Error processing file %s: %s\", file, e$message))\n",
    "                return(NULL)\n",
    "            })\n",
    "        }) %>%\n",
    "        # NULL 값 제거하고 모든 데이터프레임 합치기\n",
    "        compact() %>%\n",
    "        bind_rows()\n",
    "    \n",
    "    return(df_prediction)\n",
    "}"
   ]
  },
  {
   "cell_type": "code",
   "execution_count": 70,
   "metadata": {
    "vscode": {
     "languageId": "r"
    }
   },
   "outputs": [
    {
     "data": {
      "text/html": [
       "<table class=\"dataframe\">\n",
       "<caption>A data.frame: 6 × 12</caption>\n",
       "<thead>\n",
       "\t<tr><th></th><th scope=col>pheno</th><th scope=col>subgroup</th><th scope=col>Vg_median</th><th scope=col>Vg_lower</th><th scope=col>Vg_upper</th><th scope=col>Vs_median</th><th scope=col>Vs_lower</th><th scope=col>Vs_upper</th><th scope=col>w_median</th><th scope=col>w_lower</th><th scope=col>w_upper</th><th scope=col>cohort</th></tr>\n",
       "\t<tr><th></th><th scope=col>&lt;chr&gt;</th><th scope=col>&lt;chr&gt;</th><th scope=col>&lt;dbl&gt;</th><th scope=col>&lt;dbl&gt;</th><th scope=col>&lt;dbl&gt;</th><th scope=col>&lt;dbl&gt;</th><th scope=col>&lt;dbl&gt;</th><th scope=col>&lt;dbl&gt;</th><th scope=col>&lt;dbl&gt;</th><th scope=col>&lt;dbl&gt;</th><th scope=col>&lt;dbl&gt;</th><th scope=col>&lt;chr&gt;</th></tr>\n",
       "</thead>\n",
       "<tbody>\n",
       "\t<tr><th scope=row>1</th><td>Alanine_aminotransferase</td><td>PC</td><td>0.09828466</td><td>0.0000010</td><td>0.1033859</td><td>0.05851112</td><td>0.05569226</td><td>0.10459906</td><td>0.400</td><td>0.40000</td><td>0.47000</td><td>UKB</td></tr>\n",
       "\t<tr><th scope=row>2</th><td>Alanine_aminotransferase</td><td>SB</td><td>0.18267725</td><td>0.1744937</td><td>0.1839221</td><td>0.08236057</td><td>0.08159528</td><td>0.08501796</td><td>0.010</td><td>0.01000</td><td>0.06000</td><td>UKB</td></tr>\n",
       "\t<tr><th scope=row>3</th><td>Albumin                 </td><td>PC</td><td>0.04238616</td><td>0.0000010</td><td>0.1910570</td><td>0.11689405</td><td>0.04336600</td><td>0.14244652</td><td>0.540</td><td>0.52000</td><td>0.60000</td><td>UKB</td></tr>\n",
       "\t<tr><th scope=row>4</th><td>Albumin                 </td><td>SB</td><td>0.21336788</td><td>0.2103038</td><td>0.3015898</td><td>0.04244183</td><td>0.00000100</td><td>0.04355078</td><td>0.515</td><td>0.41000</td><td>0.54000</td><td>UKB</td></tr>\n",
       "\t<tr><th scope=row>5</th><td>Alkaline_phosphatase    </td><td>PC</td><td>0.37389785</td><td>0.3674360</td><td>0.5174729</td><td>0.07472149</td><td>0.00000100</td><td>0.07492935</td><td>0.480</td><td>0.47475</td><td>0.54525</td><td>UKB</td></tr>\n",
       "\t<tr><th scope=row>6</th><td>Alkaline_phosphatase    </td><td>SB</td><td>0.09440237</td><td>0.0000010</td><td>0.1117646</td><td>0.23386797</td><td>0.22474591</td><td>0.27847783</td><td>0.470</td><td>0.47000</td><td>0.48000</td><td>UKB</td></tr>\n",
       "</tbody>\n",
       "</table>\n"
      ],
      "text/latex": [
       "A data.frame: 6 × 12\n",
       "\\begin{tabular}{r|llllllllllll}\n",
       "  & pheno & subgroup & Vg\\_median & Vg\\_lower & Vg\\_upper & Vs\\_median & Vs\\_lower & Vs\\_upper & w\\_median & w\\_lower & w\\_upper & cohort\\\\\n",
       "  & <chr> & <chr> & <dbl> & <dbl> & <dbl> & <dbl> & <dbl> & <dbl> & <dbl> & <dbl> & <dbl> & <chr>\\\\\n",
       "\\hline\n",
       "\t1 & Alanine\\_aminotransferase & PC & 0.09828466 & 0.0000010 & 0.1033859 & 0.05851112 & 0.05569226 & 0.10459906 & 0.400 & 0.40000 & 0.47000 & UKB\\\\\n",
       "\t2 & Alanine\\_aminotransferase & SB & 0.18267725 & 0.1744937 & 0.1839221 & 0.08236057 & 0.08159528 & 0.08501796 & 0.010 & 0.01000 & 0.06000 & UKB\\\\\n",
       "\t3 & Albumin                  & PC & 0.04238616 & 0.0000010 & 0.1910570 & 0.11689405 & 0.04336600 & 0.14244652 & 0.540 & 0.52000 & 0.60000 & UKB\\\\\n",
       "\t4 & Albumin                  & SB & 0.21336788 & 0.2103038 & 0.3015898 & 0.04244183 & 0.00000100 & 0.04355078 & 0.515 & 0.41000 & 0.54000 & UKB\\\\\n",
       "\t5 & Alkaline\\_phosphatase     & PC & 0.37389785 & 0.3674360 & 0.5174729 & 0.07472149 & 0.00000100 & 0.07492935 & 0.480 & 0.47475 & 0.54525 & UKB\\\\\n",
       "\t6 & Alkaline\\_phosphatase     & SB & 0.09440237 & 0.0000010 & 0.1117646 & 0.23386797 & 0.22474591 & 0.27847783 & 0.470 & 0.47000 & 0.48000 & UKB\\\\\n",
       "\\end{tabular}\n"
      ],
      "text/markdown": [
       "\n",
       "A data.frame: 6 × 12\n",
       "\n",
       "| <!--/--> | pheno &lt;chr&gt; | subgroup &lt;chr&gt; | Vg_median &lt;dbl&gt; | Vg_lower &lt;dbl&gt; | Vg_upper &lt;dbl&gt; | Vs_median &lt;dbl&gt; | Vs_lower &lt;dbl&gt; | Vs_upper &lt;dbl&gt; | w_median &lt;dbl&gt; | w_lower &lt;dbl&gt; | w_upper &lt;dbl&gt; | cohort &lt;chr&gt; |\n",
       "|---|---|---|---|---|---|---|---|---|---|---|---|---|\n",
       "| 1 | Alanine_aminotransferase | PC | 0.09828466 | 0.0000010 | 0.1033859 | 0.05851112 | 0.05569226 | 0.10459906 | 0.400 | 0.40000 | 0.47000 | UKB |\n",
       "| 2 | Alanine_aminotransferase | SB | 0.18267725 | 0.1744937 | 0.1839221 | 0.08236057 | 0.08159528 | 0.08501796 | 0.010 | 0.01000 | 0.06000 | UKB |\n",
       "| 3 | Albumin                  | PC | 0.04238616 | 0.0000010 | 0.1910570 | 0.11689405 | 0.04336600 | 0.14244652 | 0.540 | 0.52000 | 0.60000 | UKB |\n",
       "| 4 | Albumin                  | SB | 0.21336788 | 0.2103038 | 0.3015898 | 0.04244183 | 0.00000100 | 0.04355078 | 0.515 | 0.41000 | 0.54000 | UKB |\n",
       "| 5 | Alkaline_phosphatase     | PC | 0.37389785 | 0.3674360 | 0.5174729 | 0.07472149 | 0.00000100 | 0.07492935 | 0.480 | 0.47475 | 0.54525 | UKB |\n",
       "| 6 | Alkaline_phosphatase     | SB | 0.09440237 | 0.0000010 | 0.1117646 | 0.23386797 | 0.22474591 | 0.27847783 | 0.470 | 0.47000 | 0.48000 | UKB |\n",
       "\n"
      ],
      "text/plain": [
       "  pheno                    subgroup Vg_median  Vg_lower  Vg_upper  Vs_median \n",
       "1 Alanine_aminotransferase PC       0.09828466 0.0000010 0.1033859 0.05851112\n",
       "2 Alanine_aminotransferase SB       0.18267725 0.1744937 0.1839221 0.08236057\n",
       "3 Albumin                  PC       0.04238616 0.0000010 0.1910570 0.11689405\n",
       "4 Albumin                  SB       0.21336788 0.2103038 0.3015898 0.04244183\n",
       "5 Alkaline_phosphatase     PC       0.37389785 0.3674360 0.5174729 0.07472149\n",
       "6 Alkaline_phosphatase     SB       0.09440237 0.0000010 0.1117646 0.23386797\n",
       "  Vs_lower   Vs_upper   w_median w_lower w_upper cohort\n",
       "1 0.05569226 0.10459906 0.400    0.40000 0.47000 UKB   \n",
       "2 0.08159528 0.08501796 0.010    0.01000 0.06000 UKB   \n",
       "3 0.04336600 0.14244652 0.540    0.52000 0.60000 UKB   \n",
       "4 0.00000100 0.04355078 0.515    0.41000 0.54000 UKB   \n",
       "5 0.00000100 0.07492935 0.480    0.47475 0.54525 UKB   \n",
       "6 0.22474591 0.27847783 0.470    0.47000 0.48000 UKB   "
      ]
     },
     "metadata": {},
     "output_type": "display_data"
    }
   ],
   "source": [
    "# 기본 사용\n",
    "ukb_prediction <- read_prediction_files(\"UKB\")\n",
    "gs_prediction <- read_prediction_files(\"GS\")\n",
    "\n",
    "ukb_prediction$cohort <- \"UKB\"\n",
    "gs_prediction$cohort <- \"GS\"\n",
    "\n",
    "# merge\n",
    "df_prediction <- bind_rows(ukb_prediction, gs_prediction)\n",
    "\n",
    "head(df_prediction)"
   ]
  },
  {
   "cell_type": "code",
   "execution_count": 80,
   "metadata": {
    "vscode": {
     "languageId": "r"
    }
   },
   "outputs": [
    {
     "data": {
      "text/html": [
       "<style>\n",
       ".list-inline {list-style: none; margin:0; padding: 0}\n",
       ".list-inline>li {display: inline-block}\n",
       ".list-inline>li:not(:last-child)::after {content: \"\\00b7\"; padding: 0 .5ex}\n",
       "</style>\n",
       "<ol class=list-inline><li>276</li><li>15</li></ol>\n"
      ],
      "text/latex": [
       "\\begin{enumerate*}\n",
       "\\item 276\n",
       "\\item 15\n",
       "\\end{enumerate*}\n"
      ],
      "text/markdown": [
       "1. 276\n",
       "2. 15\n",
       "\n",
       "\n"
      ],
      "text/plain": [
       "[1] 276  15"
      ]
     },
     "metadata": {},
     "output_type": "display_data"
    }
   ],
   "source": [
    "# merg\n",
    "df_merged <- df_slope_test %>%\n",
    "    left_join(df_prediction, by = c(\"cohort\", \"pheno\", \"subgroup\"))\n",
    "\n",
    "# 결과 확인\n",
    "dim(df_merged)"
   ]
  },
  {
   "cell_type": "markdown",
   "metadata": {},
   "source": [
    "## Plot"
   ]
  },
  {
   "cell_type": "code",
   "execution_count": 99,
   "metadata": {
    "vscode": {
     "languageId": "r"
    }
   },
   "outputs": [
    {
     "data": {
      "text/html": [
       "<style>\n",
       ".list-inline {list-style: none; margin:0; padding: 0}\n",
       ".list-inline>li {display: inline-block}\n",
       ".list-inline>li:not(:last-child)::after {content: \"\\00b7\"; padding: 0 .5ex}\n",
       "</style>\n",
       "<ol class=list-inline><li>104</li><li>15</li></ol>\n"
      ],
      "text/latex": [
       "\\begin{enumerate*}\n",
       "\\item 104\n",
       "\\item 15\n",
       "\\end{enumerate*}\n"
      ],
      "text/markdown": [
       "1. 104\n",
       "2. 15\n",
       "\n",
       "\n"
      ],
      "text/plain": [
       "[1] 104  15"
      ]
     },
     "metadata": {},
     "output_type": "display_data"
    }
   ],
   "source": [
    "for_plot <- df_merged %>%\n",
    "    filter(Vg_lower > 1e-4 & Vs_lower > 1e-4) %>% \n",
    "    group_by(pheno) %>%\n",
    "    filter(n_distinct(subgroup) == 2) %>%  # SB, PC 둘 다 있는 경우만\n",
    "    filter(all(c(\"PC\", \"SB\") %in% subgroup)) %>%  # 구체적으로 PC, SB가 있는지 확인\n",
    "    ungroup()\n",
    "# for_plot <- df_merged\n",
    "\n",
    "# 필터링 결과 확인\n",
    "dim(for_plot)"
   ]
  },
  {
   "cell_type": "code",
   "execution_count": 100,
   "metadata": {
    "vscode": {
     "languageId": "r"
    }
   },
   "outputs": [
    {
     "data": {
      "text/html": [
       "<style>\n",
       ".list-inline {list-style: none; margin:0; padding: 0}\n",
       ".list-inline>li {display: inline-block}\n",
       ".list-inline>li:not(:last-child)::after {content: \"\\00b7\"; padding: 0 .5ex}\n",
       "</style>\n",
       "<ol class=list-inline><li>98</li><li>15</li></ol>\n"
      ],
      "text/latex": [
       "\\begin{enumerate*}\n",
       "\\item 98\n",
       "\\item 15\n",
       "\\end{enumerate*}\n"
      ],
      "text/markdown": [
       "1. 98\n",
       "2. 15\n",
       "\n",
       "\n"
      ],
      "text/plain": [
       "[1] 98 15"
      ]
     },
     "metadata": {},
     "output_type": "display_data"
    }
   ],
   "source": [
    "for_plot_filtered <- for_plot %>%\n",
    "    filter(\n",
    "        # UKB 코호트인 경우 ukb_valid에 있는 표현형만, \n",
    "        # GS 코호트인 경우 gs_valid에 있는 표현형만 남김\n",
    "        (cohort == \"UKB\" & pheno %in% ukb_valid) |\n",
    "        (cohort == \"GS\" & pheno %in% gs_valid)\n",
    "    )\n",
    "\n",
    "# 필터링 결과 확인\n",
    "dim(for_plot_filtered)"
   ]
  },
  {
   "cell_type": "code",
   "execution_count": 112,
   "metadata": {
    "vscode": {
     "languageId": "r"
    }
   },
   "outputs": [],
   "source": [
    "write.table(\n",
    "    for_plot_filtered,\n",
    "    file = \"/data/jerrylee/pjt/BIGFAM.v.2.0/data/supple/po-sib.sigV.tsv\",\n",
    "    sep = \"\\t\",\n",
    "    row.names = FALSE,\n",
    "    quote = FALSE\n",
    ")\n"
   ]
  },
  {
   "cell_type": "code",
   "execution_count": 14,
   "metadata": {
    "vscode": {
     "languageId": "r"
    }
   },
   "outputs": [
    {
     "data": {
      "text/html": [
       "<style>\n",
       ".list-inline {list-style: none; margin:0; padding: 0}\n",
       ".list-inline>li {display: inline-block}\n",
       ".list-inline>li:not(:last-child)::after {content: \"\\00b7\"; padding: 0 .5ex}\n",
       "</style>\n",
       "<ol class=list-inline><li>102</li><li>15</li></ol>\n"
      ],
      "text/latex": [
       "\\begin{enumerate*}\n",
       "\\item 102\n",
       "\\item 15\n",
       "\\end{enumerate*}\n"
      ],
      "text/markdown": [
       "1. 102\n",
       "2. 15\n",
       "\n",
       "\n"
      ],
      "text/plain": [
       "[1] 102  15"
      ]
     },
     "metadata": {},
     "output_type": "display_data"
    }
   ],
   "source": [
    "for_plot_filtered <- read.table(\n",
    "    \"/data/jerrylee/pjt/BIGFAM.v.2.0/data/supple/po-sib.sigV.tsv\",\n",
    "    sep = \"\\t\",\n",
    "    header = TRUE\n",
    ")\n",
    "\n",
    "dim(for_plot_filtered)"
   ]
  },
  {
   "cell_type": "code",
   "execution_count": 10,
   "metadata": {
    "vscode": {
     "languageId": "r"
    }
   },
   "outputs": [
    {
     "data": {
      "text/html": [
       "<table class=\"dataframe\">\n",
       "<caption>A tibble: 6 × 11</caption>\n",
       "<thead>\n",
       "\t<tr><th scope=col>pheno</th><th scope=col>cohort</th><th scope=col>significant_PC</th><th scope=col>significant_SB</th><th scope=col>Vg_median_PC</th><th scope=col>Vg_median_SB</th><th scope=col>Vs_median_PC</th><th scope=col>Vs_median_SB</th><th scope=col>w_median_PC</th><th scope=col>w_median_SB</th><th scope=col>point_type</th></tr>\n",
       "\t<tr><th scope=col>&lt;chr&gt;</th><th scope=col>&lt;chr&gt;</th><th scope=col>&lt;chr&gt;</th><th scope=col>&lt;chr&gt;</th><th scope=col>&lt;dbl&gt;</th><th scope=col>&lt;dbl&gt;</th><th scope=col>&lt;dbl&gt;</th><th scope=col>&lt;dbl&gt;</th><th scope=col>&lt;dbl&gt;</th><th scope=col>&lt;dbl&gt;</th><th scope=col>&lt;chr&gt;</th></tr>\n",
       "</thead>\n",
       "<tbody>\n",
       "\t<tr><td>Arm_fat_mass__right_      </td><td>UKB</td><td>similar</td><td>similar</td><td>0.2589232</td><td>0.3641827</td><td>0.06399667</td><td>0.02291925</td><td>0.60</td><td>0.6</td><td>similar  </td></tr>\n",
       "\t<tr><td>Arm_fat_percentage__left_ </td><td>UKB</td><td>slow   </td><td>similar</td><td>0.4234349</td><td>0.4161637</td><td>0.01678989</td><td>0.03829231</td><td>0.95</td><td>0.6</td><td>different</td></tr>\n",
       "\t<tr><td>Arm_fat-free_mass__left_  </td><td>UKB</td><td>similar</td><td>similar</td><td>0.4131791</td><td>0.4370551</td><td>0.06113240</td><td>0.05365302</td><td>0.60</td><td>0.6</td><td>similar  </td></tr>\n",
       "\t<tr><td>Arm_fat-free_mass__right_ </td><td>UKB</td><td>similar</td><td>similar</td><td>0.4323433</td><td>0.4873885</td><td>0.05043829</td><td>0.03202419</td><td>0.60</td><td>0.6</td><td>similar  </td></tr>\n",
       "\t<tr><td>Arm_predicted_mass__left_ </td><td>UKB</td><td>similar</td><td>similar</td><td>0.4088525</td><td>0.4463188</td><td>0.06314475</td><td>0.04840492</td><td>0.60</td><td>0.6</td><td>similar  </td></tr>\n",
       "\t<tr><td>Arm_predicted_mass__right_</td><td>UKB</td><td>slow   </td><td>similar</td><td>0.4955314</td><td>0.4809331</td><td>0.01363083</td><td>0.03576817</td><td>0.95</td><td>0.6</td><td>different</td></tr>\n",
       "</tbody>\n",
       "</table>\n"
      ],
      "text/latex": [
       "A tibble: 6 × 11\n",
       "\\begin{tabular}{lllllllllll}\n",
       " pheno & cohort & significant\\_PC & significant\\_SB & Vg\\_median\\_PC & Vg\\_median\\_SB & Vs\\_median\\_PC & Vs\\_median\\_SB & w\\_median\\_PC & w\\_median\\_SB & point\\_type\\\\\n",
       " <chr> & <chr> & <chr> & <chr> & <dbl> & <dbl> & <dbl> & <dbl> & <dbl> & <dbl> & <chr>\\\\\n",
       "\\hline\n",
       "\t Arm\\_fat\\_mass\\_\\_right\\_       & UKB & similar & similar & 0.2589232 & 0.3641827 & 0.06399667 & 0.02291925 & 0.60 & 0.6 & similar  \\\\\n",
       "\t Arm\\_fat\\_percentage\\_\\_left\\_  & UKB & slow    & similar & 0.4234349 & 0.4161637 & 0.01678989 & 0.03829231 & 0.95 & 0.6 & different\\\\\n",
       "\t Arm\\_fat-free\\_mass\\_\\_left\\_   & UKB & similar & similar & 0.4131791 & 0.4370551 & 0.06113240 & 0.05365302 & 0.60 & 0.6 & similar  \\\\\n",
       "\t Arm\\_fat-free\\_mass\\_\\_right\\_  & UKB & similar & similar & 0.4323433 & 0.4873885 & 0.05043829 & 0.03202419 & 0.60 & 0.6 & similar  \\\\\n",
       "\t Arm\\_predicted\\_mass\\_\\_left\\_  & UKB & similar & similar & 0.4088525 & 0.4463188 & 0.06314475 & 0.04840492 & 0.60 & 0.6 & similar  \\\\\n",
       "\t Arm\\_predicted\\_mass\\_\\_right\\_ & UKB & slow    & similar & 0.4955314 & 0.4809331 & 0.01363083 & 0.03576817 & 0.95 & 0.6 & different\\\\\n",
       "\\end{tabular}\n"
      ],
      "text/markdown": [
       "\n",
       "A tibble: 6 × 11\n",
       "\n",
       "| pheno &lt;chr&gt; | cohort &lt;chr&gt; | significant_PC &lt;chr&gt; | significant_SB &lt;chr&gt; | Vg_median_PC &lt;dbl&gt; | Vg_median_SB &lt;dbl&gt; | Vs_median_PC &lt;dbl&gt; | Vs_median_SB &lt;dbl&gt; | w_median_PC &lt;dbl&gt; | w_median_SB &lt;dbl&gt; | point_type &lt;chr&gt; |\n",
       "|---|---|---|---|---|---|---|---|---|---|---|\n",
       "| Arm_fat_mass__right_       | UKB | similar | similar | 0.2589232 | 0.3641827 | 0.06399667 | 0.02291925 | 0.60 | 0.6 | similar   |\n",
       "| Arm_fat_percentage__left_  | UKB | slow    | similar | 0.4234349 | 0.4161637 | 0.01678989 | 0.03829231 | 0.95 | 0.6 | different |\n",
       "| Arm_fat-free_mass__left_   | UKB | similar | similar | 0.4131791 | 0.4370551 | 0.06113240 | 0.05365302 | 0.60 | 0.6 | similar   |\n",
       "| Arm_fat-free_mass__right_  | UKB | similar | similar | 0.4323433 | 0.4873885 | 0.05043829 | 0.03202419 | 0.60 | 0.6 | similar   |\n",
       "| Arm_predicted_mass__left_  | UKB | similar | similar | 0.4088525 | 0.4463188 | 0.06314475 | 0.04840492 | 0.60 | 0.6 | similar   |\n",
       "| Arm_predicted_mass__right_ | UKB | slow    | similar | 0.4955314 | 0.4809331 | 0.01363083 | 0.03576817 | 0.95 | 0.6 | different |\n",
       "\n"
      ],
      "text/plain": [
       "  pheno                      cohort significant_PC significant_SB Vg_median_PC\n",
       "1 Arm_fat_mass__right_       UKB    similar        similar        0.2589232   \n",
       "2 Arm_fat_percentage__left_  UKB    slow           similar        0.4234349   \n",
       "3 Arm_fat-free_mass__left_   UKB    similar        similar        0.4131791   \n",
       "4 Arm_fat-free_mass__right_  UKB    similar        similar        0.4323433   \n",
       "5 Arm_predicted_mass__left_  UKB    similar        similar        0.4088525   \n",
       "6 Arm_predicted_mass__right_ UKB    slow           similar        0.4955314   \n",
       "  Vg_median_SB Vs_median_PC Vs_median_SB w_median_PC w_median_SB point_type\n",
       "1 0.3641827    0.06399667   0.02291925   0.60        0.6         similar   \n",
       "2 0.4161637    0.01678989   0.03829231   0.95        0.6         different \n",
       "3 0.4370551    0.06113240   0.05365302   0.60        0.6         similar   \n",
       "4 0.4873885    0.05043829   0.03202419   0.60        0.6         similar   \n",
       "5 0.4463188    0.06314475   0.04840492   0.60        0.6         similar   \n",
       "6 0.4809331    0.01363083   0.03576817   0.95        0.6         different "
      ]
     },
     "metadata": {},
     "output_type": "display_data"
    }
   ],
   "source": [
    "df_wide <- for_plot_filtered %>%\n",
    "    select(pheno, subgroup, significant, Vg_median, Vs_median, w_median, cohort) %>%\n",
    "    pivot_wider(\n",
    "        names_from = subgroup,\n",
    "        values_from = c(significant, Vg_median, Vs_median, w_median)\n",
    "    ) %>%\n",
    "    mutate(\n",
    "        point_type = case_when(\n",
    "            significant_PC == significant_SB ~ significant_PC,\n",
    "            TRUE ~ \"different\"\n",
    "        )\n",
    "    )\n",
    "\n",
    "head(df_wide)\n"
   ]
  },
  {
   "cell_type": "code",
   "execution_count": 11,
   "metadata": {
    "vscode": {
     "languageId": "r"
    }
   },
   "outputs": [
    {
     "data": {
      "text/html": [
       "<table class=\"dataframe\">\n",
       "<caption>A tibble: 6 × 6</caption>\n",
       "<thead>\n",
       "\t<tr><th scope=col>pheno</th><th scope=col>x</th><th scope=col>y</th><th scope=col>point_type</th><th scope=col>cohort</th><th scope=col>parameter</th></tr>\n",
       "\t<tr><th scope=col>&lt;chr&gt;</th><th scope=col>&lt;dbl&gt;</th><th scope=col>&lt;dbl&gt;</th><th scope=col>&lt;chr&gt;</th><th scope=col>&lt;chr&gt;</th><th scope=col>&lt;fct&gt;</th></tr>\n",
       "</thead>\n",
       "<tbody>\n",
       "\t<tr><td>Arm_fat_mass__right_      </td><td>0.2589232</td><td>0.3641827</td><td>similar  </td><td>UKB</td><td>G.variance</td></tr>\n",
       "\t<tr><td>Arm_fat_percentage__left_ </td><td>0.4234349</td><td>0.4161637</td><td>different</td><td>UKB</td><td>G.variance</td></tr>\n",
       "\t<tr><td>Arm_fat-free_mass__left_  </td><td>0.4131791</td><td>0.4370551</td><td>similar  </td><td>UKB</td><td>G.variance</td></tr>\n",
       "\t<tr><td>Arm_fat-free_mass__right_ </td><td>0.4323433</td><td>0.4873885</td><td>similar  </td><td>UKB</td><td>G.variance</td></tr>\n",
       "\t<tr><td>Arm_predicted_mass__left_ </td><td>0.4088525</td><td>0.4463188</td><td>similar  </td><td>UKB</td><td>G.variance</td></tr>\n",
       "\t<tr><td>Arm_predicted_mass__right_</td><td>0.4955314</td><td>0.4809331</td><td>different</td><td>UKB</td><td>G.variance</td></tr>\n",
       "</tbody>\n",
       "</table>\n"
      ],
      "text/latex": [
       "A tibble: 6 × 6\n",
       "\\begin{tabular}{llllll}\n",
       " pheno & x & y & point\\_type & cohort & parameter\\\\\n",
       " <chr> & <dbl> & <dbl> & <chr> & <chr> & <fct>\\\\\n",
       "\\hline\n",
       "\t Arm\\_fat\\_mass\\_\\_right\\_       & 0.2589232 & 0.3641827 & similar   & UKB & G.variance\\\\\n",
       "\t Arm\\_fat\\_percentage\\_\\_left\\_  & 0.4234349 & 0.4161637 & different & UKB & G.variance\\\\\n",
       "\t Arm\\_fat-free\\_mass\\_\\_left\\_   & 0.4131791 & 0.4370551 & similar   & UKB & G.variance\\\\\n",
       "\t Arm\\_fat-free\\_mass\\_\\_right\\_  & 0.4323433 & 0.4873885 & similar   & UKB & G.variance\\\\\n",
       "\t Arm\\_predicted\\_mass\\_\\_left\\_  & 0.4088525 & 0.4463188 & similar   & UKB & G.variance\\\\\n",
       "\t Arm\\_predicted\\_mass\\_\\_right\\_ & 0.4955314 & 0.4809331 & different & UKB & G.variance\\\\\n",
       "\\end{tabular}\n"
      ],
      "text/markdown": [
       "\n",
       "A tibble: 6 × 6\n",
       "\n",
       "| pheno &lt;chr&gt; | x &lt;dbl&gt; | y &lt;dbl&gt; | point_type &lt;chr&gt; | cohort &lt;chr&gt; | parameter &lt;fct&gt; |\n",
       "|---|---|---|---|---|---|\n",
       "| Arm_fat_mass__right_       | 0.2589232 | 0.3641827 | similar   | UKB | G.variance |\n",
       "| Arm_fat_percentage__left_  | 0.4234349 | 0.4161637 | different | UKB | G.variance |\n",
       "| Arm_fat-free_mass__left_   | 0.4131791 | 0.4370551 | similar   | UKB | G.variance |\n",
       "| Arm_fat-free_mass__right_  | 0.4323433 | 0.4873885 | similar   | UKB | G.variance |\n",
       "| Arm_predicted_mass__left_  | 0.4088525 | 0.4463188 | similar   | UKB | G.variance |\n",
       "| Arm_predicted_mass__right_ | 0.4955314 | 0.4809331 | different | UKB | G.variance |\n",
       "\n"
      ],
      "text/plain": [
       "  pheno                      x         y         point_type cohort parameter \n",
       "1 Arm_fat_mass__right_       0.2589232 0.3641827 similar    UKB    G.variance\n",
       "2 Arm_fat_percentage__left_  0.4234349 0.4161637 different  UKB    G.variance\n",
       "3 Arm_fat-free_mass__left_   0.4131791 0.4370551 similar    UKB    G.variance\n",
       "4 Arm_fat-free_mass__right_  0.4323433 0.4873885 similar    UKB    G.variance\n",
       "5 Arm_predicted_mass__left_  0.4088525 0.4463188 similar    UKB    G.variance\n",
       "6 Arm_predicted_mass__right_ 0.4955314 0.4809331 different  UKB    G.variance"
      ]
     },
     "metadata": {},
     "output_type": "display_data"
    }
   ],
   "source": [
    "# Long format 변환\n",
    "df_plot <- bind_rows(\n",
    "    tibble(\n",
    "        pheno = df_wide$pheno,\n",
    "        x = df_wide$Vg_median_PC,\n",
    "        y = df_wide$Vg_median_SB,\n",
    "        point_type = df_wide$point_type,\n",
    "        cohort = df_wide$cohort,\n",
    "        parameter = factor(\"G.variance\", levels = c(\"G.variance\", \"S.variance\", \"1 / S.decay\"))\n",
    "    ),\n",
    "    tibble(\n",
    "        pheno = df_wide$pheno,\n",
    "        x = df_wide$Vs_median_PC,\n",
    "        y = df_wide$Vs_median_SB,\n",
    "        point_type = df_wide$point_type,\n",
    "        cohort = df_wide$cohort,\n",
    "        parameter = factor(\"S.variance\", levels = c(\"G.variance\", \"S.variance\", \"1 / S.decay\"))\n",
    "    ),\n",
    "    tibble(\n",
    "        pheno = df_wide$pheno,\n",
    "        x = df_wide$w_median_PC,\n",
    "        y = df_wide$w_median_SB,\n",
    "        point_type = df_wide$point_type,\n",
    "        cohort = df_wide$cohort,\n",
    "        parameter = factor(\"1 / S.decay\", levels = c(\"G.variance\", \"S.variance\", \"1 / S.decay\"))\n",
    "    )\n",
    ")\n",
    "\n",
    "head(df_plot)\n"
   ]
  },
  {
   "cell_type": "code",
   "execution_count": 16,
   "metadata": {
    "vscode": {
     "languageId": "r"
    }
   },
   "outputs": [
    {
     "name": "stdout",
     "output_type": "stream",
     "text": [
      "\u001b[90m# A tibble: 3 × 4\u001b[39m\n",
      "  parameter   correlation ci_lower ci_upper\n",
      "  \u001b[3m\u001b[90m<fct>\u001b[39m\u001b[23m             \u001b[3m\u001b[90m<dbl>\u001b[39m\u001b[23m    \u001b[3m\u001b[90m<dbl>\u001b[39m\u001b[23m    \u001b[3m\u001b[90m<dbl>\u001b[39m\u001b[23m\n",
      "\u001b[90m1\u001b[39m G.variance        0.883    0.814    0.936\n",
      "\u001b[90m2\u001b[39m S.variance        0.440    0.159    0.682\n",
      "\u001b[90m3\u001b[39m 1 / S.decay       0.659    0.481    0.799\n"
     ]
    }
   ],
   "source": [
    "# compute correlation\n",
    "# Bootstrap correlation 계산을 위한 함수 정의\n",
    "calculate_bootstrap_correlation <- function(data, n_bootstrap = 1000) {\n",
    "    n <- nrow(data)\n",
    "    cors <- numeric(n_bootstrap)\n",
    "    \n",
    "    for(i in 1:n_bootstrap) {\n",
    "        # Bootstrap 샘플링\n",
    "        indices <- sample(1:n, n, replace = TRUE)\n",
    "        sample_data <- data[indices, ]\n",
    "        # Pearson correlation 계산\n",
    "        cors[i] <- cor(sample_data$x, sample_data$y)\n",
    "    }\n",
    "    \n",
    "    # 결과 정리\n",
    "    list(\n",
    "        correlation = mean(cors),\n",
    "        ci_lower = quantile(cors, 0.025),\n",
    "        ci_upper = quantile(cors, 0.975)\n",
    "    )\n",
    "}\n",
    "\n",
    "# Parameter별로 correlation 계산\n",
    "results <- df_plot %>%\n",
    "    split(.$parameter) %>%  # parameter로 데이터 분할\n",
    "    map_dfr(function(data) {\n",
    "        res <- calculate_bootstrap_correlation(data)\n",
    "        tibble(\n",
    "            parameter = unique(data$parameter),\n",
    "            correlation = res$correlation,\n",
    "            ci_lower = res$ci_lower,\n",
    "            ci_upper = res$ci_upper\n",
    "        )\n",
    "    })\n",
    "\n",
    "# 결과 출력\n",
    "print(results)"
   ]
  },
  {
   "cell_type": "code",
   "execution_count": 22,
   "metadata": {
    "vscode": {
     "languageId": "r"
    }
   },
   "outputs": [
    {
     "name": "stdout",
     "output_type": "stream",
     "text": [
      "\u001b[90m# A tibble: 3 × 4\u001b[39m\n",
      "  parameter   correlation ci_lower ci_upper\n",
      "  \u001b[3m\u001b[90m<fct>\u001b[39m\u001b[23m             \u001b[3m\u001b[90m<dbl>\u001b[39m\u001b[23m    \u001b[3m\u001b[90m<dbl>\u001b[39m\u001b[23m    \u001b[3m\u001b[90m<dbl>\u001b[39m\u001b[23m\n",
      "\u001b[90m1\u001b[39m G.variance        0.916    0.839    0.966\n",
      "\u001b[90m2\u001b[39m S.variance        0.713    0.402    0.911\n",
      "\u001b[90m3\u001b[39m 1 / S.decay       0.963    0.922    0.991\n"
     ]
    }
   ],
   "source": [
    "df_plot %>%\n",
    "    filter(point_type != \"different\") %>%\n",
    "    split(.$parameter) %>%  # parameter로 데이터 분할\n",
    "    map_dfr(function(data) {\n",
    "        res <- calculate_bootstrap_correlation(data)\n",
    "        tibble(\n",
    "            parameter = unique(data$parameter),\n",
    "            correlation = res$correlation,\n",
    "            ci_lower = res$ci_lower,\n",
    "            ci_upper = res$ci_upper\n",
    "        )\n",
    "    }) %>% \n",
    "    print()\n"
   ]
  },
  {
   "cell_type": "code",
   "execution_count": 12,
   "metadata": {
    "vscode": {
     "languageId": "r"
    }
   },
   "outputs": [
    {
     "name": "stderr",
     "output_type": "stream",
     "text": [
      "Warning message:\n",
      "“\u001b[1m\u001b[22mUsing `size` aesthetic for lines was deprecated in ggplot2 3.4.0.\n",
      "\u001b[36mℹ\u001b[39m Please use `linewidth` instead.”\n",
      "Warning message:\n",
      "“\u001b[1m\u001b[22mThe `size` argument of `element_line()` is deprecated as of ggplot2 3.4.0.\n",
      "\u001b[36mℹ\u001b[39m Please use the `linewidth` argument instead.”\n",
      "Warning message:\n",
      "“\u001b[1m\u001b[22mThe `size` argument of `element_rect()` is deprecated as of ggplot2 3.4.0.\n",
      "\u001b[36mℹ\u001b[39m Please use the `linewidth` argument instead.”\n"
     ]
    }
   ],
   "source": [
    "# 각 parameter별로 플롯 생성\n",
    "plot_list <- df_plot %>%\n",
    "    group_split(parameter) %>%\n",
    "    map2(1:3, function(df, idx) {\n",
    "        range_min <- min(c(df$x, df$y))\n",
    "        range_max <- max(c(df$x, df$y))\n",
    "        \n",
    "        base_plot <- ggplot(df, aes(x = x, y = y)) +\n",
    "            geom_abline(slope = 1, intercept = 0, linetype = \"dashed\", color = \"gray50\", size = 0.3) +\n",
    "            geom_point(\n",
    "                aes(shape = cohort, \n",
    "                    fill = point_type),\n",
    "                size = 2.5,\n",
    "                alpha = 0.8,\n",
    "                stroke = 0.2\n",
    "            ) +\n",
    "            scale_fill_manual(\n",
    "                name = \"Decaying\",\n",
    "                values = c(\n",
    "                    \"fast\" = \"#E64B35\",\n",
    "                    \"slow\" = \"#4DBBD5\",\n",
    "                    \"similar\" = \"#7E7E7E\",\n",
    "                    \"different\" = \"#CCCCCC\"  # 내부 색만 다르게\n",
    "                ),\n",
    "                breaks = c(\"fast\", \"slow\", \"similar\", \"different\")\n",
    "            ) +\n",
    "            scale_shape_manual(\n",
    "                name = \"Cohort\",\n",
    "                values = c(\"UKB\" = 21, \"GS\" = 24)\n",
    "            ) +\n",
    "            coord_fixed(ratio = 1) +\n",
    "            xlim(range_min, range_max) +\n",
    "            ylim(range_min, range_max) +\n",
    "            labs(x = \"Parent-Child\", \n",
    "                 y = \"Sibling\",\n",
    "                 title = unique(df$parameter)) +\n",
    "            get_nature_theme() +\n",
    "            theme(\n",
    "                plot.title = element_text(size = 8, hjust = 0.5)\n",
    "            )\n",
    "        \n",
    "        # 마지막 플롯이 아닌 경우 legend 제거\n",
    "        if (idx < 3) {\n",
    "            base_plot <- base_plot + theme(legend.position = \"none\")\n",
    "        }\n",
    "        \n",
    "        return(base_plot)\n",
    "    })\n",
    "\n",
    "# 플롯 합치기\n",
    "combined_plot <- wrap_plots(plot_list, ncol = 3)"
   ]
  },
  {
   "cell_type": "code",
   "execution_count": 13,
   "metadata": {
    "vscode": {
     "languageId": "r"
    }
   },
   "outputs": [
    {
     "data": {
      "image/png": "[encoded data removed]",
      "text/plain": [
       "plot without title"
      ]
     },
     "metadata": {
      "image/png": {
       "height": 420,
       "width": 420
      }
     },
     "output_type": "display_data"
    }
   ],
   "source": [
    "print(combined_plot)"
   ]
  },
  {
   "cell_type": "code",
   "execution_count": 111,
   "metadata": {
    "vscode": {
     "languageId": "r"
    }
   },
   "outputs": [],
   "source": [
    "# 파일 저장\n",
    "output_path <- paste0(\n",
    "    \"/data/jerrylee/pjt/BIGFAM.v.2.0/figures/po-sib.prediction.pdf\"\n",
    ")\n",
    "\n",
    "ggsave(\n",
    "    filename = output_path,\n",
    "    plot = combined_plot,\n",
    "    width = 183,\n",
    "    height = 60,\n",
    "    units = \"mm\",\n",
    "    dpi = 300\n",
    ")"
   ]
  },
  {
   "cell_type": "code",
   "execution_count": null,
   "metadata": {
    "vscode": {
     "languageId": "r"
    }
   },
   "outputs": [],
   "source": []
  }
 ],
 "metadata": {
  "kernelspec": {
   "display_name": "R",
   "language": "R",
   "name": "ir"
  },
  "language_info": {
   "codemirror_mode": "r",
   "file_extension": ".r",
   "mimetype": "text/x-r-source",
   "name": "R",
   "pygments_lexer": "r",
   "version": "4.3.1"
  }
 },
 "nbformat": 4,
 "nbformat_minor": 2
}
