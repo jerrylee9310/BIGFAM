{
 "cells": [
  {
   "cell_type": "code",
   "execution_count": 1,
   "metadata": {
    "vscode": {
     "languageId": "r"
    }
   },
   "outputs": [
    {
     "name": "stderr",
     "output_type": "stream",
     "text": [
      "\n",
      "다음의 패키지를 부착합니다: ‘dplyr’\n",
      "\n",
      "\n",
      "The following objects are masked from ‘package:data.table’:\n",
      "\n",
      "    between, first, last\n",
      "\n",
      "\n",
      "The following objects are masked from ‘package:stats’:\n",
      "\n",
      "    filter, lag\n",
      "\n",
      "\n",
      "The following objects are masked from ‘package:base’:\n",
      "\n",
      "    intersect, setdiff, setequal, union\n",
      "\n",
      "\n",
      "\n",
      "다음의 패키지를 부착합니다: ‘purrr’\n",
      "\n",
      "\n",
      "The following object is masked from ‘package:data.table’:\n",
      "\n",
      "    transpose\n",
      "\n",
      "\n",
      "\n",
      "다음의 패키지를 부착합니다: ‘scales’\n",
      "\n",
      "\n",
      "The following object is masked from ‘package:purrr’:\n",
      "\n",
      "    discard\n",
      "\n",
      "\n",
      "필요한 패키지를 로딩중입니다: extrafont\n",
      "\n",
      "Registering fonts with R\n",
      "\n",
      "cmex10 already registered with pdfFont().\n",
      "\n",
      "cmmi10 already registered with pdfFont().\n",
      "\n",
      "cmr10 already registered with pdfFont().\n",
      "\n",
      "cmsy10 already registered with pdfFont().\n",
      "\n",
      "DejaVu Sans already registered with pdfFont().\n",
      "\n",
      "DejaVu Sans Condensed already registered with pdfFont().\n",
      "\n",
      "DejaVu Sans Light already registered with pdfFont().\n",
      "\n",
      "esint10 already registered with pdfFont().\n",
      "\n",
      "eufm10 already registered with pdfFont().\n",
      "\n",
      "Liberation Mono already registered with pdfFont().\n",
      "\n",
      "msam10 already registered with pdfFont().\n",
      "\n",
      "msbm10 already registered with pdfFont().\n",
      "\n",
      "rsfs10 already registered with pdfFont().\n",
      "\n",
      "stmary10 already registered with pdfFont().\n",
      "\n",
      "wasy10 already registered with pdfFont().\n",
      "\n",
      "cmex10 already registered with postscriptFont().\n",
      "\n",
      "cmmi10 already registered with postscriptFont().\n",
      "\n",
      "cmr10 already registered with postscriptFont().\n",
      "\n",
      "cmsy10 already registered with postscriptFont().\n",
      "\n",
      "DejaVu Sans already registered with postscriptFont().\n",
      "\n",
      "DejaVu Sans Condensed already registered with postscriptFont().\n",
      "\n",
      "DejaVu Sans Light already registered with postscriptFont().\n",
      "\n",
      "esint10 already registered with postscriptFont().\n",
      "\n",
      "eufm10 already registered with postscriptFont().\n",
      "\n",
      "Liberation Mono already registered with postscriptFont().\n",
      "\n",
      "msam10 already registered with postscriptFont().\n",
      "\n",
      "msbm10 already registered with postscriptFont().\n",
      "\n",
      "rsfs10 already registered with postscriptFont().\n",
      "\n",
      "stmary10 already registered with postscriptFont().\n",
      "\n",
      "wasy10 already registered with postscriptFont().\n",
      "\n"
     ]
    }
   ],
   "source": [
    "library(ggplot2)\n",
    "library(data.table)\n",
    "library(dplyr)\n",
    "library(tidyr)\n",
    "library(purrr) \n",
    "library(scales)\n",
    "if (!require(extrafont)) install.packages(\"extrafont\")\n",
    "library(extrafont)\n",
    "\n",
    "# 3. 폰트 로드\n",
    "loadfonts()"
   ]
  },
  {
   "cell_type": "markdown",
   "metadata": {},
   "source": [
    "# Load data"
   ]
  },
  {
   "cell_type": "code",
   "execution_count": 2,
   "metadata": {
    "vscode": {
     "languageId": "r"
    }
   },
   "outputs": [
    {
     "data": {
      "text/html": [
       "<table class=\"dataframe\">\n",
       "<caption>A data.table: 6 × 20</caption>\n",
       "<thead>\n",
       "\t<tr><th scope=col>pheno</th><th scope=col>lambda</th><th scope=col>weight</th><th scope=col>Vx_male_bigfam</th><th scope=col>lower_male_Vx</th><th scope=col>upper_male_Vx</th><th scope=col>Vx_female_bigfam</th><th scope=col>lower_female_Vx</th><th scope=col>upper_female_Vx</th><th scope=col>r</th><th scope=col>lower_r</th><th scope=col>upper_r</th><th scope=col>DCR_bigfam</th><th scope=col>Vx_male_gcta</th><th scope=col>lower_Vx_male</th><th scope=col>upper_Vx_male</th><th scope=col>Vx_female_gcta</th><th scope=col>lower_Vx_female</th><th scope=col>upper_Vx_female</th><th scope=col>DCR_gcta</th></tr>\n",
       "\t<tr><th scope=col>&lt;chr&gt;</th><th scope=col>&lt;dbl&gt;</th><th scope=col>&lt;int&gt;</th><th scope=col>&lt;dbl&gt;</th><th scope=col>&lt;dbl&gt;</th><th scope=col>&lt;dbl&gt;</th><th scope=col>&lt;dbl&gt;</th><th scope=col>&lt;dbl&gt;</th><th scope=col>&lt;dbl&gt;</th><th scope=col>&lt;dbl&gt;</th><th scope=col>&lt;dbl&gt;</th><th scope=col>&lt;dbl&gt;</th><th scope=col>&lt;dbl&gt;</th><th scope=col>&lt;dbl&gt;</th><th scope=col>&lt;dbl&gt;</th><th scope=col>&lt;dbl&gt;</th><th scope=col>&lt;dbl&gt;</th><th scope=col>&lt;dbl&gt;</th><th scope=col>&lt;dbl&gt;</th><th scope=col>&lt;dbl&gt;</th></tr>\n",
       "</thead>\n",
       "<tbody>\n",
       "\t<tr><td>Hand_grip_strength__left_</td><td>0.3082598</td><td>-1</td><td>0.028120096</td><td>6.194448e-05</td><td>0.068960681</td><td>0.049583607</td><td>0.0210166214</td><td>0.073321883</td><td> 1</td><td>-1</td><td>1</td><td>0.5671249</td><td>0.00605859</td><td>0.001532726</td><td>0.01058446</td><td>0.006664700</td><td>0.002830292</td><td>0.01049911</td><td>0.9090567</td></tr>\n",
       "\t<tr><td>Hand_grip_strength__left_</td><td>0.3082598</td><td> 0</td><td>0.012344377</td><td>1.424603e-04</td><td>0.030939373</td><td>0.018756488</td><td>0.0076233964</td><td>0.031374327</td><td> 1</td><td>-1</td><td>1</td><td>0.6581390</td><td>0.00605859</td><td>0.001532726</td><td>0.01058446</td><td>0.006664700</td><td>0.002830292</td><td>0.01049911</td><td>0.9090567</td></tr>\n",
       "\t<tr><td>Hand_grip_strength__left_</td><td>0.3082598</td><td> 1</td><td>0.004108955</td><td>3.518051e-06</td><td>0.014277353</td><td>0.005925045</td><td>0.0026328554</td><td>0.010593254</td><td> 1</td><td>-1</td><td>1</td><td>0.6934892</td><td>0.00605859</td><td>0.001532726</td><td>0.01058446</td><td>0.006664700</td><td>0.002830292</td><td>0.01049911</td><td>0.9090567</td></tr>\n",
       "\t<tr><td>Hand_grip_strength__left_</td><td>0.3082598</td><td> 2</td><td>0.001705526</td><td>1.253098e-05</td><td>0.004957134</td><td>0.002044821</td><td>0.0008516356</td><td>0.003483356</td><td> 1</td><td>-1</td><td>1</td><td>0.8340713</td><td>0.00605859</td><td>0.001532726</td><td>0.01058446</td><td>0.006664700</td><td>0.002830292</td><td>0.01049911</td><td>0.9090567</td></tr>\n",
       "\t<tr><td>Arm_fat-free_mass__right_</td><td>0.6025213</td><td>-2</td><td>0.036544017</td><td>6.087865e-04</td><td>0.070395454</td><td>0.028818956</td><td>0.0017698849</td><td>0.049317839</td><td>-1</td><td>-1</td><td>1</td><td>1.2680549</td><td>0.01466950</td><td>0.009790133</td><td>0.01954888</td><td>0.007923873</td><td>0.003957212</td><td>0.01189053</td><td>1.8513048</td></tr>\n",
       "\t<tr><td>Arm_fat-free_mass__right_</td><td>0.6025213</td><td>-1</td><td>0.025623753</td><td>2.978918e-03</td><td>0.067333240</td><td>0.019622977</td><td>0.0082854833</td><td>0.031759099</td><td>-1</td><td>-1</td><td>1</td><td>1.3058035</td><td>0.01466950</td><td>0.009790133</td><td>0.01954888</td><td>0.007923873</td><td>0.003957212</td><td>0.01189053</td><td>1.8513048</td></tr>\n",
       "</tbody>\n",
       "</table>\n"
      ],
      "text/latex": [
       "A data.table: 6 × 20\n",
       "\\begin{tabular}{llllllllllllllllllll}\n",
       " pheno & lambda & weight & Vx\\_male\\_bigfam & lower\\_male\\_Vx & upper\\_male\\_Vx & Vx\\_female\\_bigfam & lower\\_female\\_Vx & upper\\_female\\_Vx & r & lower\\_r & upper\\_r & DCR\\_bigfam & Vx\\_male\\_gcta & lower\\_Vx\\_male & upper\\_Vx\\_male & Vx\\_female\\_gcta & lower\\_Vx\\_female & upper\\_Vx\\_female & DCR\\_gcta\\\\\n",
       " <chr> & <dbl> & <int> & <dbl> & <dbl> & <dbl> & <dbl> & <dbl> & <dbl> & <dbl> & <dbl> & <dbl> & <dbl> & <dbl> & <dbl> & <dbl> & <dbl> & <dbl> & <dbl> & <dbl>\\\\\n",
       "\\hline\n",
       "\t Hand\\_grip\\_strength\\_\\_left\\_ & 0.3082598 & -1 & 0.028120096 & 6.194448e-05 & 0.068960681 & 0.049583607 & 0.0210166214 & 0.073321883 &  1 & -1 & 1 & 0.5671249 & 0.00605859 & 0.001532726 & 0.01058446 & 0.006664700 & 0.002830292 & 0.01049911 & 0.9090567\\\\\n",
       "\t Hand\\_grip\\_strength\\_\\_left\\_ & 0.3082598 &  0 & 0.012344377 & 1.424603e-04 & 0.030939373 & 0.018756488 & 0.0076233964 & 0.031374327 &  1 & -1 & 1 & 0.6581390 & 0.00605859 & 0.001532726 & 0.01058446 & 0.006664700 & 0.002830292 & 0.01049911 & 0.9090567\\\\\n",
       "\t Hand\\_grip\\_strength\\_\\_left\\_ & 0.3082598 &  1 & 0.004108955 & 3.518051e-06 & 0.014277353 & 0.005925045 & 0.0026328554 & 0.010593254 &  1 & -1 & 1 & 0.6934892 & 0.00605859 & 0.001532726 & 0.01058446 & 0.006664700 & 0.002830292 & 0.01049911 & 0.9090567\\\\\n",
       "\t Hand\\_grip\\_strength\\_\\_left\\_ & 0.3082598 &  2 & 0.001705526 & 1.253098e-05 & 0.004957134 & 0.002044821 & 0.0008516356 & 0.003483356 &  1 & -1 & 1 & 0.8340713 & 0.00605859 & 0.001532726 & 0.01058446 & 0.006664700 & 0.002830292 & 0.01049911 & 0.9090567\\\\\n",
       "\t Arm\\_fat-free\\_mass\\_\\_right\\_ & 0.6025213 & -2 & 0.036544017 & 6.087865e-04 & 0.070395454 & 0.028818956 & 0.0017698849 & 0.049317839 & -1 & -1 & 1 & 1.2680549 & 0.01466950 & 0.009790133 & 0.01954888 & 0.007923873 & 0.003957212 & 0.01189053 & 1.8513048\\\\\n",
       "\t Arm\\_fat-free\\_mass\\_\\_right\\_ & 0.6025213 & -1 & 0.025623753 & 2.978918e-03 & 0.067333240 & 0.019622977 & 0.0082854833 & 0.031759099 & -1 & -1 & 1 & 1.3058035 & 0.01466950 & 0.009790133 & 0.01954888 & 0.007923873 & 0.003957212 & 0.01189053 & 1.8513048\\\\\n",
       "\\end{tabular}\n"
      ],
      "text/markdown": [
       "\n",
       "A data.table: 6 × 20\n",
       "\n",
       "| pheno &lt;chr&gt; | lambda &lt;dbl&gt; | weight &lt;int&gt; | Vx_male_bigfam &lt;dbl&gt; | lower_male_Vx &lt;dbl&gt; | upper_male_Vx &lt;dbl&gt; | Vx_female_bigfam &lt;dbl&gt; | lower_female_Vx &lt;dbl&gt; | upper_female_Vx &lt;dbl&gt; | r &lt;dbl&gt; | lower_r &lt;dbl&gt; | upper_r &lt;dbl&gt; | DCR_bigfam &lt;dbl&gt; | Vx_male_gcta &lt;dbl&gt; | lower_Vx_male &lt;dbl&gt; | upper_Vx_male &lt;dbl&gt; | Vx_female_gcta &lt;dbl&gt; | lower_Vx_female &lt;dbl&gt; | upper_Vx_female &lt;dbl&gt; | DCR_gcta &lt;dbl&gt; |\n",
       "|---|---|---|---|---|---|---|---|---|---|---|---|---|---|---|---|---|---|---|---|\n",
       "| Hand_grip_strength__left_ | 0.3082598 | -1 | 0.028120096 | 6.194448e-05 | 0.068960681 | 0.049583607 | 0.0210166214 | 0.073321883 |  1 | -1 | 1 | 0.5671249 | 0.00605859 | 0.001532726 | 0.01058446 | 0.006664700 | 0.002830292 | 0.01049911 | 0.9090567 |\n",
       "| Hand_grip_strength__left_ | 0.3082598 |  0 | 0.012344377 | 1.424603e-04 | 0.030939373 | 0.018756488 | 0.0076233964 | 0.031374327 |  1 | -1 | 1 | 0.6581390 | 0.00605859 | 0.001532726 | 0.01058446 | 0.006664700 | 0.002830292 | 0.01049911 | 0.9090567 |\n",
       "| Hand_grip_strength__left_ | 0.3082598 |  1 | 0.004108955 | 3.518051e-06 | 0.014277353 | 0.005925045 | 0.0026328554 | 0.010593254 |  1 | -1 | 1 | 0.6934892 | 0.00605859 | 0.001532726 | 0.01058446 | 0.006664700 | 0.002830292 | 0.01049911 | 0.9090567 |\n",
       "| Hand_grip_strength__left_ | 0.3082598 |  2 | 0.001705526 | 1.253098e-05 | 0.004957134 | 0.002044821 | 0.0008516356 | 0.003483356 |  1 | -1 | 1 | 0.8340713 | 0.00605859 | 0.001532726 | 0.01058446 | 0.006664700 | 0.002830292 | 0.01049911 | 0.9090567 |\n",
       "| Arm_fat-free_mass__right_ | 0.6025213 | -2 | 0.036544017 | 6.087865e-04 | 0.070395454 | 0.028818956 | 0.0017698849 | 0.049317839 | -1 | -1 | 1 | 1.2680549 | 0.01466950 | 0.009790133 | 0.01954888 | 0.007923873 | 0.003957212 | 0.01189053 | 1.8513048 |\n",
       "| Arm_fat-free_mass__right_ | 0.6025213 | -1 | 0.025623753 | 2.978918e-03 | 0.067333240 | 0.019622977 | 0.0082854833 | 0.031759099 | -1 | -1 | 1 | 1.3058035 | 0.01466950 | 0.009790133 | 0.01954888 | 0.007923873 | 0.003957212 | 0.01189053 | 1.8513048 |\n",
       "\n"
      ],
      "text/plain": [
       "  pheno                     lambda    weight Vx_male_bigfam lower_male_Vx\n",
       "1 Hand_grip_strength__left_ 0.3082598 -1     0.028120096    6.194448e-05 \n",
       "2 Hand_grip_strength__left_ 0.3082598  0     0.012344377    1.424603e-04 \n",
       "3 Hand_grip_strength__left_ 0.3082598  1     0.004108955    3.518051e-06 \n",
       "4 Hand_grip_strength__left_ 0.3082598  2     0.001705526    1.253098e-05 \n",
       "5 Arm_fat-free_mass__right_ 0.6025213 -2     0.036544017    6.087865e-04 \n",
       "6 Arm_fat-free_mass__right_ 0.6025213 -1     0.025623753    2.978918e-03 \n",
       "  upper_male_Vx Vx_female_bigfam lower_female_Vx upper_female_Vx r  lower_r\n",
       "1 0.068960681   0.049583607      0.0210166214    0.073321883      1 -1     \n",
       "2 0.030939373   0.018756488      0.0076233964    0.031374327      1 -1     \n",
       "3 0.014277353   0.005925045      0.0026328554    0.010593254      1 -1     \n",
       "4 0.004957134   0.002044821      0.0008516356    0.003483356      1 -1     \n",
       "5 0.070395454   0.028818956      0.0017698849    0.049317839     -1 -1     \n",
       "6 0.067333240   0.019622977      0.0082854833    0.031759099     -1 -1     \n",
       "  upper_r DCR_bigfam Vx_male_gcta lower_Vx_male upper_Vx_male Vx_female_gcta\n",
       "1 1       0.5671249  0.00605859   0.001532726   0.01058446    0.006664700   \n",
       "2 1       0.6581390  0.00605859   0.001532726   0.01058446    0.006664700   \n",
       "3 1       0.6934892  0.00605859   0.001532726   0.01058446    0.006664700   \n",
       "4 1       0.8340713  0.00605859   0.001532726   0.01058446    0.006664700   \n",
       "5 1       1.2680549  0.01466950   0.009790133   0.01954888    0.007923873   \n",
       "6 1       1.3058035  0.01466950   0.009790133   0.01954888    0.007923873   \n",
       "  lower_Vx_female upper_Vx_female DCR_gcta \n",
       "1 0.002830292     0.01049911      0.9090567\n",
       "2 0.002830292     0.01049911      0.9090567\n",
       "3 0.002830292     0.01049911      0.9090567\n",
       "4 0.002830292     0.01049911      0.9090567\n",
       "5 0.003957212     0.01189053      1.8513048\n",
       "6 0.003957212     0.01189053      1.8513048"
      ]
     },
     "metadata": {},
     "output_type": "display_data"
    }
   ],
   "source": [
    "df <- fread(\n",
    "    \"/data/jerrylee/pjt/BIGFAM.v.2.0/data/supple/UKB.DCR.varying-alpha.tsv\",\n",
    "    sep = '\\t'\n",
    ")\n",
    "df %>% head()"
   ]
  },
  {
   "cell_type": "markdown",
   "metadata": {},
   "source": [
    "# plot theme"
   ]
  },
  {
   "cell_type": "code",
   "execution_count": 3,
   "metadata": {
    "vscode": {
     "languageId": "r"
    }
   },
   "outputs": [],
   "source": [
    "# 공통 테마 함수 정의\n",
    "get_nature_theme <- function() {\n",
    "    theme_bw() +\n",
    "    theme(\n",
    "        # 전체적인 배경\n",
    "        panel.background = element_rect(fill = NA, color = NA),\n",
    "        panel.grid.major = element_blank(),\n",
    "        panel.grid.minor = element_blank(),\n",
    "        panel.border = element_rect(color = \"black\", fill = NA, size = 0.6),  # size로 선 굵기 조절\n",
    "        \n",
    "        # panel.border = element_blank(),  \n",
    "        \n",
    "        # 축 설정\n",
    "        # axis.line.x.top = element_line(color = \"black\", size = 0.3),  \n",
    "        # axis.line.y.right = element_line(color = \"black\", size = 0.3),  \n",
    "        # axis.line.x.bottom = element_line(color = \"black\", size = 0.3),  \n",
    "        # axis.line.y.left = element_line(color = \"black\", size = 0.3),    \n",
    "        axis.text = element_text(size = 6.5, color = \"black\"),\n",
    "        axis.title = element_text(size = 7.5, color = \"black\"),\n",
    "        axis.ticks = element_line(size = 0.3),\n",
    "        axis.ticks.length = unit(0.8, \"mm\"),\n",
    "        \n",
    "        # 메인 figure에 박스 추가\n",
    "        # plot.background = element_rect(color = \"black\", fill = NA),\n",
    "        \n",
    "        # legend 박스 제거\n",
    "        legend.box.background = element_blank(),  # 이전: element_rect(color = \"black\")\n",
    "        \n",
    "        # 범례 설정\n",
    "        legend.margin = margin(1, 1, 1, 1, unit = \"mm\"),\n",
    "        # legend.spacing.y = unit(0.1, \"cm\"),\n",
    "        \n",
    "        # 여백 설정\n",
    "        # plot.margin = unit(c(0.1, 0.2, 0.1, 0.1), \"cm\")\n",
    "        plot.margin = margin(2, 4, 0, 1, unit = \"mm\")\n",
    "    ) + \n",
    "    theme(\n",
    "        # 기본 텍스트 설정\n",
    "        text = element_text(),\n",
    "        \n",
    "        # 축 제목\n",
    "        axis.title = element_text(size = 12),\n",
    "        \n",
    "        # 축 텍스트\n",
    "        axis.text = element_text(size = 10),\n",
    "        \n",
    "        # 범례\n",
    "        legend.text = element_text(size = 10),\n",
    "        legend.title = element_text(size = 10),\n",
    "        \n",
    "        # 플롯 제목\n",
    "        plot.title = element_text(size = 10, face = \"bold\"),\n",
    "        \n",
    "        # 축 설정\n",
    "        axis.line = element_line(colour = \"black\", size = 0.5),\n",
    "        axis.ticks = element_line(colour = \"black\", size = 0.5),\n",
    "        \n",
    "        # 패널 설정\n",
    "        panel.grid = element_blank(),\n",
    "        panel.border = element_blank(),\n",
    "        panel.background = element_blank(),\n",
    "    )\n",
    "}"
   ]
  },
  {
   "cell_type": "markdown",
   "metadata": {},
   "source": [
    "# plot"
   ]
  },
  {
   "cell_type": "code",
   "execution_count": 4,
   "metadata": {
    "vscode": {
     "languageId": "r"
    }
   },
   "outputs": [
    {
     "data": {
      "text/html": [
       "<table class=\"dataframe\">\n",
       "<caption>A data.table: 11 × 10</caption>\n",
       "<thead>\n",
       "\t<tr><th scope=col>weight</th><th scope=col>correlation</th><th scope=col>cor_ci_lower</th><th scope=col>cor_ci_upper</th><th scope=col>mean_bigfam</th><th scope=col>mean_bigfam_ci_lower</th><th scope=col>mean_bigfam_ci_upper</th><th scope=col>mean_gcta</th><th scope=col>mean_gcta_ci_lower</th><th scope=col>mean_gcta_ci_upper</th></tr>\n",
       "\t<tr><th scope=col>&lt;int&gt;</th><th scope=col>&lt;dbl&gt;</th><th scope=col>&lt;dbl&gt;</th><th scope=col>&lt;dbl&gt;</th><th scope=col>&lt;dbl&gt;</th><th scope=col>&lt;dbl&gt;</th><th scope=col>&lt;dbl&gt;</th><th scope=col>&lt;dbl&gt;</th><th scope=col>&lt;dbl&gt;</th><th scope=col>&lt;dbl&gt;</th></tr>\n",
       "</thead>\n",
       "<tbody>\n",
       "\t<tr><td>-1</td><td>0.46312858</td><td> 0.14522514</td><td>0.6794189</td><td>1.569274</td><td>1.393423</td><td>1.744535</td><td>1.774323</td><td>1.623918</td><td>1.917504</td></tr>\n",
       "\t<tr><td> 0</td><td>0.44216360</td><td> 0.05248678</td><td>0.6998111</td><td>1.659483</td><td>1.478642</td><td>1.823885</td><td>1.810141</td><td>1.639747</td><td>1.971014</td></tr>\n",
       "\t<tr><td> 1</td><td>0.61256747</td><td> 0.27206402</td><td>0.7999157</td><td>1.752257</td><td>1.543231</td><td>1.946644</td><td>1.732504</td><td>1.585667</td><td>1.878307</td></tr>\n",
       "\t<tr><td> 2</td><td>0.63689282</td><td> 0.37229112</td><td>0.8359196</td><td>1.882524</td><td>1.669780</td><td>2.078474</td><td>1.781633</td><td>1.616823</td><td>1.920588</td></tr>\n",
       "\t<tr><td>-2</td><td>0.09145509</td><td>-0.30557298</td><td>0.4594555</td><td>1.460530</td><td>1.289147</td><td>1.640867</td><td>1.831603</td><td>1.703285</td><td>1.972517</td></tr>\n",
       "\t<tr><td> 3</td><td>0.62370795</td><td> 0.34768047</td><td>0.8286401</td><td>1.967136</td><td>1.764535</td><td>2.129947</td><td>1.832869</td><td>1.677851</td><td>2.001427</td></tr>\n",
       "\t<tr><td> 4</td><td>0.57689788</td><td> 0.33236109</td><td>0.7852538</td><td>1.951185</td><td>1.753903</td><td>2.131180</td><td>1.832869</td><td>1.662112</td><td>2.002636</td></tr>\n",
       "\t<tr><td> 5</td><td>0.68963829</td><td> 0.36077257</td><td>0.8458281</td><td>1.948573</td><td>1.773246</td><td>2.109647</td><td>1.855447</td><td>1.698378</td><td>2.021613</td></tr>\n",
       "\t<tr><td> 6</td><td>0.61265834</td><td> 0.21423569</td><td>0.8295903</td><td>1.979110</td><td>1.809973</td><td>2.127955</td><td>1.855650</td><td>1.696233</td><td>2.032899</td></tr>\n",
       "\t<tr><td> 7</td><td>0.27279496</td><td>-0.12728111</td><td>0.6098848</td><td>2.010292</td><td>1.844451</td><td>2.179159</td><td>1.891147</td><td>1.737644</td><td>2.060757</td></tr>\n",
       "\t<tr><td> 8</td><td>0.50199319</td><td>-0.02904573</td><td>0.7992881</td><td>1.980193</td><td>1.859963</td><td>2.095343</td><td>1.891655</td><td>1.702629</td><td>2.099103</td></tr>\n",
       "</tbody>\n",
       "</table>\n"
      ],
      "text/latex": [
       "A data.table: 11 × 10\n",
       "\\begin{tabular}{llllllllll}\n",
       " weight & correlation & cor\\_ci\\_lower & cor\\_ci\\_upper & mean\\_bigfam & mean\\_bigfam\\_ci\\_lower & mean\\_bigfam\\_ci\\_upper & mean\\_gcta & mean\\_gcta\\_ci\\_lower & mean\\_gcta\\_ci\\_upper\\\\\n",
       " <int> & <dbl> & <dbl> & <dbl> & <dbl> & <dbl> & <dbl> & <dbl> & <dbl> & <dbl>\\\\\n",
       "\\hline\n",
       "\t -1 & 0.46312858 &  0.14522514 & 0.6794189 & 1.569274 & 1.393423 & 1.744535 & 1.774323 & 1.623918 & 1.917504\\\\\n",
       "\t  0 & 0.44216360 &  0.05248678 & 0.6998111 & 1.659483 & 1.478642 & 1.823885 & 1.810141 & 1.639747 & 1.971014\\\\\n",
       "\t  1 & 0.61256747 &  0.27206402 & 0.7999157 & 1.752257 & 1.543231 & 1.946644 & 1.732504 & 1.585667 & 1.878307\\\\\n",
       "\t  2 & 0.63689282 &  0.37229112 & 0.8359196 & 1.882524 & 1.669780 & 2.078474 & 1.781633 & 1.616823 & 1.920588\\\\\n",
       "\t -2 & 0.09145509 & -0.30557298 & 0.4594555 & 1.460530 & 1.289147 & 1.640867 & 1.831603 & 1.703285 & 1.972517\\\\\n",
       "\t  3 & 0.62370795 &  0.34768047 & 0.8286401 & 1.967136 & 1.764535 & 2.129947 & 1.832869 & 1.677851 & 2.001427\\\\\n",
       "\t  4 & 0.57689788 &  0.33236109 & 0.7852538 & 1.951185 & 1.753903 & 2.131180 & 1.832869 & 1.662112 & 2.002636\\\\\n",
       "\t  5 & 0.68963829 &  0.36077257 & 0.8458281 & 1.948573 & 1.773246 & 2.109647 & 1.855447 & 1.698378 & 2.021613\\\\\n",
       "\t  6 & 0.61265834 &  0.21423569 & 0.8295903 & 1.979110 & 1.809973 & 2.127955 & 1.855650 & 1.696233 & 2.032899\\\\\n",
       "\t  7 & 0.27279496 & -0.12728111 & 0.6098848 & 2.010292 & 1.844451 & 2.179159 & 1.891147 & 1.737644 & 2.060757\\\\\n",
       "\t  8 & 0.50199319 & -0.02904573 & 0.7992881 & 1.980193 & 1.859963 & 2.095343 & 1.891655 & 1.702629 & 2.099103\\\\\n",
       "\\end{tabular}\n"
      ],
      "text/markdown": [
       "\n",
       "A data.table: 11 × 10\n",
       "\n",
       "| weight &lt;int&gt; | correlation &lt;dbl&gt; | cor_ci_lower &lt;dbl&gt; | cor_ci_upper &lt;dbl&gt; | mean_bigfam &lt;dbl&gt; | mean_bigfam_ci_lower &lt;dbl&gt; | mean_bigfam_ci_upper &lt;dbl&gt; | mean_gcta &lt;dbl&gt; | mean_gcta_ci_lower &lt;dbl&gt; | mean_gcta_ci_upper &lt;dbl&gt; |\n",
       "|---|---|---|---|---|---|---|---|---|---|\n",
       "| -1 | 0.46312858 |  0.14522514 | 0.6794189 | 1.569274 | 1.393423 | 1.744535 | 1.774323 | 1.623918 | 1.917504 |\n",
       "|  0 | 0.44216360 |  0.05248678 | 0.6998111 | 1.659483 | 1.478642 | 1.823885 | 1.810141 | 1.639747 | 1.971014 |\n",
       "|  1 | 0.61256747 |  0.27206402 | 0.7999157 | 1.752257 | 1.543231 | 1.946644 | 1.732504 | 1.585667 | 1.878307 |\n",
       "|  2 | 0.63689282 |  0.37229112 | 0.8359196 | 1.882524 | 1.669780 | 2.078474 | 1.781633 | 1.616823 | 1.920588 |\n",
       "| -2 | 0.09145509 | -0.30557298 | 0.4594555 | 1.460530 | 1.289147 | 1.640867 | 1.831603 | 1.703285 | 1.972517 |\n",
       "|  3 | 0.62370795 |  0.34768047 | 0.8286401 | 1.967136 | 1.764535 | 2.129947 | 1.832869 | 1.677851 | 2.001427 |\n",
       "|  4 | 0.57689788 |  0.33236109 | 0.7852538 | 1.951185 | 1.753903 | 2.131180 | 1.832869 | 1.662112 | 2.002636 |\n",
       "|  5 | 0.68963829 |  0.36077257 | 0.8458281 | 1.948573 | 1.773246 | 2.109647 | 1.855447 | 1.698378 | 2.021613 |\n",
       "|  6 | 0.61265834 |  0.21423569 | 0.8295903 | 1.979110 | 1.809973 | 2.127955 | 1.855650 | 1.696233 | 2.032899 |\n",
       "|  7 | 0.27279496 | -0.12728111 | 0.6098848 | 2.010292 | 1.844451 | 2.179159 | 1.891147 | 1.737644 | 2.060757 |\n",
       "|  8 | 0.50199319 | -0.02904573 | 0.7992881 | 1.980193 | 1.859963 | 2.095343 | 1.891655 | 1.702629 | 2.099103 |\n",
       "\n"
      ],
      "text/plain": [
       "   weight correlation cor_ci_lower cor_ci_upper mean_bigfam\n",
       "1  -1     0.46312858   0.14522514  0.6794189    1.569274   \n",
       "2   0     0.44216360   0.05248678  0.6998111    1.659483   \n",
       "3   1     0.61256747   0.27206402  0.7999157    1.752257   \n",
       "4   2     0.63689282   0.37229112  0.8359196    1.882524   \n",
       "5  -2     0.09145509  -0.30557298  0.4594555    1.460530   \n",
       "6   3     0.62370795   0.34768047  0.8286401    1.967136   \n",
       "7   4     0.57689788   0.33236109  0.7852538    1.951185   \n",
       "8   5     0.68963829   0.36077257  0.8458281    1.948573   \n",
       "9   6     0.61265834   0.21423569  0.8295903    1.979110   \n",
       "10  7     0.27279496  -0.12728111  0.6098848    2.010292   \n",
       "11  8     0.50199319  -0.02904573  0.7992881    1.980193   \n",
       "   mean_bigfam_ci_lower mean_bigfam_ci_upper mean_gcta mean_gcta_ci_lower\n",
       "1  1.393423             1.744535             1.774323  1.623918          \n",
       "2  1.478642             1.823885             1.810141  1.639747          \n",
       "3  1.543231             1.946644             1.732504  1.585667          \n",
       "4  1.669780             2.078474             1.781633  1.616823          \n",
       "5  1.289147             1.640867             1.831603  1.703285          \n",
       "6  1.764535             2.129947             1.832869  1.677851          \n",
       "7  1.753903             2.131180             1.832869  1.662112          \n",
       "8  1.773246             2.109647             1.855447  1.698378          \n",
       "9  1.809973             2.127955             1.855650  1.696233          \n",
       "10 1.844451             2.179159             1.891147  1.737644          \n",
       "11 1.859963             2.095343             1.891655  1.702629          \n",
       "   mean_gcta_ci_upper\n",
       "1  1.917504          \n",
       "2  1.971014          \n",
       "3  1.878307          \n",
       "4  1.920588          \n",
       "5  1.972517          \n",
       "6  2.001427          \n",
       "7  2.002636          \n",
       "8  2.021613          \n",
       "9  2.032899          \n",
       "10 2.060757          \n",
       "11 2.099103          "
      ]
     },
     "metadata": {},
     "output_type": "display_data"
    }
   ],
   "source": [
    "# data.table을 사용하도록 수정\n",
    "results <- df[, {\n",
    "    # 각 weight 그룹별 데이터\n",
    "    group_data <- .SD\n",
    "    \n",
    "    # 기본 통계량 계산\n",
    "    base_stats <- list(\n",
    "        correlation = cor(DCR_bigfam, DCR_gcta, use = \"complete.obs\"),\n",
    "        mean_bigfam = mean(DCR_bigfam, na.rm = TRUE),\n",
    "        mean_gcta = mean(DCR_gcta, na.rm = TRUE)\n",
    "    )\n",
    "    \n",
    "    # 부트스트랩 CI 계산\n",
    "    boot_results <- replicate(1000, {\n",
    "        idx <- sample(1:.N, replace = TRUE)\n",
    "        boot_data <- group_data[idx]\n",
    "        list(\n",
    "            correlation = cor(boot_data$DCR_bigfam, boot_data$DCR_gcta, use = \"complete.obs\"),\n",
    "            mean_bigfam = mean(boot_data$DCR_bigfam, na.rm = TRUE),\n",
    "            mean_gcta = mean(boot_data$DCR_gcta, na.rm = TRUE)\n",
    "        )\n",
    "    }, simplify = FALSE)\n",
    "    \n",
    "    # CI 계산\n",
    "    cors <- sapply(boot_results, function(x) x$correlation)\n",
    "    means_bigfam <- sapply(boot_results, function(x) x$mean_bigfam)\n",
    "    means_gcta <- sapply(boot_results, function(x) x$mean_gcta)\n",
    "    \n",
    "    list(\n",
    "        correlation = base_stats$correlation,\n",
    "        cor_ci_lower = quantile(cors, 0.025, na.rm = TRUE),\n",
    "        cor_ci_upper = quantile(cors, 0.975, na.rm = TRUE),\n",
    "        mean_bigfam = base_stats$mean_bigfam,\n",
    "        mean_bigfam_ci_lower = quantile(means_bigfam, 0.025, na.rm = TRUE),\n",
    "        mean_bigfam_ci_upper = quantile(means_bigfam, 0.975, na.rm = TRUE),\n",
    "        mean_gcta = base_stats$mean_gcta,\n",
    "        mean_gcta_ci_lower = quantile(means_gcta, 0.025, na.rm = TRUE),\n",
    "        mean_gcta_ci_upper = quantile(means_gcta, 0.975, na.rm = TRUE)\n",
    "    )\n",
    "}, by = weight]\n",
    "\n",
    "# 결과 출력\n",
    "results"
   ]
  },
  {
   "cell_type": "code",
   "execution_count": 5,
   "metadata": {
    "vscode": {
     "languageId": "r"
    }
   },
   "outputs": [
    {
     "name": "stderr",
     "output_type": "stream",
     "text": [
      "Warning message:\n",
      "“\u001b[1m\u001b[22mUsing `size` aesthetic for lines was deprecated in ggplot2 3.4.0.\n",
      "\u001b[36mℹ\u001b[39m Please use `linewidth` instead.”\n",
      "Warning message:\n",
      "“\u001b[1m\u001b[22mThe `size` argument of `element_line()` is deprecated as of ggplot2 3.4.0.\n",
      "\u001b[36mℹ\u001b[39m Please use the `linewidth` argument instead.”\n",
      "Warning message:\n",
      "“\u001b[1m\u001b[22mThe `size` argument of `element_rect()` is deprecated as of ggplot2 3.4.0.\n",
      "\u001b[36mℹ\u001b[39m Please use the `linewidth` argument instead.”\n"
     ]
    },
    {
     "data": {
      "image/png": "[encoded data removed]",
      "text/plain": [
       "plot without title"
      ]
     },
     "metadata": {
      "image/png": {
       "height": 420,
       "width": 420
      }
     },
     "output_type": "display_data"
    }
   ],
   "source": [
    "# 데이터 준비를 위해 긴 형태(long format)로 변환\n",
    "results_long <- rbind(\n",
    "    data.table(\n",
    "        weight = results$weight,\n",
    "        mean = results$mean_bigfam,\n",
    "        ci_lower = results$mean_bigfam_ci_lower,\n",
    "        ci_upper = results$mean_bigfam_ci_upper,\n",
    "        method = \"BIGFAM\"\n",
    "    ),\n",
    "    data.table(\n",
    "        weight = results$weight,\n",
    "        mean = results$mean_gcta,\n",
    "        ci_lower = results$mean_gcta_ci_lower,\n",
    "        ci_upper = results$mean_gcta_ci_upper,\n",
    "        method = \"GCTA\"\n",
    "    )\n",
    ")\n",
    "\n",
    "# Nature Genetics 스타일의 색상\n",
    "ng_colors <- c(\"BIGFAM\" = \"#2A4E9D\", \"GCTA\" = \"#E64B35\")\n",
    "\n",
    "# 플롯 생성\n",
    "p <- ggplot(results_long, aes(x = weight, y = mean, color = method)) +\n",
    "    # reference lines\n",
    "    geom_hline(yintercept = c(0.5, 2), linetype = \"dashed\", color = \"grey50\", size = 0.3) +\n",
    "    # 신뢰구간\n",
    "    geom_ribbon(aes(ymin = ci_lower, ymax = ci_upper, fill = method), \n",
    "                alpha = 0.2, color = NA) +\n",
    "    # 평균선\n",
    "    geom_line(size = 0.8) +\n",
    "    # 포인트\n",
    "    geom_point(size = 2) +\n",
    "    # 스타일링\n",
    "    scale_color_manual(values = ng_colors) +\n",
    "    scale_fill_manual(values = ng_colors) +\n",
    "    scale_x_continuous(\n",
    "        breaks = seq(-2, 8)\n",
    "        # limits = c(1, 3),\n",
    "        # expand = c(0.1, 0.1)\n",
    "        ) + \n",
    "    get_nature_theme() +\n",
    "    labs(\n",
    "        x = paste0(\"L2 weight\"),\n",
    "        y = \"Avg. DCR\",\n",
    "        color = \"Method\",\n",
    "        fill = \"Method\"\n",
    "    ) +\n",
    "    theme(\n",
    "        legend.position = \"top\",\n",
    "        legend.box.spacing = unit(1, \"mm\"),\n",
    "        legend.key.size = unit(4, \"mm\")\n",
    "    )\n",
    "\n",
    "# 플롯 출력\n",
    "print(p)\n"
   ]
  },
  {
   "cell_type": "code",
   "execution_count": 6,
   "metadata": {
    "vscode": {
     "languageId": "r"
    }
   },
   "outputs": [],
   "source": [
    "# 저장 (필요한 경우)\n",
    "ggsave(\n",
    "    filename = \"/data/jerrylee/pjt/BIGFAM.v.2.0/figures/X.DCR.BIGFAM-vs-GCTA.varying-alpha.pdf\",\n",
    "    plot = p,\n",
    "    width = 85,\n",
    "    height = 46,\n",
    "    units = \"mm\",\n",
    "    dpi = 300\n",
    ")"
   ]
  },
  {
   "cell_type": "code",
   "execution_count": 31,
   "metadata": {
    "vscode": {
     "languageId": "r"
    }
   },
   "outputs": [
    {
     "data": {
      "image/png": "[encoded data removed]",
      "text/plain": [
       "plot without title"
      ]
     },
     "metadata": {
      "image/png": {
       "height": 420,
       "width": 420
      }
     },
     "output_type": "display_data"
    }
   ],
   "source": [
    "# correlation 플롯 생성\n",
    "p_cor <- ggplot(results, aes(x = weight, y = correlation)) +\n",
    "    # 신뢰구간\n",
    "    geom_ribbon(aes(ymin = cor_ci_lower, ymax = cor_ci_upper),\n",
    "                fill = \"#2A4E9D\", alpha = 0.2) +\n",
    "    # 상관계수 선\n",
    "    geom_line(color = \"#2A4E9D\", size = 0.8) +\n",
    "    # 포인트\n",
    "    geom_point(color = \"#2A4E9D\", size = 2) +\n",
    "    # 스타일링\n",
    "    get_nature_theme() +\n",
    "    labs(\n",
    "        x = \"L2 weight\",\n",
    "        y = \"Correlation\"\n",
    "    ) +\n",
    "    scale_y_continuous(\n",
    "        breaks = scales::pretty_breaks(),\n",
    "        # limits = c(1, 3),\n",
    "        # expand = c(0.1, 0.1)\n",
    "        ) + \n",
    "    scale_x_continuous(\n",
    "        breaks = seq(-2, 8)\n",
    "        # limits = c(1, 3),\n",
    "        # expand = c(0.1, 0.1)\n",
    "        ) + \n",
    "    theme(\n",
    "        plot.margin = margin(t = 2, r = 6, b = 0, l = 1, unit = \"mm\"),\n",
    "        axis.text = element_text(size = 10)\n",
    "    )\n",
    "\n",
    "# 플롯 출력\n",
    "print(p_cor)"
   ]
  },
  {
   "cell_type": "code",
   "execution_count": 32,
   "metadata": {
    "vscode": {
     "languageId": "r"
    }
   },
   "outputs": [],
   "source": [
    "# 저장 (필요한 경우)\n",
    "ggsave(\n",
    "    filename = \"/data/jerrylee/pjt/BIGFAM.v.2.0/figures/X.DCR-correlation.varying-alpha.pdf\",\n",
    "    plot = p_cor,\n",
    "    width = 85,\n",
    "    height = 46,\n",
    "    units = \"mm\",\n",
    "    dpi = 300\n",
    ")"
   ]
  },
  {
   "cell_type": "code",
   "execution_count": null,
   "metadata": {
    "vscode": {
     "languageId": "r"
    }
   },
   "outputs": [],
   "source": []
  }
 ],
 "metadata": {
  "kernelspec": {
   "display_name": "R",
   "language": "R",
   "name": "ir"
  },
  "language_info": {
   "codemirror_mode": "r",
   "file_extension": ".r",
   "mimetype": "text/x-r-source",
   "name": "R",
   "pygments_lexer": "r",
   "version": "4.3.1"
  }
 },
 "nbformat": 4,
 "nbformat_minor": 2
}
