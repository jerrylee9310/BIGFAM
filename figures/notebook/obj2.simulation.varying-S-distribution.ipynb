{
 "cells": [
  {
   "cell_type": "code",
   "execution_count": 2,
   "metadata": {
    "vscode": {
     "languageId": "r"
    }
   },
   "outputs": [
    {
     "name": "stderr",
     "output_type": "stream",
     "text": [
      "\n",
      "다음의 패키지를 부착합니다: ‘dplyr’\n",
      "\n",
      "\n",
      "The following objects are masked from ‘package:data.table’:\n",
      "\n",
      "    between, first, last\n",
      "\n",
      "\n",
      "The following objects are masked from ‘package:stats’:\n",
      "\n",
      "    filter, lag\n",
      "\n",
      "\n",
      "The following objects are masked from ‘package:base’:\n",
      "\n",
      "    intersect, setdiff, setequal, union\n",
      "\n",
      "\n",
      "\n",
      "다음의 패키지를 부착합니다: ‘purrr’\n",
      "\n",
      "\n",
      "The following object is masked from ‘package:data.table’:\n",
      "\n",
      "    transpose\n",
      "\n",
      "\n",
      "\n",
      "다음의 패키지를 부착합니다: ‘cowplot’\n",
      "\n",
      "\n",
      "The following object is masked from ‘package:patchwork’:\n",
      "\n",
      "    align_plots\n",
      "\n",
      "\n",
      "\u001b[90mggbreak v0.1.2\n",
      "\n",
      "If you use ggbreak in published research, please cite the following\n",
      "paper:\n",
      "\n",
      "S Xu, M Chen, T Feng, L Zhan, L Zhou, G Yu. Use ggbreak to effectively\n",
      "utilize plotting space to deal with large datasets and outliers.\n",
      "Frontiers in Genetics. 2021, 12:774846. doi: 10.3389/fgene.2021.774846\n",
      "\u001b[39m\n",
      "\n",
      "\n",
      "다음의 패키지를 부착합니다: ‘scales’\n",
      "\n",
      "\n",
      "The following object is masked from ‘package:purrr’:\n",
      "\n",
      "    discard\n",
      "\n",
      "\n",
      "필요한 패키지를 로딩중입니다: extrafont\n",
      "\n",
      "Registering fonts with R\n",
      "\n",
      "cmex10 already registered with pdfFont().\n",
      "\n",
      "cmmi10 already registered with pdfFont().\n",
      "\n",
      "cmr10 already registered with pdfFont().\n",
      "\n",
      "cmsy10 already registered with pdfFont().\n",
      "\n",
      "DejaVu Sans already registered with pdfFont().\n",
      "\n",
      "DejaVu Sans Condensed already registered with pdfFont().\n",
      "\n",
      "DejaVu Sans Light already registered with pdfFont().\n",
      "\n",
      "esint10 already registered with pdfFont().\n",
      "\n",
      "eufm10 already registered with pdfFont().\n",
      "\n",
      "Liberation Mono already registered with pdfFont().\n",
      "\n",
      "msam10 already registered with pdfFont().\n",
      "\n",
      "msbm10 already registered with pdfFont().\n",
      "\n",
      "rsfs10 already registered with pdfFont().\n",
      "\n",
      "stmary10 already registered with pdfFont().\n",
      "\n",
      "wasy10 already registered with pdfFont().\n",
      "\n",
      "cmex10 already registered with postscriptFont().\n",
      "\n",
      "cmmi10 already registered with postscriptFont().\n",
      "\n",
      "cmr10 already registered with postscriptFont().\n",
      "\n",
      "cmsy10 already registered with postscriptFont().\n",
      "\n",
      "DejaVu Sans already registered with postscriptFont().\n",
      "\n",
      "DejaVu Sans Condensed already registered with postscriptFont().\n",
      "\n",
      "DejaVu Sans Light already registered with postscriptFont().\n",
      "\n",
      "esint10 already registered with postscriptFont().\n",
      "\n",
      "eufm10 already registered with postscriptFont().\n",
      "\n",
      "Liberation Mono already registered with postscriptFont().\n",
      "\n",
      "msam10 already registered with postscriptFont().\n",
      "\n",
      "msbm10 already registered with postscriptFont().\n",
      "\n",
      "rsfs10 already registered with postscriptFont().\n",
      "\n",
      "stmary10 already registered with postscriptFont().\n",
      "\n",
      "wasy10 already registered with postscriptFont().\n",
      "\n"
     ]
    }
   ],
   "source": [
    "library(ggplot2)\n",
    "library(data.table)\n",
    "library(dplyr)\n",
    "library(tidyr)\n",
    "library(purrr) \n",
    "library(patchwork)\n",
    "library(cowplot)\n",
    "library(ggbreak)\n",
    "library(scales)\n",
    "if (!require(extrafont)) install.packages(\"extrafont\")\n",
    "library(extrafont)\n",
    "\n",
    "# 3. 폰트 로드\n",
    "loadfonts()"
   ]
  },
  {
   "cell_type": "markdown",
   "metadata": {},
   "source": [
    "# Step 1. Load data"
   ]
  },
  {
   "cell_type": "code",
   "execution_count": 3,
   "metadata": {
    "vscode": {
     "languageId": "r"
    }
   },
   "outputs": [
    {
     "data": {
      "text/html": [
       "<table class=\"dataframe\">\n",
       "<caption>A data.table: 6 × 6</caption>\n",
       "<thead>\n",
       "\t<tr><th scope=col>A_true</th><th scope=col>X_true</th><th scope=col>distribution</th><th scope=col>X</th><th scope=col>lower_X</th><th scope=col>upper_X</th></tr>\n",
       "\t<tr><th scope=col>&lt;dbl&gt;</th><th scope=col>&lt;dbl&gt;</th><th scope=col>&lt;chr&gt;</th><th scope=col>&lt;dbl&gt;</th><th scope=col>&lt;dbl&gt;</th><th scope=col>&lt;dbl&gt;</th></tr>\n",
       "</thead>\n",
       "<tbody>\n",
       "\t<tr><td>0.4</td><td>0.02</td><td>uniform     </td><td>0.03031464</td><td>0.008999884</td><td>0.04194934</td></tr>\n",
       "\t<tr><td>0.4</td><td>0.02</td><td>normal      </td><td>0.03086290</td><td>0.020113236</td><td>0.04825554</td></tr>\n",
       "\t<tr><td>0.4</td><td>0.02</td><td>left_skewed </td><td>0.03097752</td><td>0.014033147</td><td>0.04599188</td></tr>\n",
       "\t<tr><td>0.4</td><td>0.02</td><td>right_skewed</td><td>0.02497139</td><td>0.011548845</td><td>0.04863575</td></tr>\n",
       "\t<tr><td>0.4</td><td>0.02</td><td>uniform     </td><td>0.03043065</td><td>0.015486524</td><td>0.04843237</td></tr>\n",
       "\t<tr><td>0.4</td><td>0.02</td><td>normal      </td><td>0.02849621</td><td>0.018242880</td><td>0.04641369</td></tr>\n",
       "</tbody>\n",
       "</table>\n"
      ],
      "text/latex": [
       "A data.table: 6 × 6\n",
       "\\begin{tabular}{llllll}\n",
       " A\\_true & X\\_true & distribution & X & lower\\_X & upper\\_X\\\\\n",
       " <dbl> & <dbl> & <chr> & <dbl> & <dbl> & <dbl>\\\\\n",
       "\\hline\n",
       "\t 0.4 & 0.02 & uniform      & 0.03031464 & 0.008999884 & 0.04194934\\\\\n",
       "\t 0.4 & 0.02 & normal       & 0.03086290 & 0.020113236 & 0.04825554\\\\\n",
       "\t 0.4 & 0.02 & left\\_skewed  & 0.03097752 & 0.014033147 & 0.04599188\\\\\n",
       "\t 0.4 & 0.02 & right\\_skewed & 0.02497139 & 0.011548845 & 0.04863575\\\\\n",
       "\t 0.4 & 0.02 & uniform      & 0.03043065 & 0.015486524 & 0.04843237\\\\\n",
       "\t 0.4 & 0.02 & normal       & 0.02849621 & 0.018242880 & 0.04641369\\\\\n",
       "\\end{tabular}\n"
      ],
      "text/markdown": [
       "\n",
       "A data.table: 6 × 6\n",
       "\n",
       "| A_true &lt;dbl&gt; | X_true &lt;dbl&gt; | distribution &lt;chr&gt; | X &lt;dbl&gt; | lower_X &lt;dbl&gt; | upper_X &lt;dbl&gt; |\n",
       "|---|---|---|---|---|---|\n",
       "| 0.4 | 0.02 | uniform      | 0.03031464 | 0.008999884 | 0.04194934 |\n",
       "| 0.4 | 0.02 | normal       | 0.03086290 | 0.020113236 | 0.04825554 |\n",
       "| 0.4 | 0.02 | left_skewed  | 0.03097752 | 0.014033147 | 0.04599188 |\n",
       "| 0.4 | 0.02 | right_skewed | 0.02497139 | 0.011548845 | 0.04863575 |\n",
       "| 0.4 | 0.02 | uniform      | 0.03043065 | 0.015486524 | 0.04843237 |\n",
       "| 0.4 | 0.02 | normal       | 0.02849621 | 0.018242880 | 0.04641369 |\n",
       "\n"
      ],
      "text/plain": [
       "  A_true X_true distribution X          lower_X     upper_X   \n",
       "1 0.4    0.02   uniform      0.03031464 0.008999884 0.04194934\n",
       "2 0.4    0.02   normal       0.03086290 0.020113236 0.04825554\n",
       "3 0.4    0.02   left_skewed  0.03097752 0.014033147 0.04599188\n",
       "4 0.4    0.02   right_skewed 0.02497139 0.011548845 0.04863575\n",
       "5 0.4    0.02   uniform      0.03043065 0.015486524 0.04843237\n",
       "6 0.4    0.02   normal       0.02849621 0.018242880 0.04641369"
      ]
     },
     "metadata": {},
     "output_type": "display_data"
    }
   ],
   "source": [
    "df <- fread(\n",
    "    \"/data/jerrylee/pjt/BIGFAM.v.2.0/data/simulation/obj2/simulation.varying-S-distribution.tsv\",\n",
    "    sep = \"\\t\"\n",
    ")\n",
    "\n",
    "head(df)"
   ]
  },
  {
   "cell_type": "markdown",
   "metadata": {},
   "source": [
    "# plot theme"
   ]
  },
  {
   "cell_type": "code",
   "execution_count": 4,
   "metadata": {
    "vscode": {
     "languageId": "r"
    }
   },
   "outputs": [],
   "source": [
    "# 공통 테마 함수 정의\n",
    "get_nature_theme <- function() {\n",
    "    theme_bw() +\n",
    "        theme(\n",
    "            # 전체적인 배경\n",
    "            panel.background = element_rect(fill = NA, color = NA),\n",
    "            panel.grid.major = element_blank(),\n",
    "            panel.grid.minor = element_blank(),\n",
    "            panel.border = element_blank(),  \n",
    "            \n",
    "            # 축 설정\n",
    "            axis.line.x.top = element_blank(),\n",
    "            axis.line.y.right = element_blank(),\n",
    "            axis.line.x.bottom = element_line(color = \"black\", size = 0.3),  \n",
    "            axis.line.y.left = element_line(color = \"black\", size = 0.3),    \n",
    "            axis.text = element_text(size = 6.5, color = \"black\"),\n",
    "            axis.title = element_text(size = 7.5, color = \"black\"),\n",
    "            axis.ticks = element_line(size = 0.3),\n",
    "            axis.ticks.length = unit(0.8, \"mm\"),\n",
    "            \n",
    "            # 범례 설정\n",
    "            legend.margin = margin(1, 1, 1, 1, unit = \"mm\"),\n",
    "            # legend.spacing.y = unit(0.1, \"cm\"),\n",
    "            \n",
    "            # 여백 설정\n",
    "            # plot.margin = unit(c(0.1, 0.2, 0.1, 0.1), \"cm\")\n",
    "            plot.margin = margin(0, 0, 0, 0)\n",
    "        )\n",
    "}"
   ]
  },
  {
   "cell_type": "markdown",
   "metadata": {},
   "source": [
    "# Tested distribution"
   ]
  },
  {
   "cell_type": "code",
   "execution_count": 5,
   "metadata": {
    "vscode": {
     "languageId": "r"
    }
   },
   "outputs": [
    {
     "name": "stderr",
     "output_type": "stream",
     "text": [
      "Warning message:\n",
      "“\u001b[1m\u001b[22mUsing `size` aesthetic for lines was deprecated in ggplot2 3.4.0.\n",
      "\u001b[36mℹ\u001b[39m Please use `linewidth` instead.”\n",
      "Warning message:\n",
      "“\u001b[1m\u001b[22mThe `size` argument of `element_line()` is deprecated as of ggplot2 3.4.0.\n",
      "\u001b[36mℹ\u001b[39m Please use the `linewidth` argument instead.”\n"
     ]
    },
    {
     "data": {
      "image/png": "[encoded data removed]",
      "text/plain": [
       "plot without title"
      ]
     },
     "metadata": {
      "image/png": {
       "height": 420,
       "width": 420
      }
     },
     "output_type": "display_data"
    }
   ],
   "source": [
    "# 데이터 생성\n",
    "n_sample <- 10000\n",
    "left_skewed <- pmin(pmax(rbeta(n_sample, 4, 2), 0), 1)\n",
    "normal <- rnorm(n_sample, mean = 0.5, sd = 0.1)\n",
    "uniform <- runif(n_sample, min = 0, max = 1)\n",
    "right_skewed <- pmin(pmax(rlnorm(n_sample, meanlog = -1.5, sdlog = 0.5), 0), 1)\n",
    "\n",
    "# 데이터프레임 생성 시 distribution을 factor로 변환하고 레벨 지정\n",
    "df_dist <- data.frame(\n",
    "  value = c(left_skewed, normal, uniform, right_skewed),\n",
    "  distribution = factor(\n",
    "    c(rep(\"left_skewed\", n_sample), rep(\"normal\", n_sample), \n",
    "      rep(\"uniform\", n_sample), rep(\"right_skewed\", n_sample)),\n",
    "    levels = c(\"left_skewed\", \"normal\", \"uniform\", \"right_skewed\")  # 순서 지정\n",
    "  )\n",
    ")\n",
    "\n",
    "p <- ggplot(df_dist, aes(x = value, color = distribution)) +\n",
    "  geom_density(size = 0.3) +\n",
    "  scale_color_manual(\n",
    "    values = c(\"#2166AC\", \"#B2182B\", \"#F4A582\", \"#92C5DE\"),\n",
    "    labels = c(\"Left-skewed\", \"Normal\", \"Uniform\", \"Right-skewed\"),\n",
    "    breaks = c(\"left_skewed\", \"normal\", \"uniform\", \"right_skewed\")  # 순서 명시\n",
    "  ) +\n",
    "  labs(x = \"Shared environmental relatedness\",\n",
    "       y = \"Density\",\n",
    "       color = \"\") +\n",
    "  get_nature_theme() +\n",
    "  theme(\n",
    "    text = element_text(size = 6),\n",
    "    axis.text = element_text(size = 5),\n",
    "    axis.title = element_text(size = 6),\n",
    "    legend.position = \"top\",\n",
    "    legend.text = element_text(size = 4),\n",
    "    legend.key.size = unit(0.2, \"cm\"),\n",
    "    legend.spacing.x = unit(0.1, \"cm\"),\n",
    "    legend.margin = margin(0, 2, 0, 0, unit = \"mm\"),\n",
    "    plot.margin = margin(1, 1, 1, 1, \"mm\"),\n",
    "    axis.line = element_line(size = 0.2),\n",
    "    axis.ticks = element_line(size = 0.2)\n",
    "  )\n",
    "\n",
    "p"
   ]
  },
  {
   "cell_type": "code",
   "execution_count": 6,
   "metadata": {
    "vscode": {
     "languageId": "r"
    }
   },
   "outputs": [],
   "source": [
    "\n",
    "output_path <- paste0(\n",
    "    \"/data/jerrylee/pjt/BIGFAM.v.2.0/figures/simulation.tested-S-distribution.pdf\"\n",
    ")\n",
    "\n",
    "ggsave(\n",
    "    filename = output_path,\n",
    "    plot = p,\n",
    "    width = 55,\n",
    "    height = 46,\n",
    "    units = \"mm\",\n",
    "    dpi = 300,\n",
    "    device = cairo_pdf\n",
    ")\n"
   ]
  },
  {
   "cell_type": "markdown",
   "metadata": {},
   "source": [
    "# Step 2. Plot"
   ]
  },
  {
   "cell_type": "code",
   "execution_count": 7,
   "metadata": {
    "vscode": {
     "languageId": "r"
    }
   },
   "outputs": [
    {
     "data": {
      "text/html": [
       "<table class=\"dataframe\">\n",
       "<caption>A tibble: 4 × 4</caption>\n",
       "<thead>\n",
       "\t<tr><th scope=col>distribution</th><th scope=col>mean_X</th><th scope=col>mean_lower</th><th scope=col>mean_upper</th></tr>\n",
       "\t<tr><th scope=col>&lt;chr&gt;</th><th scope=col>&lt;dbl&gt;</th><th scope=col>&lt;dbl&gt;</th><th scope=col>&lt;dbl&gt;</th></tr>\n",
       "</thead>\n",
       "<tbody>\n",
       "\t<tr><td>left_skewed </td><td>0.02179820</td><td>0.002672665</td><td>0.03754117</td></tr>\n",
       "\t<tr><td>normal      </td><td>0.01949944</td><td>0.005645536</td><td>0.03565978</td></tr>\n",
       "\t<tr><td>right_skewed</td><td>0.01559402</td><td>0.001066415</td><td>0.03432337</td></tr>\n",
       "\t<tr><td>uniform     </td><td>0.01965575</td><td>0.001524779</td><td>0.03658455</td></tr>\n",
       "</tbody>\n",
       "</table>\n"
      ],
      "text/latex": [
       "A tibble: 4 × 4\n",
       "\\begin{tabular}{llll}\n",
       " distribution & mean\\_X & mean\\_lower & mean\\_upper\\\\\n",
       " <chr> & <dbl> & <dbl> & <dbl>\\\\\n",
       "\\hline\n",
       "\t left\\_skewed  & 0.02179820 & 0.002672665 & 0.03754117\\\\\n",
       "\t normal       & 0.01949944 & 0.005645536 & 0.03565978\\\\\n",
       "\t right\\_skewed & 0.01559402 & 0.001066415 & 0.03432337\\\\\n",
       "\t uniform      & 0.01965575 & 0.001524779 & 0.03658455\\\\\n",
       "\\end{tabular}\n"
      ],
      "text/markdown": [
       "\n",
       "A tibble: 4 × 4\n",
       "\n",
       "| distribution &lt;chr&gt; | mean_X &lt;dbl&gt; | mean_lower &lt;dbl&gt; | mean_upper &lt;dbl&gt; |\n",
       "|---|---|---|---|\n",
       "| left_skewed  | 0.02179820 | 0.002672665 | 0.03754117 |\n",
       "| normal       | 0.01949944 | 0.005645536 | 0.03565978 |\n",
       "| right_skewed | 0.01559402 | 0.001066415 | 0.03432337 |\n",
       "| uniform      | 0.01965575 | 0.001524779 | 0.03658455 |\n",
       "\n"
      ],
      "text/plain": [
       "  distribution mean_X     mean_lower  mean_upper\n",
       "1 left_skewed  0.02179820 0.002672665 0.03754117\n",
       "2 normal       0.01949944 0.005645536 0.03565978\n",
       "3 right_skewed 0.01559402 0.001066415 0.03432337\n",
       "4 uniform      0.01965575 0.001524779 0.03658455"
      ]
     },
     "metadata": {},
     "output_type": "display_data"
    }
   ],
   "source": [
    "df %>%\n",
    "    group_by(distribution) %>%\n",
    "    summarise(\n",
    "        mean_X = median(X),\n",
    "        mean_lower = median(lower_X),\n",
    "        mean_upper = median(upper_X),\n",
    "        .groups = 'drop'\n",
    "    )"
   ]
  },
  {
   "cell_type": "code",
   "execution_count": 21,
   "metadata": {
    "vscode": {
     "languageId": "r"
    }
   },
   "outputs": [
    {
     "data": {
      "image/png": "[encoded data removed]",
      "text/plain": [
       "plot without title"
      ]
     },
     "metadata": {
      "image/png": {
       "height": 420,
       "width": 420
      }
     },
     "output_type": "display_data"
    }
   ],
   "source": [
    "plot_dist_means <- function(data) {\n",
    "    # 시나리오별 평균값과 중앙값 계산\n",
    "    dist_stats <- data %>%\n",
    "        group_by(distribution) %>%\n",
    "        summarise(\n",
    "            median_X = median(X),\n",
    "            median_lower_X = median(lower_X),\n",
    "            median_upper_X = median(upper_X),\n",
    "            mean_X = mean(X),\n",
    "            mean_lower_X = mean(lower_X),\n",
    "            mean_upper_X = mean(upper_X),\n",
    "            .groups = 'drop'\n",
    "        )\n",
    "\n",
    "    # 색상 정의\n",
    "    base_colors <- c(\n",
    "        \"left_skewed\" = \"#2166AC\",\n",
    "        \"normal\" = \"#92C5DE\",\n",
    "        \"uniform\" = \"#F4A582\",\n",
    "        \"right_skewed\" = \"#B2182B\"\n",
    "    )\n",
    "    \n",
    "    # jitter를 위한 위치 조정\n",
    "    jitter_width <- 0.1\n",
    "    \n",
    "    ggplot() +\n",
    "        # 실제 X_true 값을 수평선으로 표시\n",
    "        geom_hline(\n",
    "            yintercept = unique(data$X_true),\n",
    "            linetype = \"dashed\",\n",
    "            color = \"gray40\"\n",
    "        ) +\n",
    "        # mean 값을 삼각형으로 표시\n",
    "        geom_point(\n",
    "            data = dist_stats,\n",
    "            aes(x = as.numeric(factor(distribution)) - jitter_width, y = mean_X, color = distribution),\n",
    "            size = 2,\n",
    "            shape = 17  # 삼각형\n",
    "        ) +\n",
    "        # mean의 CI를 에러바로 표시\n",
    "        geom_errorbar(\n",
    "            data = dist_stats,\n",
    "            aes(x = as.numeric(factor(distribution)) - jitter_width, \n",
    "                ymin = mean_lower_X, \n",
    "                ymax = mean_upper_X, \n",
    "                color = distribution),\n",
    "            width = 0.2\n",
    "        ) +\n",
    "        # median 값을 원으로 표시\n",
    "        geom_point(\n",
    "            data = dist_stats,\n",
    "            aes(x = as.numeric(factor(distribution)) + jitter_width, y = median_X, color = distribution),\n",
    "            size = 2,\n",
    "            shape = 16  # 원\n",
    "        ) +\n",
    "        # median의 CI를 에러바로 표시\n",
    "        geom_errorbar(\n",
    "            data = dist_stats,\n",
    "            aes(x = as.numeric(factor(distribution)) + jitter_width, \n",
    "                ymin = median_lower_X, \n",
    "                ymax = median_upper_X, \n",
    "                color = distribution),\n",
    "            width = 0.2\n",
    "        ) +\n",
    "        # 색상 설정\n",
    "        scale_color_manual(values = base_colors) +\n",
    "        scale_x_continuous(\n",
    "            breaks = 1:4,\n",
    "            labels = levels(factor(dist_stats$distribution))\n",
    "        ) +\n",
    "        # 마커 종류에 대한 범례 추가\n",
    "        annotate(\"point\", x = 1, y = max(dist_stats$mean_upper_X) + 0.02, shape = 17, size = 3, color = \"black\") +\n",
    "        annotate(\"text\", x = 1.2, y = max(dist_stats$mean_upper_X) + 0.02, label = \"Mean\", hjust = 0, size = 2) +\n",
    "        annotate(\"point\", x = 2, y = max(dist_stats$mean_upper_X) + 0.02, shape = 16, size = 3, color = \"black\") +\n",
    "        annotate(\"text\", x = 2.2, y = max(dist_stats$mean_upper_X) + 0.02, label = \"Median\", hjust = 0, size = 2) +\n",
    "        labs(\n",
    "            x = \"\",\n",
    "            y = \"Variance (chr.X)\"\n",
    "        ) +\n",
    "        get_nature_theme() +\n",
    "        theme(\n",
    "            legend.position = \"none\",\n",
    "            text = element_text(size = 6),\n",
    "            axis.text = element_text(size = 5),\n",
    "            axis.title = element_text(size = 6),\n",
    "            legend.text = element_text(size = 5),\n",
    "            legend.key.size = unit(0.2, \"cm\"),\n",
    "            legend.spacing.x = unit(0.1, \"cm\"),\n",
    "            legend.margin = margin(0, 0, 0, 0),\n",
    "            plot.margin = margin(t = 1, r = 1, b = 1, l = 1, \"mm\"),  # 상단 여백 증가\n",
    "            axis.line = element_line(size = 0.2),\n",
    "            axis.ticks = element_line(size = 0.2)\n",
    "        )\n",
    "}\n",
    "\n",
    "p <- plot_dist_means(df)\n",
    "p\n"
   ]
  },
  {
   "cell_type": "code",
   "execution_count": 22,
   "metadata": {
    "vscode": {
     "languageId": "r"
    }
   },
   "outputs": [],
   "source": [
    "\n",
    "output_path <- paste0(\n",
    "    \"/data/jerrylee/pjt/BIGFAM.v.2.0/figures/simulation.X-varying-S-distribution.pdf\"\n",
    ")\n",
    "\n",
    "ggsave(\n",
    "    filename = output_path,\n",
    "    plot = p,\n",
    "    width = 55,\n",
    "    height = 46,\n",
    "    units = \"mm\",\n",
    "    dpi = 300,\n",
    "    device = cairo_pdf\n",
    ")\n"
   ]
  },
  {
   "cell_type": "code",
   "execution_count": null,
   "metadata": {
    "vscode": {
     "languageId": "r"
    }
   },
   "outputs": [],
   "source": []
  }
 ],
 "metadata": {
  "kernelspec": {
   "display_name": "R",
   "language": "R",
   "name": "ir"
  },
  "language_info": {
   "codemirror_mode": "r",
   "file_extension": ".r",
   "mimetype": "text/x-r-source",
   "name": "R",
   "pygments_lexer": "r",
   "version": "4.3.1"
  }
 },
 "nbformat": 4,
 "nbformat_minor": 2
}
