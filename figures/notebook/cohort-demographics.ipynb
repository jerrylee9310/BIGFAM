{
 "cells": [
  {
   "cell_type": "code",
   "execution_count": 1,
   "metadata": {
    "vscode": {
     "languageId": "r"
    }
   },
   "outputs": [
    {
     "name": "stderr",
     "output_type": "stream",
     "text": [
      "\n",
      "다음의 패키지를 부착합니다: ‘dplyr’\n",
      "\n",
      "\n",
      "The following objects are masked from ‘package:stats’:\n",
      "\n",
      "    filter, lag\n",
      "\n",
      "\n",
      "The following objects are masked from ‘package:base’:\n",
      "\n",
      "    intersect, setdiff, setequal, union\n",
      "\n",
      "\n",
      "\n",
      "다음의 패키지를 부착합니다: ‘scales’\n",
      "\n",
      "\n",
      "The following object is masked from ‘package:purrr’:\n",
      "\n",
      "    discard\n",
      "\n",
      "\n",
      "필요한 패키지를 로딩중입니다: extrafont\n",
      "\n",
      "Registering fonts with R\n",
      "\n",
      "cmex10 already registered with pdfFont().\n",
      "\n",
      "cmmi10 already registered with pdfFont().\n",
      "\n",
      "cmr10 already registered with pdfFont().\n",
      "\n",
      "cmsy10 already registered with pdfFont().\n",
      "\n",
      "DejaVu Sans already registered with pdfFont().\n",
      "\n",
      "DejaVu Sans Condensed already registered with pdfFont().\n",
      "\n",
      "DejaVu Sans Light already registered with pdfFont().\n",
      "\n",
      "esint10 already registered with pdfFont().\n",
      "\n",
      "eufm10 already registered with pdfFont().\n",
      "\n",
      "Liberation Mono already registered with pdfFont().\n",
      "\n",
      "msam10 already registered with pdfFont().\n",
      "\n",
      "msbm10 already registered with pdfFont().\n",
      "\n",
      "rsfs10 already registered with pdfFont().\n",
      "\n",
      "stmary10 already registered with pdfFont().\n",
      "\n",
      "wasy10 already registered with pdfFont().\n",
      "\n",
      "cmex10 already registered with postscriptFont().\n",
      "\n",
      "cmmi10 already registered with postscriptFont().\n",
      "\n",
      "cmr10 already registered with postscriptFont().\n",
      "\n",
      "cmsy10 already registered with postscriptFont().\n",
      "\n",
      "DejaVu Sans already registered with postscriptFont().\n",
      "\n",
      "DejaVu Sans Condensed already registered with postscriptFont().\n",
      "\n",
      "DejaVu Sans Light already registered with postscriptFont().\n",
      "\n",
      "esint10 already registered with postscriptFont().\n",
      "\n",
      "eufm10 already registered with postscriptFont().\n",
      "\n",
      "Liberation Mono already registered with postscriptFont().\n",
      "\n",
      "msam10 already registered with postscriptFont().\n",
      "\n",
      "msbm10 already registered with postscriptFont().\n",
      "\n",
      "rsfs10 already registered with postscriptFont().\n",
      "\n",
      "stmary10 already registered with postscriptFont().\n",
      "\n",
      "wasy10 already registered with postscriptFont().\n",
      "\n"
     ]
    }
   ],
   "source": [
    "library(ggplot2)\n",
    "library(dplyr)\n",
    "library(tidyr)\n",
    "library(purrr) \n",
    "library(scales)\n",
    "if (!require(extrafont)) install.packages(\"extrafont\")\n",
    "library(extrafont)\n",
    "\n",
    "# 2. 시스템 폰트 가져오기 (처음 한 번만 실행하면 됨)\n",
    "# font_import()  # 이 작업은 시간이 좀 걸립니다\n",
    "\n",
    "# 3. 폰트 로드\n",
    "loadfonts()\n"
   ]
  },
  {
   "cell_type": "code",
   "execution_count": 18,
   "metadata": {
    "vscode": {
     "languageId": "r"
    }
   },
   "outputs": [],
   "source": [
    "source <- \"GS\""
   ]
  },
  {
   "cell_type": "markdown",
   "metadata": {},
   "source": [
    "# Step 1. Load relationship information data"
   ]
  },
  {
   "cell_type": "code",
   "execution_count": 19,
   "metadata": {
    "vscode": {
     "languageId": "r"
    }
   },
   "outputs": [
    {
     "data": {
      "text/html": [
       "<table class=\"dataframe\">\n",
       "<caption>A data.frame: 6 × 10</caption>\n",
       "<thead>\n",
       "\t<tr><th></th><th scope=col>DOR</th><th scope=col>rcode</th><th scope=col>relationship</th><th scope=col>volid</th><th scope=col>relid</th><th scope=col>volage</th><th scope=col>relage</th><th scope=col>volsex</th><th scope=col>relsex</th><th scope=col>Erx</th></tr>\n",
       "\t<tr><th></th><th scope=col>&lt;int&gt;</th><th scope=col>&lt;chr&gt;</th><th scope=col>&lt;chr&gt;</th><th scope=col>&lt;int&gt;</th><th scope=col>&lt;int&gt;</th><th scope=col>&lt;int&gt;</th><th scope=col>&lt;int&gt;</th><th scope=col>&lt;chr&gt;</th><th scope=col>&lt;chr&gt;</th><th scope=col>&lt;dbl&gt;</th></tr>\n",
       "</thead>\n",
       "<tbody>\n",
       "\t<tr><th scope=row>1</th><td>1</td><td>SB</td><td>daughter-sister      </td><td>18826</td><td>21244</td><td>50</td><td>36</td><td>F</td><td>F</td><td>0.7500000</td></tr>\n",
       "\t<tr><th scope=row>2</th><td>1</td><td>SB</td><td>different-sex-sibling</td><td>34422</td><td>23884</td><td>33</td><td>35</td><td>F</td><td>M</td><td>0.3535534</td></tr>\n",
       "\t<tr><th scope=row>3</th><td>1</td><td>PC</td><td>daughter-mother      </td><td>79198</td><td>67531</td><td>66</td><td>44</td><td>F</td><td>F</td><td>0.5000000</td></tr>\n",
       "\t<tr><th scope=row>4</th><td>1</td><td>SB</td><td>daughter-sister      </td><td>20399</td><td>67531</td><td>38</td><td>44</td><td>F</td><td>F</td><td>0.7500000</td></tr>\n",
       "\t<tr><th scope=row>5</th><td>1</td><td>SB</td><td>daughter-sister      </td><td>67267</td><td>67531</td><td>43</td><td>44</td><td>F</td><td>F</td><td>0.7500000</td></tr>\n",
       "\t<tr><th scope=row>6</th><td>1</td><td>PC</td><td>daughter-mother      </td><td>79198</td><td>67267</td><td>66</td><td>43</td><td>F</td><td>F</td><td>0.5000000</td></tr>\n",
       "</tbody>\n",
       "</table>\n"
      ],
      "text/latex": [
       "A data.frame: 6 × 10\n",
       "\\begin{tabular}{r|llllllllll}\n",
       "  & DOR & rcode & relationship & volid & relid & volage & relage & volsex & relsex & Erx\\\\\n",
       "  & <int> & <chr> & <chr> & <int> & <int> & <int> & <int> & <chr> & <chr> & <dbl>\\\\\n",
       "\\hline\n",
       "\t1 & 1 & SB & daughter-sister       & 18826 & 21244 & 50 & 36 & F & F & 0.7500000\\\\\n",
       "\t2 & 1 & SB & different-sex-sibling & 34422 & 23884 & 33 & 35 & F & M & 0.3535534\\\\\n",
       "\t3 & 1 & PC & daughter-mother       & 79198 & 67531 & 66 & 44 & F & F & 0.5000000\\\\\n",
       "\t4 & 1 & SB & daughter-sister       & 20399 & 67531 & 38 & 44 & F & F & 0.7500000\\\\\n",
       "\t5 & 1 & SB & daughter-sister       & 67267 & 67531 & 43 & 44 & F & F & 0.7500000\\\\\n",
       "\t6 & 1 & PC & daughter-mother       & 79198 & 67267 & 66 & 43 & F & F & 0.5000000\\\\\n",
       "\\end{tabular}\n"
      ],
      "text/markdown": [
       "\n",
       "A data.frame: 6 × 10\n",
       "\n",
       "| <!--/--> | DOR &lt;int&gt; | rcode &lt;chr&gt; | relationship &lt;chr&gt; | volid &lt;int&gt; | relid &lt;int&gt; | volage &lt;int&gt; | relage &lt;int&gt; | volsex &lt;chr&gt; | relsex &lt;chr&gt; | Erx &lt;dbl&gt; |\n",
       "|---|---|---|---|---|---|---|---|---|---|---|\n",
       "| 1 | 1 | SB | daughter-sister       | 18826 | 21244 | 50 | 36 | F | F | 0.7500000 |\n",
       "| 2 | 1 | SB | different-sex-sibling | 34422 | 23884 | 33 | 35 | F | M | 0.3535534 |\n",
       "| 3 | 1 | PC | daughter-mother       | 79198 | 67531 | 66 | 44 | F | F | 0.5000000 |\n",
       "| 4 | 1 | SB | daughter-sister       | 20399 | 67531 | 38 | 44 | F | F | 0.7500000 |\n",
       "| 5 | 1 | SB | daughter-sister       | 67267 | 67531 | 43 | 44 | F | F | 0.7500000 |\n",
       "| 6 | 1 | PC | daughter-mother       | 79198 | 67267 | 66 | 43 | F | F | 0.5000000 |\n",
       "\n"
      ],
      "text/plain": [
       "  DOR rcode relationship          volid relid volage relage volsex relsex\n",
       "1 1   SB    daughter-sister       18826 21244 50     36     F      F     \n",
       "2 1   SB    different-sex-sibling 34422 23884 33     35     F      M     \n",
       "3 1   PC    daughter-mother       79198 67531 66     44     F      F     \n",
       "4 1   SB    daughter-sister       20399 67531 38     44     F      F     \n",
       "5 1   SB    daughter-sister       67267 67531 43     44     F      F     \n",
       "6 1   PC    daughter-mother       79198 67267 66     43     F      F     \n",
       "  Erx      \n",
       "1 0.7500000\n",
       "2 0.3535534\n",
       "3 0.5000000\n",
       "4 0.7500000\n",
       "5 0.7500000\n",
       "6 0.5000000"
      ]
     },
     "metadata": {},
     "output_type": "display_data"
    }
   ],
   "source": [
    "# 방법 1: paste0() 사용\n",
    "df_rel_info <- read.csv(\n",
    "    paste0(\"/data/jerrylee/pjt/BIGFAM.v.2.0/data/\", source, \"/relationship_information/relatives.formatted.info\"),\n",
    "    sep=\"\\t\"\n",
    ")\n",
    "\n",
    "head(df_rel_info)"
   ]
  },
  {
   "cell_type": "code",
   "execution_count": 20,
   "metadata": {
    "vscode": {
     "languageId": "r"
    }
   },
   "outputs": [
    {
     "data": {
      "text/html": [
       "<style>\n",
       ".list-inline {list-style: none; margin:0; padding: 0}\n",
       ".list-inline>li {display: inline-block}\n",
       ".list-inline>li:not(:last-child)::after {content: \"\\00b7\"; padding: 0 .5ex}\n",
       "</style>\n",
       "<ol class=list-inline><li>38006</li><li>10</li></ol>\n"
      ],
      "text/latex": [
       "\\begin{enumerate*}\n",
       "\\item 38006\n",
       "\\item 10\n",
       "\\end{enumerate*}\n"
      ],
      "text/markdown": [
       "1. 38006\n",
       "2. 10\n",
       "\n",
       "\n"
      ],
      "text/plain": [
       "[1] 38006    10"
      ]
     },
     "metadata": {},
     "output_type": "display_data"
    }
   ],
   "source": [
    "dim(df_rel_info)"
   ]
  },
  {
   "cell_type": "code",
   "execution_count": 21,
   "metadata": {
    "vscode": {
     "languageId": "r"
    }
   },
   "outputs": [],
   "source": [
    "# df_rel_info <- df_rel_info %>% filter((volid == 54887) | (relid == 54887))\n",
    "# df_rel_info"
   ]
  },
  {
   "cell_type": "markdown",
   "metadata": {},
   "source": [
    "# Step 2. remove duplicate relative id row"
   ]
  },
  {
   "cell_type": "code",
   "execution_count": 22,
   "metadata": {
    "vscode": {
     "languageId": "r"
    }
   },
   "outputs": [],
   "source": [
    "# 데이터프레임 복사 및 volid/relid 스왑\n",
    "df_flip <- df_rel_info\n",
    "df_flip$volid <- df_rel_info$relid\n",
    "df_flip$relid <- df_rel_info$volid\n",
    "\n",
    "# 두 데이터프레임 합치기\n",
    "df_flip_and_concat <- rbind(\n",
    "    df_rel_info[, c(\"DOR\", \"rcode\", \"relationship\", \"volid\", \"relid\")],\n",
    "    df_flip[, c(\"DOR\", \"rcode\", \"relationship\", \"volid\", \"relid\")]\n",
    ")\n",
    "\n",
    "# pair 열 생성 (pmap을 사용하여 각 행의 volid와 relid를 정렬)\n",
    "df_flip_and_concat <- df_flip_and_concat %>%\n",
    "    mutate(pair = pmap_chr(list(volid, relid), \n",
    "           ~paste(sort(c(..1, ..2)), collapse = \"_\")))\n",
    "\n",
    "# pair 기준으로 중복 제거\n",
    "df_flip_and_concat_unique <- df_flip_and_concat %>%\n",
    "    distinct(pair, .keep_all = TRUE)\n",
    "\n",
    "# # pair 열 제거\n",
    "# df_flip_and_concat_unique <- df_flip_and_concat_unique %>%\n",
    "#     select(-pair)"
   ]
  },
  {
   "cell_type": "code",
   "execution_count": 23,
   "metadata": {
    "vscode": {
     "languageId": "r"
    }
   },
   "outputs": [],
   "source": [
    "# # 방법 1: 중복된 pair들의 모든 정보 확인\n",
    "# duplicated_pairs <- df_flip_and_concat %>%\n",
    "#     group_by(pair) %>%\n",
    "#     filter(n() > 1) %>%\n",
    "#     arrange(pair)\n",
    "\n",
    "# duplicated_pairs"
   ]
  },
  {
   "cell_type": "code",
   "execution_count": 24,
   "metadata": {
    "vscode": {
     "languageId": "r"
    }
   },
   "outputs": [
    {
     "data": {
      "text/html": [
       "<table class=\"dataframe\">\n",
       "<caption>A data.frame: 6 × 6</caption>\n",
       "<thead>\n",
       "\t<tr><th></th><th scope=col>DOR</th><th scope=col>rcode</th><th scope=col>relationship</th><th scope=col>volid</th><th scope=col>relid</th><th scope=col>pair</th></tr>\n",
       "\t<tr><th></th><th scope=col>&lt;int&gt;</th><th scope=col>&lt;chr&gt;</th><th scope=col>&lt;chr&gt;</th><th scope=col>&lt;int&gt;</th><th scope=col>&lt;int&gt;</th><th scope=col>&lt;chr&gt;</th></tr>\n",
       "</thead>\n",
       "<tbody>\n",
       "\t<tr><th scope=row>1</th><td>1</td><td>SB</td><td>daughter-sister      </td><td>18826</td><td>21244</td><td>18826_21244</td></tr>\n",
       "\t<tr><th scope=row>2</th><td>1</td><td>SB</td><td>different-sex-sibling</td><td>34422</td><td>23884</td><td>23884_34422</td></tr>\n",
       "\t<tr><th scope=row>3</th><td>1</td><td>PC</td><td>daughter-mother      </td><td>79198</td><td>67531</td><td>67531_79198</td></tr>\n",
       "\t<tr><th scope=row>4</th><td>1</td><td>SB</td><td>daughter-sister      </td><td>20399</td><td>67531</td><td>20399_67531</td></tr>\n",
       "\t<tr><th scope=row>5</th><td>1</td><td>SB</td><td>daughter-sister      </td><td>67267</td><td>67531</td><td>67267_67531</td></tr>\n",
       "\t<tr><th scope=row>6</th><td>1</td><td>PC</td><td>daughter-mother      </td><td>79198</td><td>67267</td><td>67267_79198</td></tr>\n",
       "</tbody>\n",
       "</table>\n"
      ],
      "text/latex": [
       "A data.frame: 6 × 6\n",
       "\\begin{tabular}{r|llllll}\n",
       "  & DOR & rcode & relationship & volid & relid & pair\\\\\n",
       "  & <int> & <chr> & <chr> & <int> & <int> & <chr>\\\\\n",
       "\\hline\n",
       "\t1 & 1 & SB & daughter-sister       & 18826 & 21244 & 18826\\_21244\\\\\n",
       "\t2 & 1 & SB & different-sex-sibling & 34422 & 23884 & 23884\\_34422\\\\\n",
       "\t3 & 1 & PC & daughter-mother       & 79198 & 67531 & 67531\\_79198\\\\\n",
       "\t4 & 1 & SB & daughter-sister       & 20399 & 67531 & 20399\\_67531\\\\\n",
       "\t5 & 1 & SB & daughter-sister       & 67267 & 67531 & 67267\\_67531\\\\\n",
       "\t6 & 1 & PC & daughter-mother       & 79198 & 67267 & 67267\\_79198\\\\\n",
       "\\end{tabular}\n"
      ],
      "text/markdown": [
       "\n",
       "A data.frame: 6 × 6\n",
       "\n",
       "| <!--/--> | DOR &lt;int&gt; | rcode &lt;chr&gt; | relationship &lt;chr&gt; | volid &lt;int&gt; | relid &lt;int&gt; | pair &lt;chr&gt; |\n",
       "|---|---|---|---|---|---|---|\n",
       "| 1 | 1 | SB | daughter-sister       | 18826 | 21244 | 18826_21244 |\n",
       "| 2 | 1 | SB | different-sex-sibling | 34422 | 23884 | 23884_34422 |\n",
       "| 3 | 1 | PC | daughter-mother       | 79198 | 67531 | 67531_79198 |\n",
       "| 4 | 1 | SB | daughter-sister       | 20399 | 67531 | 20399_67531 |\n",
       "| 5 | 1 | SB | daughter-sister       | 67267 | 67531 | 67267_67531 |\n",
       "| 6 | 1 | PC | daughter-mother       | 79198 | 67267 | 67267_79198 |\n",
       "\n"
      ],
      "text/plain": [
       "  DOR rcode relationship          volid relid pair       \n",
       "1 1   SB    daughter-sister       18826 21244 18826_21244\n",
       "2 1   SB    different-sex-sibling 34422 23884 23884_34422\n",
       "3 1   PC    daughter-mother       79198 67531 67531_79198\n",
       "4 1   SB    daughter-sister       20399 67531 20399_67531\n",
       "5 1   SB    daughter-sister       67267 67531 67267_67531\n",
       "6 1   PC    daughter-mother       79198 67267 67267_79198"
      ]
     },
     "metadata": {},
     "output_type": "display_data"
    }
   ],
   "source": [
    "head(df_flip_and_concat_unique)"
   ]
  },
  {
   "cell_type": "code",
   "execution_count": 25,
   "metadata": {
    "vscode": {
     "languageId": "r"
    }
   },
   "outputs": [
    {
     "data": {
      "text/html": [
       "18006"
      ],
      "text/latex": [
       "18006"
      ],
      "text/markdown": [
       "18006"
      ],
      "text/plain": [
       "[1] 18006"
      ]
     },
     "metadata": {},
     "output_type": "display_data"
    },
    {
     "data": {
      "text/html": [
       "28797"
      ],
      "text/latex": [
       "28797"
      ],
      "text/markdown": [
       "28797"
      ],
      "text/plain": [
       "[1] 28797"
      ]
     },
     "metadata": {},
     "output_type": "display_data"
    }
   ],
   "source": [
    "# volid와 relid의 합집합 구하기\n",
    "n_ids <- union(\n",
    "    unique(df_flip_and_concat_unique$volid),\n",
    "    unique(df_flip_and_concat_unique$relid)\n",
    ")\n",
    "\n",
    "n_pairs <- unique(df_flip_and_concat_unique$pair)\n",
    "\n",
    "# 합집합의 크기 출력\n",
    "length(n_ids)\n",
    "length(n_pairs)\n"
   ]
  },
  {
   "cell_type": "code",
   "execution_count": 26,
   "metadata": {
    "vscode": {
     "languageId": "r"
    }
   },
   "outputs": [],
   "source": [
    "df_flip <- df_flip_and_concat_unique\n",
    "df_flip$volid <- df_flip_and_concat_unique$relid\n",
    "df_flip$relid <- df_flip_and_concat_unique$volid\n",
    "\n",
    "# 두 데이터프레임 합치기\n",
    "df_flip_and_concat <- rbind(\n",
    "    df_flip_and_concat_unique[, c(\"DOR\", \"rcode\", \"relationship\", \"volid\", \"relid\")],\n",
    "    df_flip[, c(\"DOR\", \"rcode\", \"relationship\", \"volid\", \"relid\")]\n",
    ")\n"
   ]
  },
  {
   "cell_type": "code",
   "execution_count": 27,
   "metadata": {
    "vscode": {
     "languageId": "r"
    }
   },
   "outputs": [
    {
     "data": {
      "text/html": [
       "<table class=\"dataframe\">\n",
       "<caption>A data.frame: 57594 × 5</caption>\n",
       "<thead>\n",
       "\t<tr><th scope=col>DOR</th><th scope=col>rcode</th><th scope=col>relationship</th><th scope=col>volid</th><th scope=col>relid</th></tr>\n",
       "\t<tr><th scope=col>&lt;int&gt;</th><th scope=col>&lt;chr&gt;</th><th scope=col>&lt;chr&gt;</th><th scope=col>&lt;int&gt;</th><th scope=col>&lt;int&gt;</th></tr>\n",
       "</thead>\n",
       "<tbody>\n",
       "\t<tr><td>1</td><td>SB</td><td>daughter-sister      </td><td>18826</td><td>21244</td></tr>\n",
       "\t<tr><td>1</td><td>SB</td><td>different-sex-sibling</td><td>34422</td><td>23884</td></tr>\n",
       "\t<tr><td>1</td><td>PC</td><td>daughter-mother      </td><td>79198</td><td>67531</td></tr>\n",
       "\t<tr><td>1</td><td>SB</td><td>daughter-sister      </td><td>20399</td><td>67531</td></tr>\n",
       "\t<tr><td>1</td><td>SB</td><td>daughter-sister      </td><td>67267</td><td>67531</td></tr>\n",
       "\t<tr><td>1</td><td>PC</td><td>daughter-mother      </td><td>79198</td><td>67267</td></tr>\n",
       "\t<tr><td>1</td><td>SB</td><td>daughter-sister      </td><td>20399</td><td>67267</td></tr>\n",
       "\t<tr><td>1</td><td>PC</td><td>daughter-mother      </td><td>79198</td><td>20399</td></tr>\n",
       "\t<tr><td>1</td><td>SB</td><td>different-sex-sibling</td><td>37463</td><td>47358</td></tr>\n",
       "\t<tr><td>1</td><td>SB</td><td>daughter-sister      </td><td>46323</td><td>47358</td></tr>\n",
       "\t<tr><td>1</td><td>SB</td><td>daughter-sister      </td><td> 1699</td><td>47358</td></tr>\n",
       "\t<tr><td>1</td><td>SB</td><td>different-sex-sibling</td><td>56442</td><td>52852</td></tr>\n",
       "\t<tr><td>1</td><td>SB</td><td>different-sex-sibling</td><td>72808</td><td>52852</td></tr>\n",
       "\t<tr><td>1</td><td>SB</td><td>different-sex-sibling</td><td>92550</td><td>52852</td></tr>\n",
       "\t<tr><td>1</td><td>PC</td><td>daughter-mother      </td><td>18664</td><td>52852</td></tr>\n",
       "\t<tr><td>1</td><td>SB</td><td>son-brother          </td><td>72808</td><td>56442</td></tr>\n",
       "\t<tr><td>1</td><td>SB</td><td>son-brother          </td><td>92550</td><td>56442</td></tr>\n",
       "\t<tr><td>1</td><td>PC</td><td>son-mother           </td><td>18664</td><td>56442</td></tr>\n",
       "\t<tr><td>1</td><td>PC</td><td>son-mother           </td><td> 2710</td><td>46323</td></tr>\n",
       "\t<tr><td>1</td><td>SB</td><td>different-sex-sibling</td><td>37463</td><td>46323</td></tr>\n",
       "\t<tr><td>1</td><td>SB</td><td>daughter-sister      </td><td> 1699</td><td>46323</td></tr>\n",
       "\t<tr><td>1</td><td>SB</td><td>different-sex-sibling</td><td>37463</td><td> 1699</td></tr>\n",
       "\t<tr><td>1</td><td>SB</td><td>son-brother          </td><td>72808</td><td>92550</td></tr>\n",
       "\t<tr><td>1</td><td>PC</td><td>daughter-father      </td><td>72052</td><td>92550</td></tr>\n",
       "\t<tr><td>1</td><td>PC</td><td>son-mother           </td><td>18664</td><td>92550</td></tr>\n",
       "\t<tr><td>1</td><td>PC</td><td>daughter-father      </td><td>11955</td><td>92550</td></tr>\n",
       "\t<tr><td>1</td><td>PC</td><td>son-father           </td><td> 2710</td><td>72808</td></tr>\n",
       "\t<tr><td>1</td><td>PC</td><td>son-mother           </td><td>18664</td><td>72808</td></tr>\n",
       "\t<tr><td>1</td><td>SB</td><td>daughter-sister      </td><td>72052</td><td>11955</td></tr>\n",
       "\t<tr><td>1</td><td>PC</td><td>daughter-mother      </td><td>96944</td><td>11955</td></tr>\n",
       "\t<tr><td>⋮</td><td>⋮</td><td>⋮</td><td>⋮</td><td>⋮</td></tr>\n",
       "\t<tr><td>3</td><td>HAV</td><td>son-mother-mother-son          </td><td>52884</td><td>89854</td></tr>\n",
       "\t<tr><td>3</td><td>HAV</td><td>son-mother-mother-son          </td><td>47403</td><td>16214</td></tr>\n",
       "\t<tr><td>3</td><td>HAV</td><td>son-mother-mother-son          </td><td>47403</td><td>75367</td></tr>\n",
       "\t<tr><td>3</td><td>HAV</td><td>son-mother-mother-son          </td><td>46593</td><td>41298</td></tr>\n",
       "\t<tr><td>3</td><td>HAV</td><td>son-mother-mother-son          </td><td>49304</td><td>25837</td></tr>\n",
       "\t<tr><td>3</td><td>HAV</td><td>son-mother-mother-son          </td><td> 4599</td><td> 1351</td></tr>\n",
       "\t<tr><td>3</td><td>HAV</td><td>son-mother-mother-son          </td><td> 1351</td><td>45611</td></tr>\n",
       "\t<tr><td>3</td><td>HAV</td><td>son-mother-mother-son          </td><td> 9498</td><td>22234</td></tr>\n",
       "\t<tr><td>3</td><td>HAV</td><td>son-mother-mother-son          </td><td>32957</td><td>40451</td></tr>\n",
       "\t<tr><td>3</td><td>HAV</td><td>daughter-mother-father-daughter</td><td>16021</td><td>97449</td></tr>\n",
       "\t<tr><td>3</td><td>HAV</td><td>daughter-mother-father-daughter</td><td>20695</td><td>15442</td></tr>\n",
       "\t<tr><td>3</td><td>HAV</td><td>daughter-mother-father-daughter</td><td>85420</td><td>15442</td></tr>\n",
       "\t<tr><td>3</td><td>HAV</td><td>daughter-mother-father-daughter</td><td>48279</td><td>44357</td></tr>\n",
       "\t<tr><td>3</td><td>HAV</td><td>daughter-mother-father-daughter</td><td>32393</td><td>66428</td></tr>\n",
       "\t<tr><td>3</td><td>HAV</td><td>daughter-mother-father-daughter</td><td>39073</td><td>66428</td></tr>\n",
       "\t<tr><td>3</td><td>HAV</td><td>daughter-mother-father-daughter</td><td>75944</td><td>89511</td></tr>\n",
       "\t<tr><td>3</td><td>HAV</td><td>daughter-father-mother-son     </td><td>59255</td><td>53670</td></tr>\n",
       "\t<tr><td>3</td><td>HAV</td><td>daughter-father-mother-son     </td><td> 3594</td><td>46514</td></tr>\n",
       "\t<tr><td>3</td><td>HAV</td><td>daughter-father-mother-son     </td><td>58437</td><td>46514</td></tr>\n",
       "\t<tr><td>3</td><td>HAV</td><td>daughter-father-mother-son     </td><td>19047</td><td>89564</td></tr>\n",
       "\t<tr><td>3</td><td>HAV</td><td>daughter-father-mother-son     </td><td>18743</td><td>14870</td></tr>\n",
       "\t<tr><td>3</td><td>HAV</td><td>daughter-father-mother-son     </td><td>24114</td><td>43435</td></tr>\n",
       "\t<tr><td>3</td><td>HAV</td><td>daughter-father-mother-son     </td><td>73076</td><td>40362</td></tr>\n",
       "\t<tr><td>3</td><td>HAV</td><td>daughter-father-mother-son     </td><td>22543</td><td>50655</td></tr>\n",
       "\t<tr><td>3</td><td>HAV</td><td>son-mother-father-daughter     </td><td>34570</td><td>78069</td></tr>\n",
       "\t<tr><td>3</td><td>HAV</td><td>son-mother-father-daughter     </td><td>92823</td><td>24766</td></tr>\n",
       "\t<tr><td>3</td><td>HAV</td><td>son-mother-father-daughter     </td><td>97449</td><td> 5360</td></tr>\n",
       "\t<tr><td>3</td><td>HAV</td><td>son-mother-father-daughter     </td><td>97449</td><td>79361</td></tr>\n",
       "\t<tr><td>3</td><td>HAV</td><td>son-mother-father-daughter     </td><td>15442</td><td>83545</td></tr>\n",
       "\t<tr><td>3</td><td>HAV</td><td>son-mother-father-daughter     </td><td>49646</td><td>29717</td></tr>\n",
       "</tbody>\n",
       "</table>\n"
      ],
      "text/latex": [
       "A data.frame: 57594 × 5\n",
       "\\begin{tabular}{lllll}\n",
       " DOR & rcode & relationship & volid & relid\\\\\n",
       " <int> & <chr> & <chr> & <int> & <int>\\\\\n",
       "\\hline\n",
       "\t 1 & SB & daughter-sister       & 18826 & 21244\\\\\n",
       "\t 1 & SB & different-sex-sibling & 34422 & 23884\\\\\n",
       "\t 1 & PC & daughter-mother       & 79198 & 67531\\\\\n",
       "\t 1 & SB & daughter-sister       & 20399 & 67531\\\\\n",
       "\t 1 & SB & daughter-sister       & 67267 & 67531\\\\\n",
       "\t 1 & PC & daughter-mother       & 79198 & 67267\\\\\n",
       "\t 1 & SB & daughter-sister       & 20399 & 67267\\\\\n",
       "\t 1 & PC & daughter-mother       & 79198 & 20399\\\\\n",
       "\t 1 & SB & different-sex-sibling & 37463 & 47358\\\\\n",
       "\t 1 & SB & daughter-sister       & 46323 & 47358\\\\\n",
       "\t 1 & SB & daughter-sister       &  1699 & 47358\\\\\n",
       "\t 1 & SB & different-sex-sibling & 56442 & 52852\\\\\n",
       "\t 1 & SB & different-sex-sibling & 72808 & 52852\\\\\n",
       "\t 1 & SB & different-sex-sibling & 92550 & 52852\\\\\n",
       "\t 1 & PC & daughter-mother       & 18664 & 52852\\\\\n",
       "\t 1 & SB & son-brother           & 72808 & 56442\\\\\n",
       "\t 1 & SB & son-brother           & 92550 & 56442\\\\\n",
       "\t 1 & PC & son-mother            & 18664 & 56442\\\\\n",
       "\t 1 & PC & son-mother            &  2710 & 46323\\\\\n",
       "\t 1 & SB & different-sex-sibling & 37463 & 46323\\\\\n",
       "\t 1 & SB & daughter-sister       &  1699 & 46323\\\\\n",
       "\t 1 & SB & different-sex-sibling & 37463 &  1699\\\\\n",
       "\t 1 & SB & son-brother           & 72808 & 92550\\\\\n",
       "\t 1 & PC & daughter-father       & 72052 & 92550\\\\\n",
       "\t 1 & PC & son-mother            & 18664 & 92550\\\\\n",
       "\t 1 & PC & daughter-father       & 11955 & 92550\\\\\n",
       "\t 1 & PC & son-father            &  2710 & 72808\\\\\n",
       "\t 1 & PC & son-mother            & 18664 & 72808\\\\\n",
       "\t 1 & SB & daughter-sister       & 72052 & 11955\\\\\n",
       "\t 1 & PC & daughter-mother       & 96944 & 11955\\\\\n",
       "\t ⋮ & ⋮ & ⋮ & ⋮ & ⋮\\\\\n",
       "\t 3 & HAV & son-mother-mother-son           & 52884 & 89854\\\\\n",
       "\t 3 & HAV & son-mother-mother-son           & 47403 & 16214\\\\\n",
       "\t 3 & HAV & son-mother-mother-son           & 47403 & 75367\\\\\n",
       "\t 3 & HAV & son-mother-mother-son           & 46593 & 41298\\\\\n",
       "\t 3 & HAV & son-mother-mother-son           & 49304 & 25837\\\\\n",
       "\t 3 & HAV & son-mother-mother-son           &  4599 &  1351\\\\\n",
       "\t 3 & HAV & son-mother-mother-son           &  1351 & 45611\\\\\n",
       "\t 3 & HAV & son-mother-mother-son           &  9498 & 22234\\\\\n",
       "\t 3 & HAV & son-mother-mother-son           & 32957 & 40451\\\\\n",
       "\t 3 & HAV & daughter-mother-father-daughter & 16021 & 97449\\\\\n",
       "\t 3 & HAV & daughter-mother-father-daughter & 20695 & 15442\\\\\n",
       "\t 3 & HAV & daughter-mother-father-daughter & 85420 & 15442\\\\\n",
       "\t 3 & HAV & daughter-mother-father-daughter & 48279 & 44357\\\\\n",
       "\t 3 & HAV & daughter-mother-father-daughter & 32393 & 66428\\\\\n",
       "\t 3 & HAV & daughter-mother-father-daughter & 39073 & 66428\\\\\n",
       "\t 3 & HAV & daughter-mother-father-daughter & 75944 & 89511\\\\\n",
       "\t 3 & HAV & daughter-father-mother-son      & 59255 & 53670\\\\\n",
       "\t 3 & HAV & daughter-father-mother-son      &  3594 & 46514\\\\\n",
       "\t 3 & HAV & daughter-father-mother-son      & 58437 & 46514\\\\\n",
       "\t 3 & HAV & daughter-father-mother-son      & 19047 & 89564\\\\\n",
       "\t 3 & HAV & daughter-father-mother-son      & 18743 & 14870\\\\\n",
       "\t 3 & HAV & daughter-father-mother-son      & 24114 & 43435\\\\\n",
       "\t 3 & HAV & daughter-father-mother-son      & 73076 & 40362\\\\\n",
       "\t 3 & HAV & daughter-father-mother-son      & 22543 & 50655\\\\\n",
       "\t 3 & HAV & son-mother-father-daughter      & 34570 & 78069\\\\\n",
       "\t 3 & HAV & son-mother-father-daughter      & 92823 & 24766\\\\\n",
       "\t 3 & HAV & son-mother-father-daughter      & 97449 &  5360\\\\\n",
       "\t 3 & HAV & son-mother-father-daughter      & 97449 & 79361\\\\\n",
       "\t 3 & HAV & son-mother-father-daughter      & 15442 & 83545\\\\\n",
       "\t 3 & HAV & son-mother-father-daughter      & 49646 & 29717\\\\\n",
       "\\end{tabular}\n"
      ],
      "text/markdown": [
       "\n",
       "A data.frame: 57594 × 5\n",
       "\n",
       "| DOR &lt;int&gt; | rcode &lt;chr&gt; | relationship &lt;chr&gt; | volid &lt;int&gt; | relid &lt;int&gt; |\n",
       "|---|---|---|---|---|\n",
       "| 1 | SB | daughter-sister       | 18826 | 21244 |\n",
       "| 1 | SB | different-sex-sibling | 34422 | 23884 |\n",
       "| 1 | PC | daughter-mother       | 79198 | 67531 |\n",
       "| 1 | SB | daughter-sister       | 20399 | 67531 |\n",
       "| 1 | SB | daughter-sister       | 67267 | 67531 |\n",
       "| 1 | PC | daughter-mother       | 79198 | 67267 |\n",
       "| 1 | SB | daughter-sister       | 20399 | 67267 |\n",
       "| 1 | PC | daughter-mother       | 79198 | 20399 |\n",
       "| 1 | SB | different-sex-sibling | 37463 | 47358 |\n",
       "| 1 | SB | daughter-sister       | 46323 | 47358 |\n",
       "| 1 | SB | daughter-sister       |  1699 | 47358 |\n",
       "| 1 | SB | different-sex-sibling | 56442 | 52852 |\n",
       "| 1 | SB | different-sex-sibling | 72808 | 52852 |\n",
       "| 1 | SB | different-sex-sibling | 92550 | 52852 |\n",
       "| 1 | PC | daughter-mother       | 18664 | 52852 |\n",
       "| 1 | SB | son-brother           | 72808 | 56442 |\n",
       "| 1 | SB | son-brother           | 92550 | 56442 |\n",
       "| 1 | PC | son-mother            | 18664 | 56442 |\n",
       "| 1 | PC | son-mother            |  2710 | 46323 |\n",
       "| 1 | SB | different-sex-sibling | 37463 | 46323 |\n",
       "| 1 | SB | daughter-sister       |  1699 | 46323 |\n",
       "| 1 | SB | different-sex-sibling | 37463 |  1699 |\n",
       "| 1 | SB | son-brother           | 72808 | 92550 |\n",
       "| 1 | PC | daughter-father       | 72052 | 92550 |\n",
       "| 1 | PC | son-mother            | 18664 | 92550 |\n",
       "| 1 | PC | daughter-father       | 11955 | 92550 |\n",
       "| 1 | PC | son-father            |  2710 | 72808 |\n",
       "| 1 | PC | son-mother            | 18664 | 72808 |\n",
       "| 1 | SB | daughter-sister       | 72052 | 11955 |\n",
       "| 1 | PC | daughter-mother       | 96944 | 11955 |\n",
       "| ⋮ | ⋮ | ⋮ | ⋮ | ⋮ |\n",
       "| 3 | HAV | son-mother-mother-son           | 52884 | 89854 |\n",
       "| 3 | HAV | son-mother-mother-son           | 47403 | 16214 |\n",
       "| 3 | HAV | son-mother-mother-son           | 47403 | 75367 |\n",
       "| 3 | HAV | son-mother-mother-son           | 46593 | 41298 |\n",
       "| 3 | HAV | son-mother-mother-son           | 49304 | 25837 |\n",
       "| 3 | HAV | son-mother-mother-son           |  4599 |  1351 |\n",
       "| 3 | HAV | son-mother-mother-son           |  1351 | 45611 |\n",
       "| 3 | HAV | son-mother-mother-son           |  9498 | 22234 |\n",
       "| 3 | HAV | son-mother-mother-son           | 32957 | 40451 |\n",
       "| 3 | HAV | daughter-mother-father-daughter | 16021 | 97449 |\n",
       "| 3 | HAV | daughter-mother-father-daughter | 20695 | 15442 |\n",
       "| 3 | HAV | daughter-mother-father-daughter | 85420 | 15442 |\n",
       "| 3 | HAV | daughter-mother-father-daughter | 48279 | 44357 |\n",
       "| 3 | HAV | daughter-mother-father-daughter | 32393 | 66428 |\n",
       "| 3 | HAV | daughter-mother-father-daughter | 39073 | 66428 |\n",
       "| 3 | HAV | daughter-mother-father-daughter | 75944 | 89511 |\n",
       "| 3 | HAV | daughter-father-mother-son      | 59255 | 53670 |\n",
       "| 3 | HAV | daughter-father-mother-son      |  3594 | 46514 |\n",
       "| 3 | HAV | daughter-father-mother-son      | 58437 | 46514 |\n",
       "| 3 | HAV | daughter-father-mother-son      | 19047 | 89564 |\n",
       "| 3 | HAV | daughter-father-mother-son      | 18743 | 14870 |\n",
       "| 3 | HAV | daughter-father-mother-son      | 24114 | 43435 |\n",
       "| 3 | HAV | daughter-father-mother-son      | 73076 | 40362 |\n",
       "| 3 | HAV | daughter-father-mother-son      | 22543 | 50655 |\n",
       "| 3 | HAV | son-mother-father-daughter      | 34570 | 78069 |\n",
       "| 3 | HAV | son-mother-father-daughter      | 92823 | 24766 |\n",
       "| 3 | HAV | son-mother-father-daughter      | 97449 |  5360 |\n",
       "| 3 | HAV | son-mother-father-daughter      | 97449 | 79361 |\n",
       "| 3 | HAV | son-mother-father-daughter      | 15442 | 83545 |\n",
       "| 3 | HAV | son-mother-father-daughter      | 49646 | 29717 |\n",
       "\n"
      ],
      "text/plain": [
       "      DOR rcode relationship                    volid relid\n",
       "1     1   SB    daughter-sister                 18826 21244\n",
       "2     1   SB    different-sex-sibling           34422 23884\n",
       "3     1   PC    daughter-mother                 79198 67531\n",
       "4     1   SB    daughter-sister                 20399 67531\n",
       "5     1   SB    daughter-sister                 67267 67531\n",
       "6     1   PC    daughter-mother                 79198 67267\n",
       "7     1   SB    daughter-sister                 20399 67267\n",
       "8     1   PC    daughter-mother                 79198 20399\n",
       "9     1   SB    different-sex-sibling           37463 47358\n",
       "10    1   SB    daughter-sister                 46323 47358\n",
       "11    1   SB    daughter-sister                  1699 47358\n",
       "12    1   SB    different-sex-sibling           56442 52852\n",
       "13    1   SB    different-sex-sibling           72808 52852\n",
       "14    1   SB    different-sex-sibling           92550 52852\n",
       "15    1   PC    daughter-mother                 18664 52852\n",
       "16    1   SB    son-brother                     72808 56442\n",
       "17    1   SB    son-brother                     92550 56442\n",
       "18    1   PC    son-mother                      18664 56442\n",
       "19    1   PC    son-mother                       2710 46323\n",
       "20    1   SB    different-sex-sibling           37463 46323\n",
       "21    1   SB    daughter-sister                  1699 46323\n",
       "22    1   SB    different-sex-sibling           37463  1699\n",
       "23    1   SB    son-brother                     72808 92550\n",
       "24    1   PC    daughter-father                 72052 92550\n",
       "25    1   PC    son-mother                      18664 92550\n",
       "26    1   PC    daughter-father                 11955 92550\n",
       "27    1   PC    son-father                       2710 72808\n",
       "28    1   PC    son-mother                      18664 72808\n",
       "29    1   SB    daughter-sister                 72052 11955\n",
       "30    1   PC    daughter-mother                 96944 11955\n",
       "⋮     ⋮   ⋮     ⋮                               ⋮     ⋮    \n",
       "57565 3   HAV   son-mother-mother-son           52884 89854\n",
       "57566 3   HAV   son-mother-mother-son           47403 16214\n",
       "57567 3   HAV   son-mother-mother-son           47403 75367\n",
       "57568 3   HAV   son-mother-mother-son           46593 41298\n",
       "57569 3   HAV   son-mother-mother-son           49304 25837\n",
       "57570 3   HAV   son-mother-mother-son            4599  1351\n",
       "57571 3   HAV   son-mother-mother-son            1351 45611\n",
       "57572 3   HAV   son-mother-mother-son            9498 22234\n",
       "57573 3   HAV   son-mother-mother-son           32957 40451\n",
       "57574 3   HAV   daughter-mother-father-daughter 16021 97449\n",
       "57575 3   HAV   daughter-mother-father-daughter 20695 15442\n",
       "57576 3   HAV   daughter-mother-father-daughter 85420 15442\n",
       "57577 3   HAV   daughter-mother-father-daughter 48279 44357\n",
       "57578 3   HAV   daughter-mother-father-daughter 32393 66428\n",
       "57579 3   HAV   daughter-mother-father-daughter 39073 66428\n",
       "57580 3   HAV   daughter-mother-father-daughter 75944 89511\n",
       "57581 3   HAV   daughter-father-mother-son      59255 53670\n",
       "57582 3   HAV   daughter-father-mother-son       3594 46514\n",
       "57583 3   HAV   daughter-father-mother-son      58437 46514\n",
       "57584 3   HAV   daughter-father-mother-son      19047 89564\n",
       "57585 3   HAV   daughter-father-mother-son      18743 14870\n",
       "57586 3   HAV   daughter-father-mother-son      24114 43435\n",
       "57587 3   HAV   daughter-father-mother-son      73076 40362\n",
       "57588 3   HAV   daughter-father-mother-son      22543 50655\n",
       "57589 3   HAV   son-mother-father-daughter      34570 78069\n",
       "57590 3   HAV   son-mother-father-daughter      92823 24766\n",
       "57591 3   HAV   son-mother-father-daughter      97449  5360\n",
       "57592 3   HAV   son-mother-father-daughter      97449 79361\n",
       "57593 3   HAV   son-mother-father-daughter      15442 83545\n",
       "57594 3   HAV   son-mother-father-daughter      49646 29717"
      ]
     },
     "metadata": {},
     "output_type": "display_data"
    }
   ],
   "source": [
    "df_flip_and_concat"
   ]
  },
  {
   "cell_type": "markdown",
   "metadata": {},
   "source": [
    "# Step 3. check number of relatives per volid"
   ]
  },
  {
   "cell_type": "code",
   "execution_count": 28,
   "metadata": {
    "vscode": {
     "languageId": "r"
    }
   },
   "outputs": [],
   "source": [
    "plot_relatives_distribution <- function(df_rel_counts, \n",
    "                                      output_path = NULL,\n",
    "                                      title = NULL,\n",
    "                                      width = 6,\n",
    "                                      height = 4,\n",
    "                                      dpi = 300) {\n",
    "    \n",
    "    library(ggplot2)\n",
    "    library(dplyr)\n",
    "    library(scales)\n",
    "    \n",
    "    # Calculate cumulative percentages\n",
    "    total_volunteers <- nrow(df_rel_counts)\n",
    "    rel_counts <- table(df_rel_counts$relid)\n",
    "    cumulative_percent <- cumsum(rel_counts) / total_volunteers * 100\n",
    "    cumulative_df <- data.frame(\n",
    "        relid = as.numeric(names(cumulative_percent)),\n",
    "        cumulative = cumulative_percent\n",
    "    )\n",
    "    \n",
    "    # 히스토그램 데이터 계산\n",
    "    hist_data <- hist(df_rel_counts$relid, \n",
    "                     breaks = seq(0.5, max(df_rel_counts$relid) + 0.5, by = 1), \n",
    "                     plot = FALSE)\n",
    "    max_count <- max(hist_data$counts)\n",
    "    y_max <- max_count * 1.05\n",
    "    max_x <- max(df_rel_counts$relid)\n",
    "    x_breaks <- pretty(c(0, max_x), n = 10)  # n=10으로 설정하여 약 10개의 눈금 생성\n",
    "    \n",
    "    # Create plot\n",
    "    p <- ggplot() +\n",
    "        # Histogram\n",
    "        geom_histogram(data = df_rel_counts, \n",
    "                      aes(x = relid), \n",
    "                      breaks = seq(0.5, max(df_rel_counts$relid) + 0.5, by = 1),\n",
    "                      fill = \"grey80\", \n",
    "                      color = \"white\") +\n",
    "        # Cumulative line\n",
    "        geom_line(data = cumulative_df, \n",
    "                  aes(x = relid, y = cumulative * max_count/100, \n",
    "                      color = \"Cumulative %\"), \n",
    "                  linewidth = 0.8) +\n",
    "        geom_point(data = cumulative_df, \n",
    "                   aes(x = relid, y = cumulative * max_count/100,\n",
    "                       color = \"Cumulative %\"), \n",
    "                   size = 1.5) +\n",
    "        # Scales and labels\n",
    "        scale_x_continuous(\n",
    "            breaks = x_breaks,\n",
    "            limits = c(0, max_x),\n",
    "            expand = c(0, 0)\n",
    "        ) +\n",
    "        scale_y_continuous(\n",
    "            name = \"# of samples\",\n",
    "            limits = c(0, y_max),\n",
    "            sec.axis = sec_axis(~. * 100/max_count, \n",
    "                               name = \"Cumulative %\"),\n",
    "            expand = c(0, 0)\n",
    "        ) +\n",
    "        scale_color_manual(values = c(\"Cumulative %\" = \"#E41A1C\")) +\n",
    "        labs(\n",
    "            title = title,\n",
    "            x = \"# of relatives\"\n",
    "        ) +\n",
    "        theme_classic() +\n",
    "        theme(\n",
    "            text = element_text(size = 8),\n",
    "            axis.title = element_text(size = 8),\n",
    "            axis.text = element_text(size = 8, color = \"black\"),\n",
    "            axis.title.y.left = element_text(color = \"black\"),\n",
    "            axis.title.y.right = element_text(color = \"black\"),\n",
    "            axis.text.y.right = element_text(color = \"black\"),\n",
    "            legend.position = c(0.5, 1.0),\n",
    "            legend.title = element_blank(),\n",
    "            legend.background = element_blank(),\n",
    "            legend.key = element_blank(),\n",
    "            legend.direction = \"horizontal\",\n",
    "            legend.text = element_text(size = 8),\n",
    "            plot.tag = element_text(face = \"bold\", size = 0),\n",
    "            plot.margin = margin(t = 3, r = 1, b = 1, l = 1)\n",
    "        )\n",
    "    \n",
    "    # Save plot if output_path is provided\n",
    "    if (!is.null(output_path)) {\n",
    "        ggsave(output_path, p, width = width, height = height, dpi = dpi)\n",
    "    }\n",
    "    \n",
    "    return(p)\n",
    "}"
   ]
  },
  {
   "cell_type": "markdown",
   "metadata": {},
   "source": [
    "## Step 3.1. all cohort"
   ]
  },
  {
   "cell_type": "code",
   "execution_count": 29,
   "metadata": {
    "vscode": {
     "languageId": "r"
    }
   },
   "outputs": [],
   "source": [
    "df_rel_counts <- df_flip_and_concat %>%\n",
    "    group_by(volid) %>%\n",
    "    summarise(relid = n()) %>%\n",
    "    arrange(desc(relid))\n",
    "\n",
    "# df_rel_counts"
   ]
  },
  {
   "cell_type": "code",
   "execution_count": 33,
   "metadata": {
    "vscode": {
     "languageId": "r"
    }
   },
   "outputs": [
    {
     "data": {
      "text/html": [
       "<table class=\"dataframe\">\n",
       "<caption>A data.frame: 57594 × 5</caption>\n",
       "<thead>\n",
       "\t<tr><th scope=col>DOR</th><th scope=col>rcode</th><th scope=col>relationship</th><th scope=col>volid</th><th scope=col>relid</th></tr>\n",
       "\t<tr><th scope=col>&lt;int&gt;</th><th scope=col>&lt;chr&gt;</th><th scope=col>&lt;chr&gt;</th><th scope=col>&lt;int&gt;</th><th scope=col>&lt;int&gt;</th></tr>\n",
       "</thead>\n",
       "<tbody>\n",
       "\t<tr><td>1</td><td>SB</td><td>daughter-sister      </td><td>18826</td><td>21244</td></tr>\n",
       "\t<tr><td>1</td><td>SB</td><td>different-sex-sibling</td><td>34422</td><td>23884</td></tr>\n",
       "\t<tr><td>1</td><td>PC</td><td>daughter-mother      </td><td>79198</td><td>67531</td></tr>\n",
       "\t<tr><td>1</td><td>SB</td><td>daughter-sister      </td><td>20399</td><td>67531</td></tr>\n",
       "\t<tr><td>1</td><td>SB</td><td>daughter-sister      </td><td>67267</td><td>67531</td></tr>\n",
       "\t<tr><td>1</td><td>PC</td><td>daughter-mother      </td><td>79198</td><td>67267</td></tr>\n",
       "\t<tr><td>1</td><td>SB</td><td>daughter-sister      </td><td>20399</td><td>67267</td></tr>\n",
       "\t<tr><td>1</td><td>PC</td><td>daughter-mother      </td><td>79198</td><td>20399</td></tr>\n",
       "\t<tr><td>1</td><td>SB</td><td>different-sex-sibling</td><td>37463</td><td>47358</td></tr>\n",
       "\t<tr><td>1</td><td>SB</td><td>daughter-sister      </td><td>46323</td><td>47358</td></tr>\n",
       "\t<tr><td>1</td><td>SB</td><td>daughter-sister      </td><td> 1699</td><td>47358</td></tr>\n",
       "\t<tr><td>1</td><td>SB</td><td>different-sex-sibling</td><td>56442</td><td>52852</td></tr>\n",
       "\t<tr><td>1</td><td>SB</td><td>different-sex-sibling</td><td>72808</td><td>52852</td></tr>\n",
       "\t<tr><td>1</td><td>SB</td><td>different-sex-sibling</td><td>92550</td><td>52852</td></tr>\n",
       "\t<tr><td>1</td><td>PC</td><td>daughter-mother      </td><td>18664</td><td>52852</td></tr>\n",
       "\t<tr><td>1</td><td>SB</td><td>son-brother          </td><td>72808</td><td>56442</td></tr>\n",
       "\t<tr><td>1</td><td>SB</td><td>son-brother          </td><td>92550</td><td>56442</td></tr>\n",
       "\t<tr><td>1</td><td>PC</td><td>son-mother           </td><td>18664</td><td>56442</td></tr>\n",
       "\t<tr><td>1</td><td>PC</td><td>son-mother           </td><td> 2710</td><td>46323</td></tr>\n",
       "\t<tr><td>1</td><td>SB</td><td>different-sex-sibling</td><td>37463</td><td>46323</td></tr>\n",
       "\t<tr><td>1</td><td>SB</td><td>daughter-sister      </td><td> 1699</td><td>46323</td></tr>\n",
       "\t<tr><td>1</td><td>SB</td><td>different-sex-sibling</td><td>37463</td><td> 1699</td></tr>\n",
       "\t<tr><td>1</td><td>SB</td><td>son-brother          </td><td>72808</td><td>92550</td></tr>\n",
       "\t<tr><td>1</td><td>PC</td><td>daughter-father      </td><td>72052</td><td>92550</td></tr>\n",
       "\t<tr><td>1</td><td>PC</td><td>son-mother           </td><td>18664</td><td>92550</td></tr>\n",
       "\t<tr><td>1</td><td>PC</td><td>daughter-father      </td><td>11955</td><td>92550</td></tr>\n",
       "\t<tr><td>1</td><td>PC</td><td>son-father           </td><td> 2710</td><td>72808</td></tr>\n",
       "\t<tr><td>1</td><td>PC</td><td>son-mother           </td><td>18664</td><td>72808</td></tr>\n",
       "\t<tr><td>1</td><td>SB</td><td>daughter-sister      </td><td>72052</td><td>11955</td></tr>\n",
       "\t<tr><td>1</td><td>PC</td><td>daughter-mother      </td><td>96944</td><td>11955</td></tr>\n",
       "\t<tr><td>⋮</td><td>⋮</td><td>⋮</td><td>⋮</td><td>⋮</td></tr>\n",
       "\t<tr><td>3</td><td>HAV</td><td>son-mother-mother-son          </td><td>52884</td><td>89854</td></tr>\n",
       "\t<tr><td>3</td><td>HAV</td><td>son-mother-mother-son          </td><td>47403</td><td>16214</td></tr>\n",
       "\t<tr><td>3</td><td>HAV</td><td>son-mother-mother-son          </td><td>47403</td><td>75367</td></tr>\n",
       "\t<tr><td>3</td><td>HAV</td><td>son-mother-mother-son          </td><td>46593</td><td>41298</td></tr>\n",
       "\t<tr><td>3</td><td>HAV</td><td>son-mother-mother-son          </td><td>49304</td><td>25837</td></tr>\n",
       "\t<tr><td>3</td><td>HAV</td><td>son-mother-mother-son          </td><td> 4599</td><td> 1351</td></tr>\n",
       "\t<tr><td>3</td><td>HAV</td><td>son-mother-mother-son          </td><td> 1351</td><td>45611</td></tr>\n",
       "\t<tr><td>3</td><td>HAV</td><td>son-mother-mother-son          </td><td> 9498</td><td>22234</td></tr>\n",
       "\t<tr><td>3</td><td>HAV</td><td>son-mother-mother-son          </td><td>32957</td><td>40451</td></tr>\n",
       "\t<tr><td>3</td><td>HAV</td><td>daughter-mother-father-daughter</td><td>16021</td><td>97449</td></tr>\n",
       "\t<tr><td>3</td><td>HAV</td><td>daughter-mother-father-daughter</td><td>20695</td><td>15442</td></tr>\n",
       "\t<tr><td>3</td><td>HAV</td><td>daughter-mother-father-daughter</td><td>85420</td><td>15442</td></tr>\n",
       "\t<tr><td>3</td><td>HAV</td><td>daughter-mother-father-daughter</td><td>48279</td><td>44357</td></tr>\n",
       "\t<tr><td>3</td><td>HAV</td><td>daughter-mother-father-daughter</td><td>32393</td><td>66428</td></tr>\n",
       "\t<tr><td>3</td><td>HAV</td><td>daughter-mother-father-daughter</td><td>39073</td><td>66428</td></tr>\n",
       "\t<tr><td>3</td><td>HAV</td><td>daughter-mother-father-daughter</td><td>75944</td><td>89511</td></tr>\n",
       "\t<tr><td>3</td><td>HAV</td><td>daughter-father-mother-son     </td><td>59255</td><td>53670</td></tr>\n",
       "\t<tr><td>3</td><td>HAV</td><td>daughter-father-mother-son     </td><td> 3594</td><td>46514</td></tr>\n",
       "\t<tr><td>3</td><td>HAV</td><td>daughter-father-mother-son     </td><td>58437</td><td>46514</td></tr>\n",
       "\t<tr><td>3</td><td>HAV</td><td>daughter-father-mother-son     </td><td>19047</td><td>89564</td></tr>\n",
       "\t<tr><td>3</td><td>HAV</td><td>daughter-father-mother-son     </td><td>18743</td><td>14870</td></tr>\n",
       "\t<tr><td>3</td><td>HAV</td><td>daughter-father-mother-son     </td><td>24114</td><td>43435</td></tr>\n",
       "\t<tr><td>3</td><td>HAV</td><td>daughter-father-mother-son     </td><td>73076</td><td>40362</td></tr>\n",
       "\t<tr><td>3</td><td>HAV</td><td>daughter-father-mother-son     </td><td>22543</td><td>50655</td></tr>\n",
       "\t<tr><td>3</td><td>HAV</td><td>son-mother-father-daughter     </td><td>34570</td><td>78069</td></tr>\n",
       "\t<tr><td>3</td><td>HAV</td><td>son-mother-father-daughter     </td><td>92823</td><td>24766</td></tr>\n",
       "\t<tr><td>3</td><td>HAV</td><td>son-mother-father-daughter     </td><td>97449</td><td> 5360</td></tr>\n",
       "\t<tr><td>3</td><td>HAV</td><td>son-mother-father-daughter     </td><td>97449</td><td>79361</td></tr>\n",
       "\t<tr><td>3</td><td>HAV</td><td>son-mother-father-daughter     </td><td>15442</td><td>83545</td></tr>\n",
       "\t<tr><td>3</td><td>HAV</td><td>son-mother-father-daughter     </td><td>49646</td><td>29717</td></tr>\n",
       "</tbody>\n",
       "</table>\n"
      ],
      "text/latex": [
       "A data.frame: 57594 × 5\n",
       "\\begin{tabular}{lllll}\n",
       " DOR & rcode & relationship & volid & relid\\\\\n",
       " <int> & <chr> & <chr> & <int> & <int>\\\\\n",
       "\\hline\n",
       "\t 1 & SB & daughter-sister       & 18826 & 21244\\\\\n",
       "\t 1 & SB & different-sex-sibling & 34422 & 23884\\\\\n",
       "\t 1 & PC & daughter-mother       & 79198 & 67531\\\\\n",
       "\t 1 & SB & daughter-sister       & 20399 & 67531\\\\\n",
       "\t 1 & SB & daughter-sister       & 67267 & 67531\\\\\n",
       "\t 1 & PC & daughter-mother       & 79198 & 67267\\\\\n",
       "\t 1 & SB & daughter-sister       & 20399 & 67267\\\\\n",
       "\t 1 & PC & daughter-mother       & 79198 & 20399\\\\\n",
       "\t 1 & SB & different-sex-sibling & 37463 & 47358\\\\\n",
       "\t 1 & SB & daughter-sister       & 46323 & 47358\\\\\n",
       "\t 1 & SB & daughter-sister       &  1699 & 47358\\\\\n",
       "\t 1 & SB & different-sex-sibling & 56442 & 52852\\\\\n",
       "\t 1 & SB & different-sex-sibling & 72808 & 52852\\\\\n",
       "\t 1 & SB & different-sex-sibling & 92550 & 52852\\\\\n",
       "\t 1 & PC & daughter-mother       & 18664 & 52852\\\\\n",
       "\t 1 & SB & son-brother           & 72808 & 56442\\\\\n",
       "\t 1 & SB & son-brother           & 92550 & 56442\\\\\n",
       "\t 1 & PC & son-mother            & 18664 & 56442\\\\\n",
       "\t 1 & PC & son-mother            &  2710 & 46323\\\\\n",
       "\t 1 & SB & different-sex-sibling & 37463 & 46323\\\\\n",
       "\t 1 & SB & daughter-sister       &  1699 & 46323\\\\\n",
       "\t 1 & SB & different-sex-sibling & 37463 &  1699\\\\\n",
       "\t 1 & SB & son-brother           & 72808 & 92550\\\\\n",
       "\t 1 & PC & daughter-father       & 72052 & 92550\\\\\n",
       "\t 1 & PC & son-mother            & 18664 & 92550\\\\\n",
       "\t 1 & PC & daughter-father       & 11955 & 92550\\\\\n",
       "\t 1 & PC & son-father            &  2710 & 72808\\\\\n",
       "\t 1 & PC & son-mother            & 18664 & 72808\\\\\n",
       "\t 1 & SB & daughter-sister       & 72052 & 11955\\\\\n",
       "\t 1 & PC & daughter-mother       & 96944 & 11955\\\\\n",
       "\t ⋮ & ⋮ & ⋮ & ⋮ & ⋮\\\\\n",
       "\t 3 & HAV & son-mother-mother-son           & 52884 & 89854\\\\\n",
       "\t 3 & HAV & son-mother-mother-son           & 47403 & 16214\\\\\n",
       "\t 3 & HAV & son-mother-mother-son           & 47403 & 75367\\\\\n",
       "\t 3 & HAV & son-mother-mother-son           & 46593 & 41298\\\\\n",
       "\t 3 & HAV & son-mother-mother-son           & 49304 & 25837\\\\\n",
       "\t 3 & HAV & son-mother-mother-son           &  4599 &  1351\\\\\n",
       "\t 3 & HAV & son-mother-mother-son           &  1351 & 45611\\\\\n",
       "\t 3 & HAV & son-mother-mother-son           &  9498 & 22234\\\\\n",
       "\t 3 & HAV & son-mother-mother-son           & 32957 & 40451\\\\\n",
       "\t 3 & HAV & daughter-mother-father-daughter & 16021 & 97449\\\\\n",
       "\t 3 & HAV & daughter-mother-father-daughter & 20695 & 15442\\\\\n",
       "\t 3 & HAV & daughter-mother-father-daughter & 85420 & 15442\\\\\n",
       "\t 3 & HAV & daughter-mother-father-daughter & 48279 & 44357\\\\\n",
       "\t 3 & HAV & daughter-mother-father-daughter & 32393 & 66428\\\\\n",
       "\t 3 & HAV & daughter-mother-father-daughter & 39073 & 66428\\\\\n",
       "\t 3 & HAV & daughter-mother-father-daughter & 75944 & 89511\\\\\n",
       "\t 3 & HAV & daughter-father-mother-son      & 59255 & 53670\\\\\n",
       "\t 3 & HAV & daughter-father-mother-son      &  3594 & 46514\\\\\n",
       "\t 3 & HAV & daughter-father-mother-son      & 58437 & 46514\\\\\n",
       "\t 3 & HAV & daughter-father-mother-son      & 19047 & 89564\\\\\n",
       "\t 3 & HAV & daughter-father-mother-son      & 18743 & 14870\\\\\n",
       "\t 3 & HAV & daughter-father-mother-son      & 24114 & 43435\\\\\n",
       "\t 3 & HAV & daughter-father-mother-son      & 73076 & 40362\\\\\n",
       "\t 3 & HAV & daughter-father-mother-son      & 22543 & 50655\\\\\n",
       "\t 3 & HAV & son-mother-father-daughter      & 34570 & 78069\\\\\n",
       "\t 3 & HAV & son-mother-father-daughter      & 92823 & 24766\\\\\n",
       "\t 3 & HAV & son-mother-father-daughter      & 97449 &  5360\\\\\n",
       "\t 3 & HAV & son-mother-father-daughter      & 97449 & 79361\\\\\n",
       "\t 3 & HAV & son-mother-father-daughter      & 15442 & 83545\\\\\n",
       "\t 3 & HAV & son-mother-father-daughter      & 49646 & 29717\\\\\n",
       "\\end{tabular}\n"
      ],
      "text/markdown": [
       "\n",
       "A data.frame: 57594 × 5\n",
       "\n",
       "| DOR &lt;int&gt; | rcode &lt;chr&gt; | relationship &lt;chr&gt; | volid &lt;int&gt; | relid &lt;int&gt; |\n",
       "|---|---|---|---|---|\n",
       "| 1 | SB | daughter-sister       | 18826 | 21244 |\n",
       "| 1 | SB | different-sex-sibling | 34422 | 23884 |\n",
       "| 1 | PC | daughter-mother       | 79198 | 67531 |\n",
       "| 1 | SB | daughter-sister       | 20399 | 67531 |\n",
       "| 1 | SB | daughter-sister       | 67267 | 67531 |\n",
       "| 1 | PC | daughter-mother       | 79198 | 67267 |\n",
       "| 1 | SB | daughter-sister       | 20399 | 67267 |\n",
       "| 1 | PC | daughter-mother       | 79198 | 20399 |\n",
       "| 1 | SB | different-sex-sibling | 37463 | 47358 |\n",
       "| 1 | SB | daughter-sister       | 46323 | 47358 |\n",
       "| 1 | SB | daughter-sister       |  1699 | 47358 |\n",
       "| 1 | SB | different-sex-sibling | 56442 | 52852 |\n",
       "| 1 | SB | different-sex-sibling | 72808 | 52852 |\n",
       "| 1 | SB | different-sex-sibling | 92550 | 52852 |\n",
       "| 1 | PC | daughter-mother       | 18664 | 52852 |\n",
       "| 1 | SB | son-brother           | 72808 | 56442 |\n",
       "| 1 | SB | son-brother           | 92550 | 56442 |\n",
       "| 1 | PC | son-mother            | 18664 | 56442 |\n",
       "| 1 | PC | son-mother            |  2710 | 46323 |\n",
       "| 1 | SB | different-sex-sibling | 37463 | 46323 |\n",
       "| 1 | SB | daughter-sister       |  1699 | 46323 |\n",
       "| 1 | SB | different-sex-sibling | 37463 |  1699 |\n",
       "| 1 | SB | son-brother           | 72808 | 92550 |\n",
       "| 1 | PC | daughter-father       | 72052 | 92550 |\n",
       "| 1 | PC | son-mother            | 18664 | 92550 |\n",
       "| 1 | PC | daughter-father       | 11955 | 92550 |\n",
       "| 1 | PC | son-father            |  2710 | 72808 |\n",
       "| 1 | PC | son-mother            | 18664 | 72808 |\n",
       "| 1 | SB | daughter-sister       | 72052 | 11955 |\n",
       "| 1 | PC | daughter-mother       | 96944 | 11955 |\n",
       "| ⋮ | ⋮ | ⋮ | ⋮ | ⋮ |\n",
       "| 3 | HAV | son-mother-mother-son           | 52884 | 89854 |\n",
       "| 3 | HAV | son-mother-mother-son           | 47403 | 16214 |\n",
       "| 3 | HAV | son-mother-mother-son           | 47403 | 75367 |\n",
       "| 3 | HAV | son-mother-mother-son           | 46593 | 41298 |\n",
       "| 3 | HAV | son-mother-mother-son           | 49304 | 25837 |\n",
       "| 3 | HAV | son-mother-mother-son           |  4599 |  1351 |\n",
       "| 3 | HAV | son-mother-mother-son           |  1351 | 45611 |\n",
       "| 3 | HAV | son-mother-mother-son           |  9498 | 22234 |\n",
       "| 3 | HAV | son-mother-mother-son           | 32957 | 40451 |\n",
       "| 3 | HAV | daughter-mother-father-daughter | 16021 | 97449 |\n",
       "| 3 | HAV | daughter-mother-father-daughter | 20695 | 15442 |\n",
       "| 3 | HAV | daughter-mother-father-daughter | 85420 | 15442 |\n",
       "| 3 | HAV | daughter-mother-father-daughter | 48279 | 44357 |\n",
       "| 3 | HAV | daughter-mother-father-daughter | 32393 | 66428 |\n",
       "| 3 | HAV | daughter-mother-father-daughter | 39073 | 66428 |\n",
       "| 3 | HAV | daughter-mother-father-daughter | 75944 | 89511 |\n",
       "| 3 | HAV | daughter-father-mother-son      | 59255 | 53670 |\n",
       "| 3 | HAV | daughter-father-mother-son      |  3594 | 46514 |\n",
       "| 3 | HAV | daughter-father-mother-son      | 58437 | 46514 |\n",
       "| 3 | HAV | daughter-father-mother-son      | 19047 | 89564 |\n",
       "| 3 | HAV | daughter-father-mother-son      | 18743 | 14870 |\n",
       "| 3 | HAV | daughter-father-mother-son      | 24114 | 43435 |\n",
       "| 3 | HAV | daughter-father-mother-son      | 73076 | 40362 |\n",
       "| 3 | HAV | daughter-father-mother-son      | 22543 | 50655 |\n",
       "| 3 | HAV | son-mother-father-daughter      | 34570 | 78069 |\n",
       "| 3 | HAV | son-mother-father-daughter      | 92823 | 24766 |\n",
       "| 3 | HAV | son-mother-father-daughter      | 97449 |  5360 |\n",
       "| 3 | HAV | son-mother-father-daughter      | 97449 | 79361 |\n",
       "| 3 | HAV | son-mother-father-daughter      | 15442 | 83545 |\n",
       "| 3 | HAV | son-mother-father-daughter      | 49646 | 29717 |\n",
       "\n"
      ],
      "text/plain": [
       "      DOR rcode relationship                    volid relid\n",
       "1     1   SB    daughter-sister                 18826 21244\n",
       "2     1   SB    different-sex-sibling           34422 23884\n",
       "3     1   PC    daughter-mother                 79198 67531\n",
       "4     1   SB    daughter-sister                 20399 67531\n",
       "5     1   SB    daughter-sister                 67267 67531\n",
       "6     1   PC    daughter-mother                 79198 67267\n",
       "7     1   SB    daughter-sister                 20399 67267\n",
       "8     1   PC    daughter-mother                 79198 20399\n",
       "9     1   SB    different-sex-sibling           37463 47358\n",
       "10    1   SB    daughter-sister                 46323 47358\n",
       "11    1   SB    daughter-sister                  1699 47358\n",
       "12    1   SB    different-sex-sibling           56442 52852\n",
       "13    1   SB    different-sex-sibling           72808 52852\n",
       "14    1   SB    different-sex-sibling           92550 52852\n",
       "15    1   PC    daughter-mother                 18664 52852\n",
       "16    1   SB    son-brother                     72808 56442\n",
       "17    1   SB    son-brother                     92550 56442\n",
       "18    1   PC    son-mother                      18664 56442\n",
       "19    1   PC    son-mother                       2710 46323\n",
       "20    1   SB    different-sex-sibling           37463 46323\n",
       "21    1   SB    daughter-sister                  1699 46323\n",
       "22    1   SB    different-sex-sibling           37463  1699\n",
       "23    1   SB    son-brother                     72808 92550\n",
       "24    1   PC    daughter-father                 72052 92550\n",
       "25    1   PC    son-mother                      18664 92550\n",
       "26    1   PC    daughter-father                 11955 92550\n",
       "27    1   PC    son-father                       2710 72808\n",
       "28    1   PC    son-mother                      18664 72808\n",
       "29    1   SB    daughter-sister                 72052 11955\n",
       "30    1   PC    daughter-mother                 96944 11955\n",
       "⋮     ⋮   ⋮     ⋮                               ⋮     ⋮    \n",
       "57565 3   HAV   son-mother-mother-son           52884 89854\n",
       "57566 3   HAV   son-mother-mother-son           47403 16214\n",
       "57567 3   HAV   son-mother-mother-son           47403 75367\n",
       "57568 3   HAV   son-mother-mother-son           46593 41298\n",
       "57569 3   HAV   son-mother-mother-son           49304 25837\n",
       "57570 3   HAV   son-mother-mother-son            4599  1351\n",
       "57571 3   HAV   son-mother-mother-son            1351 45611\n",
       "57572 3   HAV   son-mother-mother-son            9498 22234\n",
       "57573 3   HAV   son-mother-mother-son           32957 40451\n",
       "57574 3   HAV   daughter-mother-father-daughter 16021 97449\n",
       "57575 3   HAV   daughter-mother-father-daughter 20695 15442\n",
       "57576 3   HAV   daughter-mother-father-daughter 85420 15442\n",
       "57577 3   HAV   daughter-mother-father-daughter 48279 44357\n",
       "57578 3   HAV   daughter-mother-father-daughter 32393 66428\n",
       "57579 3   HAV   daughter-mother-father-daughter 39073 66428\n",
       "57580 3   HAV   daughter-mother-father-daughter 75944 89511\n",
       "57581 3   HAV   daughter-father-mother-son      59255 53670\n",
       "57582 3   HAV   daughter-father-mother-son       3594 46514\n",
       "57583 3   HAV   daughter-father-mother-son      58437 46514\n",
       "57584 3   HAV   daughter-father-mother-son      19047 89564\n",
       "57585 3   HAV   daughter-father-mother-son      18743 14870\n",
       "57586 3   HAV   daughter-father-mother-son      24114 43435\n",
       "57587 3   HAV   daughter-father-mother-son      73076 40362\n",
       "57588 3   HAV   daughter-father-mother-son      22543 50655\n",
       "57589 3   HAV   son-mother-father-daughter      34570 78069\n",
       "57590 3   HAV   son-mother-father-daughter      92823 24766\n",
       "57591 3   HAV   son-mother-father-daughter      97449  5360\n",
       "57592 3   HAV   son-mother-father-daughter      97449 79361\n",
       "57593 3   HAV   son-mother-father-daughter      15442 83545\n",
       "57594 3   HAV   son-mother-father-daughter      49646 29717"
      ]
     },
     "metadata": {},
     "output_type": "display_data"
    }
   ],
   "source": [
    "df_flip_and_concat"
   ]
  },
  {
   "cell_type": "code",
   "execution_count": 34,
   "metadata": {
    "vscode": {
     "languageId": "r"
    }
   },
   "outputs": [
    {
     "data": {
      "text/html": [
       "<table class=\"dataframe\">\n",
       "<caption>A data.frame: 6 × 2</caption>\n",
       "<thead>\n",
       "\t<tr><th></th><th scope=col>relid</th><th scope=col>cumulative</th></tr>\n",
       "\t<tr><th></th><th scope=col>&lt;dbl&gt;</th><th scope=col>&lt;dbl&gt;</th></tr>\n",
       "</thead>\n",
       "<tbody>\n",
       "\t<tr><th scope=row>1</th><td>1</td><td> 85.13061</td></tr>\n",
       "\t<tr><th scope=row>2</th><td>2</td><td> 97.82317</td></tr>\n",
       "\t<tr><th scope=row>3</th><td>3</td><td> 99.71534</td></tr>\n",
       "\t<tr><th scope=row>4</th><td>4</td><td> 99.96651</td></tr>\n",
       "\t<tr><th scope=row>6</th><td>6</td><td> 99.98326</td></tr>\n",
       "\t<tr><th scope=row>7</th><td>7</td><td>100.00000</td></tr>\n",
       "</tbody>\n",
       "</table>\n"
      ],
      "text/latex": [
       "A data.frame: 6 × 2\n",
       "\\begin{tabular}{r|ll}\n",
       "  & relid & cumulative\\\\\n",
       "  & <dbl> & <dbl>\\\\\n",
       "\\hline\n",
       "\t1 & 1 &  85.13061\\\\\n",
       "\t2 & 2 &  97.82317\\\\\n",
       "\t3 & 3 &  99.71534\\\\\n",
       "\t4 & 4 &  99.96651\\\\\n",
       "\t6 & 6 &  99.98326\\\\\n",
       "\t7 & 7 & 100.00000\\\\\n",
       "\\end{tabular}\n"
      ],
      "text/markdown": [
       "\n",
       "A data.frame: 6 × 2\n",
       "\n",
       "| <!--/--> | relid &lt;dbl&gt; | cumulative &lt;dbl&gt; |\n",
       "|---|---|---|\n",
       "| 1 | 1 |  85.13061 |\n",
       "| 2 | 2 |  97.82317 |\n",
       "| 3 | 3 |  99.71534 |\n",
       "| 4 | 4 |  99.96651 |\n",
       "| 6 | 6 |  99.98326 |\n",
       "| 7 | 7 | 100.00000 |\n",
       "\n"
      ],
      "text/plain": [
       "  relid cumulative\n",
       "1 1      85.13061 \n",
       "2 2      97.82317 \n",
       "3 3      99.71534 \n",
       "4 4      99.96651 \n",
       "6 6      99.98326 \n",
       "7 7     100.00000 "
      ]
     },
     "metadata": {},
     "output_type": "display_data"
    }
   ],
   "source": [
    "df_degree <- df_flip_and_concat %>%\n",
    "        filter(relationship == \"daughter-mother\")\n",
    "\n",
    "# 친척 수 계산\n",
    "df_rel_counts_degree <- df_degree %>%\n",
    "    group_by(volid) %>%\n",
    "    summarise(relid = n()) %>%\n",
    "    arrange(desc(relid))\n",
    "    \n",
    "\n",
    "total_volunteers <- nrow(df_rel_counts_degree)\n",
    "rel_counts <- table(df_rel_counts_degree$relid)\n",
    "cumulative_percent <- cumsum(rel_counts) / total_volunteers * 100\n",
    "cumulative_df <- data.frame(\n",
    "    relid = as.numeric(names(cumulative_percent)),\n",
    "    cumulative = cumulative_percent\n",
    ")\n",
    "\n",
    "cumulative_df %>% head(10)\n"
   ]
  },
  {
   "cell_type": "code",
   "execution_count": 84,
   "metadata": {
    "vscode": {
     "languageId": "r"
    }
   },
   "outputs": [
    {
     "name": "stderr",
     "output_type": "stream",
     "text": [
      "Warning message:\n",
      "“\u001b[1m\u001b[22mRemoved 1 rows containing missing values (`geom_bar()`).”\n",
      "Warning message:\n",
      "“\u001b[1m\u001b[22mRemoved 1 rows containing missing values (`geom_bar()`).”\n"
     ]
    },
    {
     "data": {
      "image/png": "[encoded data removed]",
      "text/plain": [
       "plot without title"
      ]
     },
     "metadata": {
      "image/png": {
       "height": 420,
       "width": 420
      }
     },
     "output_type": "display_data"
    }
   ],
   "source": [
    "p <- plot_relatives_distribution(\n",
    "    df_rel_counts, \n",
    "    title = \"UKB (1 to 3 degree relatives)\",)\n",
    "print(p)\n",
    "\n",
    "# 파일 저장과 함께 사용\n",
    "output_path <- paste0(\n",
    "    \"/data/jerrylee/pjt/BIGFAM.v.2.0/figures/\", \n",
    "    source, \n",
    "    \".demographics.all_D.pdf\"\n",
    ")\n",
    "\n",
    "ggsave(\n",
    "    filename = output_path,\n",
    "    plot = p,\n",
    "    width = 85,\n",
    "    height = 38,\n",
    "    units = \"mm\",\n",
    "    dpi = 300\n",
    ")"
   ]
  },
  {
   "cell_type": "code",
   "execution_count": 85,
   "metadata": {
    "vscode": {
     "languageId": "r"
    }
   },
   "outputs": [
    {
     "name": "stderr",
     "output_type": "stream",
     "text": [
      "Warning message:\n",
      "“\u001b[1m\u001b[22mRemoved 1 rows containing missing values (`geom_bar()`).”\n",
      "Warning message:\n",
      "“\u001b[1m\u001b[22mRemoved 1 rows containing missing values (`geom_bar()`).”\n",
      "Warning message:\n",
      "“\u001b[1m\u001b[22mRemoved 1 rows containing missing values (`geom_bar()`).”\n"
     ]
    }
   ],
   "source": [
    "# 1. DOR별 분포 그래프\n",
    "# DOR별로 데이터 나누고 각각 플롯 생성\n",
    "for (degree in 1:3) {\n",
    "    # 해당 degree의 데이터만 필터링\n",
    "    df_degree <- df_flip_and_concat %>%\n",
    "        filter(DOR == degree)\n",
    "    \n",
    "    # 친척 수 계산\n",
    "    df_rel_counts_degree <- df_degree %>%\n",
    "        group_by(volid) %>%\n",
    "        summarise(relid = n()) %>%\n",
    "        arrange(desc(relid))\n",
    "    \n",
    "    # 플롯 생성 및 저장\n",
    "    output_path <- paste0(\n",
    "        \"/data/jerrylee/pjt/BIGFAM.v.2.0/figures/\", \n",
    "        source, \n",
    "        \".demographics.degree\", \n",
    "        degree,\n",
    "        \"_D.pdf\"\n",
    "    )\n",
    "    \n",
    "    p <- plot_relatives_distribution(\n",
    "        df_rel_counts_degree, \n",
    "        title = paste0(\"UKB (\", degree, \" degree relatives)\")\n",
    "    )\n",
    "\n",
    "    ggsave(\n",
    "        filename = output_path,\n",
    "        plot = p,\n",
    "        width = 85,\n",
    "        height = 38,\n",
    "        units = \"mm\",\n",
    "        dpi = 300\n",
    "    )\n",
    "}"
   ]
  },
  {
   "cell_type": "code",
   "execution_count": 86,
   "metadata": {
    "vscode": {
     "languageId": "r"
    }
   },
   "outputs": [
    {
     "data": {
      "text/html": [
       "23"
      ],
      "text/latex": [
       "23"
      ],
      "text/markdown": [
       "23"
      ],
      "text/plain": [
       "[1] 23"
      ]
     },
     "metadata": {},
     "output_type": "display_data"
    }
   ],
   "source": [
    "# 2. Relationship별 분포 그래프\n",
    "# 주요 relationship 유형 추출\n",
    "relationships <- unique(df_flip_and_concat$relationship)\n",
    "length(relationships)\n",
    "# for (rel in relationships) {\n",
    "#     # 해당 relationship의 데이터만 필터링\n",
    "#     df_rel <- df_flip_and_concat %>%\n",
    "#         filter(relationship == rel)\n",
    "    \n",
    "#     # 친척 수 계산\n",
    "#     df_rel_counts_rel <- df_rel %>%\n",
    "#         group_by(volid) %>%\n",
    "#         summarise(relid = n()) %>%\n",
    "#         arrange(desc(relid))\n",
    "    \n",
    "#     # 최소 1개 이상의 데이터가 있는 경우에만 플롯 생성\n",
    "#     if (nrow(df_rel_counts_rel) > 0) {\n",
    "#         # 파일명에 사용할 수 있도록 relationship 문자열 처리\n",
    "#         rel_filename <- gsub(\"[^[:alnum:]]\", \"_\", rel)\n",
    "        \n",
    "#         output_path <- paste0(\n",
    "#             \"/data/jerrylee/pjt/BIGFAM.v.2.0/figures/\", \n",
    "#             source, \n",
    "#             \".demographics.\", \n",
    "#             rel_filename,\n",
    "#             \"_D.pdf\"\n",
    "#         )\n",
    "        \n",
    "#         p <- plot_relatives_distribution(\n",
    "#             df_rel_counts_rel,\n",
    "#             output_path = output_path,\n",
    "#             figure_tag = substr(rel, 1, 20), # relationship 이름이 너무 길 수 있으므로 잘라줌\n",
    "#             width = 6,\n",
    "#             height = 4,\n",
    "#             dpi = 300\n",
    "#         )\n",
    "#         print(p)\n",
    "#     }\n",
    "# }"
   ]
  },
  {
   "cell_type": "code",
   "execution_count": null,
   "metadata": {
    "vscode": {
     "languageId": "r"
    }
   },
   "outputs": [],
   "source": []
  }
 ],
 "metadata": {
  "kernelspec": {
   "display_name": "R",
   "language": "R",
   "name": "ir"
  },
  "language_info": {
   "codemirror_mode": "r",
   "file_extension": ".r",
   "mimetype": "text/x-r-source",
   "name": "R",
   "pygments_lexer": "r",
   "version": "4.3.1"
  }
 },
 "nbformat": 4,
 "nbformat_minor": 2
}
