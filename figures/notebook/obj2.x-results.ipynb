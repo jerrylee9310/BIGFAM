{
 "cells": [
  {
   "cell_type": "code",
   "execution_count": 1,
   "metadata": {
    "vscode": {
     "languageId": "r"
    }
   },
   "outputs": [
    {
     "name": "stderr",
     "output_type": "stream",
     "text": [
      "\n",
      "다음의 패키지를 부착합니다: ‘dplyr’\n",
      "\n",
      "\n",
      "The following objects are masked from ‘package:data.table’:\n",
      "\n",
      "    between, first, last\n",
      "\n",
      "\n",
      "The following objects are masked from ‘package:stats’:\n",
      "\n",
      "    filter, lag\n",
      "\n",
      "\n",
      "The following objects are masked from ‘package:base’:\n",
      "\n",
      "    intersect, setdiff, setequal, union\n",
      "\n",
      "\n",
      "\n",
      "다음의 패키지를 부착합니다: ‘purrr’\n",
      "\n",
      "\n",
      "The following object is masked from ‘package:data.table’:\n",
      "\n",
      "    transpose\n",
      "\n",
      "\n",
      "\n",
      "다음의 패키지를 부착합니다: ‘scales’\n",
      "\n",
      "\n",
      "The following object is masked from ‘package:purrr’:\n",
      "\n",
      "    discard\n",
      "\n",
      "\n",
      "필요한 패키지를 로딩중입니다: extrafont\n",
      "\n",
      "Registering fonts with R\n",
      "\n"
     ]
    }
   ],
   "source": [
    "library(ggplot2)\n",
    "library(data.table)\n",
    "library(dplyr)\n",
    "library(tidyr)\n",
    "library(purrr) \n",
    "library(scales)\n",
    "if (!require(extrafont)) install.packages(\"extrafont\")\n",
    "library(extrafont)\n",
    "library(stringr)\n",
    "\n",
    "# 3. 폰트 로드\n",
    "loadfonts()"
   ]
  },
  {
   "cell_type": "markdown",
   "metadata": {},
   "source": [
    "# Step 1. Load data"
   ]
  },
  {
   "cell_type": "code",
   "execution_count": 2,
   "metadata": {
    "vscode": {
     "languageId": "r"
    }
   },
   "outputs": [
    {
     "data": {
      "text/html": [
       "<table class=\"dataframe\">\n",
       "<caption>A data.table: 6 × 6</caption>\n",
       "<thead>\n",
       "\t<tr><th scope=col>pheno</th><th scope=col>lambda</th><th scope=col>weight</th><th scope=col>Vx</th><th scope=col>lower_Vx</th><th scope=col>upper_Vx</th></tr>\n",
       "\t<tr><th scope=col>&lt;chr&gt;</th><th scope=col>&lt;dbl&gt;</th><th scope=col>&lt;int&gt;</th><th scope=col>&lt;dbl&gt;</th><th scope=col>&lt;dbl&gt;</th><th scope=col>&lt;dbl&gt;</th></tr>\n",
       "</thead>\n",
       "<tbody>\n",
       "\t<tr><td>Weight                                    </td><td>0.5875425</td><td>2</td><td>0.016740647</td><td>0.0032179860</td><td>0.03152318</td></tr>\n",
       "\t<tr><td>Leg_predicted_mass__right_                </td><td>0.6312283</td><td>2</td><td>0.019881996</td><td>0.0051861910</td><td>0.03411669</td></tr>\n",
       "\t<tr><td>Waist_circumference                       </td><td>0.4744789</td><td>2</td><td>0.011998955</td><td>0.0027356576</td><td>0.02038155</td></tr>\n",
       "\t<tr><td>Mean_corpuscular_haemoglobin_concentration</td><td>0.2502453</td><td>2</td><td>0.003078505</td><td>0.0006293484</td><td>0.00584596</td></tr>\n",
       "\t<tr><td>Platelet_count                            </td><td>0.5854203</td><td>2</td><td>0.017821407</td><td>0.0072039409</td><td>0.02976127</td></tr>\n",
       "\t<tr><td>LDL_direct                                </td><td>0.2791911</td><td>2</td><td>0.004078075</td><td>0.0001742080</td><td>0.00749304</td></tr>\n",
       "</tbody>\n",
       "</table>\n"
      ],
      "text/latex": [
       "A data.table: 6 × 6\n",
       "\\begin{tabular}{llllll}\n",
       " pheno & lambda & weight & Vx & lower\\_Vx & upper\\_Vx\\\\\n",
       " <chr> & <dbl> & <int> & <dbl> & <dbl> & <dbl>\\\\\n",
       "\\hline\n",
       "\t Weight                                     & 0.5875425 & 2 & 0.016740647 & 0.0032179860 & 0.03152318\\\\\n",
       "\t Leg\\_predicted\\_mass\\_\\_right\\_                 & 0.6312283 & 2 & 0.019881996 & 0.0051861910 & 0.03411669\\\\\n",
       "\t Waist\\_circumference                        & 0.4744789 & 2 & 0.011998955 & 0.0027356576 & 0.02038155\\\\\n",
       "\t Mean\\_corpuscular\\_haemoglobin\\_concentration & 0.2502453 & 2 & 0.003078505 & 0.0006293484 & 0.00584596\\\\\n",
       "\t Platelet\\_count                             & 0.5854203 & 2 & 0.017821407 & 0.0072039409 & 0.02976127\\\\\n",
       "\t LDL\\_direct                                 & 0.2791911 & 2 & 0.004078075 & 0.0001742080 & 0.00749304\\\\\n",
       "\\end{tabular}\n"
      ],
      "text/markdown": [
       "\n",
       "A data.table: 6 × 6\n",
       "\n",
       "| pheno &lt;chr&gt; | lambda &lt;dbl&gt; | weight &lt;int&gt; | Vx &lt;dbl&gt; | lower_Vx &lt;dbl&gt; | upper_Vx &lt;dbl&gt; |\n",
       "|---|---|---|---|---|---|\n",
       "| Weight                                     | 0.5875425 | 2 | 0.016740647 | 0.0032179860 | 0.03152318 |\n",
       "| Leg_predicted_mass__right_                 | 0.6312283 | 2 | 0.019881996 | 0.0051861910 | 0.03411669 |\n",
       "| Waist_circumference                        | 0.4744789 | 2 | 0.011998955 | 0.0027356576 | 0.02038155 |\n",
       "| Mean_corpuscular_haemoglobin_concentration | 0.2502453 | 2 | 0.003078505 | 0.0006293484 | 0.00584596 |\n",
       "| Platelet_count                             | 0.5854203 | 2 | 0.017821407 | 0.0072039409 | 0.02976127 |\n",
       "| LDL_direct                                 | 0.2791911 | 2 | 0.004078075 | 0.0001742080 | 0.00749304 |\n",
       "\n"
      ],
      "text/plain": [
       "  pheno                                      lambda    weight Vx         \n",
       "1 Weight                                     0.5875425 2      0.016740647\n",
       "2 Leg_predicted_mass__right_                 0.6312283 2      0.019881996\n",
       "3 Waist_circumference                        0.4744789 2      0.011998955\n",
       "4 Mean_corpuscular_haemoglobin_concentration 0.2502453 2      0.003078505\n",
       "5 Platelet_count                             0.5854203 2      0.017821407\n",
       "6 LDL_direct                                 0.2791911 2      0.004078075\n",
       "  lower_Vx     upper_Vx  \n",
       "1 0.0032179860 0.03152318\n",
       "2 0.0051861910 0.03411669\n",
       "3 0.0027356576 0.02038155\n",
       "4 0.0006293484 0.00584596\n",
       "5 0.0072039409 0.02976127\n",
       "6 0.0001742080 0.00749304"
      ]
     },
     "metadata": {},
     "output_type": "display_data"
    }
   ],
   "source": [
    "df_ukb <- fread(\n",
    "    \"/data/jerrylee/pjt/BIGFAM.v.2.0/data/UKB/obj2/prediction-X/X.tsv\", \n",
    "    sep = '\\t'\n",
    ") %>% \n",
    "    filter(weight == 2) %>% \n",
    "    filter(lower_Vx > 1e-4)\n",
    "\n",
    "df_ukb %>% head()"
   ]
  },
  {
   "cell_type": "code",
   "execution_count": 3,
   "metadata": {
    "vscode": {
     "languageId": "r"
    }
   },
   "outputs": [
    {
     "data": {
      "text/html": [
       "<table class=\"dataframe\">\n",
       "<caption>A data.table: 6 × 6</caption>\n",
       "<thead>\n",
       "\t<tr><th scope=col>pheno</th><th scope=col>lambda</th><th scope=col>weight</th><th scope=col>Vx</th><th scope=col>lower_Vx</th><th scope=col>upper_Vx</th></tr>\n",
       "\t<tr><th scope=col>&lt;chr&gt;</th><th scope=col>&lt;dbl&gt;</th><th scope=col>&lt;int&gt;</th><th scope=col>&lt;dbl&gt;</th><th scope=col>&lt;dbl&gt;</th><th scope=col>&lt;dbl&gt;</th></tr>\n",
       "</thead>\n",
       "<tbody>\n",
       "\t<tr><td>avg_dia          </td><td>0.2639843</td><td>2</td><td>0.007466360</td><td>0.003572011</td><td>0.010942965</td></tr>\n",
       "\t<tr><td>avg_sys          </td><td>0.2312438</td><td>2</td><td>0.004163088</td><td>0.001829972</td><td>0.006938271</td></tr>\n",
       "\t<tr><td>PR_interval      </td><td>0.3554416</td><td>2</td><td>0.014417415</td><td>0.010287446</td><td>0.019817258</td></tr>\n",
       "\t<tr><td>Total_cholesterol</td><td>0.2815375</td><td>2</td><td>0.006192345</td><td>0.001787077</td><td>0.010084866</td></tr>\n",
       "\t<tr><td>QRS_axis         </td><td>0.1821874</td><td>2</td><td>0.008040747</td><td>0.006441520</td><td>0.009520353</td></tr>\n",
       "\t<tr><td>max_arm          </td><td>0.2787470</td><td>2</td><td>0.004097626</td><td>0.000561863</td><td>0.007550130</td></tr>\n",
       "</tbody>\n",
       "</table>\n"
      ],
      "text/latex": [
       "A data.table: 6 × 6\n",
       "\\begin{tabular}{llllll}\n",
       " pheno & lambda & weight & Vx & lower\\_Vx & upper\\_Vx\\\\\n",
       " <chr> & <dbl> & <int> & <dbl> & <dbl> & <dbl>\\\\\n",
       "\\hline\n",
       "\t avg\\_dia           & 0.2639843 & 2 & 0.007466360 & 0.003572011 & 0.010942965\\\\\n",
       "\t avg\\_sys           & 0.2312438 & 2 & 0.004163088 & 0.001829972 & 0.006938271\\\\\n",
       "\t PR\\_interval       & 0.3554416 & 2 & 0.014417415 & 0.010287446 & 0.019817258\\\\\n",
       "\t Total\\_cholesterol & 0.2815375 & 2 & 0.006192345 & 0.001787077 & 0.010084866\\\\\n",
       "\t QRS\\_axis          & 0.1821874 & 2 & 0.008040747 & 0.006441520 & 0.009520353\\\\\n",
       "\t max\\_arm           & 0.2787470 & 2 & 0.004097626 & 0.000561863 & 0.007550130\\\\\n",
       "\\end{tabular}\n"
      ],
      "text/markdown": [
       "\n",
       "A data.table: 6 × 6\n",
       "\n",
       "| pheno &lt;chr&gt; | lambda &lt;dbl&gt; | weight &lt;int&gt; | Vx &lt;dbl&gt; | lower_Vx &lt;dbl&gt; | upper_Vx &lt;dbl&gt; |\n",
       "|---|---|---|---|---|---|\n",
       "| avg_dia           | 0.2639843 | 2 | 0.007466360 | 0.003572011 | 0.010942965 |\n",
       "| avg_sys           | 0.2312438 | 2 | 0.004163088 | 0.001829972 | 0.006938271 |\n",
       "| PR_interval       | 0.3554416 | 2 | 0.014417415 | 0.010287446 | 0.019817258 |\n",
       "| Total_cholesterol | 0.2815375 | 2 | 0.006192345 | 0.001787077 | 0.010084866 |\n",
       "| QRS_axis          | 0.1821874 | 2 | 0.008040747 | 0.006441520 | 0.009520353 |\n",
       "| max_arm           | 0.2787470 | 2 | 0.004097626 | 0.000561863 | 0.007550130 |\n",
       "\n"
      ],
      "text/plain": [
       "  pheno             lambda    weight Vx          lower_Vx    upper_Vx   \n",
       "1 avg_dia           0.2639843 2      0.007466360 0.003572011 0.010942965\n",
       "2 avg_sys           0.2312438 2      0.004163088 0.001829972 0.006938271\n",
       "3 PR_interval       0.3554416 2      0.014417415 0.010287446 0.019817258\n",
       "4 Total_cholesterol 0.2815375 2      0.006192345 0.001787077 0.010084866\n",
       "5 QRS_axis          0.1821874 2      0.008040747 0.006441520 0.009520353\n",
       "6 max_arm           0.2787470 2      0.004097626 0.000561863 0.007550130"
      ]
     },
     "metadata": {},
     "output_type": "display_data"
    }
   ],
   "source": [
    "df_gs <- fread(\n",
    "    \"/data/jerrylee/pjt/BIGFAM.v.2.0/data/GS/obj2/prediction-X/X.tsv\",\n",
    "    sep = '\\t'\n",
    ") %>% \n",
    "    filter(weight == 2) %>% \n",
    "    filter(lower_Vx > 1e-4)\n",
    "\n",
    "df_gs %>% head()"
   ]
  },
  {
   "cell_type": "markdown",
   "metadata": {},
   "source": [
    "# plot theme"
   ]
  },
  {
   "cell_type": "code",
   "execution_count": 4,
   "metadata": {
    "vscode": {
     "languageId": "r"
    }
   },
   "outputs": [],
   "source": [
    "# 공통 테마 함수 정의\n",
    "get_nature_theme <- function() {\n",
    "    theme_bw() +\n",
    "        theme(\n",
    "            # 전체적인 배경\n",
    "            panel.background = element_rect(fill = NA, color = NA),\n",
    "            panel.grid.major = element_blank(),\n",
    "            panel.grid.minor = element_blank(),\n",
    "            panel.border = element_blank(),  \n",
    "            \n",
    "            # 축 설정\n",
    "            axis.line.x.top = element_blank(),\n",
    "            axis.line.y.right = element_blank(),\n",
    "            axis.line.x.bottom = element_line(color = \"black\", size = 0.3),  \n",
    "            axis.line.y.left = element_line(color = \"black\", size = 0.3),    \n",
    "            axis.text = element_text(size = 6.5, color = \"black\"),\n",
    "            axis.title = element_text(size = 7.5, color = \"black\"),\n",
    "            axis.ticks = element_line(size = 0.3),\n",
    "            axis.ticks.length = unit(0.8, \"mm\"),\n",
    "            \n",
    "            # 범례 설정\n",
    "            legend.margin = margin(1, 1, 1, 1, unit = \"mm\"),\n",
    "            # legend.spacing.y = unit(0.1, \"cm\"),\n",
    "            \n",
    "            # 여백 설정\n",
    "            # plot.margin = unit(c(0.1, 0.2, 0.1, 0.1), \"cm\")\n",
    "            plot.margin = margin(0, 0, 0, 0)\n",
    "        )\n",
    "}"
   ]
  },
  {
   "cell_type": "markdown",
   "metadata": {},
   "source": [
    "# Step 2. Plot"
   ]
  },
  {
   "cell_type": "code",
   "execution_count": 5,
   "metadata": {
    "vscode": {
     "languageId": "r"
    }
   },
   "outputs": [
    {
     "data": {
      "text/html": [
       "<table class=\"dataframe\">\n",
       "<caption>A data.table: 6 × 7</caption>\n",
       "<thead>\n",
       "\t<tr><th scope=col>pheno</th><th scope=col>lambda</th><th scope=col>weight</th><th scope=col>Vx</th><th scope=col>lower_Vx</th><th scope=col>upper_Vx</th><th scope=col>cohort</th></tr>\n",
       "\t<tr><th scope=col>&lt;chr&gt;</th><th scope=col>&lt;dbl&gt;</th><th scope=col>&lt;int&gt;</th><th scope=col>&lt;dbl&gt;</th><th scope=col>&lt;dbl&gt;</th><th scope=col>&lt;dbl&gt;</th><th scope=col>&lt;chr&gt;</th></tr>\n",
       "</thead>\n",
       "<tbody>\n",
       "\t<tr><td>Weight                                    </td><td>0.5875425</td><td>2</td><td>0.016740647</td><td>0.0032179860</td><td>0.03152318</td><td>UKB</td></tr>\n",
       "\t<tr><td>Leg_predicted_mass__right_                </td><td>0.6312283</td><td>2</td><td>0.019881996</td><td>0.0051861910</td><td>0.03411669</td><td>UKB</td></tr>\n",
       "\t<tr><td>Waist_circumference                       </td><td>0.4744789</td><td>2</td><td>0.011998955</td><td>0.0027356576</td><td>0.02038155</td><td>UKB</td></tr>\n",
       "\t<tr><td>Mean_corpuscular_haemoglobin_concentration</td><td>0.2502453</td><td>2</td><td>0.003078505</td><td>0.0006293484</td><td>0.00584596</td><td>UKB</td></tr>\n",
       "\t<tr><td>Platelet_count                            </td><td>0.5854203</td><td>2</td><td>0.017821407</td><td>0.0072039409</td><td>0.02976127</td><td>UKB</td></tr>\n",
       "\t<tr><td>LDL_direct                                </td><td>0.2791911</td><td>2</td><td>0.004078075</td><td>0.0001742080</td><td>0.00749304</td><td>UKB</td></tr>\n",
       "</tbody>\n",
       "</table>\n"
      ],
      "text/latex": [
       "A data.table: 6 × 7\n",
       "\\begin{tabular}{lllllll}\n",
       " pheno & lambda & weight & Vx & lower\\_Vx & upper\\_Vx & cohort\\\\\n",
       " <chr> & <dbl> & <int> & <dbl> & <dbl> & <dbl> & <chr>\\\\\n",
       "\\hline\n",
       "\t Weight                                     & 0.5875425 & 2 & 0.016740647 & 0.0032179860 & 0.03152318 & UKB\\\\\n",
       "\t Leg\\_predicted\\_mass\\_\\_right\\_                 & 0.6312283 & 2 & 0.019881996 & 0.0051861910 & 0.03411669 & UKB\\\\\n",
       "\t Waist\\_circumference                        & 0.4744789 & 2 & 0.011998955 & 0.0027356576 & 0.02038155 & UKB\\\\\n",
       "\t Mean\\_corpuscular\\_haemoglobin\\_concentration & 0.2502453 & 2 & 0.003078505 & 0.0006293484 & 0.00584596 & UKB\\\\\n",
       "\t Platelet\\_count                             & 0.5854203 & 2 & 0.017821407 & 0.0072039409 & 0.02976127 & UKB\\\\\n",
       "\t LDL\\_direct                                 & 0.2791911 & 2 & 0.004078075 & 0.0001742080 & 0.00749304 & UKB\\\\\n",
       "\\end{tabular}\n"
      ],
      "text/markdown": [
       "\n",
       "A data.table: 6 × 7\n",
       "\n",
       "| pheno &lt;chr&gt; | lambda &lt;dbl&gt; | weight &lt;int&gt; | Vx &lt;dbl&gt; | lower_Vx &lt;dbl&gt; | upper_Vx &lt;dbl&gt; | cohort &lt;chr&gt; |\n",
       "|---|---|---|---|---|---|---|\n",
       "| Weight                                     | 0.5875425 | 2 | 0.016740647 | 0.0032179860 | 0.03152318 | UKB |\n",
       "| Leg_predicted_mass__right_                 | 0.6312283 | 2 | 0.019881996 | 0.0051861910 | 0.03411669 | UKB |\n",
       "| Waist_circumference                        | 0.4744789 | 2 | 0.011998955 | 0.0027356576 | 0.02038155 | UKB |\n",
       "| Mean_corpuscular_haemoglobin_concentration | 0.2502453 | 2 | 0.003078505 | 0.0006293484 | 0.00584596 | UKB |\n",
       "| Platelet_count                             | 0.5854203 | 2 | 0.017821407 | 0.0072039409 | 0.02976127 | UKB |\n",
       "| LDL_direct                                 | 0.2791911 | 2 | 0.004078075 | 0.0001742080 | 0.00749304 | UKB |\n",
       "\n"
      ],
      "text/plain": [
       "  pheno                                      lambda    weight Vx         \n",
       "1 Weight                                     0.5875425 2      0.016740647\n",
       "2 Leg_predicted_mass__right_                 0.6312283 2      0.019881996\n",
       "3 Waist_circumference                        0.4744789 2      0.011998955\n",
       "4 Mean_corpuscular_haemoglobin_concentration 0.2502453 2      0.003078505\n",
       "5 Platelet_count                             0.5854203 2      0.017821407\n",
       "6 LDL_direct                                 0.2791911 2      0.004078075\n",
       "  lower_Vx     upper_Vx   cohort\n",
       "1 0.0032179860 0.03152318 UKB   \n",
       "2 0.0051861910 0.03411669 UKB   \n",
       "3 0.0027356576 0.02038155 UKB   \n",
       "4 0.0006293484 0.00584596 UKB   \n",
       "5 0.0072039409 0.02976127 UKB   \n",
       "6 0.0001742080 0.00749304 UKB   "
      ]
     },
     "metadata": {},
     "output_type": "display_data"
    }
   ],
   "source": [
    "df_mrg <- rbind(df_ukb %>% mutate(cohort = \"UKB\"), df_gs %>% mutate(cohort = \"GS:SFHS\"))\n",
    "\n",
    "df_mrg %>% head()"
   ]
  },
  {
   "cell_type": "code",
   "execution_count": 6,
   "metadata": {
    "vscode": {
     "languageId": "r"
    }
   },
   "outputs": [
    {
     "data": {
      "text/plain": [
       "    pheno               lambda           weight        Vx          \n",
       " Length:29          Min.   :0.1822   Min.   :2   Min.   :0.003079  \n",
       " Class :character   1st Qu.:0.2792   1st Qu.:2   1st Qu.:0.006192  \n",
       " Mode  :character   Median :0.4362   Median :2   Median :0.011999  \n",
       "                    Mean   :0.4322   Mean   :2   Mean   :0.011064  \n",
       "                    3rd Qu.:0.5854   3rd Qu.:2   3rd Qu.:0.015820  \n",
       "                    Max.   :0.6564   Max.   :2   Max.   :0.019882  \n",
       "    lower_Vx            upper_Vx           cohort         \n",
       " Min.   :0.0001742   Min.   :0.005846   Length:29         \n",
       " 1st Qu.:0.0013962   1st Qu.:0.009520   Class :character  \n",
       " Median :0.0025483   Median :0.019817   Mode  :character  \n",
       " Mean   :0.0033758   Mean   :0.019003                     \n",
       " 3rd Qu.:0.0051862   3rd Qu.:0.028487                     \n",
       " Max.   :0.0102874   Max.   :0.034117                     "
      ]
     },
     "metadata": {},
     "output_type": "display_data"
    }
   ],
   "source": [
    "df_mrg %>% summary(mean(Vx))"
   ]
  },
  {
   "cell_type": "code",
   "execution_count": 7,
   "metadata": {
    "vscode": {
     "languageId": "r"
    }
   },
   "outputs": [
    {
     "data": {
      "text/html": [
       "<table class=\"dataframe\">\n",
       "<caption>A data.table: 29 × 7</caption>\n",
       "<thead>\n",
       "\t<tr><th scope=col>pheno</th><th scope=col>lambda</th><th scope=col>weight</th><th scope=col>Vx</th><th scope=col>lower_Vx</th><th scope=col>upper_Vx</th><th scope=col>cohort</th></tr>\n",
       "\t<tr><th scope=col>&lt;chr&gt;</th><th scope=col>&lt;dbl&gt;</th><th scope=col>&lt;int&gt;</th><th scope=col>&lt;dbl&gt;</th><th scope=col>&lt;dbl&gt;</th><th scope=col>&lt;dbl&gt;</th><th scope=col>&lt;chr&gt;</th></tr>\n",
       "</thead>\n",
       "<tbody>\n",
       "\t<tr><td>PR_interval                               </td><td>0.3554416</td><td>2</td><td>0.014417415</td><td>0.0102874463</td><td>0.019817258</td><td>GS:SFHS</td></tr>\n",
       "\t<tr><td>P_axis                                    </td><td>0.2232661</td><td>2</td><td>0.010148398</td><td>0.0082937269</td><td>0.012491165</td><td>GS:SFHS</td></tr>\n",
       "\t<tr><td>QRS_axis                                  </td><td>0.1821874</td><td>2</td><td>0.008040747</td><td>0.0064415195</td><td>0.009520353</td><td>GS:SFHS</td></tr>\n",
       "\t<tr><td>avg_dia                                   </td><td>0.2639843</td><td>2</td><td>0.007466360</td><td>0.0035720112</td><td>0.010942965</td><td>GS:SFHS</td></tr>\n",
       "\t<tr><td>Total_cholesterol                         </td><td>0.2815375</td><td>2</td><td>0.006192345</td><td>0.0017870774</td><td>0.010084866</td><td>GS:SFHS</td></tr>\n",
       "\t<tr><td>avg_sys                                   </td><td>0.2312438</td><td>2</td><td>0.004163088</td><td>0.0018299724</td><td>0.006938271</td><td>GS:SFHS</td></tr>\n",
       "\t<tr><td>max_arm                                   </td><td>0.2787470</td><td>2</td><td>0.004097626</td><td>0.0005618630</td><td>0.007550130</td><td>GS:SFHS</td></tr>\n",
       "\t<tr><td>Leg_predicted_mass__right_                </td><td>0.6312283</td><td>2</td><td>0.019881996</td><td>0.0051861910</td><td>0.034116688</td><td>UKB    </td></tr>\n",
       "\t<tr><td>Mean_platelet__thrombocyte__volume        </td><td>0.6563898</td><td>2</td><td>0.018939161</td><td>0.0033732609</td><td>0.031185701</td><td>UKB    </td></tr>\n",
       "\t<tr><td>Leg_fat-free_mass__right_                 </td><td>0.6298020</td><td>2</td><td>0.018329898</td><td>0.0088219903</td><td>0.030827912</td><td>UKB    </td></tr>\n",
       "\t<tr><td>Platelet_count                            </td><td>0.5854203</td><td>2</td><td>0.017821407</td><td>0.0072039409</td><td>0.029761266</td><td>UKB    </td></tr>\n",
       "\t<tr><td>Forced_vital_capacity__FVC_,_Best_measure </td><td>0.5915355</td><td>2</td><td>0.017801209</td><td>0.0015007895</td><td>0.028234994</td><td>UKB    </td></tr>\n",
       "\t<tr><td>Weight                                    </td><td>0.5875425</td><td>2</td><td>0.016740647</td><td>0.0032179860</td><td>0.031523183</td><td>UKB    </td></tr>\n",
       "\t<tr><td>Leg_fat_percentage__left_                 </td><td>0.5619704</td><td>2</td><td>0.015888144</td><td>0.0028658358</td><td>0.026489551</td><td>UKB    </td></tr>\n",
       "\t<tr><td>Leg_fat-free_mass__left_                  </td><td>0.6170844</td><td>2</td><td>0.015820051</td><td>0.0049782434</td><td>0.029883753</td><td>UKB    </td></tr>\n",
       "\t<tr><td>Leg_predicted_mass__left_                 </td><td>0.6112329</td><td>2</td><td>0.014919787</td><td>0.0057872195</td><td>0.026126168</td><td>UKB    </td></tr>\n",
       "\t<tr><td>Platelet_crit                             </td><td>0.5394036</td><td>2</td><td>0.014634102</td><td>0.0055814593</td><td>0.026252058</td><td>UKB    </td></tr>\n",
       "\t<tr><td>HDL_cholesterol                           </td><td>0.5638253</td><td>2</td><td>0.013117343</td><td>0.0007547646</td><td>0.028487432</td><td>UKB    </td></tr>\n",
       "\t<tr><td>Leg_fat_percentage__right_                </td><td>0.5822777</td><td>2</td><td>0.012737517</td><td>0.0016511025</td><td>0.029145047</td><td>UKB    </td></tr>\n",
       "\t<tr><td>Leg_fat_mass__left_                       </td><td>0.4873067</td><td>2</td><td>0.012116872</td><td>0.0025482719</td><td>0.022513876</td><td>UKB    </td></tr>\n",
       "\t<tr><td>Waist_circumference                       </td><td>0.4744789</td><td>2</td><td>0.011998955</td><td>0.0027356576</td><td>0.020381547</td><td>UKB    </td></tr>\n",
       "\t<tr><td>SHBG                                      </td><td>0.4024359</td><td>2</td><td>0.008457210</td><td>0.0013961971</td><td>0.014424093</td><td>UKB    </td></tr>\n",
       "\t<tr><td>Monocyte_count                            </td><td>0.4362178</td><td>2</td><td>0.007828119</td><td>0.0005624486</td><td>0.013686747</td><td>UKB    </td></tr>\n",
       "\t<tr><td>Immature_reticulocyte_fraction            </td><td>0.3779904</td><td>2</td><td>0.007272503</td><td>0.0022767438</td><td>0.013243321</td><td>UKB    </td></tr>\n",
       "\t<tr><td>Apolipoprotein_B                          </td><td>0.3243099</td><td>2</td><td>0.005570786</td><td>0.0008195594</td><td>0.009163891</td><td>UKB    </td></tr>\n",
       "\t<tr><td>Cholesterol                               </td><td>0.3002194</td><td>2</td><td>0.005114462</td><td>0.0005255224</td><td>0.008961580</td><td>UKB    </td></tr>\n",
       "\t<tr><td>C-reactive_protein                        </td><td>0.2258538</td><td>2</td><td>0.004172852</td><td>0.0025338216</td><td>0.006001122</td><td>UKB    </td></tr>\n",
       "\t<tr><td>LDL_direct                                </td><td>0.2791911</td><td>2</td><td>0.004078075</td><td>0.0001742080</td><td>0.007493040</td><td>UKB    </td></tr>\n",
       "\t<tr><td>Mean_corpuscular_haemoglobin_concentration</td><td>0.2502453</td><td>2</td><td>0.003078505</td><td>0.0006293484</td><td>0.005845960</td><td>UKB    </td></tr>\n",
       "</tbody>\n",
       "</table>\n"
      ],
      "text/latex": [
       "A data.table: 29 × 7\n",
       "\\begin{tabular}{lllllll}\n",
       " pheno & lambda & weight & Vx & lower\\_Vx & upper\\_Vx & cohort\\\\\n",
       " <chr> & <dbl> & <int> & <dbl> & <dbl> & <dbl> & <chr>\\\\\n",
       "\\hline\n",
       "\t PR\\_interval                                & 0.3554416 & 2 & 0.014417415 & 0.0102874463 & 0.019817258 & GS:SFHS\\\\\n",
       "\t P\\_axis                                     & 0.2232661 & 2 & 0.010148398 & 0.0082937269 & 0.012491165 & GS:SFHS\\\\\n",
       "\t QRS\\_axis                                   & 0.1821874 & 2 & 0.008040747 & 0.0064415195 & 0.009520353 & GS:SFHS\\\\\n",
       "\t avg\\_dia                                    & 0.2639843 & 2 & 0.007466360 & 0.0035720112 & 0.010942965 & GS:SFHS\\\\\n",
       "\t Total\\_cholesterol                          & 0.2815375 & 2 & 0.006192345 & 0.0017870774 & 0.010084866 & GS:SFHS\\\\\n",
       "\t avg\\_sys                                    & 0.2312438 & 2 & 0.004163088 & 0.0018299724 & 0.006938271 & GS:SFHS\\\\\n",
       "\t max\\_arm                                    & 0.2787470 & 2 & 0.004097626 & 0.0005618630 & 0.007550130 & GS:SFHS\\\\\n",
       "\t Leg\\_predicted\\_mass\\_\\_right\\_                 & 0.6312283 & 2 & 0.019881996 & 0.0051861910 & 0.034116688 & UKB    \\\\\n",
       "\t Mean\\_platelet\\_\\_thrombocyte\\_\\_volume         & 0.6563898 & 2 & 0.018939161 & 0.0033732609 & 0.031185701 & UKB    \\\\\n",
       "\t Leg\\_fat-free\\_mass\\_\\_right\\_                  & 0.6298020 & 2 & 0.018329898 & 0.0088219903 & 0.030827912 & UKB    \\\\\n",
       "\t Platelet\\_count                             & 0.5854203 & 2 & 0.017821407 & 0.0072039409 & 0.029761266 & UKB    \\\\\n",
       "\t Forced\\_vital\\_capacity\\_\\_FVC\\_,\\_Best\\_measure  & 0.5915355 & 2 & 0.017801209 & 0.0015007895 & 0.028234994 & UKB    \\\\\n",
       "\t Weight                                     & 0.5875425 & 2 & 0.016740647 & 0.0032179860 & 0.031523183 & UKB    \\\\\n",
       "\t Leg\\_fat\\_percentage\\_\\_left\\_                  & 0.5619704 & 2 & 0.015888144 & 0.0028658358 & 0.026489551 & UKB    \\\\\n",
       "\t Leg\\_fat-free\\_mass\\_\\_left\\_                   & 0.6170844 & 2 & 0.015820051 & 0.0049782434 & 0.029883753 & UKB    \\\\\n",
       "\t Leg\\_predicted\\_mass\\_\\_left\\_                  & 0.6112329 & 2 & 0.014919787 & 0.0057872195 & 0.026126168 & UKB    \\\\\n",
       "\t Platelet\\_crit                              & 0.5394036 & 2 & 0.014634102 & 0.0055814593 & 0.026252058 & UKB    \\\\\n",
       "\t HDL\\_cholesterol                            & 0.5638253 & 2 & 0.013117343 & 0.0007547646 & 0.028487432 & UKB    \\\\\n",
       "\t Leg\\_fat\\_percentage\\_\\_right\\_                 & 0.5822777 & 2 & 0.012737517 & 0.0016511025 & 0.029145047 & UKB    \\\\\n",
       "\t Leg\\_fat\\_mass\\_\\_left\\_                        & 0.4873067 & 2 & 0.012116872 & 0.0025482719 & 0.022513876 & UKB    \\\\\n",
       "\t Waist\\_circumference                        & 0.4744789 & 2 & 0.011998955 & 0.0027356576 & 0.020381547 & UKB    \\\\\n",
       "\t SHBG                                       & 0.4024359 & 2 & 0.008457210 & 0.0013961971 & 0.014424093 & UKB    \\\\\n",
       "\t Monocyte\\_count                             & 0.4362178 & 2 & 0.007828119 & 0.0005624486 & 0.013686747 & UKB    \\\\\n",
       "\t Immature\\_reticulocyte\\_fraction             & 0.3779904 & 2 & 0.007272503 & 0.0022767438 & 0.013243321 & UKB    \\\\\n",
       "\t Apolipoprotein\\_B                           & 0.3243099 & 2 & 0.005570786 & 0.0008195594 & 0.009163891 & UKB    \\\\\n",
       "\t Cholesterol                                & 0.3002194 & 2 & 0.005114462 & 0.0005255224 & 0.008961580 & UKB    \\\\\n",
       "\t C-reactive\\_protein                         & 0.2258538 & 2 & 0.004172852 & 0.0025338216 & 0.006001122 & UKB    \\\\\n",
       "\t LDL\\_direct                                 & 0.2791911 & 2 & 0.004078075 & 0.0001742080 & 0.007493040 & UKB    \\\\\n",
       "\t Mean\\_corpuscular\\_haemoglobin\\_concentration & 0.2502453 & 2 & 0.003078505 & 0.0006293484 & 0.005845960 & UKB    \\\\\n",
       "\\end{tabular}\n"
      ],
      "text/markdown": [
       "\n",
       "A data.table: 29 × 7\n",
       "\n",
       "| pheno &lt;chr&gt; | lambda &lt;dbl&gt; | weight &lt;int&gt; | Vx &lt;dbl&gt; | lower_Vx &lt;dbl&gt; | upper_Vx &lt;dbl&gt; | cohort &lt;chr&gt; |\n",
       "|---|---|---|---|---|---|---|\n",
       "| PR_interval                                | 0.3554416 | 2 | 0.014417415 | 0.0102874463 | 0.019817258 | GS:SFHS |\n",
       "| P_axis                                     | 0.2232661 | 2 | 0.010148398 | 0.0082937269 | 0.012491165 | GS:SFHS |\n",
       "| QRS_axis                                   | 0.1821874 | 2 | 0.008040747 | 0.0064415195 | 0.009520353 | GS:SFHS |\n",
       "| avg_dia                                    | 0.2639843 | 2 | 0.007466360 | 0.0035720112 | 0.010942965 | GS:SFHS |\n",
       "| Total_cholesterol                          | 0.2815375 | 2 | 0.006192345 | 0.0017870774 | 0.010084866 | GS:SFHS |\n",
       "| avg_sys                                    | 0.2312438 | 2 | 0.004163088 | 0.0018299724 | 0.006938271 | GS:SFHS |\n",
       "| max_arm                                    | 0.2787470 | 2 | 0.004097626 | 0.0005618630 | 0.007550130 | GS:SFHS |\n",
       "| Leg_predicted_mass__right_                 | 0.6312283 | 2 | 0.019881996 | 0.0051861910 | 0.034116688 | UKB     |\n",
       "| Mean_platelet__thrombocyte__volume         | 0.6563898 | 2 | 0.018939161 | 0.0033732609 | 0.031185701 | UKB     |\n",
       "| Leg_fat-free_mass__right_                  | 0.6298020 | 2 | 0.018329898 | 0.0088219903 | 0.030827912 | UKB     |\n",
       "| Platelet_count                             | 0.5854203 | 2 | 0.017821407 | 0.0072039409 | 0.029761266 | UKB     |\n",
       "| Forced_vital_capacity__FVC_,_Best_measure  | 0.5915355 | 2 | 0.017801209 | 0.0015007895 | 0.028234994 | UKB     |\n",
       "| Weight                                     | 0.5875425 | 2 | 0.016740647 | 0.0032179860 | 0.031523183 | UKB     |\n",
       "| Leg_fat_percentage__left_                  | 0.5619704 | 2 | 0.015888144 | 0.0028658358 | 0.026489551 | UKB     |\n",
       "| Leg_fat-free_mass__left_                   | 0.6170844 | 2 | 0.015820051 | 0.0049782434 | 0.029883753 | UKB     |\n",
       "| Leg_predicted_mass__left_                  | 0.6112329 | 2 | 0.014919787 | 0.0057872195 | 0.026126168 | UKB     |\n",
       "| Platelet_crit                              | 0.5394036 | 2 | 0.014634102 | 0.0055814593 | 0.026252058 | UKB     |\n",
       "| HDL_cholesterol                            | 0.5638253 | 2 | 0.013117343 | 0.0007547646 | 0.028487432 | UKB     |\n",
       "| Leg_fat_percentage__right_                 | 0.5822777 | 2 | 0.012737517 | 0.0016511025 | 0.029145047 | UKB     |\n",
       "| Leg_fat_mass__left_                        | 0.4873067 | 2 | 0.012116872 | 0.0025482719 | 0.022513876 | UKB     |\n",
       "| Waist_circumference                        | 0.4744789 | 2 | 0.011998955 | 0.0027356576 | 0.020381547 | UKB     |\n",
       "| SHBG                                       | 0.4024359 | 2 | 0.008457210 | 0.0013961971 | 0.014424093 | UKB     |\n",
       "| Monocyte_count                             | 0.4362178 | 2 | 0.007828119 | 0.0005624486 | 0.013686747 | UKB     |\n",
       "| Immature_reticulocyte_fraction             | 0.3779904 | 2 | 0.007272503 | 0.0022767438 | 0.013243321 | UKB     |\n",
       "| Apolipoprotein_B                           | 0.3243099 | 2 | 0.005570786 | 0.0008195594 | 0.009163891 | UKB     |\n",
       "| Cholesterol                                | 0.3002194 | 2 | 0.005114462 | 0.0005255224 | 0.008961580 | UKB     |\n",
       "| C-reactive_protein                         | 0.2258538 | 2 | 0.004172852 | 0.0025338216 | 0.006001122 | UKB     |\n",
       "| LDL_direct                                 | 0.2791911 | 2 | 0.004078075 | 0.0001742080 | 0.007493040 | UKB     |\n",
       "| Mean_corpuscular_haemoglobin_concentration | 0.2502453 | 2 | 0.003078505 | 0.0006293484 | 0.005845960 | UKB     |\n",
       "\n"
      ],
      "text/plain": [
       "   pheno                                      lambda    weight Vx         \n",
       "1  PR_interval                                0.3554416 2      0.014417415\n",
       "2  P_axis                                     0.2232661 2      0.010148398\n",
       "3  QRS_axis                                   0.1821874 2      0.008040747\n",
       "4  avg_dia                                    0.2639843 2      0.007466360\n",
       "5  Total_cholesterol                          0.2815375 2      0.006192345\n",
       "6  avg_sys                                    0.2312438 2      0.004163088\n",
       "7  max_arm                                    0.2787470 2      0.004097626\n",
       "8  Leg_predicted_mass__right_                 0.6312283 2      0.019881996\n",
       "9  Mean_platelet__thrombocyte__volume         0.6563898 2      0.018939161\n",
       "10 Leg_fat-free_mass__right_                  0.6298020 2      0.018329898\n",
       "11 Platelet_count                             0.5854203 2      0.017821407\n",
       "12 Forced_vital_capacity__FVC_,_Best_measure  0.5915355 2      0.017801209\n",
       "13 Weight                                     0.5875425 2      0.016740647\n",
       "14 Leg_fat_percentage__left_                  0.5619704 2      0.015888144\n",
       "15 Leg_fat-free_mass__left_                   0.6170844 2      0.015820051\n",
       "16 Leg_predicted_mass__left_                  0.6112329 2      0.014919787\n",
       "17 Platelet_crit                              0.5394036 2      0.014634102\n",
       "18 HDL_cholesterol                            0.5638253 2      0.013117343\n",
       "19 Leg_fat_percentage__right_                 0.5822777 2      0.012737517\n",
       "20 Leg_fat_mass__left_                        0.4873067 2      0.012116872\n",
       "21 Waist_circumference                        0.4744789 2      0.011998955\n",
       "22 SHBG                                       0.4024359 2      0.008457210\n",
       "23 Monocyte_count                             0.4362178 2      0.007828119\n",
       "24 Immature_reticulocyte_fraction             0.3779904 2      0.007272503\n",
       "25 Apolipoprotein_B                           0.3243099 2      0.005570786\n",
       "26 Cholesterol                                0.3002194 2      0.005114462\n",
       "27 C-reactive_protein                         0.2258538 2      0.004172852\n",
       "28 LDL_direct                                 0.2791911 2      0.004078075\n",
       "29 Mean_corpuscular_haemoglobin_concentration 0.2502453 2      0.003078505\n",
       "   lower_Vx     upper_Vx    cohort \n",
       "1  0.0102874463 0.019817258 GS:SFHS\n",
       "2  0.0082937269 0.012491165 GS:SFHS\n",
       "3  0.0064415195 0.009520353 GS:SFHS\n",
       "4  0.0035720112 0.010942965 GS:SFHS\n",
       "5  0.0017870774 0.010084866 GS:SFHS\n",
       "6  0.0018299724 0.006938271 GS:SFHS\n",
       "7  0.0005618630 0.007550130 GS:SFHS\n",
       "8  0.0051861910 0.034116688 UKB    \n",
       "9  0.0033732609 0.031185701 UKB    \n",
       "10 0.0088219903 0.030827912 UKB    \n",
       "11 0.0072039409 0.029761266 UKB    \n",
       "12 0.0015007895 0.028234994 UKB    \n",
       "13 0.0032179860 0.031523183 UKB    \n",
       "14 0.0028658358 0.026489551 UKB    \n",
       "15 0.0049782434 0.029883753 UKB    \n",
       "16 0.0057872195 0.026126168 UKB    \n",
       "17 0.0055814593 0.026252058 UKB    \n",
       "18 0.0007547646 0.028487432 UKB    \n",
       "19 0.0016511025 0.029145047 UKB    \n",
       "20 0.0025482719 0.022513876 UKB    \n",
       "21 0.0027356576 0.020381547 UKB    \n",
       "22 0.0013961971 0.014424093 UKB    \n",
       "23 0.0005624486 0.013686747 UKB    \n",
       "24 0.0022767438 0.013243321 UKB    \n",
       "25 0.0008195594 0.009163891 UKB    \n",
       "26 0.0005255224 0.008961580 UKB    \n",
       "27 0.0025338216 0.006001122 UKB    \n",
       "28 0.0001742080 0.007493040 UKB    \n",
       "29 0.0006293484 0.005845960 UKB    "
      ]
     },
     "metadata": {},
     "output_type": "display_data"
    }
   ],
   "source": [
    "df_mrg %>% arrange(cohort, desc(Vx))"
   ]
  },
  {
   "cell_type": "code",
   "execution_count": 41,
   "metadata": {
    "vscode": {
     "languageId": "r"
    }
   },
   "outputs": [
    {
     "data": {
      "text/html": [
       "<table class=\"dataframe\">\n",
       "<caption>A grouped_df: 29 × 8</caption>\n",
       "<thead>\n",
       "\t<tr><th scope=col>pheno</th><th scope=col>lambda</th><th scope=col>weight</th><th scope=col>Vx</th><th scope=col>lower_Vx</th><th scope=col>upper_Vx</th><th scope=col>cohort</th><th scope=col>phenotype</th></tr>\n",
       "\t<tr><th scope=col>&lt;chr&gt;</th><th scope=col>&lt;dbl&gt;</th><th scope=col>&lt;int&gt;</th><th scope=col>&lt;dbl&gt;</th><th scope=col>&lt;dbl&gt;</th><th scope=col>&lt;dbl&gt;</th><th scope=col>&lt;chr&gt;</th><th scope=col>&lt;fct&gt;</th></tr>\n",
       "</thead>\n",
       "<tbody>\n",
       "\t<tr><td>PR_interval                               </td><td>0.3554416</td><td>2</td><td>0.014417415</td><td>0.0102874463</td><td>0.019817258</td><td>GS:SFHS</td><td>PR interval</td></tr>\n",
       "\t<tr><td>P_axis                                    </td><td>0.2232661</td><td>2</td><td>0.010148398</td><td>0.0082937269</td><td>0.012491165</td><td>GS:SFHS</td><td>P axis     </td></tr>\n",
       "\t<tr><td>QRS_axis                                  </td><td>0.1821874</td><td>2</td><td>0.008040747</td><td>0.0064415195</td><td>0.009520353</td><td>GS:SFHS</td><td>QRS axis   </td></tr>\n",
       "\t<tr><td>avg_dia                                   </td><td>0.2639843</td><td>2</td><td>0.007466360</td><td>0.0035720112</td><td>0.010942965</td><td>GS:SFHS</td><td>Avg dia    </td></tr>\n",
       "\t<tr><td>Total_cholesterol                         </td><td>0.2815375</td><td>2</td><td>0.006192345</td><td>0.0017870774</td><td>0.010084866</td><td>GS:SFHS</td><td>TC         </td></tr>\n",
       "\t<tr><td>avg_sys                                   </td><td>0.2312438</td><td>2</td><td>0.004163088</td><td>0.0018299724</td><td>0.006938271</td><td>GS:SFHS</td><td>Avg sys    </td></tr>\n",
       "\t<tr><td>max_arm                                   </td><td>0.2787470</td><td>2</td><td>0.004097626</td><td>0.0005618630</td><td>0.007550130</td><td>GS:SFHS</td><td>Max arm    </td></tr>\n",
       "\t<tr><td>Leg_predicted_mass__right_                </td><td>0.6312283</td><td>2</td><td>0.019881996</td><td>0.0051861910</td><td>0.034116688</td><td>UKB    </td><td>LPM (R)    </td></tr>\n",
       "\t<tr><td>Mean_platelet__thrombocyte__volume        </td><td>0.6563898</td><td>2</td><td>0.018939161</td><td>0.0033732609</td><td>0.031185701</td><td>UKB    </td><td>MPV        </td></tr>\n",
       "\t<tr><td>Leg_fat-free_mass__right_                 </td><td>0.6298020</td><td>2</td><td>0.018329898</td><td>0.0088219903</td><td>0.030827912</td><td>UKB    </td><td>LFFM (R)   </td></tr>\n",
       "\t<tr><td>Platelet_count                            </td><td>0.5854203</td><td>2</td><td>0.017821407</td><td>0.0072039409</td><td>0.029761266</td><td>UKB    </td><td>PLT count  </td></tr>\n",
       "\t<tr><td>Forced_vital_capacity__FVC_,_Best_measure </td><td>0.5915355</td><td>2</td><td>0.017801209</td><td>0.0015007895</td><td>0.028234994</td><td>UKB    </td><td>FVC        </td></tr>\n",
       "\t<tr><td>Weight                                    </td><td>0.5875425</td><td>2</td><td>0.016740647</td><td>0.0032179860</td><td>0.031523183</td><td>UKB    </td><td>Weight     </td></tr>\n",
       "\t<tr><td>Leg_fat_percentage__left_                 </td><td>0.5619704</td><td>2</td><td>0.015888144</td><td>0.0028658358</td><td>0.026489551</td><td>UKB    </td><td>LF% (L)    </td></tr>\n",
       "\t<tr><td>Leg_fat-free_mass__left_                  </td><td>0.6170844</td><td>2</td><td>0.015820051</td><td>0.0049782434</td><td>0.029883753</td><td>UKB    </td><td>LFFM (L)   </td></tr>\n",
       "\t<tr><td>Leg_predicted_mass__left_                 </td><td>0.6112329</td><td>2</td><td>0.014919787</td><td>0.0057872195</td><td>0.026126168</td><td>UKB    </td><td>LPM (L)    </td></tr>\n",
       "\t<tr><td>Platelet_crit                             </td><td>0.5394036</td><td>2</td><td>0.014634102</td><td>0.0055814593</td><td>0.026252058</td><td>UKB    </td><td>PCT        </td></tr>\n",
       "\t<tr><td>HDL_cholesterol                           </td><td>0.5638253</td><td>2</td><td>0.013117343</td><td>0.0007547646</td><td>0.028487432</td><td>UKB    </td><td>HDL-C      </td></tr>\n",
       "\t<tr><td>Leg_fat_percentage__right_                </td><td>0.5822777</td><td>2</td><td>0.012737517</td><td>0.0016511025</td><td>0.029145047</td><td>UKB    </td><td>LF% (R)    </td></tr>\n",
       "\t<tr><td>Leg_fat_mass__left_                       </td><td>0.4873067</td><td>2</td><td>0.012116872</td><td>0.0025482719</td><td>0.022513876</td><td>UKB    </td><td>LFM (L)    </td></tr>\n",
       "\t<tr><td>Waist_circumference                       </td><td>0.4744789</td><td>2</td><td>0.011998955</td><td>0.0027356576</td><td>0.020381547</td><td>UKB    </td><td>Waist circ.</td></tr>\n",
       "\t<tr><td>SHBG                                      </td><td>0.4024359</td><td>2</td><td>0.008457210</td><td>0.0013961971</td><td>0.014424093</td><td>UKB    </td><td>SHBG       </td></tr>\n",
       "\t<tr><td>Monocyte_count                            </td><td>0.4362178</td><td>2</td><td>0.007828119</td><td>0.0005624486</td><td>0.013686747</td><td>UKB    </td><td>Mono count </td></tr>\n",
       "\t<tr><td>Immature_reticulocyte_fraction            </td><td>0.3779904</td><td>2</td><td>0.007272503</td><td>0.0022767438</td><td>0.013243321</td><td>UKB    </td><td>IRF        </td></tr>\n",
       "\t<tr><td>Apolipoprotein_B                          </td><td>0.3243099</td><td>2</td><td>0.005570786</td><td>0.0008195594</td><td>0.009163891</td><td>UKB    </td><td>ApoB       </td></tr>\n",
       "\t<tr><td>Cholesterol                               </td><td>0.3002194</td><td>2</td><td>0.005114462</td><td>0.0005255224</td><td>0.008961580</td><td>UKB    </td><td>Cholesterol</td></tr>\n",
       "\t<tr><td>C-reactive_protein                        </td><td>0.2258538</td><td>2</td><td>0.004172852</td><td>0.0025338216</td><td>0.006001122</td><td>UKB    </td><td>CRP        </td></tr>\n",
       "\t<tr><td>LDL_direct                                </td><td>0.2791911</td><td>2</td><td>0.004078075</td><td>0.0001742080</td><td>0.007493040</td><td>UKB    </td><td>LDL direct </td></tr>\n",
       "\t<tr><td>Mean_corpuscular_haemoglobin_concentration</td><td>0.2502453</td><td>2</td><td>0.003078505</td><td>0.0006293484</td><td>0.005845960</td><td>UKB    </td><td>MCHC       </td></tr>\n",
       "</tbody>\n",
       "</table>\n"
      ],
      "text/latex": [
       "A grouped\\_df: 29 × 8\n",
       "\\begin{tabular}{llllllll}\n",
       " pheno & lambda & weight & Vx & lower\\_Vx & upper\\_Vx & cohort & phenotype\\\\\n",
       " <chr> & <dbl> & <int> & <dbl> & <dbl> & <dbl> & <chr> & <fct>\\\\\n",
       "\\hline\n",
       "\t PR\\_interval                                & 0.3554416 & 2 & 0.014417415 & 0.0102874463 & 0.019817258 & GS:SFHS & PR interval\\\\\n",
       "\t P\\_axis                                     & 0.2232661 & 2 & 0.010148398 & 0.0082937269 & 0.012491165 & GS:SFHS & P axis     \\\\\n",
       "\t QRS\\_axis                                   & 0.1821874 & 2 & 0.008040747 & 0.0064415195 & 0.009520353 & GS:SFHS & QRS axis   \\\\\n",
       "\t avg\\_dia                                    & 0.2639843 & 2 & 0.007466360 & 0.0035720112 & 0.010942965 & GS:SFHS & Avg dia    \\\\\n",
       "\t Total\\_cholesterol                          & 0.2815375 & 2 & 0.006192345 & 0.0017870774 & 0.010084866 & GS:SFHS & TC         \\\\\n",
       "\t avg\\_sys                                    & 0.2312438 & 2 & 0.004163088 & 0.0018299724 & 0.006938271 & GS:SFHS & Avg sys    \\\\\n",
       "\t max\\_arm                                    & 0.2787470 & 2 & 0.004097626 & 0.0005618630 & 0.007550130 & GS:SFHS & Max arm    \\\\\n",
       "\t Leg\\_predicted\\_mass\\_\\_right\\_                 & 0.6312283 & 2 & 0.019881996 & 0.0051861910 & 0.034116688 & UKB     & LPM (R)    \\\\\n",
       "\t Mean\\_platelet\\_\\_thrombocyte\\_\\_volume         & 0.6563898 & 2 & 0.018939161 & 0.0033732609 & 0.031185701 & UKB     & MPV        \\\\\n",
       "\t Leg\\_fat-free\\_mass\\_\\_right\\_                  & 0.6298020 & 2 & 0.018329898 & 0.0088219903 & 0.030827912 & UKB     & LFFM (R)   \\\\\n",
       "\t Platelet\\_count                             & 0.5854203 & 2 & 0.017821407 & 0.0072039409 & 0.029761266 & UKB     & PLT count  \\\\\n",
       "\t Forced\\_vital\\_capacity\\_\\_FVC\\_,\\_Best\\_measure  & 0.5915355 & 2 & 0.017801209 & 0.0015007895 & 0.028234994 & UKB     & FVC        \\\\\n",
       "\t Weight                                     & 0.5875425 & 2 & 0.016740647 & 0.0032179860 & 0.031523183 & UKB     & Weight     \\\\\n",
       "\t Leg\\_fat\\_percentage\\_\\_left\\_                  & 0.5619704 & 2 & 0.015888144 & 0.0028658358 & 0.026489551 & UKB     & LF\\% (L)    \\\\\n",
       "\t Leg\\_fat-free\\_mass\\_\\_left\\_                   & 0.6170844 & 2 & 0.015820051 & 0.0049782434 & 0.029883753 & UKB     & LFFM (L)   \\\\\n",
       "\t Leg\\_predicted\\_mass\\_\\_left\\_                  & 0.6112329 & 2 & 0.014919787 & 0.0057872195 & 0.026126168 & UKB     & LPM (L)    \\\\\n",
       "\t Platelet\\_crit                              & 0.5394036 & 2 & 0.014634102 & 0.0055814593 & 0.026252058 & UKB     & PCT        \\\\\n",
       "\t HDL\\_cholesterol                            & 0.5638253 & 2 & 0.013117343 & 0.0007547646 & 0.028487432 & UKB     & HDL-C      \\\\\n",
       "\t Leg\\_fat\\_percentage\\_\\_right\\_                 & 0.5822777 & 2 & 0.012737517 & 0.0016511025 & 0.029145047 & UKB     & LF\\% (R)    \\\\\n",
       "\t Leg\\_fat\\_mass\\_\\_left\\_                        & 0.4873067 & 2 & 0.012116872 & 0.0025482719 & 0.022513876 & UKB     & LFM (L)    \\\\\n",
       "\t Waist\\_circumference                        & 0.4744789 & 2 & 0.011998955 & 0.0027356576 & 0.020381547 & UKB     & Waist circ.\\\\\n",
       "\t SHBG                                       & 0.4024359 & 2 & 0.008457210 & 0.0013961971 & 0.014424093 & UKB     & SHBG       \\\\\n",
       "\t Monocyte\\_count                             & 0.4362178 & 2 & 0.007828119 & 0.0005624486 & 0.013686747 & UKB     & Mono count \\\\\n",
       "\t Immature\\_reticulocyte\\_fraction             & 0.3779904 & 2 & 0.007272503 & 0.0022767438 & 0.013243321 & UKB     & IRF        \\\\\n",
       "\t Apolipoprotein\\_B                           & 0.3243099 & 2 & 0.005570786 & 0.0008195594 & 0.009163891 & UKB     & ApoB       \\\\\n",
       "\t Cholesterol                                & 0.3002194 & 2 & 0.005114462 & 0.0005255224 & 0.008961580 & UKB     & Cholesterol\\\\\n",
       "\t C-reactive\\_protein                         & 0.2258538 & 2 & 0.004172852 & 0.0025338216 & 0.006001122 & UKB     & CRP        \\\\\n",
       "\t LDL\\_direct                                 & 0.2791911 & 2 & 0.004078075 & 0.0001742080 & 0.007493040 & UKB     & LDL direct \\\\\n",
       "\t Mean\\_corpuscular\\_haemoglobin\\_concentration & 0.2502453 & 2 & 0.003078505 & 0.0006293484 & 0.005845960 & UKB     & MCHC       \\\\\n",
       "\\end{tabular}\n"
      ],
      "text/markdown": [
       "\n",
       "A grouped_df: 29 × 8\n",
       "\n",
       "| pheno &lt;chr&gt; | lambda &lt;dbl&gt; | weight &lt;int&gt; | Vx &lt;dbl&gt; | lower_Vx &lt;dbl&gt; | upper_Vx &lt;dbl&gt; | cohort &lt;chr&gt; | phenotype &lt;fct&gt; |\n",
       "|---|---|---|---|---|---|---|---|\n",
       "| PR_interval                                | 0.3554416 | 2 | 0.014417415 | 0.0102874463 | 0.019817258 | GS:SFHS | PR interval |\n",
       "| P_axis                                     | 0.2232661 | 2 | 0.010148398 | 0.0082937269 | 0.012491165 | GS:SFHS | P axis      |\n",
       "| QRS_axis                                   | 0.1821874 | 2 | 0.008040747 | 0.0064415195 | 0.009520353 | GS:SFHS | QRS axis    |\n",
       "| avg_dia                                    | 0.2639843 | 2 | 0.007466360 | 0.0035720112 | 0.010942965 | GS:SFHS | Avg dia     |\n",
       "| Total_cholesterol                          | 0.2815375 | 2 | 0.006192345 | 0.0017870774 | 0.010084866 | GS:SFHS | TC          |\n",
       "| avg_sys                                    | 0.2312438 | 2 | 0.004163088 | 0.0018299724 | 0.006938271 | GS:SFHS | Avg sys     |\n",
       "| max_arm                                    | 0.2787470 | 2 | 0.004097626 | 0.0005618630 | 0.007550130 | GS:SFHS | Max arm     |\n",
       "| Leg_predicted_mass__right_                 | 0.6312283 | 2 | 0.019881996 | 0.0051861910 | 0.034116688 | UKB     | LPM (R)     |\n",
       "| Mean_platelet__thrombocyte__volume         | 0.6563898 | 2 | 0.018939161 | 0.0033732609 | 0.031185701 | UKB     | MPV         |\n",
       "| Leg_fat-free_mass__right_                  | 0.6298020 | 2 | 0.018329898 | 0.0088219903 | 0.030827912 | UKB     | LFFM (R)    |\n",
       "| Platelet_count                             | 0.5854203 | 2 | 0.017821407 | 0.0072039409 | 0.029761266 | UKB     | PLT count   |\n",
       "| Forced_vital_capacity__FVC_,_Best_measure  | 0.5915355 | 2 | 0.017801209 | 0.0015007895 | 0.028234994 | UKB     | FVC         |\n",
       "| Weight                                     | 0.5875425 | 2 | 0.016740647 | 0.0032179860 | 0.031523183 | UKB     | Weight      |\n",
       "| Leg_fat_percentage__left_                  | 0.5619704 | 2 | 0.015888144 | 0.0028658358 | 0.026489551 | UKB     | LF% (L)     |\n",
       "| Leg_fat-free_mass__left_                   | 0.6170844 | 2 | 0.015820051 | 0.0049782434 | 0.029883753 | UKB     | LFFM (L)    |\n",
       "| Leg_predicted_mass__left_                  | 0.6112329 | 2 | 0.014919787 | 0.0057872195 | 0.026126168 | UKB     | LPM (L)     |\n",
       "| Platelet_crit                              | 0.5394036 | 2 | 0.014634102 | 0.0055814593 | 0.026252058 | UKB     | PCT         |\n",
       "| HDL_cholesterol                            | 0.5638253 | 2 | 0.013117343 | 0.0007547646 | 0.028487432 | UKB     | HDL-C       |\n",
       "| Leg_fat_percentage__right_                 | 0.5822777 | 2 | 0.012737517 | 0.0016511025 | 0.029145047 | UKB     | LF% (R)     |\n",
       "| Leg_fat_mass__left_                        | 0.4873067 | 2 | 0.012116872 | 0.0025482719 | 0.022513876 | UKB     | LFM (L)     |\n",
       "| Waist_circumference                        | 0.4744789 | 2 | 0.011998955 | 0.0027356576 | 0.020381547 | UKB     | Waist circ. |\n",
       "| SHBG                                       | 0.4024359 | 2 | 0.008457210 | 0.0013961971 | 0.014424093 | UKB     | SHBG        |\n",
       "| Monocyte_count                             | 0.4362178 | 2 | 0.007828119 | 0.0005624486 | 0.013686747 | UKB     | Mono count  |\n",
       "| Immature_reticulocyte_fraction             | 0.3779904 | 2 | 0.007272503 | 0.0022767438 | 0.013243321 | UKB     | IRF         |\n",
       "| Apolipoprotein_B                           | 0.3243099 | 2 | 0.005570786 | 0.0008195594 | 0.009163891 | UKB     | ApoB        |\n",
       "| Cholesterol                                | 0.3002194 | 2 | 0.005114462 | 0.0005255224 | 0.008961580 | UKB     | Cholesterol |\n",
       "| C-reactive_protein                         | 0.2258538 | 2 | 0.004172852 | 0.0025338216 | 0.006001122 | UKB     | CRP         |\n",
       "| LDL_direct                                 | 0.2791911 | 2 | 0.004078075 | 0.0001742080 | 0.007493040 | UKB     | LDL direct  |\n",
       "| Mean_corpuscular_haemoglobin_concentration | 0.2502453 | 2 | 0.003078505 | 0.0006293484 | 0.005845960 | UKB     | MCHC        |\n",
       "\n"
      ],
      "text/plain": [
       "   pheno                                      lambda    weight Vx         \n",
       "1  PR_interval                                0.3554416 2      0.014417415\n",
       "2  P_axis                                     0.2232661 2      0.010148398\n",
       "3  QRS_axis                                   0.1821874 2      0.008040747\n",
       "4  avg_dia                                    0.2639843 2      0.007466360\n",
       "5  Total_cholesterol                          0.2815375 2      0.006192345\n",
       "6  avg_sys                                    0.2312438 2      0.004163088\n",
       "7  max_arm                                    0.2787470 2      0.004097626\n",
       "8  Leg_predicted_mass__right_                 0.6312283 2      0.019881996\n",
       "9  Mean_platelet__thrombocyte__volume         0.6563898 2      0.018939161\n",
       "10 Leg_fat-free_mass__right_                  0.6298020 2      0.018329898\n",
       "11 Platelet_count                             0.5854203 2      0.017821407\n",
       "12 Forced_vital_capacity__FVC_,_Best_measure  0.5915355 2      0.017801209\n",
       "13 Weight                                     0.5875425 2      0.016740647\n",
       "14 Leg_fat_percentage__left_                  0.5619704 2      0.015888144\n",
       "15 Leg_fat-free_mass__left_                   0.6170844 2      0.015820051\n",
       "16 Leg_predicted_mass__left_                  0.6112329 2      0.014919787\n",
       "17 Platelet_crit                              0.5394036 2      0.014634102\n",
       "18 HDL_cholesterol                            0.5638253 2      0.013117343\n",
       "19 Leg_fat_percentage__right_                 0.5822777 2      0.012737517\n",
       "20 Leg_fat_mass__left_                        0.4873067 2      0.012116872\n",
       "21 Waist_circumference                        0.4744789 2      0.011998955\n",
       "22 SHBG                                       0.4024359 2      0.008457210\n",
       "23 Monocyte_count                             0.4362178 2      0.007828119\n",
       "24 Immature_reticulocyte_fraction             0.3779904 2      0.007272503\n",
       "25 Apolipoprotein_B                           0.3243099 2      0.005570786\n",
       "26 Cholesterol                                0.3002194 2      0.005114462\n",
       "27 C-reactive_protein                         0.2258538 2      0.004172852\n",
       "28 LDL_direct                                 0.2791911 2      0.004078075\n",
       "29 Mean_corpuscular_haemoglobin_concentration 0.2502453 2      0.003078505\n",
       "   lower_Vx     upper_Vx    cohort  phenotype  \n",
       "1  0.0102874463 0.019817258 GS:SFHS PR interval\n",
       "2  0.0082937269 0.012491165 GS:SFHS P axis     \n",
       "3  0.0064415195 0.009520353 GS:SFHS QRS axis   \n",
       "4  0.0035720112 0.010942965 GS:SFHS Avg dia    \n",
       "5  0.0017870774 0.010084866 GS:SFHS TC         \n",
       "6  0.0018299724 0.006938271 GS:SFHS Avg sys    \n",
       "7  0.0005618630 0.007550130 GS:SFHS Max arm    \n",
       "8  0.0051861910 0.034116688 UKB     LPM (R)    \n",
       "9  0.0033732609 0.031185701 UKB     MPV        \n",
       "10 0.0088219903 0.030827912 UKB     LFFM (R)   \n",
       "11 0.0072039409 0.029761266 UKB     PLT count  \n",
       "12 0.0015007895 0.028234994 UKB     FVC        \n",
       "13 0.0032179860 0.031523183 UKB     Weight     \n",
       "14 0.0028658358 0.026489551 UKB     LF% (L)    \n",
       "15 0.0049782434 0.029883753 UKB     LFFM (L)   \n",
       "16 0.0057872195 0.026126168 UKB     LPM (L)    \n",
       "17 0.0055814593 0.026252058 UKB     PCT        \n",
       "18 0.0007547646 0.028487432 UKB     HDL-C      \n",
       "19 0.0016511025 0.029145047 UKB     LF% (R)    \n",
       "20 0.0025482719 0.022513876 UKB     LFM (L)    \n",
       "21 0.0027356576 0.020381547 UKB     Waist circ.\n",
       "22 0.0013961971 0.014424093 UKB     SHBG       \n",
       "23 0.0005624486 0.013686747 UKB     Mono count \n",
       "24 0.0022767438 0.013243321 UKB     IRF        \n",
       "25 0.0008195594 0.009163891 UKB     ApoB       \n",
       "26 0.0005255224 0.008961580 UKB     Cholesterol\n",
       "27 0.0025338216 0.006001122 UKB     CRP        \n",
       "28 0.0001742080 0.007493040 UKB     LDL direct \n",
       "29 0.0006293484 0.005845960 UKB     MCHC       "
      ]
     },
     "metadata": {},
     "output_type": "display_data"
    }
   ],
   "source": [
    "library(stringr)\n",
    "# phenotype 이름 정리를 위한 함수\n",
    "clean_pheno_names <- function(x) {\n",
    "    x %>%\n",
    "        # 기본적인 치환 규칙\n",
    "        str_replace_all(c(\n",
    "            # 방향 표시 처리\n",
    "            \"__right_\" = \" (R)\",\n",
    "            \"__left_\" = \" (L)\",\n",
    "            \n",
    "            # 특수 케이스 및 약어 처리\n",
    "            \"Mean_corpuscular_haemoglobin_concentration\" = \"MCHC\",\n",
    "            \"Red_blood_cell__erythrocyte__count\" = \"RBC count\",\n",
    "            \"White_blood_cell__leukocyte__count\" = \"WBC count\",\n",
    "            \"High_light_scatter_reticulocyte_percentage\" = \"High light scatter retic %\",\n",
    "            \"Immature_reticulocyte_fraction\" = \"IRF\",\n",
    "            \"Forced_vital_capacity__FVC_,_Best_measure\" = \"FVC\",\n",
    "            \"Total_cholesterol\" = \"TC\",\n",
    "            \"Apolipoprotein_B\" = \"ApoB\",\n",
    "            \"Platelet_count\" = \"PLT count\",\n",
    "            \"Mean_platelet__thrombocyte__volume\" = \"MPV\",\n",
    "            \"Monocyte_count\" = \"Mono count\",\n",
    "            \"Platelet_crit\" = \"PCT\",\n",
    "            \"C-reactive_protein\" = \"CRP\",\n",
    "            \"HDL_cholesterol\" = \"HDL-C\",\n",
    "            \n",
    "            # Leg 관련 약어\n",
    "            \"Leg_fat-free_mass\" = \"LFFM\",\n",
    "            \"Leg_predicted_mass\" = \"LPM\",\n",
    "            \"Leg_fat_percentage\" = \"LF%\",\n",
    "            \"Leg_fat_mass\" = \"LFM\",\n",
    "            \n",
    "            # 일반적인 패턴 처리\n",
    "            \"_percentage\" = \" %\",\n",
    "            \"_count\" = \" count\",\n",
    "            \"circumference\" = \"circ.\",\n",
    "            \"average\" = \"Avg\",\n",
    "            \"avg\" = \"Avg\",\n",
    "            \"max\" = \"Max\"\n",
    "        )) %>%\n",
    "        # 남은 언더스코어를 공백으로 변환\n",
    "        str_replace_all(\"_\", \" \")\n",
    "}\n",
    "\n",
    "# 데이터 정렬 및 이름 정리\n",
    "df_plot <- df_mrg %>% \n",
    "    group_by(cohort) %>% \n",
    "    mutate(\n",
    "        phenotype = clean_pheno_names(pheno),\n",
    "        phenotype = reorder(phenotype, Vx, FUN = max)\n",
    "    ) %>% \n",
    "    arrange(cohort, desc(Vx))\n",
    "\n",
    "df_plot"
   ]
  },
  {
   "cell_type": "code",
   "execution_count": 42,
   "metadata": {
    "vscode": {
     "languageId": "r"
    }
   },
   "outputs": [
    {
     "data": {
      "image/png": "[encoded data removed]",
      "text/plain": [
       "plot without title"
      ]
     },
     "metadata": {
      "image/png": {
       "height": 420,
       "width": 420
      }
     },
     "output_type": "display_data"
    }
   ],
   "source": [
    "# 플롯 생성\n",
    "p <- ggplot(df_plot, aes(x = phenotype, y = Vx)) +\n",
    "    # 에러바 추가\n",
    "    geom_errorbar(\n",
    "        aes(\n",
    "            ymin = lower_Vx,\n",
    "            ymax = upper_Vx,\n",
    "            color = cohort\n",
    "        ),\n",
    "        width = 0.2,\n",
    "        size = 0.3\n",
    "    ) +\n",
    "    # 포인트 추가\n",
    "    geom_point(\n",
    "        aes(color = cohort, fill = cohort),\n",
    "        size = 1.5,\n",
    "        shape = 21,\n",
    "        stroke = 0.3\n",
    "    ) +\n",
    "    # Nature 스타일 색상\n",
    "    scale_color_manual(\n",
    "        values = c(\n",
    "            \"UKB\" = \"#363636\",   \n",
    "            \"GS:SFHS\" = \"#8F8F8F\"   \n",
    "        )\n",
    "    ) +\n",
    "    scale_fill_manual(\n",
    "        values = c(\n",
    "            \"UKB\" = \"#363636\",\n",
    "            \"GS:SFHS\" = \"#8F8F8F\"\n",
    "        )\n",
    "    ) +\n",
    "    # 축 레이블\n",
    "    labs(\n",
    "        x = element_blank(),\n",
    "        y = \"Variance (chr.X)\",\n",
    "        color = \"cohort\",\n",
    "        fill = \"cohort\"\n",
    "    ) +\n",
    "    # 기존 Nature 테마 적용\n",
    "    get_nature_theme() +\n",
    "    # x축 레이블 회전\n",
    "    theme(\n",
    "        axis.text.x = element_text(\n",
    "            angle = 45,\n",
    "            hjust = 1,\n",
    "            vjust = 1,\n",
    "            size = 6\n",
    "        ),\n",
    "        legend.margin = margin(1, 1, 1, 1, unit = \"mm\"),\n",
    "        legend.position = c(0.2, 0.9),  # 왼쪽 위 위치 지정\n",
    "        legend.title = element_blank(),  # 타이틀 제거\n",
    "        # legend.background = element_rect(fill = \"transparent\"), # 배경 투명하게\n",
    "        # legend.box.background = element_rect(fill = \"transparent\"),\n",
    "        \n",
    "        # legend.position = \"top\",\n",
    "        legend.box = \"vertical\",\n",
    "        plot.margin = margin(b = 2, l = 5, r = 5, t = 10),\n",
    "        legend.direction = \"horizontal\",  # 가로로 배치\n",
    "        # legend.columns = 2  # 2열로 배치\n",
    "    ) +\n",
    "    guides(\n",
    "        color = guide_legend(\n",
    "            override.aes = list(size = 2)  # 범례 도형 크기 최소화\n",
    "        )\n",
    "    ) + \n",
    "    # y축 범위 설정\n",
    "    scale_y_continuous(\n",
    "        limits = c(0, max(df_plot$upper_Vx) * 1.1),\n",
    "        breaks = scales::pretty_breaks()\n",
    "    ) + \n",
    "    theme(\n",
    "        axis.text.x = element_text(size = 7),  # x축 텍스트 크기 조정\n",
    "        axis.text.y = element_text(size = 10),  # y축 텍스트 크기 조정\n",
    "        axis.title.x = element_blank(),  # x축 레이블을 blank로 설정\n",
    "        axis.title.y = element_text(size = 10)  # y축 레이블 크기 조정\n",
    "    ) \n",
    "\n",
    "# 플롯 출력\n",
    "print(p)"
   ]
  },
  {
   "cell_type": "code",
   "execution_count": 45,
   "metadata": {
    "vscode": {
     "languageId": "r"
    }
   },
   "outputs": [],
   "source": [
    "ggsave(\n",
    "    filename = \"/data/jerrylee/pjt/BIGFAM.v.2.0/figures/X.prediction.pdf\",\n",
    "    plot = p,\n",
    "    width = 125,\n",
    "    height = 50,\n",
    "    units = \"mm\",\n",
    "    dpi = 300\n",
    ")"
   ]
  },
  {
   "cell_type": "code",
   "execution_count": null,
   "metadata": {
    "vscode": {
     "languageId": "r"
    }
   },
   "outputs": [],
   "source": []
  }
 ],
 "metadata": {
  "kernelspec": {
   "display_name": "R",
   "language": "R",
   "name": "ir"
  },
  "language_info": {
   "codemirror_mode": "r",
   "file_extension": ".r",
   "mimetype": "text/x-r-source",
   "name": "R",
   "pygments_lexer": "r",
   "version": "4.3.1"
  }
 },
 "nbformat": 4,
 "nbformat_minor": 2
}
