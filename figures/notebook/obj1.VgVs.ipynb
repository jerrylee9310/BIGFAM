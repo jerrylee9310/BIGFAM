{
 "cells": [
  {
   "cell_type": "code",
   "execution_count": 2,
   "metadata": {
    "vscode": {
     "languageId": "r"
    }
   },
   "outputs": [],
   "source": [
    "library(ggplot2)\n",
    "library(data.table)\n",
    "library(dplyr)\n",
    "library(tidyr)\n",
    "library(purrr) \n",
    "library(scales)\n",
    "if (!require(extrafont)) install.packages(\"extrafont\")\n",
    "library(extrafont)\n",
    "\n",
    "# 3. 폰트 로드\n",
    "loadfonts()"
   ]
  },
  {
   "cell_type": "code",
   "execution_count": 47,
   "metadata": {
    "vscode": {
     "languageId": "r"
    }
   },
   "outputs": [],
   "source": [
    "cohort <- \"GS\" # UKB, GS"
   ]
  },
  {
   "cell_type": "markdown",
   "metadata": {},
   "source": [
    "# Step 1. Load data"
   ]
  },
  {
   "cell_type": "markdown",
   "metadata": {
    "vscode": {
     "languageId": "r"
    }
   },
   "source": [
    "## Load slope test results"
   ]
  },
  {
   "cell_type": "code",
   "execution_count": 48,
   "metadata": {
    "vscode": {
     "languageId": "r"
    }
   },
   "outputs": [
    {
     "data": {
      "text/html": [
       "24"
      ],
      "text/latex": [
       "24"
      ],
      "text/markdown": [
       "24"
      ],
      "text/plain": [
       "[1] 24"
      ]
     },
     "metadata": {},
     "output_type": "display_data"
    }
   ],
   "source": [
    "# 방법 1: paste0() 사용\n",
    "frreg_path <- paste0(\n",
    "    \"/data/jerrylee/pjt/BIGFAM.v.2.0/data/\", \n",
    "    cohort, \n",
    "    \"/obj1/slope-test\"\n",
    ")\n",
    "\n",
    "# .slope 파일 리스트 불러오기\n",
    "files_list <- list.files(\n",
    "    path = frreg_path, \n",
    "    pattern = \"\\\\.slope$\",  \n",
    "    full.names = TRUE\n",
    ") %>% \n",
    "    # .raw.slope 파일 제외\n",
    "    .[!grepl(\"\\\\.raw\\\\.slope$\", .)]\n",
    "\n",
    "length(files_list)"
   ]
  },
  {
   "cell_type": "code",
   "execution_count": 49,
   "metadata": {
    "vscode": {
     "languageId": "r"
    }
   },
   "outputs": [
    {
     "data": {
      "text/html": [
       "<table class=\"dataframe\">\n",
       "<caption>A data.frame: 6 × 4</caption>\n",
       "<thead>\n",
       "\t<tr><th></th><th scope=col>pheno</th><th scope=col>slope</th><th scope=col>intercept</th><th scope=col>significant</th></tr>\n",
       "\t<tr><th></th><th scope=col>&lt;chr&gt;</th><th scope=col>&lt;dbl&gt;</th><th scope=col>&lt;dbl&gt;</th><th scope=col>&lt;chr&gt;</th></tr>\n",
       "</thead>\n",
       "<tbody>\n",
       "\t<tr><th scope=row>1</th><td>abpi      </td><td>0.4934937</td><td>-3.0806875</td><td>Similar</td></tr>\n",
       "\t<tr><th scope=row>2</th><td>avg_dia   </td><td>0.5759438</td><td>-2.7393497</td><td>Similar</td></tr>\n",
       "\t<tr><th scope=row>3</th><td>avg_hr    </td><td>0.5010706</td><td>-2.5668180</td><td>Slow   </td></tr>\n",
       "\t<tr><th scope=row>4</th><td>avg_sys   </td><td>0.7245335</td><td>-2.7345967</td><td>Similar</td></tr>\n",
       "\t<tr><th scope=row>5</th><td>Creat_mgdl</td><td>0.6953570</td><td>-0.8745035</td><td>Slow   </td></tr>\n",
       "\t<tr><th scope=row>6</th><td>Creatinine</td><td>0.7379110</td><td>-0.7467509</td><td>Slow   </td></tr>\n",
       "</tbody>\n",
       "</table>\n"
      ],
      "text/latex": [
       "A data.frame: 6 × 4\n",
       "\\begin{tabular}{r|llll}\n",
       "  & pheno & slope & intercept & significant\\\\\n",
       "  & <chr> & <dbl> & <dbl> & <chr>\\\\\n",
       "\\hline\n",
       "\t1 & abpi       & 0.4934937 & -3.0806875 & Similar\\\\\n",
       "\t2 & avg\\_dia    & 0.5759438 & -2.7393497 & Similar\\\\\n",
       "\t3 & avg\\_hr     & 0.5010706 & -2.5668180 & Slow   \\\\\n",
       "\t4 & avg\\_sys    & 0.7245335 & -2.7345967 & Similar\\\\\n",
       "\t5 & Creat\\_mgdl & 0.6953570 & -0.8745035 & Slow   \\\\\n",
       "\t6 & Creatinine & 0.7379110 & -0.7467509 & Slow   \\\\\n",
       "\\end{tabular}\n"
      ],
      "text/markdown": [
       "\n",
       "A data.frame: 6 × 4\n",
       "\n",
       "| <!--/--> | pheno &lt;chr&gt; | slope &lt;dbl&gt; | intercept &lt;dbl&gt; | significant &lt;chr&gt; |\n",
       "|---|---|---|---|---|\n",
       "| 1 | abpi       | 0.4934937 | -3.0806875 | Similar |\n",
       "| 2 | avg_dia    | 0.5759438 | -2.7393497 | Similar |\n",
       "| 3 | avg_hr     | 0.5010706 | -2.5668180 | Slow    |\n",
       "| 4 | avg_sys    | 0.7245335 | -2.7345967 | Similar |\n",
       "| 5 | Creat_mgdl | 0.6953570 | -0.8745035 | Slow    |\n",
       "| 6 | Creatinine | 0.7379110 | -0.7467509 | Slow    |\n",
       "\n"
      ],
      "text/plain": [
       "  pheno      slope     intercept  significant\n",
       "1 abpi       0.4934937 -3.0806875 Similar    \n",
       "2 avg_dia    0.5759438 -2.7393497 Similar    \n",
       "3 avg_hr     0.5010706 -2.5668180 Slow       \n",
       "4 avg_sys    0.7245335 -2.7345967 Similar    \n",
       "5 Creat_mgdl 0.6953570 -0.8745035 Slow       \n",
       "6 Creatinine 0.7379110 -0.7467509 Slow       "
      ]
     },
     "metadata": {},
     "output_type": "display_data"
    }
   ],
   "source": [
    "# 모든 .slope 파일 읽고 원하는 형태로 가공하기\n",
    "df_slope_test <- files_list %>%\n",
    "    # 각 파일을 읽어서 리스트로 만들기\n",
    "    map(function(file) {\n",
    "        # 파일명에서 pheno 이름 추출 (첫번째 '.' 이전까지의 문자열)\n",
    "        pheno <- basename(file) %>%\n",
    "            strsplit(\"\\\\.\") %>%\n",
    "            .[[1]] %>%\n",
    "            .[2]\n",
    "        \n",
    "        # 파일 읽기\n",
    "        df <- fread(file)\n",
    "        \n",
    "        # slope와 intercept의 median 값 추출\n",
    "        slope_val <- df[param == \"slope\", median]\n",
    "        intercept_val <- df[param == \"intercept\", median]\n",
    "        \n",
    "        # significant 판단\n",
    "        slope_lower <- df[param == \"slope\", `lower(2.5%)`]\n",
    "        slope_upper <- df[param == \"slope\", `upper(97.5%)`]\n",
    "        \n",
    "        significant <- case_when(\n",
    "            slope_lower > 1 ~ \"Fast\",\n",
    "            slope_upper < 1 ~ \"Slow\",\n",
    "            TRUE ~ \"Similar\"\n",
    "        )\n",
    "        \n",
    "        # 데이터프레임 생성\n",
    "        data.frame(\n",
    "            pheno = pheno,\n",
    "            slope = slope_val,\n",
    "            intercept = intercept_val,\n",
    "            significant = significant\n",
    "        )\n",
    "    }) %>%\n",
    "    # 모든 데이터프레임 합치기\n",
    "    bind_rows()\n",
    "\n",
    "head(df_slope_test)"
   ]
  },
  {
   "cell_type": "markdown",
   "metadata": {},
   "source": [
    "## Load prediction results"
   ]
  },
  {
   "cell_type": "code",
   "execution_count": 50,
   "metadata": {
    "vscode": {
     "languageId": "r"
    }
   },
   "outputs": [
    {
     "data": {
      "text/html": [
       "24"
      ],
      "text/latex": [
       "24"
      ],
      "text/markdown": [
       "24"
      ],
      "text/plain": [
       "[1] 24"
      ]
     },
     "metadata": {},
     "output_type": "display_data"
    }
   ],
   "source": [
    "frreg_path <- paste0(\n",
    "    \"/data/jerrylee/pjt/BIGFAM.v.2.0/data/\", \n",
    "    cohort, \n",
    "    \"/obj1/prediction\"\n",
    ")\n",
    "\n",
    "# .slope 파일 리스트 불러오기\n",
    "files_list <- list.files(\n",
    "    path = frreg_path, \n",
    "    pattern = \"\\\\.pred$\",  \n",
    "    full.names = TRUE\n",
    ") %>% \n",
    "    # .raw.slope 파일 제외\n",
    "    .[!grepl(\"\\\\.raw\\\\.pred$\", .)]\n",
    "\n",
    "length(files_list)"
   ]
  },
  {
   "cell_type": "code",
   "execution_count": 51,
   "metadata": {
    "vscode": {
     "languageId": "r"
    }
   },
   "outputs": [
    {
     "data": {
      "text/html": [
       "<table class=\"dataframe\">\n",
       "<caption>A data.frame: 6 × 10</caption>\n",
       "<thead>\n",
       "\t<tr><th></th><th scope=col>pheno</th><th scope=col>Vg_median</th><th scope=col>Vg_lower</th><th scope=col>Vg_upper</th><th scope=col>Vs_median</th><th scope=col>Vs_lower</th><th scope=col>Vs_upper</th><th scope=col>w_median</th><th scope=col>w_lower</th><th scope=col>w_upper</th></tr>\n",
       "\t<tr><th></th><th scope=col>&lt;chr&gt;</th><th scope=col>&lt;dbl&gt;</th><th scope=col>&lt;dbl&gt;</th><th scope=col>&lt;dbl&gt;</th><th scope=col>&lt;dbl&gt;</th><th scope=col>&lt;dbl&gt;</th><th scope=col>&lt;dbl&gt;</th><th scope=col>&lt;dbl&gt;</th><th scope=col>&lt;dbl&gt;</th><th scope=col>&lt;dbl&gt;</th></tr>\n",
       "</thead>\n",
       "<tbody>\n",
       "\t<tr><th scope=row>1</th><td>abpi      </td><td>0.00000100</td><td>0.0000010</td><td>0.00000100</td><td>0.09758811</td><td>0.09650154</td><td>0.10509314</td><td>0.60</td><td>0.56475</td><td>0.60000</td></tr>\n",
       "\t<tr><th scope=row>2</th><td>avg_dia   </td><td>0.00000100</td><td>0.0000010</td><td>0.00000100</td><td>0.11180044</td><td>0.11098799</td><td>0.11264830</td><td>0.60</td><td>0.60000</td><td>0.60000</td></tr>\n",
       "\t<tr><th scope=row>3</th><td>avg_hr    </td><td>0.16009295</td><td>0.1577944</td><td>0.16213983</td><td>0.04190063</td><td>0.04103793</td><td>0.04284621</td><td>0.95</td><td>0.95000</td><td>0.95000</td></tr>\n",
       "\t<tr><th scope=row>4</th><td>avg_sys   </td><td>0.03038340</td><td>0.0000010</td><td>0.04259244</td><td>0.07963769</td><td>0.07364123</td><td>0.10559067</td><td>0.60</td><td>0.53000</td><td>0.60000</td></tr>\n",
       "\t<tr><th scope=row>5</th><td>Creat_mgdl</td><td>0.01295814</td><td>0.0000010</td><td>0.47463158</td><td>0.33224475</td><td>0.10599901</td><td>0.35266653</td><td>0.63</td><td>0.60475</td><td>0.84000</td></tr>\n",
       "\t<tr><th scope=row>6</th><td>Creatinine</td><td>0.00000100</td><td>0.0000010</td><td>0.47897392</td><td>0.35949658</td><td>0.12138215</td><td>0.37324869</td><td>0.59</td><td>0.57000</td><td>0.73625</td></tr>\n",
       "</tbody>\n",
       "</table>\n"
      ],
      "text/latex": [
       "A data.frame: 6 × 10\n",
       "\\begin{tabular}{r|llllllllll}\n",
       "  & pheno & Vg\\_median & Vg\\_lower & Vg\\_upper & Vs\\_median & Vs\\_lower & Vs\\_upper & w\\_median & w\\_lower & w\\_upper\\\\\n",
       "  & <chr> & <dbl> & <dbl> & <dbl> & <dbl> & <dbl> & <dbl> & <dbl> & <dbl> & <dbl>\\\\\n",
       "\\hline\n",
       "\t1 & abpi       & 0.00000100 & 0.0000010 & 0.00000100 & 0.09758811 & 0.09650154 & 0.10509314 & 0.60 & 0.56475 & 0.60000\\\\\n",
       "\t2 & avg\\_dia    & 0.00000100 & 0.0000010 & 0.00000100 & 0.11180044 & 0.11098799 & 0.11264830 & 0.60 & 0.60000 & 0.60000\\\\\n",
       "\t3 & avg\\_hr     & 0.16009295 & 0.1577944 & 0.16213983 & 0.04190063 & 0.04103793 & 0.04284621 & 0.95 & 0.95000 & 0.95000\\\\\n",
       "\t4 & avg\\_sys    & 0.03038340 & 0.0000010 & 0.04259244 & 0.07963769 & 0.07364123 & 0.10559067 & 0.60 & 0.53000 & 0.60000\\\\\n",
       "\t5 & Creat\\_mgdl & 0.01295814 & 0.0000010 & 0.47463158 & 0.33224475 & 0.10599901 & 0.35266653 & 0.63 & 0.60475 & 0.84000\\\\\n",
       "\t6 & Creatinine & 0.00000100 & 0.0000010 & 0.47897392 & 0.35949658 & 0.12138215 & 0.37324869 & 0.59 & 0.57000 & 0.73625\\\\\n",
       "\\end{tabular}\n"
      ],
      "text/markdown": [
       "\n",
       "A data.frame: 6 × 10\n",
       "\n",
       "| <!--/--> | pheno &lt;chr&gt; | Vg_median &lt;dbl&gt; | Vg_lower &lt;dbl&gt; | Vg_upper &lt;dbl&gt; | Vs_median &lt;dbl&gt; | Vs_lower &lt;dbl&gt; | Vs_upper &lt;dbl&gt; | w_median &lt;dbl&gt; | w_lower &lt;dbl&gt; | w_upper &lt;dbl&gt; |\n",
       "|---|---|---|---|---|---|---|---|---|---|---|\n",
       "| 1 | abpi       | 0.00000100 | 0.0000010 | 0.00000100 | 0.09758811 | 0.09650154 | 0.10509314 | 0.60 | 0.56475 | 0.60000 |\n",
       "| 2 | avg_dia    | 0.00000100 | 0.0000010 | 0.00000100 | 0.11180044 | 0.11098799 | 0.11264830 | 0.60 | 0.60000 | 0.60000 |\n",
       "| 3 | avg_hr     | 0.16009295 | 0.1577944 | 0.16213983 | 0.04190063 | 0.04103793 | 0.04284621 | 0.95 | 0.95000 | 0.95000 |\n",
       "| 4 | avg_sys    | 0.03038340 | 0.0000010 | 0.04259244 | 0.07963769 | 0.07364123 | 0.10559067 | 0.60 | 0.53000 | 0.60000 |\n",
       "| 5 | Creat_mgdl | 0.01295814 | 0.0000010 | 0.47463158 | 0.33224475 | 0.10599901 | 0.35266653 | 0.63 | 0.60475 | 0.84000 |\n",
       "| 6 | Creatinine | 0.00000100 | 0.0000010 | 0.47897392 | 0.35949658 | 0.12138215 | 0.37324869 | 0.59 | 0.57000 | 0.73625 |\n",
       "\n"
      ],
      "text/plain": [
       "  pheno      Vg_median  Vg_lower  Vg_upper   Vs_median  Vs_lower   Vs_upper  \n",
       "1 abpi       0.00000100 0.0000010 0.00000100 0.09758811 0.09650154 0.10509314\n",
       "2 avg_dia    0.00000100 0.0000010 0.00000100 0.11180044 0.11098799 0.11264830\n",
       "3 avg_hr     0.16009295 0.1577944 0.16213983 0.04190063 0.04103793 0.04284621\n",
       "4 avg_sys    0.03038340 0.0000010 0.04259244 0.07963769 0.07364123 0.10559067\n",
       "5 Creat_mgdl 0.01295814 0.0000010 0.47463158 0.33224475 0.10599901 0.35266653\n",
       "6 Creatinine 0.00000100 0.0000010 0.47897392 0.35949658 0.12138215 0.37324869\n",
       "  w_median w_lower w_upper\n",
       "1 0.60     0.56475 0.60000\n",
       "2 0.60     0.60000 0.60000\n",
       "3 0.95     0.95000 0.95000\n",
       "4 0.60     0.53000 0.60000\n",
       "5 0.63     0.60475 0.84000\n",
       "6 0.59     0.57000 0.73625"
      ]
     },
     "metadata": {},
     "output_type": "display_data"
    }
   ],
   "source": [
    "# 모든 .pred 파일 읽고 원하는 형태로 가공하기\n",
    "df_prediction <- files_list %>%\n",
    "    # 각 파일을 읽어서 리스트로 만들기\n",
    "    map(function(file) {\n",
    "        # 파일명에서 pheno 이름 추출 (첫번째 '.' 이전까지의 문자열)\n",
    "        pheno <- basename(file) %>%\n",
    "            strsplit(\"\\\\.\") %>%\n",
    "            .[[1]] %>%\n",
    "            .[2]\n",
    "        \n",
    "        # 파일 읽기\n",
    "        df <- fread(file)\n",
    "        \n",
    "        # 필요한 파라미터만 추출 (V(g), V(s), w)\n",
    "        df_filtered <- df %>%\n",
    "            filter(param %in% c(\"V(g)\", \"V(s)\", \"w\"))\n",
    "        \n",
    "        # wide format으로 변환\n",
    "        data.frame(\n",
    "            pheno = pheno,\n",
    "            # V(g) 관련 컬럼\n",
    "            Vg_median = df_filtered[param == \"V(g)\", median],\n",
    "            Vg_lower = df_filtered[param == \"V(g)\", `lower(2.5%)`],\n",
    "            Vg_upper = df_filtered[param == \"V(g)\", `upper(97.5%)`],\n",
    "            # V(s) 관련 컬럼\n",
    "            Vs_median = df_filtered[param == \"V(s)\", median],\n",
    "            Vs_lower = df_filtered[param == \"V(s)\", `lower(2.5%)`],\n",
    "            Vs_upper = df_filtered[param == \"V(s)\", `upper(97.5%)`],\n",
    "            # w 관련 컬럼\n",
    "            w_median = df_filtered[param == \"w\", median],\n",
    "            w_lower = df_filtered[param == \"w\", `lower(2.5%)`],\n",
    "            w_upper = df_filtered[param == \"w\", `upper(97.5%)`]\n",
    "        )\n",
    "    }) %>%\n",
    "    # 모든 데이터프레임 합치기\n",
    "    bind_rows()\n",
    "\n",
    "head(df_prediction)"
   ]
  },
  {
   "cell_type": "code",
   "execution_count": 52,
   "metadata": {
    "vscode": {
     "languageId": "r"
    }
   },
   "outputs": [
    {
     "data": {
      "text/html": [
       "<style>\n",
       ".list-inline {list-style: none; margin:0; padding: 0}\n",
       ".list-inline>li {display: inline-block}\n",
       ".list-inline>li:not(:last-child)::after {content: \"\\00b7\"; padding: 0 .5ex}\n",
       "</style>\n",
       "<ol class=list-inline><li>24</li><li>13</li></ol>\n"
      ],
      "text/latex": [
       "\\begin{enumerate*}\n",
       "\\item 24\n",
       "\\item 13\n",
       "\\end{enumerate*}\n"
      ],
      "text/markdown": [
       "1. 24\n",
       "2. 13\n",
       "\n",
       "\n"
      ],
      "text/plain": [
       "[1] 24 13"
      ]
     },
     "metadata": {},
     "output_type": "display_data"
    }
   ],
   "source": [
    "# merg\n",
    "# df_slope_test와 df_prediction을 pheno 기준으로 병합\n",
    "df_merged <- df_slope_test %>%\n",
    "    left_join(df_prediction, by = \"pheno\")\n",
    "\n",
    "# 결과 확인\n",
    "dim(df_merged)"
   ]
  },
  {
   "cell_type": "markdown",
   "metadata": {},
   "source": [
    "# plot theme"
   ]
  },
  {
   "cell_type": "code",
   "execution_count": 53,
   "metadata": {
    "vscode": {
     "languageId": "r"
    }
   },
   "outputs": [],
   "source": [
    "# 공통 테마 함수 정의\n",
    "get_nature_theme <- function() {\n",
    "    theme_bw() +\n",
    "        theme(\n",
    "            # 전체적인 배경\n",
    "            panel.background = element_rect(fill = NA, color = NA),\n",
    "            panel.grid.major = element_blank(),\n",
    "            panel.grid.minor = element_blank(),\n",
    "            panel.border = element_rect(color = \"black\", fill = NA, size = 0.6),  # size로 선 굵기 조절\n",
    "            \n",
    "            # panel.border = element_blank(),  \n",
    "            \n",
    "            # 축 설정\n",
    "            # axis.line.x.top = element_line(color = \"black\", size = 0.3),  \n",
    "            # axis.line.y.right = element_line(color = \"black\", size = 0.3),  \n",
    "            # axis.line.x.bottom = element_line(color = \"black\", size = 0.3),  \n",
    "            # axis.line.y.left = element_line(color = \"black\", size = 0.3),    \n",
    "            axis.text = element_text(size = 6.5, color = \"black\"),\n",
    "            axis.title = element_text(size = 7.5, color = \"black\"),\n",
    "            axis.ticks = element_line(size = 0.3),\n",
    "            axis.ticks.length = unit(0.8, \"mm\"),\n",
    "            \n",
    "            # 메인 figure에 박스 추가\n",
    "            # plot.background = element_rect(color = \"black\", fill = NA),\n",
    "            \n",
    "            # legend 박스 제거\n",
    "            legend.box.background = element_blank(),  # 이전: element_rect(color = \"black\")\n",
    "            \n",
    "            # 범례 설정\n",
    "            legend.margin = margin(1, 1, 1, 1, unit = \"mm\"),\n",
    "            # legend.spacing.y = unit(0.1, \"cm\"),\n",
    "            \n",
    "            # 여백 설정\n",
    "            # plot.margin = unit(c(0.1, 0.2, 0.1, 0.1), \"cm\")\n",
    "            plot.margin = margin(1, 1, 1, 1, unit = \"mm\")\n",
    "        )\n",
    "}\n",
    "\n",
    "# 공통 색상 정의\n",
    "color_values <- c(\n",
    "    \"Fast\" = \"#E64B35\",\n",
    "    \"Slow\" = \"#4DBBD5\",\n",
    "    \"Similar\" = \"#7E7E7E\"\n",
    ")"
   ]
  },
  {
   "cell_type": "markdown",
   "metadata": {},
   "source": [
    "# Step 2. Plot"
   ]
  },
  {
   "cell_type": "code",
   "execution_count": 54,
   "metadata": {
    "vscode": {
     "languageId": "r"
    }
   },
   "outputs": [
    {
     "data": {
      "text/html": [
       "<style>\n",
       ".list-inline {list-style: none; margin:0; padding: 0}\n",
       ".list-inline>li {display: inline-block}\n",
       ".list-inline>li:not(:last-child)::after {content: \"\\00b7\"; padding: 0 .5ex}\n",
       "</style>\n",
       "<ol class=list-inline><li>10</li><li>13</li></ol>\n"
      ],
      "text/latex": [
       "\\begin{enumerate*}\n",
       "\\item 10\n",
       "\\item 13\n",
       "\\end{enumerate*}\n"
      ],
      "text/markdown": [
       "1. 10\n",
       "2. 13\n",
       "\n",
       "\n"
      ],
      "text/plain": [
       "[1] 10 13"
      ]
     },
     "metadata": {},
     "output_type": "display_data"
    }
   ],
   "source": [
    "for_plot <- df_merged %>%\n",
    "    filter(Vg_lower > 1e-4 & Vs_lower > 1e-4)\n",
    "\n",
    "# for_plot <- df_merged\n",
    "\n",
    "# for_plot <- df_merged %>%\n",
    "    # filter(Vg_lower > 1e-4)\n",
    "\n",
    "# 필터링 결과 확인\n",
    "dim(for_plot)"
   ]
  },
  {
   "cell_type": "code",
   "execution_count": 55,
   "metadata": {
    "vscode": {
     "languageId": "r"
    }
   },
   "outputs": [],
   "source": [
    "# CSV 파일로 저장\n",
    "write.table(\n",
    "    for_plot, \n",
    "    paste0(\"/data/jerrylee/pjt/BIGFAM.v.2.0/data/supple/\", cohort, \".prediction.sigV.tsv\"),\n",
    "    row.names = FALSE,\n",
    "    sep = '\\t',\n",
    "    quote = FALSE)\n"
   ]
  },
  {
   "cell_type": "code",
   "execution_count": 56,
   "metadata": {
    "vscode": {
     "languageId": "r"
    }
   },
   "outputs": [],
   "source": [
    "plot_variance <- function(data, figure_tag = NULL) {\n",
    "    p <- ggplot(data, aes(x = Vg_median, y = Vs_median)) +\n",
    "        geom_point(aes(fill = significant),\n",
    "                  size = 3, \n",
    "                  alpha = 0.8,\n",
    "                  shape = 21,\n",
    "                  stroke = 0.3,\n",
    "                  color = \"grey50\") +\n",
    "        scale_fill_manual(\n",
    "            values = color_values,\n",
    "            guide = guide_legend(\n",
    "                override.aes = list(\n",
    "                    shape = 21,\n",
    "                    color = \"white\",\n",
    "                    size = 2.5\n",
    "                ),\n",
    "                name = \"Decaying\",\n",
    "                keywidth = unit(0.5, \"lines\"),\n",
    "                keyheight = unit(0.5, \"lines\")\n",
    "            )\n",
    "        ) +\n",
    "        labs(\n",
    "            x = \"G.variance\",\n",
    "            y = \"S.variance\",\n",
    "            fill = \"Decaying\"\n",
    "        ) +\n",
    "        scale_x_continuous(\n",
    "            breaks = scales::pretty_breaks(),\n",
    "            limits = c(0, 0.8)\n",
    "        ) +\n",
    "        scale_y_continuous(\n",
    "            breaks = scales::pretty_breaks(),\n",
    "            limits = c(0, 0.3)) +\n",
    "        get_nature_theme() + \n",
    "        theme(\n",
    "            legend.position = \"right\", #c(0.8, 0.5),  # x, y 위치 (0-1 사이 값)\n",
    "            # legend.justification = c(0, 0.5),    # 좌측 상단 기준 정렬\n",
    "            legend.box.margin = margin(0, 0, 0, 0, unit = \"mm\"),\n",
    "            legend.spacing.x = unit(0, \"mm\"),  # figure와 legend 사이 간격\n",
    "            # legend.box.background = element_rect(color = \"black\"),\n",
    "            legend.background = element_rect(fill = NA, color = NA),\n",
    "            legend.title = element_text(size = 7),\n",
    "            legend.text = element_text(size = 7),      # 범례 텍스트 크기\n",
    "            legend.key.size = unit(0.5, \"lines\"),\n",
    "            legend.key.height = unit(0.5, \"lines\"),\n",
    "            legend.key.width = unit(0.5, \"lines\"),\n",
    "            plot.margin = margin(1, 0, 0, 0, \"mm\")\n",
    "\n",
    "            # # legend.position = \"top\",\n",
    "            # legend.position = c(0.9, 0.9),  # x, y 위치 (0-1 사이 값)\n",
    "            # legend.justification = c(1, 1),    # 좌측 상단 기준 정렬\n",
    "            # legend.title = element_blank(),\n",
    "            # legend.box.background = element_rect(color = \"black\"),\n",
    "            # legend.background = element_rect(fill = NA, color = NA),\n",
    "        )\n",
    "    \n",
    "    if (!is.null(figure_tag)) {\n",
    "        p <- p + \n",
    "            annotate(\"text\", x = -Inf, y = Inf, \n",
    "                    label = figure_tag, \n",
    "                    hjust = -0.2, vjust = 1.5,\n",
    "                    size = 3)\n",
    "    }\n",
    "    \n",
    "    return(p)\n",
    "}"
   ]
  },
  {
   "cell_type": "code",
   "execution_count": 57,
   "metadata": {
    "vscode": {
     "languageId": "r"
    }
   },
   "outputs": [
    {
     "data": {
      "image/png": "[encoded data removed]",
      "text/plain": [
       "plot without title"
      ]
     },
     "metadata": {
      "image/png": {
       "height": 420,
       "width": 420
      }
     },
     "output_type": "display_data"
    }
   ],
   "source": [
    "# 함수 사용 예시:\n",
    "p <- plot_variance(data = for_plot)\n",
    "print(p)\n",
    "\n",
    "# # 파일 저장\n",
    "# output_path <- paste0(\n",
    "#     \"/data/jerrylee/pjt/BIGFAM.v.2.0/figures/\", \n",
    "#     cohort, \n",
    "#     \".prediction.pdf\"\n",
    "# )\n",
    "\n",
    "# ggsave(\n",
    "#     filename = output_path,\n",
    "#     plot = p,\n",
    "#     width = 103,\n",
    "#     height = 45.2,\n",
    "#     units = \"mm\",\n",
    "#     dpi = 300\n",
    "# )"
   ]
  },
  {
   "cell_type": "code",
   "execution_count": 33,
   "metadata": {
    "vscode": {
     "languageId": "r"
    }
   },
   "outputs": [
    {
     "data": {
      "text/html": [
       "<table class=\"dataframe\">\n",
       "<caption>A data.frame: 3 × 13</caption>\n",
       "<thead>\n",
       "\t<tr><th></th><th scope=col>pheno</th><th scope=col>slope</th><th scope=col>intercept</th><th scope=col>significant</th><th scope=col>Vg_median</th><th scope=col>Vg_lower</th><th scope=col>Vg_upper</th><th scope=col>Vs_median</th><th scope=col>Vs_lower</th><th scope=col>Vs_upper</th><th scope=col>w_median</th><th scope=col>w_lower</th><th scope=col>w_upper</th></tr>\n",
       "\t<tr><th></th><th scope=col>&lt;chr&gt;</th><th scope=col>&lt;dbl&gt;</th><th scope=col>&lt;dbl&gt;</th><th scope=col>&lt;chr&gt;</th><th scope=col>&lt;dbl&gt;</th><th scope=col>&lt;dbl&gt;</th><th scope=col>&lt;dbl&gt;</th><th scope=col>&lt;dbl&gt;</th><th scope=col>&lt;dbl&gt;</th><th scope=col>&lt;dbl&gt;</th><th scope=col>&lt;dbl&gt;</th><th scope=col>&lt;dbl&gt;</th><th scope=col>&lt;dbl&gt;</th></tr>\n",
       "</thead>\n",
       "<tbody>\n",
       "\t<tr><th scope=row>1</th><td>expected</td><td>0.6090383</td><td>-0.6313576</td><td>slow</td><td>0.62059029</td><td>0.61737794</td><td>0.62436819</td><td>0.11880341</td><td>0.11735124</td><td>0.11994909</td><td>0.95</td><td>0.95</td><td>0.95</td></tr>\n",
       "\t<tr><th scope=row>2</th><td>FVC     </td><td>0.5058855</td><td>-1.5154196</td><td>slow</td><td>0.31890991</td><td>0.31434226</td><td>0.32252810</td><td>0.08978632</td><td>0.08821929</td><td>0.09154114</td><td>0.95</td><td>0.95</td><td>0.95</td></tr>\n",
       "\t<tr><th scope=row>3</th><td>max_arm </td><td>0.2832635</td><td>-2.8427040</td><td>slow</td><td>0.08707074</td><td>0.08442876</td><td>0.08993349</td><td>0.07588217</td><td>0.07477996</td><td>0.07698391</td><td>0.95</td><td>0.95</td><td>0.95</td></tr>\n",
       "</tbody>\n",
       "</table>\n"
      ],
      "text/latex": [
       "A data.frame: 3 × 13\n",
       "\\begin{tabular}{r|lllllllllllll}\n",
       "  & pheno & slope & intercept & significant & Vg\\_median & Vg\\_lower & Vg\\_upper & Vs\\_median & Vs\\_lower & Vs\\_upper & w\\_median & w\\_lower & w\\_upper\\\\\n",
       "  & <chr> & <dbl> & <dbl> & <chr> & <dbl> & <dbl> & <dbl> & <dbl> & <dbl> & <dbl> & <dbl> & <dbl> & <dbl>\\\\\n",
       "\\hline\n",
       "\t1 & expected & 0.6090383 & -0.6313576 & slow & 0.62059029 & 0.61737794 & 0.62436819 & 0.11880341 & 0.11735124 & 0.11994909 & 0.95 & 0.95 & 0.95\\\\\n",
       "\t2 & FVC      & 0.5058855 & -1.5154196 & slow & 0.31890991 & 0.31434226 & 0.32252810 & 0.08978632 & 0.08821929 & 0.09154114 & 0.95 & 0.95 & 0.95\\\\\n",
       "\t3 & max\\_arm  & 0.2832635 & -2.8427040 & slow & 0.08707074 & 0.08442876 & 0.08993349 & 0.07588217 & 0.07477996 & 0.07698391 & 0.95 & 0.95 & 0.95\\\\\n",
       "\\end{tabular}\n"
      ],
      "text/markdown": [
       "\n",
       "A data.frame: 3 × 13\n",
       "\n",
       "| <!--/--> | pheno &lt;chr&gt; | slope &lt;dbl&gt; | intercept &lt;dbl&gt; | significant &lt;chr&gt; | Vg_median &lt;dbl&gt; | Vg_lower &lt;dbl&gt; | Vg_upper &lt;dbl&gt; | Vs_median &lt;dbl&gt; | Vs_lower &lt;dbl&gt; | Vs_upper &lt;dbl&gt; | w_median &lt;dbl&gt; | w_lower &lt;dbl&gt; | w_upper &lt;dbl&gt; |\n",
       "|---|---|---|---|---|---|---|---|---|---|---|---|---|---|\n",
       "| 1 | expected | 0.6090383 | -0.6313576 | slow | 0.62059029 | 0.61737794 | 0.62436819 | 0.11880341 | 0.11735124 | 0.11994909 | 0.95 | 0.95 | 0.95 |\n",
       "| 2 | FVC      | 0.5058855 | -1.5154196 | slow | 0.31890991 | 0.31434226 | 0.32252810 | 0.08978632 | 0.08821929 | 0.09154114 | 0.95 | 0.95 | 0.95 |\n",
       "| 3 | max_arm  | 0.2832635 | -2.8427040 | slow | 0.08707074 | 0.08442876 | 0.08993349 | 0.07588217 | 0.07477996 | 0.07698391 | 0.95 | 0.95 | 0.95 |\n",
       "\n"
      ],
      "text/plain": [
       "  pheno    slope     intercept  significant Vg_median  Vg_lower   Vg_upper  \n",
       "1 expected 0.6090383 -0.6313576 slow        0.62059029 0.61737794 0.62436819\n",
       "2 FVC      0.5058855 -1.5154196 slow        0.31890991 0.31434226 0.32252810\n",
       "3 max_arm  0.2832635 -2.8427040 slow        0.08707074 0.08442876 0.08993349\n",
       "  Vs_median  Vs_lower   Vs_upper   w_median w_lower w_upper\n",
       "1 0.11880341 0.11735124 0.11994909 0.95     0.95    0.95   \n",
       "2 0.08978632 0.08821929 0.09154114 0.95     0.95    0.95   \n",
       "3 0.07588217 0.07477996 0.07698391 0.95     0.95    0.95   "
      ]
     },
     "metadata": {},
     "output_type": "display_data"
    }
   ],
   "source": [
    "for_plot %>% arrange(desc(Vs_median)) %>% head(3)"
   ]
  },
  {
   "cell_type": "code",
   "execution_count": 34,
   "metadata": {
    "vscode": {
     "languageId": "r"
    }
   },
   "outputs": [
    {
     "data": {
      "text/html": [
       "<table class=\"dataframe\">\n",
       "<caption>A data.frame: 5 × 13</caption>\n",
       "<thead>\n",
       "\t<tr><th></th><th scope=col>pheno</th><th scope=col>slope</th><th scope=col>intercept</th><th scope=col>significant</th><th scope=col>Vg_median</th><th scope=col>Vg_lower</th><th scope=col>Vg_upper</th><th scope=col>Vs_median</th><th scope=col>Vs_lower</th><th scope=col>Vs_upper</th><th scope=col>w_median</th><th scope=col>w_lower</th><th scope=col>w_upper</th></tr>\n",
       "\t<tr><th></th><th scope=col>&lt;chr&gt;</th><th scope=col>&lt;dbl&gt;</th><th scope=col>&lt;dbl&gt;</th><th scope=col>&lt;chr&gt;</th><th scope=col>&lt;dbl&gt;</th><th scope=col>&lt;dbl&gt;</th><th scope=col>&lt;dbl&gt;</th><th scope=col>&lt;dbl&gt;</th><th scope=col>&lt;dbl&gt;</th><th scope=col>&lt;dbl&gt;</th><th scope=col>&lt;dbl&gt;</th><th scope=col>&lt;dbl&gt;</th><th scope=col>&lt;dbl&gt;</th></tr>\n",
       "</thead>\n",
       "<tbody>\n",
       "\t<tr><th scope=row>1</th><td>Potassium</td><td>0.8886585</td><td>-1.9557658</td><td>similar</td><td>0.19755409</td><td>0.19355806</td><td>0.26733121</td><td>0.03848763</td><td>0.007085906</td><td>0.04176133</td><td>0.56</td><td>0.45</td><td>0.60</td></tr>\n",
       "\t<tr><th scope=row>2</th><td>T_axis   </td><td>0.5581516</td><td>-4.0812027</td><td>similar</td><td>0.06748695</td><td>0.06586653</td><td>0.07546834</td><td>0.01376570</td><td>0.013334788</td><td>0.01508011</td><td>0.60</td><td>0.44</td><td>0.60</td></tr>\n",
       "\t<tr><th scope=row>3</th><td>avg_hr   </td><td>0.5402984</td><td>-2.5182775</td><td>slow   </td><td>0.15989191</td><td>0.15664733</td><td>0.16235598</td><td>0.04065011</td><td>0.039684413</td><td>0.04175886</td><td>0.95</td><td>0.95</td><td>0.95</td></tr>\n",
       "\t<tr><th scope=row>4</th><td>expected </td><td>0.6090383</td><td>-0.6313576</td><td>slow   </td><td>0.62059029</td><td>0.61737794</td><td>0.62436819</td><td>0.11880341</td><td>0.117351242</td><td>0.11994909</td><td>0.95</td><td>0.95</td><td>0.95</td></tr>\n",
       "\t<tr><th scope=row>5</th><td>FVC      </td><td>0.5058855</td><td>-1.5154196</td><td>slow   </td><td>0.31890991</td><td>0.31434226</td><td>0.32252810</td><td>0.08978632</td><td>0.088219295</td><td>0.09154114</td><td>0.95</td><td>0.95</td><td>0.95</td></tr>\n",
       "</tbody>\n",
       "</table>\n"
      ],
      "text/latex": [
       "A data.frame: 5 × 13\n",
       "\\begin{tabular}{r|lllllllllllll}\n",
       "  & pheno & slope & intercept & significant & Vg\\_median & Vg\\_lower & Vg\\_upper & Vs\\_median & Vs\\_lower & Vs\\_upper & w\\_median & w\\_lower & w\\_upper\\\\\n",
       "  & <chr> & <dbl> & <dbl> & <chr> & <dbl> & <dbl> & <dbl> & <dbl> & <dbl> & <dbl> & <dbl> & <dbl> & <dbl>\\\\\n",
       "\\hline\n",
       "\t1 & Potassium & 0.8886585 & -1.9557658 & similar & 0.19755409 & 0.19355806 & 0.26733121 & 0.03848763 & 0.007085906 & 0.04176133 & 0.56 & 0.45 & 0.60\\\\\n",
       "\t2 & T\\_axis    & 0.5581516 & -4.0812027 & similar & 0.06748695 & 0.06586653 & 0.07546834 & 0.01376570 & 0.013334788 & 0.01508011 & 0.60 & 0.44 & 0.60\\\\\n",
       "\t3 & avg\\_hr    & 0.5402984 & -2.5182775 & slow    & 0.15989191 & 0.15664733 & 0.16235598 & 0.04065011 & 0.039684413 & 0.04175886 & 0.95 & 0.95 & 0.95\\\\\n",
       "\t4 & expected  & 0.6090383 & -0.6313576 & slow    & 0.62059029 & 0.61737794 & 0.62436819 & 0.11880341 & 0.117351242 & 0.11994909 & 0.95 & 0.95 & 0.95\\\\\n",
       "\t5 & FVC       & 0.5058855 & -1.5154196 & slow    & 0.31890991 & 0.31434226 & 0.32252810 & 0.08978632 & 0.088219295 & 0.09154114 & 0.95 & 0.95 & 0.95\\\\\n",
       "\\end{tabular}\n"
      ],
      "text/markdown": [
       "\n",
       "A data.frame: 5 × 13\n",
       "\n",
       "| <!--/--> | pheno &lt;chr&gt; | slope &lt;dbl&gt; | intercept &lt;dbl&gt; | significant &lt;chr&gt; | Vg_median &lt;dbl&gt; | Vg_lower &lt;dbl&gt; | Vg_upper &lt;dbl&gt; | Vs_median &lt;dbl&gt; | Vs_lower &lt;dbl&gt; | Vs_upper &lt;dbl&gt; | w_median &lt;dbl&gt; | w_lower &lt;dbl&gt; | w_upper &lt;dbl&gt; |\n",
       "|---|---|---|---|---|---|---|---|---|---|---|---|---|---|\n",
       "| 1 | Potassium | 0.8886585 | -1.9557658 | similar | 0.19755409 | 0.19355806 | 0.26733121 | 0.03848763 | 0.007085906 | 0.04176133 | 0.56 | 0.45 | 0.60 |\n",
       "| 2 | T_axis    | 0.5581516 | -4.0812027 | similar | 0.06748695 | 0.06586653 | 0.07546834 | 0.01376570 | 0.013334788 | 0.01508011 | 0.60 | 0.44 | 0.60 |\n",
       "| 3 | avg_hr    | 0.5402984 | -2.5182775 | slow    | 0.15989191 | 0.15664733 | 0.16235598 | 0.04065011 | 0.039684413 | 0.04175886 | 0.95 | 0.95 | 0.95 |\n",
       "| 4 | expected  | 0.6090383 | -0.6313576 | slow    | 0.62059029 | 0.61737794 | 0.62436819 | 0.11880341 | 0.117351242 | 0.11994909 | 0.95 | 0.95 | 0.95 |\n",
       "| 5 | FVC       | 0.5058855 | -1.5154196 | slow    | 0.31890991 | 0.31434226 | 0.32252810 | 0.08978632 | 0.088219295 | 0.09154114 | 0.95 | 0.95 | 0.95 |\n",
       "\n"
      ],
      "text/plain": [
       "  pheno     slope     intercept  significant Vg_median  Vg_lower   Vg_upper  \n",
       "1 Potassium 0.8886585 -1.9557658 similar     0.19755409 0.19355806 0.26733121\n",
       "2 T_axis    0.5581516 -4.0812027 similar     0.06748695 0.06586653 0.07546834\n",
       "3 avg_hr    0.5402984 -2.5182775 slow        0.15989191 0.15664733 0.16235598\n",
       "4 expected  0.6090383 -0.6313576 slow        0.62059029 0.61737794 0.62436819\n",
       "5 FVC       0.5058855 -1.5154196 slow        0.31890991 0.31434226 0.32252810\n",
       "  Vs_median  Vs_lower    Vs_upper   w_median w_lower w_upper\n",
       "1 0.03848763 0.007085906 0.04176133 0.56     0.45    0.60   \n",
       "2 0.01376570 0.013334788 0.01508011 0.60     0.44    0.60   \n",
       "3 0.04065011 0.039684413 0.04175886 0.95     0.95    0.95   \n",
       "4 0.11880341 0.117351242 0.11994909 0.95     0.95    0.95   \n",
       "5 0.08978632 0.088219295 0.09154114 0.95     0.95    0.95   "
      ]
     },
     "metadata": {},
     "output_type": "display_data"
    }
   ],
   "source": [
    "for_plot %>% arrange(w_median) %>% head(5)"
   ]
  },
  {
   "cell_type": "code",
   "execution_count": 35,
   "metadata": {
    "vscode": {
     "languageId": "r"
    }
   },
   "outputs": [
    {
     "data": {
      "text/html": [
       "<table class=\"dataframe\">\n",
       "<caption>A data.frame: 1 × 5</caption>\n",
       "<thead>\n",
       "\t<tr><th></th><th scope=col>pheno</th><th scope=col>significant</th><th scope=col>Vg</th><th scope=col>Vs</th><th scope=col>w</th></tr>\n",
       "\t<tr><th></th><th scope=col>&lt;chr&gt;</th><th scope=col>&lt;chr&gt;</th><th scope=col>&lt;chr&gt;</th><th scope=col>&lt;chr&gt;</th><th scope=col>&lt;chr&gt;</th></tr>\n",
       "</thead>\n",
       "<tbody>\n",
       "\t<tr><th scope=row>1</th><td>expected</td><td>slow</td><td>0.621 (0.617, 0.624)</td><td>0.119 (0.117, 0.120)</td><td>0.950 (0.950, 0.950)</td></tr>\n",
       "</tbody>\n",
       "</table>\n"
      ],
      "text/latex": [
       "A data.frame: 1 × 5\n",
       "\\begin{tabular}{r|lllll}\n",
       "  & pheno & significant & Vg & Vs & w\\\\\n",
       "  & <chr> & <chr> & <chr> & <chr> & <chr>\\\\\n",
       "\\hline\n",
       "\t1 & expected & slow & 0.621 (0.617, 0.624) & 0.119 (0.117, 0.120) & 0.950 (0.950, 0.950)\\\\\n",
       "\\end{tabular}\n"
      ],
      "text/markdown": [
       "\n",
       "A data.frame: 1 × 5\n",
       "\n",
       "| <!--/--> | pheno &lt;chr&gt; | significant &lt;chr&gt; | Vg &lt;chr&gt; | Vs &lt;chr&gt; | w &lt;chr&gt; |\n",
       "|---|---|---|---|---|---|\n",
       "| 1 | expected | slow | 0.621 (0.617, 0.624) | 0.119 (0.117, 0.120) | 0.950 (0.950, 0.950) |\n",
       "\n"
      ],
      "text/plain": [
       "  pheno    significant Vg                   Vs                  \n",
       "1 expected slow        0.621 (0.617, 0.624) 0.119 (0.117, 0.120)\n",
       "  w                   \n",
       "1 0.950 (0.950, 0.950)"
      ]
     },
     "metadata": {},
     "output_type": "display_data"
    }
   ],
   "source": [
    "for_plot %>%\n",
    "  mutate(across(where(is.numeric), ~round(., 3))) %>%\n",
    "  mutate(\n",
    "    Vg = sprintf(\"%.3f (%.3f, %.3f)\", Vg_median, Vg_lower, Vg_upper),\n",
    "    Vs = sprintf(\"%.3f (%.3f, %.3f)\", Vs_median, Vs_lower, Vs_upper),\n",
    "    w = sprintf(\"%.3f (%.3f, %.3f)\", w_median, w_lower, w_upper)\n",
    "  ) %>%\n",
    "  select(pheno, significant, Vg, Vs, w) %>%\n",
    "  filter(pheno %in% c(\"expected\")) %>%\n",
    "  head()\n"
   ]
  },
  {
   "cell_type": "code",
   "execution_count": 22,
   "metadata": {
    "vscode": {
     "languageId": "r"
    }
   },
   "outputs": [
    {
     "data": {
      "text/html": [
       "<table class=\"dataframe\">\n",
       "<caption>A data.frame: 2 × 5</caption>\n",
       "<thead>\n",
       "\t<tr><th></th><th scope=col>pheno</th><th scope=col>significant</th><th scope=col>Vg</th><th scope=col>Vs</th><th scope=col>w</th></tr>\n",
       "\t<tr><th></th><th scope=col>&lt;chr&gt;</th><th scope=col>&lt;chr&gt;</th><th scope=col>&lt;chr&gt;</th><th scope=col>&lt;chr&gt;</th><th scope=col>&lt;chr&gt;</th></tr>\n",
       "</thead>\n",
       "<tbody>\n",
       "\t<tr><th scope=row>1</th><td>Heel_bone_mineral_density__BMD__T-score,_automated</td><td>fast</td><td>0.140 (0.122, 0.434)</td><td>0.221 (0.075, 0.230)</td><td>0.450 (0.328, 0.450)</td></tr>\n",
       "\t<tr><th scope=row>2</th><td>Immature_reticulocyte_fraction                    </td><td>slow</td><td>0.080 (0.066, 0.344)</td><td>0.141 (0.011, 0.148)</td><td>0.550 (0.550, 0.950)</td></tr>\n",
       "</tbody>\n",
       "</table>\n"
      ],
      "text/latex": [
       "A data.frame: 2 × 5\n",
       "\\begin{tabular}{r|lllll}\n",
       "  & pheno & significant & Vg & Vs & w\\\\\n",
       "  & <chr> & <chr> & <chr> & <chr> & <chr>\\\\\n",
       "\\hline\n",
       "\t1 & Heel\\_bone\\_mineral\\_density\\_\\_BMD\\_\\_T-score,\\_automated & fast & 0.140 (0.122, 0.434) & 0.221 (0.075, 0.230) & 0.450 (0.328, 0.450)\\\\\n",
       "\t2 & Immature\\_reticulocyte\\_fraction                     & slow & 0.080 (0.066, 0.344) & 0.141 (0.011, 0.148) & 0.550 (0.550, 0.950)\\\\\n",
       "\\end{tabular}\n"
      ],
      "text/markdown": [
       "\n",
       "A data.frame: 2 × 5\n",
       "\n",
       "| <!--/--> | pheno &lt;chr&gt; | significant &lt;chr&gt; | Vg &lt;chr&gt; | Vs &lt;chr&gt; | w &lt;chr&gt; |\n",
       "|---|---|---|---|---|---|\n",
       "| 1 | Heel_bone_mineral_density__BMD__T-score,_automated | fast | 0.140 (0.122, 0.434) | 0.221 (0.075, 0.230) | 0.450 (0.328, 0.450) |\n",
       "| 2 | Immature_reticulocyte_fraction                     | slow | 0.080 (0.066, 0.344) | 0.141 (0.011, 0.148) | 0.550 (0.550, 0.950) |\n",
       "\n"
      ],
      "text/plain": [
       "  pheno                                              significant\n",
       "1 Heel_bone_mineral_density__BMD__T-score,_automated fast       \n",
       "2 Immature_reticulocyte_fraction                     slow       \n",
       "  Vg                   Vs                   w                   \n",
       "1 0.140 (0.122, 0.434) 0.221 (0.075, 0.230) 0.450 (0.328, 0.450)\n",
       "2 0.080 (0.066, 0.344) 0.141 (0.011, 0.148) 0.550 (0.550, 0.950)"
      ]
     },
     "metadata": {},
     "output_type": "display_data"
    }
   ],
   "source": [
    "for_plot %>%\n",
    "  mutate(across(where(is.numeric), ~round(., 3))) %>%\n",
    "  mutate(\n",
    "    Vg = sprintf(\"%.3f (%.3f, %.3f)\", Vg_median, Vg_lower, Vg_upper),\n",
    "    Vs = sprintf(\"%.3f (%.3f, %.3f)\", Vs_median, Vs_lower, Vs_upper),\n",
    "    w = sprintf(\"%.3f (%.3f, %.3f)\", w_median, w_lower, w_upper)\n",
    "  ) %>%\n",
    "  select(pheno, significant, Vg, Vs, w) %>%\n",
    "  filter(pheno %in% c(\"Heel_bone_mineral_density__BMD__T-score,_automated\", \"Immature_reticulocyte_fraction\")) %>%\n",
    "  head()\n"
   ]
  },
  {
   "cell_type": "code",
   "execution_count": 23,
   "metadata": {
    "vscode": {
     "languageId": "r"
    }
   },
   "outputs": [
    {
     "data": {
      "text/html": [
       "<table class=\"dataframe\">\n",
       "<caption>A data.frame: 3 × 5</caption>\n",
       "<thead>\n",
       "\t<tr><th></th><th scope=col>pheno</th><th scope=col>significant</th><th scope=col>Vg</th><th scope=col>Vs</th><th scope=col>w</th></tr>\n",
       "\t<tr><th></th><th scope=col>&lt;chr&gt;</th><th scope=col>&lt;chr&gt;</th><th scope=col>&lt;chr&gt;</th><th scope=col>&lt;chr&gt;</th><th scope=col>&lt;chr&gt;</th></tr>\n",
       "</thead>\n",
       "<tbody>\n",
       "\t<tr><th scope=row>1</th><td>Alanine_aminotransferase</td><td>fast</td><td>0.185 (0.175, 0.187)</td><td>0.033 (0.032, 0.037)</td><td>0.010 (0.010, 0.140)</td></tr>\n",
       "\t<tr><th scope=row>2</th><td>Impedance_of_whole_body </td><td>fast</td><td>0.456 (0.455, 0.458)</td><td>0.045 (0.044, 0.046)</td><td>0.010 (0.010, 0.010)</td></tr>\n",
       "\t<tr><th scope=row>3</th><td>Urate                   </td><td>fast</td><td>0.368 (0.363, 0.369)</td><td>0.037 (0.037, 0.039)</td><td>0.010 (0.010, 0.070)</td></tr>\n",
       "</tbody>\n",
       "</table>\n"
      ],
      "text/latex": [
       "A data.frame: 3 × 5\n",
       "\\begin{tabular}{r|lllll}\n",
       "  & pheno & significant & Vg & Vs & w\\\\\n",
       "  & <chr> & <chr> & <chr> & <chr> & <chr>\\\\\n",
       "\\hline\n",
       "\t1 & Alanine\\_aminotransferase & fast & 0.185 (0.175, 0.187) & 0.033 (0.032, 0.037) & 0.010 (0.010, 0.140)\\\\\n",
       "\t2 & Impedance\\_of\\_whole\\_body  & fast & 0.456 (0.455, 0.458) & 0.045 (0.044, 0.046) & 0.010 (0.010, 0.010)\\\\\n",
       "\t3 & Urate                    & fast & 0.368 (0.363, 0.369) & 0.037 (0.037, 0.039) & 0.010 (0.010, 0.070)\\\\\n",
       "\\end{tabular}\n"
      ],
      "text/markdown": [
       "\n",
       "A data.frame: 3 × 5\n",
       "\n",
       "| <!--/--> | pheno &lt;chr&gt; | significant &lt;chr&gt; | Vg &lt;chr&gt; | Vs &lt;chr&gt; | w &lt;chr&gt; |\n",
       "|---|---|---|---|---|---|\n",
       "| 1 | Alanine_aminotransferase | fast | 0.185 (0.175, 0.187) | 0.033 (0.032, 0.037) | 0.010 (0.010, 0.140) |\n",
       "| 2 | Impedance_of_whole_body  | fast | 0.456 (0.455, 0.458) | 0.045 (0.044, 0.046) | 0.010 (0.010, 0.010) |\n",
       "| 3 | Urate                    | fast | 0.368 (0.363, 0.369) | 0.037 (0.037, 0.039) | 0.010 (0.010, 0.070) |\n",
       "\n"
      ],
      "text/plain": [
       "  pheno                    significant Vg                  \n",
       "1 Alanine_aminotransferase fast        0.185 (0.175, 0.187)\n",
       "2 Impedance_of_whole_body  fast        0.456 (0.455, 0.458)\n",
       "3 Urate                    fast        0.368 (0.363, 0.369)\n",
       "  Vs                   w                   \n",
       "1 0.033 (0.032, 0.037) 0.010 (0.010, 0.140)\n",
       "2 0.045 (0.044, 0.046) 0.010 (0.010, 0.010)\n",
       "3 0.037 (0.037, 0.039) 0.010 (0.010, 0.070)"
      ]
     },
     "metadata": {},
     "output_type": "display_data"
    }
   ],
   "source": [
    "for_plot %>%\n",
    "  mutate(across(where(is.numeric), ~round(., 3))) %>%\n",
    "  mutate(\n",
    "    Vg = sprintf(\"%.3f (%.3f, %.3f)\", Vg_median, Vg_lower, Vg_upper),\n",
    "    Vs = sprintf(\"%.3f (%.3f, %.3f)\", Vs_median, Vs_lower, Vs_upper),\n",
    "    w = sprintf(\"%.3f (%.3f, %.3f)\", w_median, w_lower, w_upper)\n",
    "  ) %>%\n",
    "  select(pheno, significant, Vg, Vs, w) %>%\n",
    "  filter(pheno %in% c(\"Alanine_aminotransferase\", \"Impedance_of_whole_body\", \"Urate\")) %>%\n",
    "  head()\n"
   ]
  },
  {
   "cell_type": "code",
   "execution_count": null,
   "metadata": {
    "vscode": {
     "languageId": "r"
    }
   },
   "outputs": [],
   "source": []
  }
 ],
 "metadata": {
  "kernelspec": {
   "display_name": "R",
   "language": "R",
   "name": "ir"
  },
  "language_info": {
   "codemirror_mode": "r",
   "file_extension": ".r",
   "mimetype": "text/x-r-source",
   "name": "R",
   "pygments_lexer": "r",
   "version": "4.3.1"
  }
 },
 "nbformat": 4,
 "nbformat_minor": 2
}
