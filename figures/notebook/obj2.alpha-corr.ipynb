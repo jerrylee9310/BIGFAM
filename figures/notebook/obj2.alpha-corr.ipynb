{
 "cells": [
  {
   "cell_type": "code",
   "execution_count": 9,
   "metadata": {
    "vscode": {
     "languageId": "r"
    }
   },
   "outputs": [
    {
     "name": "stderr",
     "output_type": "stream",
     "text": [
      "cmex10 already registered with pdfFont().\n",
      "\n",
      "cmmi10 already registered with pdfFont().\n",
      "\n"
     ]
    },
    {
     "name": "stderr",
     "output_type": "stream",
     "text": [
      "cmr10 already registered with pdfFont().\n",
      "\n",
      "cmsy10 already registered with pdfFont().\n",
      "\n",
      "DejaVu Sans already registered with pdfFont().\n",
      "\n",
      "DejaVu Sans Condensed already registered with pdfFont().\n",
      "\n",
      "DejaVu Sans Light already registered with pdfFont().\n",
      "\n",
      "esint10 already registered with pdfFont().\n",
      "\n",
      "eufm10 already registered with pdfFont().\n",
      "\n",
      "Liberation Mono already registered with pdfFont().\n",
      "\n",
      "msam10 already registered with pdfFont().\n",
      "\n",
      "msbm10 already registered with pdfFont().\n",
      "\n",
      "rsfs10 already registered with pdfFont().\n",
      "\n",
      "stmary10 already registered with pdfFont().\n",
      "\n",
      "wasy10 already registered with pdfFont().\n",
      "\n",
      "cmex10 already registered with postscriptFont().\n",
      "\n",
      "cmmi10 already registered with postscriptFont().\n",
      "\n",
      "cmr10 already registered with postscriptFont().\n",
      "\n",
      "cmsy10 already registered with postscriptFont().\n",
      "\n",
      "DejaVu Sans already registered with postscriptFont().\n",
      "\n",
      "DejaVu Sans Condensed already registered with postscriptFont().\n",
      "\n",
      "DejaVu Sans Light already registered with postscriptFont().\n",
      "\n",
      "esint10 already registered with postscriptFont().\n",
      "\n",
      "eufm10 already registered with postscriptFont().\n",
      "\n",
      "Liberation Mono already registered with postscriptFont().\n",
      "\n",
      "msam10 already registered with postscriptFont().\n",
      "\n",
      "msbm10 already registered with postscriptFont().\n",
      "\n",
      "rsfs10 already registered with postscriptFont().\n",
      "\n",
      "stmary10 already registered with postscriptFont().\n",
      "\n",
      "wasy10 already registered with postscriptFont().\n",
      "\n"
     ]
    }
   ],
   "source": [
    "library(ggplot2)\n",
    "library(data.table)\n",
    "library(dplyr)\n",
    "library(tidyr)\n",
    "library(purrr) \n",
    "library(patchwork)\n",
    "library(cowplot)\n",
    "library(ggbreak)\n",
    "library(scales)\n",
    "if (!require(extrafont)) install.packages(\"extrafont\")\n",
    "library(extrafont)\n",
    "\n",
    "# 3. 폰트 로드\n",
    "loadfonts()"
   ]
  },
  {
   "cell_type": "markdown",
   "metadata": {},
   "source": [
    "# Step 1. Load data"
   ]
  },
  {
   "cell_type": "code",
   "execution_count": 10,
   "metadata": {
    "vscode": {
     "languageId": "r"
    }
   },
   "outputs": [
    {
     "data": {
      "text/html": [
       "<table class=\"dataframe\">\n",
       "<caption>A data.table: 6 × 6</caption>\n",
       "<thead>\n",
       "\t<tr><th scope=col>pheno</th><th scope=col>lambda</th><th scope=col>weight</th><th scope=col>Vx</th><th scope=col>lower_Vx</th><th scope=col>upper_Vx</th></tr>\n",
       "\t<tr><th scope=col>&lt;chr&gt;</th><th scope=col>&lt;dbl&gt;</th><th scope=col>&lt;int&gt;</th><th scope=col>&lt;dbl&gt;</th><th scope=col>&lt;dbl&gt;</th><th scope=col>&lt;dbl&gt;</th></tr>\n",
       "</thead>\n",
       "<tbody>\n",
       "\t<tr><td>Weight</td><td>0.5875425</td><td>-2</td><td>0.06138966</td><td>0.018048008</td><td>0.10262481</td></tr>\n",
       "\t<tr><td>Weight</td><td>0.5875425</td><td>-1</td><td>0.05108733</td><td>0.025227708</td><td>0.09352426</td></tr>\n",
       "\t<tr><td>Weight</td><td>0.5875425</td><td> 0</td><td>0.03464890</td><td>0.011180160</td><td>0.06484540</td></tr>\n",
       "\t<tr><td>Weight</td><td>0.5875425</td><td> 1</td><td>0.02507786</td><td>0.007549218</td><td>0.04625433</td></tr>\n",
       "\t<tr><td>Weight</td><td>0.5875425</td><td> 2</td><td>0.01674065</td><td>0.003217986</td><td>0.03152318</td></tr>\n",
       "\t<tr><td>Weight</td><td>0.5875425</td><td> 3</td><td>0.01102167</td><td>0.002697115</td><td>0.02128587</td></tr>\n",
       "</tbody>\n",
       "</table>\n"
      ],
      "text/latex": [
       "A data.table: 6 × 6\n",
       "\\begin{tabular}{llllll}\n",
       " pheno & lambda & weight & Vx & lower\\_Vx & upper\\_Vx\\\\\n",
       " <chr> & <dbl> & <int> & <dbl> & <dbl> & <dbl>\\\\\n",
       "\\hline\n",
       "\t Weight & 0.5875425 & -2 & 0.06138966 & 0.018048008 & 0.10262481\\\\\n",
       "\t Weight & 0.5875425 & -1 & 0.05108733 & 0.025227708 & 0.09352426\\\\\n",
       "\t Weight & 0.5875425 &  0 & 0.03464890 & 0.011180160 & 0.06484540\\\\\n",
       "\t Weight & 0.5875425 &  1 & 0.02507786 & 0.007549218 & 0.04625433\\\\\n",
       "\t Weight & 0.5875425 &  2 & 0.01674065 & 0.003217986 & 0.03152318\\\\\n",
       "\t Weight & 0.5875425 &  3 & 0.01102167 & 0.002697115 & 0.02128587\\\\\n",
       "\\end{tabular}\n"
      ],
      "text/markdown": [
       "\n",
       "A data.table: 6 × 6\n",
       "\n",
       "| pheno &lt;chr&gt; | lambda &lt;dbl&gt; | weight &lt;int&gt; | Vx &lt;dbl&gt; | lower_Vx &lt;dbl&gt; | upper_Vx &lt;dbl&gt; |\n",
       "|---|---|---|---|---|---|\n",
       "| Weight | 0.5875425 | -2 | 0.06138966 | 0.018048008 | 0.10262481 |\n",
       "| Weight | 0.5875425 | -1 | 0.05108733 | 0.025227708 | 0.09352426 |\n",
       "| Weight | 0.5875425 |  0 | 0.03464890 | 0.011180160 | 0.06484540 |\n",
       "| Weight | 0.5875425 |  1 | 0.02507786 | 0.007549218 | 0.04625433 |\n",
       "| Weight | 0.5875425 |  2 | 0.01674065 | 0.003217986 | 0.03152318 |\n",
       "| Weight | 0.5875425 |  3 | 0.01102167 | 0.002697115 | 0.02128587 |\n",
       "\n"
      ],
      "text/plain": [
       "  pheno  lambda    weight Vx         lower_Vx    upper_Vx  \n",
       "1 Weight 0.5875425 -2     0.06138966 0.018048008 0.10262481\n",
       "2 Weight 0.5875425 -1     0.05108733 0.025227708 0.09352426\n",
       "3 Weight 0.5875425  0     0.03464890 0.011180160 0.06484540\n",
       "4 Weight 0.5875425  1     0.02507786 0.007549218 0.04625433\n",
       "5 Weight 0.5875425  2     0.01674065 0.003217986 0.03152318\n",
       "6 Weight 0.5875425  3     0.01102167 0.002697115 0.02128587"
      ]
     },
     "metadata": {},
     "output_type": "display_data"
    }
   ],
   "source": [
    "df_ukb <- fread(\n",
    "    \"/data/jerrylee/pjt/BIGFAM.v.2.0/data/UKB/obj2/prediction-X/X.tsv\",\n",
    "    sep = \"\\t\"\n",
    ")\n",
    "\n",
    "head(df_ukb)"
   ]
  },
  {
   "cell_type": "code",
   "execution_count": 11,
   "metadata": {
    "vscode": {
     "languageId": "r"
    }
   },
   "outputs": [
    {
     "data": {
      "text/html": [
       "<table class=\"dataframe\">\n",
       "<caption>A data.table: 6 × 4</caption>\n",
       "<thead>\n",
       "\t<tr><th scope=col>pheno</th><th scope=col>Vx</th><th scope=col>lower_Vx</th><th scope=col>upper_Vx</th></tr>\n",
       "\t<tr><th scope=col>&lt;chr&gt;</th><th scope=col>&lt;dbl&gt;</th><th scope=col>&lt;dbl&gt;</th><th scope=col>&lt;dbl&gt;</th></tr>\n",
       "</thead>\n",
       "<tbody>\n",
       "\t<tr><td>Urate                   </td><td>0.003119093</td><td>0.0009434320</td><td>0.005294753</td></tr>\n",
       "\t<tr><td>Standing_height         </td><td>0.020602558</td><td>0.0179909735</td><td>0.023214143</td></tr>\n",
       "\t<tr><td>IGF-1                   </td><td>0.007575075</td><td>0.0052152325</td><td>0.009934918</td></tr>\n",
       "\t<tr><td>Monocyte_count          </td><td>0.002644991</td><td>0.0004942725</td><td>0.004795709</td></tr>\n",
       "\t<tr><td>Platelet_count          </td><td>0.002987333</td><td>0.0008503817</td><td>0.005124285</td></tr>\n",
       "\t<tr><td>Mean_reticulocyte_volume</td><td>0.002744812</td><td>0.0005995979</td><td>0.004890026</td></tr>\n",
       "</tbody>\n",
       "</table>\n"
      ],
      "text/latex": [
       "A data.table: 6 × 4\n",
       "\\begin{tabular}{llll}\n",
       " pheno & Vx & lower\\_Vx & upper\\_Vx\\\\\n",
       " <chr> & <dbl> & <dbl> & <dbl>\\\\\n",
       "\\hline\n",
       "\t Urate                    & 0.003119093 & 0.0009434320 & 0.005294753\\\\\n",
       "\t Standing\\_height          & 0.020602558 & 0.0179909735 & 0.023214143\\\\\n",
       "\t IGF-1                    & 0.007575075 & 0.0052152325 & 0.009934918\\\\\n",
       "\t Monocyte\\_count           & 0.002644991 & 0.0004942725 & 0.004795709\\\\\n",
       "\t Platelet\\_count           & 0.002987333 & 0.0008503817 & 0.005124285\\\\\n",
       "\t Mean\\_reticulocyte\\_volume & 0.002744812 & 0.0005995979 & 0.004890026\\\\\n",
       "\\end{tabular}\n"
      ],
      "text/markdown": [
       "\n",
       "A data.table: 6 × 4\n",
       "\n",
       "| pheno &lt;chr&gt; | Vx &lt;dbl&gt; | lower_Vx &lt;dbl&gt; | upper_Vx &lt;dbl&gt; |\n",
       "|---|---|---|---|\n",
       "| Urate                    | 0.003119093 | 0.0009434320 | 0.005294753 |\n",
       "| Standing_height          | 0.020602558 | 0.0179909735 | 0.023214143 |\n",
       "| IGF-1                    | 0.007575075 | 0.0052152325 | 0.009934918 |\n",
       "| Monocyte_count           | 0.002644991 | 0.0004942725 | 0.004795709 |\n",
       "| Platelet_count           | 0.002987333 | 0.0008503817 | 0.005124285 |\n",
       "| Mean_reticulocyte_volume | 0.002744812 | 0.0005995979 | 0.004890026 |\n",
       "\n"
      ],
      "text/plain": [
       "  pheno                    Vx          lower_Vx     upper_Vx   \n",
       "1 Urate                    0.003119093 0.0009434320 0.005294753\n",
       "2 Standing_height          0.020602558 0.0179909735 0.023214143\n",
       "3 IGF-1                    0.007575075 0.0052152325 0.009934918\n",
       "4 Monocyte_count           0.002644991 0.0004942725 0.004795709\n",
       "5 Platelet_count           0.002987333 0.0008503817 0.005124285\n",
       "6 Mean_reticulocyte_volume 0.002744812 0.0005995979 0.004890026"
      ]
     },
     "metadata": {},
     "output_type": "display_data"
    }
   ],
   "source": [
    "df_gcta <- fread(\n",
    "    \"/data/jerrylee/pjt/BIGFAM.v.2.0/data/other-methods/GREML/X/X.filtered.gcta\",\n",
    "    sep = \"\\t\"\n",
    ")\n",
    "\n",
    "head(df_gcta)"
   ]
  },
  {
   "cell_type": "code",
   "execution_count": 12,
   "metadata": {
    "vscode": {
     "languageId": "r"
    }
   },
   "outputs": [
    {
     "data": {
      "text/html": [
       "<table class=\"dataframe\">\n",
       "<caption>A data.table: 5 × 9</caption>\n",
       "<thead>\n",
       "\t<tr><th scope=col>pheno</th><th scope=col>lambda</th><th scope=col>weight</th><th scope=col>Vx_ukb</th><th scope=col>lower_Vx_ukb</th><th scope=col>upper_Vx_ukb</th><th scope=col>Vx_gcta</th><th scope=col>lower_Vx_gcta</th><th scope=col>upper_Vx_gcta</th></tr>\n",
       "\t<tr><th scope=col>&lt;chr&gt;</th><th scope=col>&lt;dbl&gt;</th><th scope=col>&lt;int&gt;</th><th scope=col>&lt;dbl&gt;</th><th scope=col>&lt;dbl&gt;</th><th scope=col>&lt;dbl&gt;</th><th scope=col>&lt;dbl&gt;</th><th scope=col>&lt;dbl&gt;</th><th scope=col>&lt;dbl&gt;</th></tr>\n",
       "</thead>\n",
       "<tbody>\n",
       "\t<tr><td>Weight</td><td>0.5875425</td><td>-2</td><td>0.06138966</td><td>0.018048008</td><td>0.10262481</td><td>0.006437197</td><td>0.004207143</td><td>0.008667251</td></tr>\n",
       "\t<tr><td>Weight</td><td>0.5875425</td><td>-1</td><td>0.05108733</td><td>0.025227708</td><td>0.09352426</td><td>0.006437197</td><td>0.004207143</td><td>0.008667251</td></tr>\n",
       "\t<tr><td>Weight</td><td>0.5875425</td><td> 0</td><td>0.03464890</td><td>0.011180160</td><td>0.06484540</td><td>0.006437197</td><td>0.004207143</td><td>0.008667251</td></tr>\n",
       "\t<tr><td>Weight</td><td>0.5875425</td><td> 1</td><td>0.02507786</td><td>0.007549218</td><td>0.04625433</td><td>0.006437197</td><td>0.004207143</td><td>0.008667251</td></tr>\n",
       "\t<tr><td>Weight</td><td>0.5875425</td><td> 2</td><td>0.01674065</td><td>0.003217986</td><td>0.03152318</td><td>0.006437197</td><td>0.004207143</td><td>0.008667251</td></tr>\n",
       "</tbody>\n",
       "</table>\n"
      ],
      "text/latex": [
       "A data.table: 5 × 9\n",
       "\\begin{tabular}{lllllllll}\n",
       " pheno & lambda & weight & Vx\\_ukb & lower\\_Vx\\_ukb & upper\\_Vx\\_ukb & Vx\\_gcta & lower\\_Vx\\_gcta & upper\\_Vx\\_gcta\\\\\n",
       " <chr> & <dbl> & <int> & <dbl> & <dbl> & <dbl> & <dbl> & <dbl> & <dbl>\\\\\n",
       "\\hline\n",
       "\t Weight & 0.5875425 & -2 & 0.06138966 & 0.018048008 & 0.10262481 & 0.006437197 & 0.004207143 & 0.008667251\\\\\n",
       "\t Weight & 0.5875425 & -1 & 0.05108733 & 0.025227708 & 0.09352426 & 0.006437197 & 0.004207143 & 0.008667251\\\\\n",
       "\t Weight & 0.5875425 &  0 & 0.03464890 & 0.011180160 & 0.06484540 & 0.006437197 & 0.004207143 & 0.008667251\\\\\n",
       "\t Weight & 0.5875425 &  1 & 0.02507786 & 0.007549218 & 0.04625433 & 0.006437197 & 0.004207143 & 0.008667251\\\\\n",
       "\t Weight & 0.5875425 &  2 & 0.01674065 & 0.003217986 & 0.03152318 & 0.006437197 & 0.004207143 & 0.008667251\\\\\n",
       "\\end{tabular}\n"
      ],
      "text/markdown": [
       "\n",
       "A data.table: 5 × 9\n",
       "\n",
       "| pheno &lt;chr&gt; | lambda &lt;dbl&gt; | weight &lt;int&gt; | Vx_ukb &lt;dbl&gt; | lower_Vx_ukb &lt;dbl&gt; | upper_Vx_ukb &lt;dbl&gt; | Vx_gcta &lt;dbl&gt; | lower_Vx_gcta &lt;dbl&gt; | upper_Vx_gcta &lt;dbl&gt; |\n",
       "|---|---|---|---|---|---|---|---|---|\n",
       "| Weight | 0.5875425 | -2 | 0.06138966 | 0.018048008 | 0.10262481 | 0.006437197 | 0.004207143 | 0.008667251 |\n",
       "| Weight | 0.5875425 | -1 | 0.05108733 | 0.025227708 | 0.09352426 | 0.006437197 | 0.004207143 | 0.008667251 |\n",
       "| Weight | 0.5875425 |  0 | 0.03464890 | 0.011180160 | 0.06484540 | 0.006437197 | 0.004207143 | 0.008667251 |\n",
       "| Weight | 0.5875425 |  1 | 0.02507786 | 0.007549218 | 0.04625433 | 0.006437197 | 0.004207143 | 0.008667251 |\n",
       "| Weight | 0.5875425 |  2 | 0.01674065 | 0.003217986 | 0.03152318 | 0.006437197 | 0.004207143 | 0.008667251 |\n",
       "\n"
      ],
      "text/plain": [
       "  pheno  lambda    weight Vx_ukb     lower_Vx_ukb upper_Vx_ukb Vx_gcta    \n",
       "1 Weight 0.5875425 -2     0.06138966 0.018048008  0.10262481   0.006437197\n",
       "2 Weight 0.5875425 -1     0.05108733 0.025227708  0.09352426   0.006437197\n",
       "3 Weight 0.5875425  0     0.03464890 0.011180160  0.06484540   0.006437197\n",
       "4 Weight 0.5875425  1     0.02507786 0.007549218  0.04625433   0.006437197\n",
       "5 Weight 0.5875425  2     0.01674065 0.003217986  0.03152318   0.006437197\n",
       "  lower_Vx_gcta upper_Vx_gcta\n",
       "1 0.004207143   0.008667251  \n",
       "2 0.004207143   0.008667251  \n",
       "3 0.004207143   0.008667251  \n",
       "4 0.004207143   0.008667251  \n",
       "5 0.004207143   0.008667251  "
      ]
     },
     "metadata": {},
     "output_type": "display_data"
    }
   ],
   "source": [
    "df_corr <- df_ukb %>%\n",
    "  filter(lower_Vx > 1e-4) %>%\n",
    "  inner_join(\n",
    "    df_gcta %>% filter(lower_Vx > 1e-4),\n",
    "    by = \"pheno\",\n",
    "    suffix = c(\"_ukb\", \"_gcta\")\n",
    "  )\n",
    "\n",
    "df_corr %>% head(5)"
   ]
  },
  {
   "cell_type": "markdown",
   "metadata": {},
   "source": [
    "# plot theme"
   ]
  },
  {
   "cell_type": "code",
   "execution_count": 14,
   "metadata": {
    "vscode": {
     "languageId": "r"
    }
   },
   "outputs": [],
   "source": [
    "# 공통 테마 함수 정의\n",
    "get_nature_theme <- function() {\n",
    "    theme_bw() +\n",
    "        theme(\n",
    "            # 전체적인 배경\n",
    "            panel.background = element_rect(fill = NA, color = NA),\n",
    "            panel.grid.major = element_blank(),\n",
    "            panel.grid.minor = element_blank(),\n",
    "            panel.border = element_blank(),  \n",
    "            \n",
    "            # 축 설정\n",
    "            axis.line.x.top = element_blank(),\n",
    "            axis.line.y.right = element_blank(),\n",
    "            axis.line.x.bottom = element_line(color = \"black\", size = 0.3),  \n",
    "            axis.line.y.left = element_line(color = \"black\", size = 0.3),    \n",
    "            axis.text = element_text(size = 6.5, color = \"black\"),\n",
    "            axis.title = element_text(size = 7.5, color = \"black\"),\n",
    "            axis.ticks = element_line(size = 0.3),\n",
    "            axis.ticks.length = unit(0.8, \"mm\"),\n",
    "            \n",
    "            # 범례 설정\n",
    "            legend.margin = margin(1, 1, 1, 1, unit = \"mm\"),\n",
    "            # legend.spacing.y = unit(0.1, \"cm\"),\n",
    "            \n",
    "            # 여백 설정\n",
    "            # plot.margin = unit(c(0.1, 0.2, 0.1, 0.1), \"cm\")\n",
    "            plot.margin = margin(0, 0, 0, 0)\n",
    "        )\n",
    "}"
   ]
  },
  {
   "cell_type": "markdown",
   "metadata": {},
   "source": [
    "# Step 2. Plot"
   ]
  },
  {
   "cell_type": "code",
   "execution_count": 15,
   "metadata": {
    "vscode": {
     "languageId": "r"
    }
   },
   "outputs": [],
   "source": [
    "# 결과를 저장할 데이터 프레임 초기화\n",
    "results <- data.frame(\n",
    "  weight = numeric(),\n",
    "  correlation = numeric(),\n",
    "  ci_lower = numeric(),\n",
    "  ci_upper = numeric()\n",
    ")\n",
    "\n",
    "# 각 weight 값별로 상관계수와 신뢰구간 계산\n",
    "unique_weights <- sort(unique(df_corr$weight))\n",
    "\n",
    "for (weight in unique_weights) {\n",
    "  subset <- df_corr %>% filter(weight == !!weight)\n",
    "  \n",
    "  # Pearson 상관계수 계산\n",
    "  cor_result <- cor.test(subset$Vx_ukb, subset$Vx_gcta)\n",
    "  corr <- cor_result$estimate\n",
    "  n <- nrow(subset)\n",
    "  \n",
    "  # Fisher 변환을 통한 신뢰구간 계산\n",
    "  z <- atanh(corr)\n",
    "  se <- 1 / sqrt(n - 3)\n",
    "  ci_lower <- tanh(z - 1.96 * se)\n",
    "  ci_upper <- tanh(z + 1.96 * se)\n",
    "  \n",
    "  # 결과 저장\n",
    "  results <- rbind(\n",
    "    results,\n",
    "    data.frame(\n",
    "      weight = weight,\n",
    "      correlation = corr,\n",
    "      ci_lower = ci_lower,\n",
    "      ci_upper = ci_upper\n",
    "    )\n",
    "  )\n",
    "}"
   ]
  },
  {
   "cell_type": "code",
   "execution_count": 16,
   "metadata": {
    "vscode": {
     "languageId": "r"
    }
   },
   "outputs": [
    {
     "data": {
      "text/html": [
       "<table class=\"dataframe\">\n",
       "<caption>A data.frame: 11 × 5</caption>\n",
       "<thead>\n",
       "\t<tr><th></th><th scope=col>weight</th><th scope=col>correlation</th><th scope=col>ci_lower</th><th scope=col>ci_upper</th><th scope=col>ci</th></tr>\n",
       "\t<tr><th></th><th scope=col>&lt;int&gt;</th><th scope=col>&lt;dbl&gt;</th><th scope=col>&lt;dbl&gt;</th><th scope=col>&lt;dbl&gt;</th><th scope=col>&lt;dbl&gt;</th></tr>\n",
       "</thead>\n",
       "<tbody>\n",
       "\t<tr><th scope=row>cor</th><td>-2</td><td>-0.6700535</td><td>-0.84504075</td><td>-0.36542529</td><td>0.4796155</td></tr>\n",
       "\t<tr><th scope=row>cor1</th><td>-1</td><td>-0.4779733</td><td>-0.75407302</td><td>-0.05831149</td><td>0.6957615</td></tr>\n",
       "\t<tr><th scope=row>cor2</th><td> 0</td><td>-0.1287659</td><td>-0.49160375</td><td> 0.27216774</td><td>0.7637715</td></tr>\n",
       "\t<tr><th scope=row>cor3</th><td> 1</td><td> 0.4838323</td><td> 0.11872503</td><td> 0.73368583</td><td>0.6149608</td></tr>\n",
       "\t<tr><th scope=row>cor4</th><td> 2</td><td> 0.6582520</td><td> 0.31649431</td><td> 0.84875943</td><td>0.5322651</td></tr>\n",
       "\t<tr><th scope=row>cor5</th><td> 3</td><td> 0.6116220</td><td> 0.28547731</td><td> 0.81080769</td><td>0.5253304</td></tr>\n",
       "\t<tr><th scope=row>cor6</th><td> 4</td><td> 0.4093898</td><td>-0.07107185</td><td> 0.73565740</td><td>0.8067292</td></tr>\n",
       "\t<tr><th scope=row>cor7</th><td> 5</td><td> 0.6490443</td><td> 0.20490026</td><td> 0.87153979</td><td>0.6666395</td></tr>\n",
       "\t<tr><th scope=row>cor8</th><td> 6</td><td> 0.6390734</td><td> 0.16414517</td><td> 0.87347808</td><td>0.7093329</td></tr>\n",
       "\t<tr><th scope=row>cor9</th><td> 7</td><td> 0.7416897</td><td> 0.34808443</td><td> 0.91298785</td><td>0.5649034</td></tr>\n",
       "\t<tr><th scope=row>cor10</th><td> 8</td><td> 0.7322236</td><td> 0.19034400</td><td> 0.93211987</td><td>0.7417759</td></tr>\n",
       "</tbody>\n",
       "</table>\n"
      ],
      "text/latex": [
       "A data.frame: 11 × 5\n",
       "\\begin{tabular}{r|lllll}\n",
       "  & weight & correlation & ci\\_lower & ci\\_upper & ci\\\\\n",
       "  & <int> & <dbl> & <dbl> & <dbl> & <dbl>\\\\\n",
       "\\hline\n",
       "\tcor & -2 & -0.6700535 & -0.84504075 & -0.36542529 & 0.4796155\\\\\n",
       "\tcor1 & -1 & -0.4779733 & -0.75407302 & -0.05831149 & 0.6957615\\\\\n",
       "\tcor2 &  0 & -0.1287659 & -0.49160375 &  0.27216774 & 0.7637715\\\\\n",
       "\tcor3 &  1 &  0.4838323 &  0.11872503 &  0.73368583 & 0.6149608\\\\\n",
       "\tcor4 &  2 &  0.6582520 &  0.31649431 &  0.84875943 & 0.5322651\\\\\n",
       "\tcor5 &  3 &  0.6116220 &  0.28547731 &  0.81080769 & 0.5253304\\\\\n",
       "\tcor6 &  4 &  0.4093898 & -0.07107185 &  0.73565740 & 0.8067292\\\\\n",
       "\tcor7 &  5 &  0.6490443 &  0.20490026 &  0.87153979 & 0.6666395\\\\\n",
       "\tcor8 &  6 &  0.6390734 &  0.16414517 &  0.87347808 & 0.7093329\\\\\n",
       "\tcor9 &  7 &  0.7416897 &  0.34808443 &  0.91298785 & 0.5649034\\\\\n",
       "\tcor10 &  8 &  0.7322236 &  0.19034400 &  0.93211987 & 0.7417759\\\\\n",
       "\\end{tabular}\n"
      ],
      "text/markdown": [
       "\n",
       "A data.frame: 11 × 5\n",
       "\n",
       "| <!--/--> | weight &lt;int&gt; | correlation &lt;dbl&gt; | ci_lower &lt;dbl&gt; | ci_upper &lt;dbl&gt; | ci &lt;dbl&gt; |\n",
       "|---|---|---|---|---|---|\n",
       "| cor | -2 | -0.6700535 | -0.84504075 | -0.36542529 | 0.4796155 |\n",
       "| cor1 | -1 | -0.4779733 | -0.75407302 | -0.05831149 | 0.6957615 |\n",
       "| cor2 |  0 | -0.1287659 | -0.49160375 |  0.27216774 | 0.7637715 |\n",
       "| cor3 |  1 |  0.4838323 |  0.11872503 |  0.73368583 | 0.6149608 |\n",
       "| cor4 |  2 |  0.6582520 |  0.31649431 |  0.84875943 | 0.5322651 |\n",
       "| cor5 |  3 |  0.6116220 |  0.28547731 |  0.81080769 | 0.5253304 |\n",
       "| cor6 |  4 |  0.4093898 | -0.07107185 |  0.73565740 | 0.8067292 |\n",
       "| cor7 |  5 |  0.6490443 |  0.20490026 |  0.87153979 | 0.6666395 |\n",
       "| cor8 |  6 |  0.6390734 |  0.16414517 |  0.87347808 | 0.7093329 |\n",
       "| cor9 |  7 |  0.7416897 |  0.34808443 |  0.91298785 | 0.5649034 |\n",
       "| cor10 |  8 |  0.7322236 |  0.19034400 |  0.93211987 | 0.7417759 |\n",
       "\n"
      ],
      "text/plain": [
       "      weight correlation ci_lower    ci_upper    ci       \n",
       "cor   -2     -0.6700535  -0.84504075 -0.36542529 0.4796155\n",
       "cor1  -1     -0.4779733  -0.75407302 -0.05831149 0.6957615\n",
       "cor2   0     -0.1287659  -0.49160375  0.27216774 0.7637715\n",
       "cor3   1      0.4838323   0.11872503  0.73368583 0.6149608\n",
       "cor4   2      0.6582520   0.31649431  0.84875943 0.5322651\n",
       "cor5   3      0.6116220   0.28547731  0.81080769 0.5253304\n",
       "cor6   4      0.4093898  -0.07107185  0.73565740 0.8067292\n",
       "cor7   5      0.6490443   0.20490026  0.87153979 0.6666395\n",
       "cor8   6      0.6390734   0.16414517  0.87347808 0.7093329\n",
       "cor9   7      0.7416897   0.34808443  0.91298785 0.5649034\n",
       "cor10  8      0.7322236   0.19034400  0.93211987 0.7417759"
      ]
     },
     "metadata": {},
     "output_type": "display_data"
    }
   ],
   "source": [
    "results$ci = results$ci_upper - results$ci_lower\n",
    "results"
   ]
  },
  {
   "cell_type": "code",
   "execution_count": 24,
   "metadata": {
    "vscode": {
     "languageId": "r"
    }
   },
   "outputs": [
    {
     "data": {
      "image/png": "[encoded data removed]",
      "text/plain": [
       "plot without title"
      ]
     },
     "metadata": {
      "image/png": {
       "height": 420,
       "width": 420
      }
     },
     "output_type": "display_data"
    }
   ],
   "source": [
    "# 그래프 그리기\n",
    "p <- ggplot(results, aes(x = weight, y = correlation)) +\n",
    "  geom_ribbon(\n",
    "    aes(ymin = ci_lower, ymax = ci_upper),  # fill = \"CI\" 제거\n",
    "    alpha = 0.2, \n",
    "    fill = \"#008080\",  # 리본 색상을 #008080으로 설정\n",
    "    color = NA\n",
    "  ) +\n",
    "  geom_line(color = \"#008080\", size = 1) +\n",
    "  geom_point(color = \"#008080\", size = 2) +\n",
    "  \n",
    "  scale_x_continuous(breaks = unique(results$weight)) +\n",
    "  labs(\n",
    "    x = \"alpha (L2 weight)\",\n",
    "    y = \"correlation\"\n",
    "  ) +\n",
    "  get_nature_theme()\n",
    "\n",
    "p"
   ]
  },
  {
   "cell_type": "code",
   "execution_count": 25,
   "metadata": {
    "vscode": {
     "languageId": "r"
    }
   },
   "outputs": [],
   "source": [
    "output_path <- paste0(\n",
    "    \"/data/jerrylee/pjt/BIGFAM.v.2.0/figures/UKB.X.alpha-corr-with-GCTA.pdf\"\n",
    ")\n",
    "\n",
    "ggsave(\n",
    "    filename = output_path,\n",
    "    plot = p,\n",
    "    width = 81.5,\n",
    "    height = 46,\n",
    "    units = \"mm\",\n",
    "    dpi = 300,\n",
    "    device = cairo_pdf\n",
    ")\n"
   ]
  },
  {
   "cell_type": "code",
   "execution_count": null,
   "metadata": {
    "vscode": {
     "languageId": "r"
    }
   },
   "outputs": [],
   "source": []
  }
 ],
 "metadata": {
  "kernelspec": {
   "display_name": "R",
   "language": "R",
   "name": "ir"
  },
  "language_info": {
   "codemirror_mode": "r",
   "file_extension": ".r",
   "mimetype": "text/x-r-source",
   "name": "R",
   "pygments_lexer": "r",
   "version": "4.3.1"
  }
 },
 "nbformat": 4,
 "nbformat_minor": 2
}
