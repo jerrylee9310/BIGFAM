{
 "cells": [
  {
   "cell_type": "code",
   "execution_count": 1,
   "metadata": {
    "vscode": {
     "languageId": "r"
    }
   },
   "outputs": [
    {
     "name": "stderr",
     "output_type": "stream",
     "text": [
      "\n",
      "다음의 패키지를 부착합니다: ‘dplyr’\n",
      "\n",
      "\n",
      "The following objects are masked from ‘package:data.table’:\n",
      "\n",
      "    between, first, last\n",
      "\n",
      "\n",
      "The following objects are masked from ‘package:stats’:\n",
      "\n",
      "    filter, lag\n",
      "\n",
      "\n",
      "The following objects are masked from ‘package:base’:\n",
      "\n",
      "    intersect, setdiff, setequal, union\n",
      "\n",
      "\n",
      "\n",
      "다음의 패키지를 부착합니다: ‘purrr’\n",
      "\n",
      "\n",
      "The following object is masked from ‘package:data.table’:\n",
      "\n",
      "    transpose\n",
      "\n",
      "\n",
      "\n",
      "다음의 패키지를 부착합니다: ‘cowplot’\n",
      "\n",
      "\n",
      "The following object is masked from ‘package:patchwork’:\n",
      "\n",
      "    align_plots\n",
      "\n",
      "\n",
      "\u001b[90mggbreak v0.1.2\n",
      "\n",
      "If you use ggbreak in published research, please cite the following\n",
      "paper:\n",
      "\n",
      "S Xu, M Chen, T Feng, L Zhan, L Zhou, G Yu. Use ggbreak to effectively\n",
      "utilize plotting space to deal with large datasets and outliers.\n",
      "Frontiers in Genetics. 2021, 12:774846. doi: 10.3389/fgene.2021.774846\n",
      "\u001b[39m\n",
      "\n",
      "\n",
      "다음의 패키지를 부착합니다: ‘scales’\n",
      "\n",
      "\n",
      "The following object is masked from ‘package:purrr’:\n",
      "\n",
      "    discard\n",
      "\n",
      "\n",
      "필요한 패키지를 로딩중입니다: extrafont\n",
      "\n",
      "Registering fonts with R\n",
      "\n",
      "cmex10 already registered with pdfFont().\n",
      "\n",
      "cmmi10 already registered with pdfFont().\n",
      "\n",
      "cmr10 already registered with pdfFont().\n",
      "\n",
      "cmsy10 already registered with pdfFont().\n",
      "\n",
      "DejaVu Sans already registered with pdfFont().\n",
      "\n",
      "DejaVu Sans Condensed already registered with pdfFont().\n",
      "\n",
      "DejaVu Sans Light already registered with pdfFont().\n",
      "\n",
      "esint10 already registered with pdfFont().\n",
      "\n",
      "eufm10 already registered with pdfFont().\n",
      "\n",
      "Liberation Mono already registered with pdfFont().\n",
      "\n",
      "msam10 already registered with pdfFont().\n",
      "\n",
      "msbm10 already registered with pdfFont().\n",
      "\n",
      "rsfs10 already registered with pdfFont().\n",
      "\n",
      "stmary10 already registered with pdfFont().\n",
      "\n",
      "wasy10 already registered with pdfFont().\n",
      "\n",
      "cmex10 already registered with postscriptFont().\n",
      "\n",
      "cmmi10 already registered with postscriptFont().\n",
      "\n",
      "cmr10 already registered with postscriptFont().\n",
      "\n",
      "cmsy10 already registered with postscriptFont().\n",
      "\n",
      "DejaVu Sans already registered with postscriptFont().\n",
      "\n",
      "DejaVu Sans Condensed already registered with postscriptFont().\n",
      "\n",
      "DejaVu Sans Light already registered with postscriptFont().\n",
      "\n",
      "esint10 already registered with postscriptFont().\n",
      "\n",
      "eufm10 already registered with postscriptFont().\n",
      "\n",
      "Liberation Mono already registered with postscriptFont().\n",
      "\n",
      "msam10 already registered with postscriptFont().\n",
      "\n",
      "msbm10 already registered with postscriptFont().\n",
      "\n",
      "rsfs10 already registered with postscriptFont().\n",
      "\n",
      "stmary10 already registered with postscriptFont().\n",
      "\n",
      "wasy10 already registered with postscriptFont().\n",
      "\n"
     ]
    }
   ],
   "source": [
    "library(ggplot2)\n",
    "library(data.table)\n",
    "library(dplyr)\n",
    "library(tidyr)\n",
    "library(purrr) \n",
    "library(patchwork)\n",
    "library(cowplot)\n",
    "library(ggbreak)\n",
    "library(scales)\n",
    "library(extrafont)\n",
    "\n",
    "# 3. 폰트 로드\n",
    "loadfonts()"
   ]
  },
  {
   "cell_type": "markdown",
   "metadata": {},
   "source": [
    "# Step 1. Load data"
   ]
  },
  {
   "cell_type": "code",
   "execution_count": 2,
   "metadata": {
    "vscode": {
     "languageId": "r"
    }
   },
   "outputs": [
    {
     "data": {
      "text/html": [
       "<table class=\"dataframe\">\n",
       "<caption>A data.table: 6 × 6</caption>\n",
       "<thead>\n",
       "\t<tr><th scope=col>A_true</th><th scope=col>X_true</th><th scope=col>eta</th><th scope=col>alp</th><th scope=col>X_ridge</th><th scope=col>X_noRidge</th></tr>\n",
       "\t<tr><th scope=col>&lt;dbl&gt;</th><th scope=col>&lt;dbl&gt;</th><th scope=col>&lt;dbl&gt;</th><th scope=col>&lt;dbl&gt;</th><th scope=col>&lt;dbl&gt;</th><th scope=col>&lt;dbl&gt;</th></tr>\n",
       "</thead>\n",
       "<tbody>\n",
       "\t<tr><td>0.6</td><td>0.001</td><td>0.8207297</td><td>2</td><td>-0.016738719</td><td>-0.018418734</td></tr>\n",
       "\t<tr><td>0.6</td><td>0.001</td><td>0.7958731</td><td>2</td><td>-0.003061293</td><td>-0.003388033</td></tr>\n",
       "\t<tr><td>0.6</td><td>0.001</td><td>0.8120185</td><td>2</td><td> 0.040802960</td><td> 0.044986588</td></tr>\n",
       "\t<tr><td>0.6</td><td>0.001</td><td>0.7783045</td><td>2</td><td>-0.014188324</td><td>-0.015771843</td></tr>\n",
       "\t<tr><td>0.6</td><td>0.001</td><td>0.7982959</td><td>2</td><td>-0.046255919</td><td>-0.051163095</td></tr>\n",
       "\t<tr><td>0.6</td><td>0.001</td><td>0.7501451</td><td>2</td><td> 0.037003897</td><td> 0.041449698</td></tr>\n",
       "</tbody>\n",
       "</table>\n"
      ],
      "text/latex": [
       "A data.table: 6 × 6\n",
       "\\begin{tabular}{llllll}\n",
       " A\\_true & X\\_true & eta & alp & X\\_ridge & X\\_noRidge\\\\\n",
       " <dbl> & <dbl> & <dbl> & <dbl> & <dbl> & <dbl>\\\\\n",
       "\\hline\n",
       "\t 0.6 & 0.001 & 0.8207297 & 2 & -0.016738719 & -0.018418734\\\\\n",
       "\t 0.6 & 0.001 & 0.7958731 & 2 & -0.003061293 & -0.003388033\\\\\n",
       "\t 0.6 & 0.001 & 0.8120185 & 2 &  0.040802960 &  0.044986588\\\\\n",
       "\t 0.6 & 0.001 & 0.7783045 & 2 & -0.014188324 & -0.015771843\\\\\n",
       "\t 0.6 & 0.001 & 0.7982959 & 2 & -0.046255919 & -0.051163095\\\\\n",
       "\t 0.6 & 0.001 & 0.7501451 & 2 &  0.037003897 &  0.041449698\\\\\n",
       "\\end{tabular}\n"
      ],
      "text/markdown": [
       "\n",
       "A data.table: 6 × 6\n",
       "\n",
       "| A_true &lt;dbl&gt; | X_true &lt;dbl&gt; | eta &lt;dbl&gt; | alp &lt;dbl&gt; | X_ridge &lt;dbl&gt; | X_noRidge &lt;dbl&gt; |\n",
       "|---|---|---|---|---|---|\n",
       "| 0.6 | 0.001 | 0.8207297 | 2 | -0.016738719 | -0.018418734 |\n",
       "| 0.6 | 0.001 | 0.7958731 | 2 | -0.003061293 | -0.003388033 |\n",
       "| 0.6 | 0.001 | 0.8120185 | 2 |  0.040802960 |  0.044986588 |\n",
       "| 0.6 | 0.001 | 0.7783045 | 2 | -0.014188324 | -0.015771843 |\n",
       "| 0.6 | 0.001 | 0.7982959 | 2 | -0.046255919 | -0.051163095 |\n",
       "| 0.6 | 0.001 | 0.7501451 | 2 |  0.037003897 |  0.041449698 |\n",
       "\n"
      ],
      "text/plain": [
       "  A_true X_true eta       alp X_ridge      X_noRidge   \n",
       "1 0.6    0.001  0.8207297 2   -0.016738719 -0.018418734\n",
       "2 0.6    0.001  0.7958731 2   -0.003061293 -0.003388033\n",
       "3 0.6    0.001  0.8120185 2    0.040802960  0.044986588\n",
       "4 0.6    0.001  0.7783045 2   -0.014188324 -0.015771843\n",
       "5 0.6    0.001  0.7982959 2   -0.046255919 -0.051163095\n",
       "6 0.6    0.001  0.7501451 2    0.037003897  0.041449698"
      ]
     },
     "metadata": {},
     "output_type": "display_data"
    }
   ],
   "source": [
    "df <- fread(\n",
    "    \"/data/jerrylee/pjt/BIGFAM.v.2.0/data/simulation/obj2/simulation.varying-AX.tsv\",\n",
    "    sep = \"\\t\"\n",
    ")\n",
    "\n",
    "head(df)"
   ]
  },
  {
   "cell_type": "markdown",
   "metadata": {},
   "source": [
    "# plot theme"
   ]
  },
  {
   "cell_type": "code",
   "execution_count": 3,
   "metadata": {
    "vscode": {
     "languageId": "r"
    }
   },
   "outputs": [],
   "source": [
    "# 공통 테마 함수 정의\n",
    "get_nature_theme <- function() {\n",
    "    theme_bw() +\n",
    "        theme(\n",
    "            # 전체적인 배경\n",
    "            panel.background = element_rect(fill = NA, color = NA),\n",
    "            panel.grid.major = element_blank(),\n",
    "            panel.grid.minor = element_blank(),\n",
    "            panel.border = element_blank(),  \n",
    "            \n",
    "            # 축 설정\n",
    "            axis.line.x.top = element_blank(),\n",
    "            axis.line.y.right = element_blank(),\n",
    "            axis.line.x.bottom = element_line(color = \"black\", size = 0.3),  \n",
    "            axis.line.y.left = element_line(color = \"black\", size = 0.3),    \n",
    "            axis.text = element_text(size = 6.5, color = \"black\"),\n",
    "            axis.title = element_text(size = 7.5, color = \"black\"),\n",
    "            axis.ticks = element_line(size = 0.3),\n",
    "            axis.ticks.length = unit(0.8, \"mm\"),\n",
    "            \n",
    "            # 범례 설정\n",
    "            legend.margin = margin(1, 1, 1, 1, unit = \"mm\"),\n",
    "            # legend.spacing.y = unit(0.1, \"cm\"),\n",
    "            \n",
    "            # 여백 설정\n",
    "            # plot.margin = unit(c(0.1, 0.2, 0.1, 0.1), \"cm\")\n",
    "            plot.margin = margin(0, 0, 0, 0)\n",
    "        )\n",
    "}"
   ]
  },
  {
   "cell_type": "markdown",
   "metadata": {},
   "source": [
    "# Step 2. Plot"
   ]
  },
  {
   "cell_type": "code",
   "execution_count": 4,
   "metadata": {
    "vscode": {
     "languageId": "r"
    }
   },
   "outputs": [
    {
     "data": {
      "text/html": [
       "<table class=\"dataframe\">\n",
       "<caption>A data.table: 10 × 6</caption>\n",
       "<thead>\n",
       "\t<tr><th scope=col>A_true</th><th scope=col>X_true</th><th scope=col>eta</th><th scope=col>alp</th><th scope=col>X_ridge</th><th scope=col>X_noRidge</th></tr>\n",
       "\t<tr><th scope=col>&lt;fct&gt;</th><th scope=col>&lt;dbl&gt;</th><th scope=col>&lt;dbl&gt;</th><th scope=col>&lt;dbl&gt;</th><th scope=col>&lt;dbl&gt;</th><th scope=col>&lt;dbl&gt;</th></tr>\n",
       "</thead>\n",
       "<tbody>\n",
       "\t<tr><td>0.4</td><td>0.005</td><td>0.6389888</td><td>2</td><td>-0.018142152</td><td>-0.021146112</td></tr>\n",
       "\t<tr><td>0.6</td><td>0.001</td><td>0.7931145</td><td>2</td><td>-0.034596549</td><td>-0.038314922</td></tr>\n",
       "\t<tr><td>0.2</td><td>0.020</td><td>0.4591713</td><td>2</td><td> 0.042461054</td><td> 0.056076574</td></tr>\n",
       "\t<tr><td>0.2</td><td>0.001</td><td>0.4069904</td><td>2</td><td> 0.012924761</td><td> 0.018200065</td></tr>\n",
       "\t<tr><td>0.2</td><td>0.010</td><td>0.4077034</td><td>2</td><td> 0.018283143</td><td> 0.025719414</td></tr>\n",
       "\t<tr><td>0.4</td><td>0.005</td><td>0.5660090</td><td>2</td><td>-0.011131122</td><td>-0.013480126</td></tr>\n",
       "\t<tr><td>0.2</td><td>0.005</td><td>0.3870889</td><td>2</td><td> 0.020706669</td><td> 0.030049563</td></tr>\n",
       "\t<tr><td>0.2</td><td>0.001</td><td>0.4132598</td><td>2</td><td>-0.015903628</td><td>-0.022199309</td></tr>\n",
       "\t<tr><td>0.4</td><td>0.005</td><td>0.5931836</td><td>2</td><td>-0.002297255</td><td>-0.002738640</td></tr>\n",
       "\t<tr><td>0.4</td><td>0.005</td><td>0.5823730</td><td>2</td><td>-0.005644166</td><td>-0.006769257</td></tr>\n",
       "</tbody>\n",
       "</table>\n"
      ],
      "text/latex": [
       "A data.table: 10 × 6\n",
       "\\begin{tabular}{llllll}\n",
       " A\\_true & X\\_true & eta & alp & X\\_ridge & X\\_noRidge\\\\\n",
       " <fct> & <dbl> & <dbl> & <dbl> & <dbl> & <dbl>\\\\\n",
       "\\hline\n",
       "\t 0.4 & 0.005 & 0.6389888 & 2 & -0.018142152 & -0.021146112\\\\\n",
       "\t 0.6 & 0.001 & 0.7931145 & 2 & -0.034596549 & -0.038314922\\\\\n",
       "\t 0.2 & 0.020 & 0.4591713 & 2 &  0.042461054 &  0.056076574\\\\\n",
       "\t 0.2 & 0.001 & 0.4069904 & 2 &  0.012924761 &  0.018200065\\\\\n",
       "\t 0.2 & 0.010 & 0.4077034 & 2 &  0.018283143 &  0.025719414\\\\\n",
       "\t 0.4 & 0.005 & 0.5660090 & 2 & -0.011131122 & -0.013480126\\\\\n",
       "\t 0.2 & 0.005 & 0.3870889 & 2 &  0.020706669 &  0.030049563\\\\\n",
       "\t 0.2 & 0.001 & 0.4132598 & 2 & -0.015903628 & -0.022199309\\\\\n",
       "\t 0.4 & 0.005 & 0.5931836 & 2 & -0.002297255 & -0.002738640\\\\\n",
       "\t 0.4 & 0.005 & 0.5823730 & 2 & -0.005644166 & -0.006769257\\\\\n",
       "\\end{tabular}\n"
      ],
      "text/markdown": [
       "\n",
       "A data.table: 10 × 6\n",
       "\n",
       "| A_true &lt;fct&gt; | X_true &lt;dbl&gt; | eta &lt;dbl&gt; | alp &lt;dbl&gt; | X_ridge &lt;dbl&gt; | X_noRidge &lt;dbl&gt; |\n",
       "|---|---|---|---|---|---|\n",
       "| 0.4 | 0.005 | 0.6389888 | 2 | -0.018142152 | -0.021146112 |\n",
       "| 0.6 | 0.001 | 0.7931145 | 2 | -0.034596549 | -0.038314922 |\n",
       "| 0.2 | 0.020 | 0.4591713 | 2 |  0.042461054 |  0.056076574 |\n",
       "| 0.2 | 0.001 | 0.4069904 | 2 |  0.012924761 |  0.018200065 |\n",
       "| 0.2 | 0.010 | 0.4077034 | 2 |  0.018283143 |  0.025719414 |\n",
       "| 0.4 | 0.005 | 0.5660090 | 2 | -0.011131122 | -0.013480126 |\n",
       "| 0.2 | 0.005 | 0.3870889 | 2 |  0.020706669 |  0.030049563 |\n",
       "| 0.2 | 0.001 | 0.4132598 | 2 | -0.015903628 | -0.022199309 |\n",
       "| 0.4 | 0.005 | 0.5931836 | 2 | -0.002297255 | -0.002738640 |\n",
       "| 0.4 | 0.005 | 0.5823730 | 2 | -0.005644166 | -0.006769257 |\n",
       "\n"
      ],
      "text/plain": [
       "   A_true X_true eta       alp X_ridge      X_noRidge   \n",
       "1  0.4    0.005  0.6389888 2   -0.018142152 -0.021146112\n",
       "2  0.6    0.001  0.7931145 2   -0.034596549 -0.038314922\n",
       "3  0.2    0.020  0.4591713 2    0.042461054  0.056076574\n",
       "4  0.2    0.001  0.4069904 2    0.012924761  0.018200065\n",
       "5  0.2    0.010  0.4077034 2    0.018283143  0.025719414\n",
       "6  0.4    0.005  0.5660090 2   -0.011131122 -0.013480126\n",
       "7  0.2    0.005  0.3870889 2    0.020706669  0.030049563\n",
       "8  0.2    0.001  0.4132598 2   -0.015903628 -0.022199309\n",
       "9  0.4    0.005  0.5931836 2   -0.002297255 -0.002738640\n",
       "10 0.4    0.005  0.5823730 2   -0.005644166 -0.006769257"
      ]
     },
     "metadata": {},
     "output_type": "display_data"
    }
   ],
   "source": [
    "df$A_true <- as.factor(df$A_true)\n",
    "df %>% sample_n(10)"
   ]
  },
  {
   "cell_type": "code",
   "execution_count": 23,
   "metadata": {
    "vscode": {
     "languageId": "r"
    }
   },
   "outputs": [
    {
     "data": {
      "image/png": "[encoded data removed]",
      "text/plain": [
       "plot without title"
      ]
     },
     "metadata": {
      "image/png": {
       "height": 420,
       "width": 420
      }
     },
     "output_type": "display_data"
    }
   ],
   "source": [
    "p <- ggplot(df, aes(x = A_true, y = X_ridge, fill = A_true)) +\n",
    "  geom_boxplot() +\n",
    "  geom_hline(aes(yintercept = X_true), linetype = \"dashed\", color = \"red\") +\n",
    "  facet_wrap(~X_true, ncol = 4) +  # 4개의 subplot을 가로로 배치\n",
    "  scale_fill_brewer(palette = \"Set2\") +\n",
    "  get_nature_theme() +\n",
    "  theme(legend.position = \"none\") + \n",
    "  theme(axis.text.x = element_text(size = 5),  # x축 tick 사이즈를 줄이기\n",
    "        strip.text.x = element_text(size = 6)) +  # facet에 써지는 글자 크기도 줄이기\n",
    "  labs(\n",
    "    x = \"True Va\",\n",
    "    y = \"Varaince (chr.X)\",\n",
    "    fill = \"Variance (autosome)\"\n",
    "  )\n",
    "\n",
    "p"
   ]
  },
  {
   "cell_type": "code",
   "execution_count": 24,
   "metadata": {
    "vscode": {
     "languageId": "r"
    }
   },
   "outputs": [],
   "source": [
    "output_path <- paste0(\n",
    "    \"/data/jerrylee/pjt/BIGFAM.v.2.0/figures/simulation.X-varying-AX.pdf\"\n",
    ")\n",
    "\n",
    "ggsave(\n",
    "    filename = output_path,\n",
    "    plot = p,\n",
    "    width = 60,\n",
    "    height = 46,\n",
    "    units = \"mm\",\n",
    "    dpi = 300,\n",
    "    device = cairo_pdf\n",
    ")\n"
   ]
  },
  {
   "cell_type": "code",
   "execution_count": null,
   "metadata": {
    "vscode": {
     "languageId": "r"
    }
   },
   "outputs": [],
   "source": []
  }
 ],
 "metadata": {
  "kernelspec": {
   "display_name": "R",
   "language": "R",
   "name": "ir"
  },
  "language_info": {
   "codemirror_mode": "r",
   "file_extension": ".r",
   "mimetype": "text/x-r-source",
   "name": "R",
   "pygments_lexer": "r",
   "version": "4.3.1"
  }
 },
 "nbformat": 4,
 "nbformat_minor": 2
}
