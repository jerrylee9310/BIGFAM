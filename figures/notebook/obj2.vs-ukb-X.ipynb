{
 "cells": [
  {
   "cell_type": "code",
   "execution_count": 10,
   "metadata": {
    "vscode": {
     "languageId": "r"
    }
   },
   "outputs": [
    {
     "name": "stderr",
     "output_type": "stream",
     "text": [
      "cmex10 already registered with pdfFont().\n",
      "\n",
      "cmmi10 already registered with pdfFont().\n",
      "\n",
      "cmr10 already registered with pdfFont().\n",
      "\n"
     ]
    },
    {
     "name": "stderr",
     "output_type": "stream",
     "text": [
      "cmsy10 already registered with pdfFont().\n",
      "\n",
      "DejaVu Sans already registered with pdfFont().\n",
      "\n",
      "DejaVu Sans Condensed already registered with pdfFont().\n",
      "\n",
      "DejaVu Sans Light already registered with pdfFont().\n",
      "\n",
      "esint10 already registered with pdfFont().\n",
      "\n",
      "eufm10 already registered with pdfFont().\n",
      "\n",
      "Liberation Mono already registered with pdfFont().\n",
      "\n",
      "msam10 already registered with pdfFont().\n",
      "\n",
      "msbm10 already registered with pdfFont().\n",
      "\n",
      "rsfs10 already registered with pdfFont().\n",
      "\n",
      "stmary10 already registered with pdfFont().\n",
      "\n",
      "wasy10 already registered with pdfFont().\n",
      "\n",
      "cmex10 already registered with postscriptFont().\n",
      "\n",
      "cmmi10 already registered with postscriptFont().\n",
      "\n",
      "cmr10 already registered with postscriptFont().\n",
      "\n",
      "cmsy10 already registered with postscriptFont().\n",
      "\n",
      "DejaVu Sans already registered with postscriptFont().\n",
      "\n",
      "DejaVu Sans Condensed already registered with postscriptFont().\n",
      "\n",
      "DejaVu Sans Light already registered with postscriptFont().\n",
      "\n",
      "esint10 already registered with postscriptFont().\n",
      "\n",
      "eufm10 already registered with postscriptFont().\n",
      "\n",
      "Liberation Mono already registered with postscriptFont().\n",
      "\n",
      "msam10 already registered with postscriptFont().\n",
      "\n",
      "msbm10 already registered with postscriptFont().\n",
      "\n",
      "rsfs10 already registered with postscriptFont().\n",
      "\n",
      "stmary10 already registered with postscriptFont().\n",
      "\n",
      "wasy10 already registered with postscriptFont().\n",
      "\n"
     ]
    }
   ],
   "source": [
    "library(ggplot2)\n",
    "library(data.table)\n",
    "library(dplyr)\n",
    "library(tidyr)\n",
    "library(purrr) \n",
    "library(scales)\n",
    "if (!require(extrafont)) install.packages(\"extrafont\")\n",
    "library(extrafont)\n",
    "library(boot)\n",
    "# 3. 폰트 로드\n",
    "loadfonts()\n"
   ]
  },
  {
   "cell_type": "markdown",
   "metadata": {},
   "source": [
    "# Load data"
   ]
  },
  {
   "cell_type": "code",
   "execution_count": 2,
   "metadata": {
    "vscode": {
     "languageId": "r"
    }
   },
   "outputs": [
    {
     "data": {
      "text/html": [
       "<table class=\"dataframe\">\n",
       "<caption>A data.table: 6 × 8</caption>\n",
       "<thead>\n",
       "\t<tr><th scope=col>pheno</th><th scope=col>GCTA</th><th scope=col>lower_GCTA</th><th scope=col>upper_GCTA</th><th scope=col>weight</th><th scope=col>BIGFAM</th><th scope=col>lower_BIGFAM</th><th scope=col>upper_BIGFAM</th></tr>\n",
       "\t<tr><th scope=col>&lt;chr&gt;</th><th scope=col>&lt;dbl&gt;</th><th scope=col>&lt;dbl&gt;</th><th scope=col>&lt;dbl&gt;</th><th scope=col>&lt;int&gt;</th><th scope=col>&lt;dbl&gt;</th><th scope=col>&lt;dbl&gt;</th><th scope=col>&lt;dbl&gt;</th></tr>\n",
       "</thead>\n",
       "<tbody>\n",
       "\t<tr><td>Monocyte_count           </td><td>0.002644991</td><td>0.0004942725</td><td>0.004795709</td><td>2</td><td>0.007828119</td><td>0.0005624486</td><td>0.013686747</td></tr>\n",
       "\t<tr><td>Platelet_count           </td><td>0.002987333</td><td>0.0008503817</td><td>0.005124285</td><td>2</td><td>0.017821407</td><td>0.0072039409</td><td>0.029761266</td></tr>\n",
       "\t<tr><td>Leg_predicted_mass__left_</td><td>0.007544839</td><td>0.0052868723</td><td>0.009802806</td><td>2</td><td>0.014919787</td><td>0.0057872195</td><td>0.026126168</td></tr>\n",
       "\t<tr><td>Apolipoprotein_B         </td><td>0.002708419</td><td>0.0005248126</td><td>0.004892026</td><td>2</td><td>0.005570786</td><td>0.0008195594</td><td>0.009163891</td></tr>\n",
       "\t<tr><td>Leg_fat_mass__left_      </td><td>0.004554547</td><td>0.0023620747</td><td>0.006747020</td><td>2</td><td>0.012116872</td><td>0.0025482719</td><td>0.022513876</td></tr>\n",
       "\t<tr><td>Leg_fat-free_mass__left_ </td><td>0.007570696</td><td>0.0053123523</td><td>0.009829040</td><td>2</td><td>0.015820051</td><td>0.0049782434</td><td>0.029883753</td></tr>\n",
       "</tbody>\n",
       "</table>\n"
      ],
      "text/latex": [
       "A data.table: 6 × 8\n",
       "\\begin{tabular}{llllllll}\n",
       " pheno & GCTA & lower\\_GCTA & upper\\_GCTA & weight & BIGFAM & lower\\_BIGFAM & upper\\_BIGFAM\\\\\n",
       " <chr> & <dbl> & <dbl> & <dbl> & <int> & <dbl> & <dbl> & <dbl>\\\\\n",
       "\\hline\n",
       "\t Monocyte\\_count            & 0.002644991 & 0.0004942725 & 0.004795709 & 2 & 0.007828119 & 0.0005624486 & 0.013686747\\\\\n",
       "\t Platelet\\_count            & 0.002987333 & 0.0008503817 & 0.005124285 & 2 & 0.017821407 & 0.0072039409 & 0.029761266\\\\\n",
       "\t Leg\\_predicted\\_mass\\_\\_left\\_ & 0.007544839 & 0.0052868723 & 0.009802806 & 2 & 0.014919787 & 0.0057872195 & 0.026126168\\\\\n",
       "\t Apolipoprotein\\_B          & 0.002708419 & 0.0005248126 & 0.004892026 & 2 & 0.005570786 & 0.0008195594 & 0.009163891\\\\\n",
       "\t Leg\\_fat\\_mass\\_\\_left\\_       & 0.004554547 & 0.0023620747 & 0.006747020 & 2 & 0.012116872 & 0.0025482719 & 0.022513876\\\\\n",
       "\t Leg\\_fat-free\\_mass\\_\\_left\\_  & 0.007570696 & 0.0053123523 & 0.009829040 & 2 & 0.015820051 & 0.0049782434 & 0.029883753\\\\\n",
       "\\end{tabular}\n"
      ],
      "text/markdown": [
       "\n",
       "A data.table: 6 × 8\n",
       "\n",
       "| pheno &lt;chr&gt; | GCTA &lt;dbl&gt; | lower_GCTA &lt;dbl&gt; | upper_GCTA &lt;dbl&gt; | weight &lt;int&gt; | BIGFAM &lt;dbl&gt; | lower_BIGFAM &lt;dbl&gt; | upper_BIGFAM &lt;dbl&gt; |\n",
       "|---|---|---|---|---|---|---|---|\n",
       "| Monocyte_count            | 0.002644991 | 0.0004942725 | 0.004795709 | 2 | 0.007828119 | 0.0005624486 | 0.013686747 |\n",
       "| Platelet_count            | 0.002987333 | 0.0008503817 | 0.005124285 | 2 | 0.017821407 | 0.0072039409 | 0.029761266 |\n",
       "| Leg_predicted_mass__left_ | 0.007544839 | 0.0052868723 | 0.009802806 | 2 | 0.014919787 | 0.0057872195 | 0.026126168 |\n",
       "| Apolipoprotein_B          | 0.002708419 | 0.0005248126 | 0.004892026 | 2 | 0.005570786 | 0.0008195594 | 0.009163891 |\n",
       "| Leg_fat_mass__left_       | 0.004554547 | 0.0023620747 | 0.006747020 | 2 | 0.012116872 | 0.0025482719 | 0.022513876 |\n",
       "| Leg_fat-free_mass__left_  | 0.007570696 | 0.0053123523 | 0.009829040 | 2 | 0.015820051 | 0.0049782434 | 0.029883753 |\n",
       "\n"
      ],
      "text/plain": [
       "  pheno                     GCTA        lower_GCTA   upper_GCTA  weight\n",
       "1 Monocyte_count            0.002644991 0.0004942725 0.004795709 2     \n",
       "2 Platelet_count            0.002987333 0.0008503817 0.005124285 2     \n",
       "3 Leg_predicted_mass__left_ 0.007544839 0.0052868723 0.009802806 2     \n",
       "4 Apolipoprotein_B          0.002708419 0.0005248126 0.004892026 2     \n",
       "5 Leg_fat_mass__left_       0.004554547 0.0023620747 0.006747020 2     \n",
       "6 Leg_fat-free_mass__left_  0.007570696 0.0053123523 0.009829040 2     \n",
       "  BIGFAM      lower_BIGFAM upper_BIGFAM\n",
       "1 0.007828119 0.0005624486 0.013686747 \n",
       "2 0.017821407 0.0072039409 0.029761266 \n",
       "3 0.014919787 0.0057872195 0.026126168 \n",
       "4 0.005570786 0.0008195594 0.009163891 \n",
       "5 0.012116872 0.0025482719 0.022513876 \n",
       "6 0.015820051 0.0049782434 0.029883753 "
      ]
     },
     "metadata": {},
     "output_type": "display_data"
    }
   ],
   "source": [
    "df_x <- fread(\n",
    "    \"/data/jerrylee/pjt/BIGFAM.v.2.0/data/supple/UKB.X.bigfam-gcta.weight2.tsv\",\n",
    "    sep = '\\t'\n",
    ")\n",
    "df_x %>% head()"
   ]
  },
  {
   "cell_type": "code",
   "execution_count": 3,
   "metadata": {
    "vscode": {
     "languageId": "r"
    }
   },
   "outputs": [
    {
     "data": {
      "text/html": [
       "<table class=\"dataframe\">\n",
       "<caption>A data.table: 6 × 20</caption>\n",
       "<thead>\n",
       "\t<tr><th scope=col>pheno</th><th scope=col>lambda</th><th scope=col>weight</th><th scope=col>Vx_male_bigfam</th><th scope=col>lower_male_Vx</th><th scope=col>upper_male_Vx</th><th scope=col>Vx_female_bigfam</th><th scope=col>lower_female_Vx</th><th scope=col>upper_female_Vx</th><th scope=col>r</th><th scope=col>lower_r</th><th scope=col>upper_r</th><th scope=col>DCR_bigfam</th><th scope=col>Vx_male_gcta</th><th scope=col>lower_Vx_male</th><th scope=col>upper_Vx_male</th><th scope=col>Vx_female_gcta</th><th scope=col>lower_Vx_female</th><th scope=col>upper_Vx_female</th><th scope=col>DCR_gcta</th></tr>\n",
       "\t<tr><th scope=col>&lt;chr&gt;</th><th scope=col>&lt;dbl&gt;</th><th scope=col>&lt;int&gt;</th><th scope=col>&lt;dbl&gt;</th><th scope=col>&lt;dbl&gt;</th><th scope=col>&lt;dbl&gt;</th><th scope=col>&lt;dbl&gt;</th><th scope=col>&lt;dbl&gt;</th><th scope=col>&lt;dbl&gt;</th><th scope=col>&lt;dbl&gt;</th><th scope=col>&lt;dbl&gt;</th><th scope=col>&lt;dbl&gt;</th><th scope=col>&lt;dbl&gt;</th><th scope=col>&lt;dbl&gt;</th><th scope=col>&lt;dbl&gt;</th><th scope=col>&lt;dbl&gt;</th><th scope=col>&lt;dbl&gt;</th><th scope=col>&lt;dbl&gt;</th><th scope=col>&lt;dbl&gt;</th><th scope=col>&lt;dbl&gt;</th></tr>\n",
       "</thead>\n",
       "<tbody>\n",
       "\t<tr><td>Hand_grip_strength__left_          </td><td>0.3082598</td><td>2</td><td>0.001705526</td><td>1.253098e-05</td><td>0.004957134</td><td>0.002044821</td><td>8.516356e-04</td><td>0.003483356</td><td> 1</td><td>-1.00</td><td>1</td><td>0.8340713</td><td>0.006058590</td><td>0.001532726</td><td>0.01058446</td><td>0.006664700</td><td>2.830292e-03</td><td>0.010499108</td><td>0.9090567</td></tr>\n",
       "\t<tr><td>Arm_fat-free_mass__right_          </td><td>0.6025213</td><td>2</td><td>0.008300719</td><td>7.741944e-05</td><td>0.020524186</td><td>0.005627753</td><td>1.429506e-03</td><td>0.010360874</td><td>-1</td><td>-1.00</td><td>1</td><td>1.4749616</td><td>0.014669504</td><td>0.009790133</td><td>0.01954888</td><td>0.007923873</td><td>3.957212e-03</td><td>0.011890534</td><td>1.8513048</td></tr>\n",
       "\t<tr><td>Forced_vital_capacity__FVC__Z-score</td><td>0.4284536</td><td>2</td><td>0.005628110</td><td>1.312787e-05</td><td>0.012106735</td><td>0.003852182</td><td>1.413091e-03</td><td>0.006939029</td><td> 1</td><td>-1.00</td><td>1</td><td>1.4610185</td><td>0.008389818</td><td>0.002654886</td><td>0.01412475</td><td>0.004671435</td><td>3.618831e-05</td><td>0.009306682</td><td>1.7959829</td></tr>\n",
       "\t<tr><td>Leg_predicted_mass__right_         </td><td>0.6312283</td><td>2</td><td>0.013897005</td><td>4.046964e-03</td><td>0.023310160</td><td>0.006159614</td><td>2.116594e-03</td><td>0.011632430</td><td> 1</td><td>-1.00</td><td>1</td><td>2.2561486</td><td>0.013460740</td><td>0.008661084</td><td>0.01826040</td><td>0.007134650</td><td>3.137070e-03</td><td>0.011132231</td><td>1.8866713</td></tr>\n",
       "\t<tr><td>Waist_circumference                </td><td>0.4744789</td><td>2</td><td>0.009061604</td><td>2.601486e-03</td><td>0.016143535</td><td>0.003524400</td><td>7.944360e-05</td><td>0.007411789</td><td> 1</td><td>-0.43</td><td>1</td><td>2.5711058</td><td>0.008716362</td><td>0.004174472</td><td>0.01325825</td><td>0.004555393</td><td>7.664621e-04</td><td>0.008344323</td><td>1.9134162</td></tr>\n",
       "\t<tr><td>Body_fat_percentage                </td><td>0.5445789</td><td>2</td><td>0.006192087</td><td>1.129550e-06</td><td>0.014008902</td><td>0.003044163</td><td>3.315464e-05</td><td>0.007598489</td><td> 1</td><td>-1.00</td><td>1</td><td>2.0340851</td><td>0.010194102</td><td>0.005504727</td><td>0.01488348</td><td>0.005441628</td><td>1.510869e-03</td><td>0.009372388</td><td>1.8733550</td></tr>\n",
       "</tbody>\n",
       "</table>\n"
      ],
      "text/latex": [
       "A data.table: 6 × 20\n",
       "\\begin{tabular}{llllllllllllllllllll}\n",
       " pheno & lambda & weight & Vx\\_male\\_bigfam & lower\\_male\\_Vx & upper\\_male\\_Vx & Vx\\_female\\_bigfam & lower\\_female\\_Vx & upper\\_female\\_Vx & r & lower\\_r & upper\\_r & DCR\\_bigfam & Vx\\_male\\_gcta & lower\\_Vx\\_male & upper\\_Vx\\_male & Vx\\_female\\_gcta & lower\\_Vx\\_female & upper\\_Vx\\_female & DCR\\_gcta\\\\\n",
       " <chr> & <dbl> & <int> & <dbl> & <dbl> & <dbl> & <dbl> & <dbl> & <dbl> & <dbl> & <dbl> & <dbl> & <dbl> & <dbl> & <dbl> & <dbl> & <dbl> & <dbl> & <dbl> & <dbl>\\\\\n",
       "\\hline\n",
       "\t Hand\\_grip\\_strength\\_\\_left\\_           & 0.3082598 & 2 & 0.001705526 & 1.253098e-05 & 0.004957134 & 0.002044821 & 8.516356e-04 & 0.003483356 &  1 & -1.00 & 1 & 0.8340713 & 0.006058590 & 0.001532726 & 0.01058446 & 0.006664700 & 2.830292e-03 & 0.010499108 & 0.9090567\\\\\n",
       "\t Arm\\_fat-free\\_mass\\_\\_right\\_           & 0.6025213 & 2 & 0.008300719 & 7.741944e-05 & 0.020524186 & 0.005627753 & 1.429506e-03 & 0.010360874 & -1 & -1.00 & 1 & 1.4749616 & 0.014669504 & 0.009790133 & 0.01954888 & 0.007923873 & 3.957212e-03 & 0.011890534 & 1.8513048\\\\\n",
       "\t Forced\\_vital\\_capacity\\_\\_FVC\\_\\_Z-score & 0.4284536 & 2 & 0.005628110 & 1.312787e-05 & 0.012106735 & 0.003852182 & 1.413091e-03 & 0.006939029 &  1 & -1.00 & 1 & 1.4610185 & 0.008389818 & 0.002654886 & 0.01412475 & 0.004671435 & 3.618831e-05 & 0.009306682 & 1.7959829\\\\\n",
       "\t Leg\\_predicted\\_mass\\_\\_right\\_          & 0.6312283 & 2 & 0.013897005 & 4.046964e-03 & 0.023310160 & 0.006159614 & 2.116594e-03 & 0.011632430 &  1 & -1.00 & 1 & 2.2561486 & 0.013460740 & 0.008661084 & 0.01826040 & 0.007134650 & 3.137070e-03 & 0.011132231 & 1.8866713\\\\\n",
       "\t Waist\\_circumference                 & 0.4744789 & 2 & 0.009061604 & 2.601486e-03 & 0.016143535 & 0.003524400 & 7.944360e-05 & 0.007411789 &  1 & -0.43 & 1 & 2.5711058 & 0.008716362 & 0.004174472 & 0.01325825 & 0.004555393 & 7.664621e-04 & 0.008344323 & 1.9134162\\\\\n",
       "\t Body\\_fat\\_percentage                 & 0.5445789 & 2 & 0.006192087 & 1.129550e-06 & 0.014008902 & 0.003044163 & 3.315464e-05 & 0.007598489 &  1 & -1.00 & 1 & 2.0340851 & 0.010194102 & 0.005504727 & 0.01488348 & 0.005441628 & 1.510869e-03 & 0.009372388 & 1.8733550\\\\\n",
       "\\end{tabular}\n"
      ],
      "text/markdown": [
       "\n",
       "A data.table: 6 × 20\n",
       "\n",
       "| pheno &lt;chr&gt; | lambda &lt;dbl&gt; | weight &lt;int&gt; | Vx_male_bigfam &lt;dbl&gt; | lower_male_Vx &lt;dbl&gt; | upper_male_Vx &lt;dbl&gt; | Vx_female_bigfam &lt;dbl&gt; | lower_female_Vx &lt;dbl&gt; | upper_female_Vx &lt;dbl&gt; | r &lt;dbl&gt; | lower_r &lt;dbl&gt; | upper_r &lt;dbl&gt; | DCR_bigfam &lt;dbl&gt; | Vx_male_gcta &lt;dbl&gt; | lower_Vx_male &lt;dbl&gt; | upper_Vx_male &lt;dbl&gt; | Vx_female_gcta &lt;dbl&gt; | lower_Vx_female &lt;dbl&gt; | upper_Vx_female &lt;dbl&gt; | DCR_gcta &lt;dbl&gt; |\n",
       "|---|---|---|---|---|---|---|---|---|---|---|---|---|---|---|---|---|---|---|---|\n",
       "| Hand_grip_strength__left_           | 0.3082598 | 2 | 0.001705526 | 1.253098e-05 | 0.004957134 | 0.002044821 | 8.516356e-04 | 0.003483356 |  1 | -1.00 | 1 | 0.8340713 | 0.006058590 | 0.001532726 | 0.01058446 | 0.006664700 | 2.830292e-03 | 0.010499108 | 0.9090567 |\n",
       "| Arm_fat-free_mass__right_           | 0.6025213 | 2 | 0.008300719 | 7.741944e-05 | 0.020524186 | 0.005627753 | 1.429506e-03 | 0.010360874 | -1 | -1.00 | 1 | 1.4749616 | 0.014669504 | 0.009790133 | 0.01954888 | 0.007923873 | 3.957212e-03 | 0.011890534 | 1.8513048 |\n",
       "| Forced_vital_capacity__FVC__Z-score | 0.4284536 | 2 | 0.005628110 | 1.312787e-05 | 0.012106735 | 0.003852182 | 1.413091e-03 | 0.006939029 |  1 | -1.00 | 1 | 1.4610185 | 0.008389818 | 0.002654886 | 0.01412475 | 0.004671435 | 3.618831e-05 | 0.009306682 | 1.7959829 |\n",
       "| Leg_predicted_mass__right_          | 0.6312283 | 2 | 0.013897005 | 4.046964e-03 | 0.023310160 | 0.006159614 | 2.116594e-03 | 0.011632430 |  1 | -1.00 | 1 | 2.2561486 | 0.013460740 | 0.008661084 | 0.01826040 | 0.007134650 | 3.137070e-03 | 0.011132231 | 1.8866713 |\n",
       "| Waist_circumference                 | 0.4744789 | 2 | 0.009061604 | 2.601486e-03 | 0.016143535 | 0.003524400 | 7.944360e-05 | 0.007411789 |  1 | -0.43 | 1 | 2.5711058 | 0.008716362 | 0.004174472 | 0.01325825 | 0.004555393 | 7.664621e-04 | 0.008344323 | 1.9134162 |\n",
       "| Body_fat_percentage                 | 0.5445789 | 2 | 0.006192087 | 1.129550e-06 | 0.014008902 | 0.003044163 | 3.315464e-05 | 0.007598489 |  1 | -1.00 | 1 | 2.0340851 | 0.010194102 | 0.005504727 | 0.01488348 | 0.005441628 | 1.510869e-03 | 0.009372388 | 1.8733550 |\n",
       "\n"
      ],
      "text/plain": [
       "  pheno                               lambda    weight Vx_male_bigfam\n",
       "1 Hand_grip_strength__left_           0.3082598 2      0.001705526   \n",
       "2 Arm_fat-free_mass__right_           0.6025213 2      0.008300719   \n",
       "3 Forced_vital_capacity__FVC__Z-score 0.4284536 2      0.005628110   \n",
       "4 Leg_predicted_mass__right_          0.6312283 2      0.013897005   \n",
       "5 Waist_circumference                 0.4744789 2      0.009061604   \n",
       "6 Body_fat_percentage                 0.5445789 2      0.006192087   \n",
       "  lower_male_Vx upper_male_Vx Vx_female_bigfam lower_female_Vx upper_female_Vx\n",
       "1 1.253098e-05  0.004957134   0.002044821      8.516356e-04    0.003483356    \n",
       "2 7.741944e-05  0.020524186   0.005627753      1.429506e-03    0.010360874    \n",
       "3 1.312787e-05  0.012106735   0.003852182      1.413091e-03    0.006939029    \n",
       "4 4.046964e-03  0.023310160   0.006159614      2.116594e-03    0.011632430    \n",
       "5 2.601486e-03  0.016143535   0.003524400      7.944360e-05    0.007411789    \n",
       "6 1.129550e-06  0.014008902   0.003044163      3.315464e-05    0.007598489    \n",
       "  r  lower_r upper_r DCR_bigfam Vx_male_gcta lower_Vx_male upper_Vx_male\n",
       "1  1 -1.00   1       0.8340713  0.006058590  0.001532726   0.01058446   \n",
       "2 -1 -1.00   1       1.4749616  0.014669504  0.009790133   0.01954888   \n",
       "3  1 -1.00   1       1.4610185  0.008389818  0.002654886   0.01412475   \n",
       "4  1 -1.00   1       2.2561486  0.013460740  0.008661084   0.01826040   \n",
       "5  1 -0.43   1       2.5711058  0.008716362  0.004174472   0.01325825   \n",
       "6  1 -1.00   1       2.0340851  0.010194102  0.005504727   0.01488348   \n",
       "  Vx_female_gcta lower_Vx_female upper_Vx_female DCR_gcta \n",
       "1 0.006664700    2.830292e-03    0.010499108     0.9090567\n",
       "2 0.007923873    3.957212e-03    0.011890534     1.8513048\n",
       "3 0.004671435    3.618831e-05    0.009306682     1.7959829\n",
       "4 0.007134650    3.137070e-03    0.011132231     1.8866713\n",
       "5 0.004555393    7.664621e-04    0.008344323     1.9134162\n",
       "6 0.005441628    1.510869e-03    0.009372388     1.8733550"
      ]
     },
     "metadata": {},
     "output_type": "display_data"
    }
   ],
   "source": [
    "df_xmxf <- fread(\n",
    "    \"/data/jerrylee/pjt/BIGFAM.v.2.0/data/supple/UKB.XmXf.bigfam-gcta.weight2.tsv\",\n",
    "    sep = '\\t'\n",
    ")\n",
    "df_xmxf %>% head()"
   ]
  },
  {
   "cell_type": "code",
   "execution_count": null,
   "metadata": {
    "vscode": {
     "languageId": "r"
    }
   },
   "outputs": [],
   "source": []
  },
  {
   "cell_type": "code",
   "execution_count": 11,
   "metadata": {
    "vscode": {
     "languageId": "r"
    }
   },
   "outputs": [
    {
     "name": "stdout",
     "output_type": "stream",
     "text": [
      "상관계수: 0.658252 \n",
      "95% 신뢰구간: 0.396789 ~ 0.9865922 \n"
     ]
    }
   ],
   "source": [
    "# 리샘플링을 위한 함수 정의\n",
    "calc_correlation <- function(data, indices) {\n",
    "    d <- data[indices,]\n",
    "    return(cor(d$GCTA, d$BIGFAM))\n",
    "}\n",
    "\n",
    "# 부트스트랩 실행 (1000회 반복)\n",
    "set.seed(123)  # 재현성을 위한 시드 설정\n",
    "boot_results <- boot(\n",
    "    data = df_x,\n",
    "    statistic = calc_correlation,\n",
    "    R = 1000\n",
    ")\n",
    "\n",
    "# 결과 확인\n",
    "boot_ci <- boot.ci(boot_results, type = \"basic\")\n",
    "\n",
    "# 결과 출력\n",
    "cat(\"상관계수:\", cor(df_x$GCTA, df_x$BIGFAM), \"\\n\")\n",
    "cat(\"95% 신뢰구간:\", boot_ci$basic[4], \"~\", boot_ci$basic[5], \"\\n\")"
   ]
  },
  {
   "cell_type": "code",
   "execution_count": 14,
   "metadata": {
    "vscode": {
     "languageId": "r"
    }
   },
   "outputs": [
    {
     "name": "stdout",
     "output_type": "stream",
     "text": [
      "상관계수: 0.6368928 \n",
      "95% 신뢰구간: 0.4216384 ~ 0.8845742 \n"
     ]
    }
   ],
   "source": [
    "# 리샘플링을 위한 함수 정의\n",
    "calc_correlation <- function(data, indices) {\n",
    "    d <- data[indices,]\n",
    "    return(cor(d$DCR_gcta, d$DCR_bigfam))\n",
    "}\n",
    "\n",
    "# 부트스트랩 실행 (1000회 반복)\n",
    "set.seed(123)  # 재현성을 위한 시드 설정\n",
    "boot_results <- boot(\n",
    "    data = df_xmxf,\n",
    "    statistic = calc_correlation,\n",
    "    R = 1000\n",
    ")\n",
    "\n",
    "# 결과 확인\n",
    "boot_ci <- boot.ci(boot_results, type = \"basic\")\n",
    "\n",
    "# 결과 출력\n",
    "cat(\"상관계수:\", cor(df_xmxf$DCR_gcta, df_xmxf$DCR_bigfam), \"\\n\")\n",
    "cat(\"95% 신뢰구간:\", boot_ci$basic[4], \"~\", boot_ci$basic[5], \"\\n\")"
   ]
  },
  {
   "cell_type": "markdown",
   "metadata": {},
   "source": [
    "# plot theme"
   ]
  },
  {
   "cell_type": "code",
   "execution_count": 4,
   "metadata": {
    "vscode": {
     "languageId": "r"
    }
   },
   "outputs": [],
   "source": [
    "# 공통 테마 함수 정의\n",
    "get_nature_theme <- function() {\n",
    "    theme_bw() +\n",
    "    theme(\n",
    "        # 전체적인 배경\n",
    "        panel.background = element_rect(fill = NA, color = NA),\n",
    "        panel.grid.major = element_blank(),\n",
    "        panel.grid.minor = element_blank(),\n",
    "        panel.border = element_rect(color = \"black\", fill = NA, size = 0.6),  # size로 선 굵기 조절\n",
    "        \n",
    "        # panel.border = element_blank(),  \n",
    "        \n",
    "        # 축 설정\n",
    "        # axis.line.x.top = element_line(color = \"black\", size = 0.3),  \n",
    "        # axis.line.y.right = element_line(color = \"black\", size = 0.3),  \n",
    "        # axis.line.x.bottom = element_line(color = \"black\", size = 0.3),  \n",
    "        # axis.line.y.left = element_line(color = \"black\", size = 0.3),    \n",
    "        axis.text = element_text(size = 6.5, color = \"black\"),\n",
    "        axis.title = element_text(size = 7.5, color = \"black\"),\n",
    "        axis.ticks = element_line(size = 0.3),\n",
    "        axis.ticks.length = unit(0.8, \"mm\"),\n",
    "        \n",
    "        # 메인 figure에 박스 추가\n",
    "        # plot.background = element_rect(color = \"black\", fill = NA),\n",
    "        \n",
    "        # legend 박스 제거\n",
    "        legend.box.background = element_blank(),  # 이전: element_rect(color = \"black\")\n",
    "        \n",
    "        # 범례 설정\n",
    "        legend.margin = margin(1, 1, 1, 1, unit = \"mm\"),\n",
    "        # legend.spacing.y = unit(0.1, \"cm\"),\n",
    "        \n",
    "        # 여백 설정\n",
    "        # plot.margin = unit(c(0.1, 0.2, 0.1, 0.1), \"cm\")\n",
    "        plot.margin = margin(2, 4, 0, 1, unit = \"mm\")\n",
    "    ) + \n",
    "    theme(\n",
    "        # 기본 텍스트 설정\n",
    "        text = element_text(),\n",
    "        \n",
    "        # 축 제목\n",
    "        axis.title = element_text(size = 12),\n",
    "        \n",
    "        # 축 텍스트\n",
    "        axis.text = element_text(size = 10),\n",
    "        \n",
    "        # 범례\n",
    "        legend.text = element_text(size = 10),\n",
    "        legend.title = element_text(size = 10),\n",
    "        \n",
    "        # 플롯 제목\n",
    "        plot.title = element_text(size = 10, face = \"bold\"),\n",
    "        \n",
    "        # 축 설정\n",
    "        axis.line = element_line(colour = \"black\", size = 0.5),\n",
    "        axis.ticks = element_line(colour = \"black\", size = 0.5),\n",
    "        \n",
    "        # 패널 설정\n",
    "        panel.grid = element_blank(),\n",
    "        panel.border = element_blank(),\n",
    "        panel.background = element_blank(),\n",
    "    )\n",
    "}"
   ]
  },
  {
   "cell_type": "markdown",
   "metadata": {},
   "source": [
    "# Step 1. X"
   ]
  },
  {
   "cell_type": "code",
   "execution_count": 5,
   "metadata": {
    "vscode": {
     "languageId": "r"
    }
   },
   "outputs": [
    {
     "name": "stderr",
     "output_type": "stream",
     "text": [
      "Warning message:\n",
      "“\u001b[1m\u001b[22mThe `size` argument of `element_line()` is deprecated as of ggplot2 3.4.0.\n",
      "\u001b[36mℹ\u001b[39m Please use the `linewidth` argument instead.”\n",
      "Warning message:\n",
      "“\u001b[1m\u001b[22mThe `size` argument of `element_rect()` is deprecated as of ggplot2 3.4.0.\n",
      "\u001b[36mℹ\u001b[39m Please use the `linewidth` argument instead.”\n"
     ]
    },
    {
     "data": {
      "image/png": "[encoded data removed]",
      "text/plain": [
       "plot without title"
      ]
     },
     "metadata": {
      "image/png": {
       "height": 420,
       "width": 420
      }
     },
     "output_type": "display_data"
    }
   ],
   "source": [
    "fit <- lm(BIGFAM ~ 0 + GCTA, data = df_x)  # 0을 추가하여 절편을 0으로 강제\n",
    "  \n",
    "p <- ggplot(\n",
    "    df_x, aes(x = GCTA, y = BIGFAM)\n",
    ") +\n",
    "    geom_point(size = 3, color = \"#363636\") +\n",
    "    geom_abline(intercept = 0, slope = 1, color = \"grey50\", linetype = \"dashed\") +  # reference line (y=x)\n",
    "    geom_abline(slope = coef(fit)[1], intercept = 0, color = \"red\", linetype = \"dashed\") +  # intercept를 0으로 설정\n",
    "    get_nature_theme() + \n",
    "    scale_x_continuous(\n",
    "        breaks = c(0.005, 0.010, 0.015),\n",
    "        limits = c(0.001, 0.015),\n",
    "        expand = c(0, 0)  # x축의 여백을 0으로 설정\n",
    "    ) +\n",
    "    scale_y_continuous(\n",
    "        breaks = scales::pretty_breaks(),\n",
    "        limits = c(0.001, 0.025),\n",
    "        expand = c(0, 0)  # y축의 여백을 0으로 설정\n",
    "    ) + \n",
    "    labs(\n",
    "        x = \"X Variance (GCTA)\",\n",
    "        y = \"X Variance (BIGFAM)\"\n",
    "    ) +\n",
    "    theme(\n",
    "        plot.margin = margin(t = 2, r = 7, b = 0, l = 1, unit = \"mm\"),\n",
    "        axis.text = element_text(size = 12)\n",
    "    )\n",
    "\n",
    "p"
   ]
  },
  {
   "cell_type": "code",
   "execution_count": 7,
   "metadata": {
    "vscode": {
     "languageId": "r"
    }
   },
   "outputs": [
    {
     "data": {
      "text/html": [
       "<table class=\"dataframe\">\n",
       "<caption>A data.frame: 1 × 4</caption>\n",
       "<thead>\n",
       "\t<tr><th scope=col>mean_GCTA</th><th scope=col>sd_GCTA</th><th scope=col>mean_BIGFAM</th><th scope=col>sd_BIGFAM</th></tr>\n",
       "\t<tr><th scope=col>&lt;dbl&gt;</th><th scope=col>&lt;dbl&gt;</th><th scope=col>&lt;dbl&gt;</th><th scope=col>&lt;dbl&gt;</th></tr>\n",
       "</thead>\n",
       "<tbody>\n",
       "\t<tr><td>0.005485746</td><td>0.002774277</td><td>0.01253529</td><td>0.005226838</td></tr>\n",
       "</tbody>\n",
       "</table>\n"
      ],
      "text/latex": [
       "A data.frame: 1 × 4\n",
       "\\begin{tabular}{llll}\n",
       " mean\\_GCTA & sd\\_GCTA & mean\\_BIGFAM & sd\\_BIGFAM\\\\\n",
       " <dbl> & <dbl> & <dbl> & <dbl>\\\\\n",
       "\\hline\n",
       "\t 0.005485746 & 0.002774277 & 0.01253529 & 0.005226838\\\\\n",
       "\\end{tabular}\n"
      ],
      "text/markdown": [
       "\n",
       "A data.frame: 1 × 4\n",
       "\n",
       "| mean_GCTA &lt;dbl&gt; | sd_GCTA &lt;dbl&gt; | mean_BIGFAM &lt;dbl&gt; | sd_BIGFAM &lt;dbl&gt; |\n",
       "|---|---|---|---|\n",
       "| 0.005485746 | 0.002774277 | 0.01253529 | 0.005226838 |\n",
       "\n"
      ],
      "text/plain": [
       "  mean_GCTA   sd_GCTA     mean_BIGFAM sd_BIGFAM  \n",
       "1 0.005485746 0.002774277 0.01253529  0.005226838"
      ]
     },
     "metadata": {},
     "output_type": "display_data"
    }
   ],
   "source": [
    "df_x %>% summarise(\n",
    "    mean_GCTA = mean(GCTA),\n",
    "    sd_GCTA = sd(GCTA),\n",
    "    mean_BIGFAM = mean(BIGFAM),\n",
    "    sd_BIGFAM = sd(BIGFAM)\n",
    ")"
   ]
  },
  {
   "cell_type": "code",
   "execution_count": 134,
   "metadata": {
    "vscode": {
     "languageId": "r"
    }
   },
   "outputs": [],
   "source": [
    "ggsave(\n",
    "    filename = \"/data/jerrylee/pjt/BIGFAM.v.2.0/figures/X.vs-UKB.pdf\",\n",
    "    plot = p,\n",
    "    width = 77,\n",
    "    height = 64,\n",
    "    units = \"mm\",\n",
    "    dpi = 300\n",
    ")"
   ]
  },
  {
   "cell_type": "markdown",
   "metadata": {},
   "source": [
    "# Step 2. XmXf (DCR)"
   ]
  },
  {
   "cell_type": "code",
   "execution_count": 46,
   "metadata": {
    "vscode": {
     "languageId": "r"
    }
   },
   "outputs": [
    {
     "data": {
      "text/html": [
       "<table class=\"dataframe\">\n",
       "<caption>A data.table: 6 × 20</caption>\n",
       "<thead>\n",
       "\t<tr><th scope=col>pheno</th><th scope=col>lambda</th><th scope=col>weight</th><th scope=col>Vx_male_bigfam</th><th scope=col>lower_male_Vx</th><th scope=col>upper_male_Vx</th><th scope=col>Vx_female_bigfam</th><th scope=col>lower_female_Vx</th><th scope=col>upper_female_Vx</th><th scope=col>r</th><th scope=col>lower_r</th><th scope=col>upper_r</th><th scope=col>DCR_bigfam</th><th scope=col>Vx_male_gcta</th><th scope=col>lower_Vx_male</th><th scope=col>upper_Vx_male</th><th scope=col>Vx_female_gcta</th><th scope=col>lower_Vx_female</th><th scope=col>upper_Vx_female</th><th scope=col>DCR_gcta</th></tr>\n",
       "\t<tr><th scope=col>&lt;chr&gt;</th><th scope=col>&lt;dbl&gt;</th><th scope=col>&lt;int&gt;</th><th scope=col>&lt;dbl&gt;</th><th scope=col>&lt;dbl&gt;</th><th scope=col>&lt;dbl&gt;</th><th scope=col>&lt;dbl&gt;</th><th scope=col>&lt;dbl&gt;</th><th scope=col>&lt;dbl&gt;</th><th scope=col>&lt;dbl&gt;</th><th scope=col>&lt;dbl&gt;</th><th scope=col>&lt;dbl&gt;</th><th scope=col>&lt;dbl&gt;</th><th scope=col>&lt;dbl&gt;</th><th scope=col>&lt;dbl&gt;</th><th scope=col>&lt;dbl&gt;</th><th scope=col>&lt;dbl&gt;</th><th scope=col>&lt;dbl&gt;</th><th scope=col>&lt;dbl&gt;</th><th scope=col>&lt;dbl&gt;</th></tr>\n",
       "</thead>\n",
       "<tbody>\n",
       "\t<tr><td>Hand_grip_strength__left_          </td><td>0.3082598</td><td>2</td><td>0.001705526</td><td>1.253098e-05</td><td>0.004957134</td><td>0.002044821</td><td>8.516356e-04</td><td>0.003483356</td><td> 1</td><td>-1.00</td><td>1</td><td>0.8340713</td><td>0.006058590</td><td>0.001532726</td><td>0.01058446</td><td>0.006664700</td><td>2.830292e-03</td><td>0.010499108</td><td>0.9090567</td></tr>\n",
       "\t<tr><td>Arm_fat-free_mass__right_          </td><td>0.6025213</td><td>2</td><td>0.008300719</td><td>7.741944e-05</td><td>0.020524186</td><td>0.005627753</td><td>1.429506e-03</td><td>0.010360874</td><td>-1</td><td>-1.00</td><td>1</td><td>1.4749616</td><td>0.014669504</td><td>0.009790133</td><td>0.01954888</td><td>0.007923873</td><td>3.957212e-03</td><td>0.011890534</td><td>1.8513048</td></tr>\n",
       "\t<tr><td>Forced_vital_capacity__FVC__Z-score</td><td>0.4284536</td><td>2</td><td>0.005628110</td><td>1.312787e-05</td><td>0.012106735</td><td>0.003852182</td><td>1.413091e-03</td><td>0.006939029</td><td> 1</td><td>-1.00</td><td>1</td><td>1.4610185</td><td>0.008389818</td><td>0.002654886</td><td>0.01412475</td><td>0.004671435</td><td>3.618831e-05</td><td>0.009306682</td><td>1.7959829</td></tr>\n",
       "\t<tr><td>Leg_predicted_mass__right_         </td><td>0.6312283</td><td>2</td><td>0.013897005</td><td>4.046964e-03</td><td>0.023310160</td><td>0.006159614</td><td>2.116594e-03</td><td>0.011632430</td><td> 1</td><td>-1.00</td><td>1</td><td>2.2561486</td><td>0.013460740</td><td>0.008661084</td><td>0.01826040</td><td>0.007134650</td><td>3.137070e-03</td><td>0.011132231</td><td>1.8866713</td></tr>\n",
       "\t<tr><td>Waist_circumference                </td><td>0.4744789</td><td>2</td><td>0.009061604</td><td>2.601486e-03</td><td>0.016143535</td><td>0.003524400</td><td>7.944360e-05</td><td>0.007411789</td><td> 1</td><td>-0.43</td><td>1</td><td>2.5711058</td><td>0.008716362</td><td>0.004174472</td><td>0.01325825</td><td>0.004555393</td><td>7.664621e-04</td><td>0.008344323</td><td>1.9134162</td></tr>\n",
       "\t<tr><td>Body_fat_percentage                </td><td>0.5445789</td><td>2</td><td>0.006192087</td><td>1.129550e-06</td><td>0.014008902</td><td>0.003044163</td><td>3.315464e-05</td><td>0.007598489</td><td> 1</td><td>-1.00</td><td>1</td><td>2.0340851</td><td>0.010194102</td><td>0.005504727</td><td>0.01488348</td><td>0.005441628</td><td>1.510869e-03</td><td>0.009372388</td><td>1.8733550</td></tr>\n",
       "</tbody>\n",
       "</table>\n"
      ],
      "text/latex": [
       "A data.table: 6 × 20\n",
       "\\begin{tabular}{llllllllllllllllllll}\n",
       " pheno & lambda & weight & Vx\\_male\\_bigfam & lower\\_male\\_Vx & upper\\_male\\_Vx & Vx\\_female\\_bigfam & lower\\_female\\_Vx & upper\\_female\\_Vx & r & lower\\_r & upper\\_r & DCR\\_bigfam & Vx\\_male\\_gcta & lower\\_Vx\\_male & upper\\_Vx\\_male & Vx\\_female\\_gcta & lower\\_Vx\\_female & upper\\_Vx\\_female & DCR\\_gcta\\\\\n",
       " <chr> & <dbl> & <int> & <dbl> & <dbl> & <dbl> & <dbl> & <dbl> & <dbl> & <dbl> & <dbl> & <dbl> & <dbl> & <dbl> & <dbl> & <dbl> & <dbl> & <dbl> & <dbl> & <dbl>\\\\\n",
       "\\hline\n",
       "\t Hand\\_grip\\_strength\\_\\_left\\_           & 0.3082598 & 2 & 0.001705526 & 1.253098e-05 & 0.004957134 & 0.002044821 & 8.516356e-04 & 0.003483356 &  1 & -1.00 & 1 & 0.8340713 & 0.006058590 & 0.001532726 & 0.01058446 & 0.006664700 & 2.830292e-03 & 0.010499108 & 0.9090567\\\\\n",
       "\t Arm\\_fat-free\\_mass\\_\\_right\\_           & 0.6025213 & 2 & 0.008300719 & 7.741944e-05 & 0.020524186 & 0.005627753 & 1.429506e-03 & 0.010360874 & -1 & -1.00 & 1 & 1.4749616 & 0.014669504 & 0.009790133 & 0.01954888 & 0.007923873 & 3.957212e-03 & 0.011890534 & 1.8513048\\\\\n",
       "\t Forced\\_vital\\_capacity\\_\\_FVC\\_\\_Z-score & 0.4284536 & 2 & 0.005628110 & 1.312787e-05 & 0.012106735 & 0.003852182 & 1.413091e-03 & 0.006939029 &  1 & -1.00 & 1 & 1.4610185 & 0.008389818 & 0.002654886 & 0.01412475 & 0.004671435 & 3.618831e-05 & 0.009306682 & 1.7959829\\\\\n",
       "\t Leg\\_predicted\\_mass\\_\\_right\\_          & 0.6312283 & 2 & 0.013897005 & 4.046964e-03 & 0.023310160 & 0.006159614 & 2.116594e-03 & 0.011632430 &  1 & -1.00 & 1 & 2.2561486 & 0.013460740 & 0.008661084 & 0.01826040 & 0.007134650 & 3.137070e-03 & 0.011132231 & 1.8866713\\\\\n",
       "\t Waist\\_circumference                 & 0.4744789 & 2 & 0.009061604 & 2.601486e-03 & 0.016143535 & 0.003524400 & 7.944360e-05 & 0.007411789 &  1 & -0.43 & 1 & 2.5711058 & 0.008716362 & 0.004174472 & 0.01325825 & 0.004555393 & 7.664621e-04 & 0.008344323 & 1.9134162\\\\\n",
       "\t Body\\_fat\\_percentage                 & 0.5445789 & 2 & 0.006192087 & 1.129550e-06 & 0.014008902 & 0.003044163 & 3.315464e-05 & 0.007598489 &  1 & -1.00 & 1 & 2.0340851 & 0.010194102 & 0.005504727 & 0.01488348 & 0.005441628 & 1.510869e-03 & 0.009372388 & 1.8733550\\\\\n",
       "\\end{tabular}\n"
      ],
      "text/markdown": [
       "\n",
       "A data.table: 6 × 20\n",
       "\n",
       "| pheno &lt;chr&gt; | lambda &lt;dbl&gt; | weight &lt;int&gt; | Vx_male_bigfam &lt;dbl&gt; | lower_male_Vx &lt;dbl&gt; | upper_male_Vx &lt;dbl&gt; | Vx_female_bigfam &lt;dbl&gt; | lower_female_Vx &lt;dbl&gt; | upper_female_Vx &lt;dbl&gt; | r &lt;dbl&gt; | lower_r &lt;dbl&gt; | upper_r &lt;dbl&gt; | DCR_bigfam &lt;dbl&gt; | Vx_male_gcta &lt;dbl&gt; | lower_Vx_male &lt;dbl&gt; | upper_Vx_male &lt;dbl&gt; | Vx_female_gcta &lt;dbl&gt; | lower_Vx_female &lt;dbl&gt; | upper_Vx_female &lt;dbl&gt; | DCR_gcta &lt;dbl&gt; |\n",
       "|---|---|---|---|---|---|---|---|---|---|---|---|---|---|---|---|---|---|---|---|\n",
       "| Hand_grip_strength__left_           | 0.3082598 | 2 | 0.001705526 | 1.253098e-05 | 0.004957134 | 0.002044821 | 8.516356e-04 | 0.003483356 |  1 | -1.00 | 1 | 0.8340713 | 0.006058590 | 0.001532726 | 0.01058446 | 0.006664700 | 2.830292e-03 | 0.010499108 | 0.9090567 |\n",
       "| Arm_fat-free_mass__right_           | 0.6025213 | 2 | 0.008300719 | 7.741944e-05 | 0.020524186 | 0.005627753 | 1.429506e-03 | 0.010360874 | -1 | -1.00 | 1 | 1.4749616 | 0.014669504 | 0.009790133 | 0.01954888 | 0.007923873 | 3.957212e-03 | 0.011890534 | 1.8513048 |\n",
       "| Forced_vital_capacity__FVC__Z-score | 0.4284536 | 2 | 0.005628110 | 1.312787e-05 | 0.012106735 | 0.003852182 | 1.413091e-03 | 0.006939029 |  1 | -1.00 | 1 | 1.4610185 | 0.008389818 | 0.002654886 | 0.01412475 | 0.004671435 | 3.618831e-05 | 0.009306682 | 1.7959829 |\n",
       "| Leg_predicted_mass__right_          | 0.6312283 | 2 | 0.013897005 | 4.046964e-03 | 0.023310160 | 0.006159614 | 2.116594e-03 | 0.011632430 |  1 | -1.00 | 1 | 2.2561486 | 0.013460740 | 0.008661084 | 0.01826040 | 0.007134650 | 3.137070e-03 | 0.011132231 | 1.8866713 |\n",
       "| Waist_circumference                 | 0.4744789 | 2 | 0.009061604 | 2.601486e-03 | 0.016143535 | 0.003524400 | 7.944360e-05 | 0.007411789 |  1 | -0.43 | 1 | 2.5711058 | 0.008716362 | 0.004174472 | 0.01325825 | 0.004555393 | 7.664621e-04 | 0.008344323 | 1.9134162 |\n",
       "| Body_fat_percentage                 | 0.5445789 | 2 | 0.006192087 | 1.129550e-06 | 0.014008902 | 0.003044163 | 3.315464e-05 | 0.007598489 |  1 | -1.00 | 1 | 2.0340851 | 0.010194102 | 0.005504727 | 0.01488348 | 0.005441628 | 1.510869e-03 | 0.009372388 | 1.8733550 |\n",
       "\n"
      ],
      "text/plain": [
       "  pheno                               lambda    weight Vx_male_bigfam\n",
       "1 Hand_grip_strength__left_           0.3082598 2      0.001705526   \n",
       "2 Arm_fat-free_mass__right_           0.6025213 2      0.008300719   \n",
       "3 Forced_vital_capacity__FVC__Z-score 0.4284536 2      0.005628110   \n",
       "4 Leg_predicted_mass__right_          0.6312283 2      0.013897005   \n",
       "5 Waist_circumference                 0.4744789 2      0.009061604   \n",
       "6 Body_fat_percentage                 0.5445789 2      0.006192087   \n",
       "  lower_male_Vx upper_male_Vx Vx_female_bigfam lower_female_Vx upper_female_Vx\n",
       "1 1.253098e-05  0.004957134   0.002044821      8.516356e-04    0.003483356    \n",
       "2 7.741944e-05  0.020524186   0.005627753      1.429506e-03    0.010360874    \n",
       "3 1.312787e-05  0.012106735   0.003852182      1.413091e-03    0.006939029    \n",
       "4 4.046964e-03  0.023310160   0.006159614      2.116594e-03    0.011632430    \n",
       "5 2.601486e-03  0.016143535   0.003524400      7.944360e-05    0.007411789    \n",
       "6 1.129550e-06  0.014008902   0.003044163      3.315464e-05    0.007598489    \n",
       "  r  lower_r upper_r DCR_bigfam Vx_male_gcta lower_Vx_male upper_Vx_male\n",
       "1  1 -1.00   1       0.8340713  0.006058590  0.001532726   0.01058446   \n",
       "2 -1 -1.00   1       1.4749616  0.014669504  0.009790133   0.01954888   \n",
       "3  1 -1.00   1       1.4610185  0.008389818  0.002654886   0.01412475   \n",
       "4  1 -1.00   1       2.2561486  0.013460740  0.008661084   0.01826040   \n",
       "5  1 -0.43   1       2.5711058  0.008716362  0.004174472   0.01325825   \n",
       "6  1 -1.00   1       2.0340851  0.010194102  0.005504727   0.01488348   \n",
       "  Vx_female_gcta lower_Vx_female upper_Vx_female DCR_gcta \n",
       "1 0.006664700    2.830292e-03    0.010499108     0.9090567\n",
       "2 0.007923873    3.957212e-03    0.011890534     1.8513048\n",
       "3 0.004671435    3.618831e-05    0.009306682     1.7959829\n",
       "4 0.007134650    3.137070e-03    0.011132231     1.8866713\n",
       "5 0.004555393    7.664621e-04    0.008344323     1.9134162\n",
       "6 0.005441628    1.510869e-03    0.009372388     1.8733550"
      ]
     },
     "metadata": {},
     "output_type": "display_data"
    }
   ],
   "source": [
    "df_xmxf %>% head()"
   ]
  },
  {
   "cell_type": "code",
   "execution_count": 47,
   "metadata": {
    "vscode": {
     "languageId": "r"
    }
   },
   "outputs": [
    {
     "data": {
      "text/html": [
       "<table class=\"dataframe\">\n",
       "<caption>A data.frame: 1 × 5</caption>\n",
       "<thead>\n",
       "\t<tr><th scope=col>mean_DCR_GCTA</th><th scope=col>sd_DCR_GCTA</th><th scope=col>mean_DCR_BIGFAM</th><th scope=col>sd_DCR_BIGFAM</th><th scope=col>size</th></tr>\n",
       "\t<tr><th scope=col>&lt;dbl&gt;</th><th scope=col>&lt;dbl&gt;</th><th scope=col>&lt;dbl&gt;</th><th scope=col>&lt;dbl&gt;</th><th scope=col>&lt;int&gt;</th></tr>\n",
       "</thead>\n",
       "<tbody>\n",
       "\t<tr><td>1.781633</td><td>0.4064778</td><td>1.882524</td><td>0.5040314</td><td>24</td></tr>\n",
       "</tbody>\n",
       "</table>\n"
      ],
      "text/latex": [
       "A data.frame: 1 × 5\n",
       "\\begin{tabular}{lllll}\n",
       " mean\\_DCR\\_GCTA & sd\\_DCR\\_GCTA & mean\\_DCR\\_BIGFAM & sd\\_DCR\\_BIGFAM & size\\\\\n",
       " <dbl> & <dbl> & <dbl> & <dbl> & <int>\\\\\n",
       "\\hline\n",
       "\t 1.781633 & 0.4064778 & 1.882524 & 0.5040314 & 24\\\\\n",
       "\\end{tabular}\n"
      ],
      "text/markdown": [
       "\n",
       "A data.frame: 1 × 5\n",
       "\n",
       "| mean_DCR_GCTA &lt;dbl&gt; | sd_DCR_GCTA &lt;dbl&gt; | mean_DCR_BIGFAM &lt;dbl&gt; | sd_DCR_BIGFAM &lt;dbl&gt; | size &lt;int&gt; |\n",
       "|---|---|---|---|---|\n",
       "| 1.781633 | 0.4064778 | 1.882524 | 0.5040314 | 24 |\n",
       "\n"
      ],
      "text/plain": [
       "  mean_DCR_GCTA sd_DCR_GCTA mean_DCR_BIGFAM sd_DCR_BIGFAM size\n",
       "1 1.781633      0.4064778   1.882524        0.5040314     24  "
      ]
     },
     "metadata": {},
     "output_type": "display_data"
    }
   ],
   "source": [
    "df_xmxf %>% \n",
    "    summarise(\n",
    "        mean_DCR_GCTA = mean(DCR_gcta),\n",
    "        sd_DCR_GCTA = sd(DCR_gcta),\n",
    "        mean_DCR_BIGFAM = mean(DCR_bigfam),\n",
    "        sd_DCR_BIGFAM = sd(DCR_bigfam),\n",
    "        size = nrow(df_xmxf)\n",
    "    )"
   ]
  },
  {
   "cell_type": "code",
   "execution_count": 48,
   "metadata": {
    "vscode": {
     "languageId": "r"
    }
   },
   "outputs": [
    {
     "name": "stderr",
     "output_type": "stream",
     "text": [
      "Warning message:\n",
      "“\u001b[1m\u001b[22mRemoved 2 rows containing missing values (`geom_point()`).”\n"
     ]
    },
    {
     "data": {
      "image/png": "[encoded data removed]",
      "text/plain": [
       "plot without title"
      ]
     },
     "metadata": {
      "image/png": {
       "height": 420,
       "width": 420
      }
     },
     "output_type": "display_data"
    }
   ],
   "source": [
    "fit <- lm(DCR_bigfam ~ 0 + DCR_gcta, data = df_xmxf)  # 0을 추가하여 절편을 0으로 강제\n",
    "  \n",
    "p <- ggplot(\n",
    "    df_xmxf, aes(x = DCR_gcta, y = DCR_bigfam)\n",
    ") +\n",
    "    geom_point(size = 3, color = \"#363636\") +\n",
    "    geom_abline(intercept = 0, slope = 1, color = \"grey50\", linetype = \"dashed\") +  # reference line (y=x)\n",
    "    geom_abline(slope = coef(fit)[1], intercept = 0, color = \"red\", linetype = \"dashed\") +  # intercept를 0으로 설정\n",
    "    get_nature_theme() + \n",
    "    scale_x_continuous(\n",
    "        breaks = scales::pretty_breaks(),\n",
    "        limits = c(1, 3),\n",
    "        expand = c(0.1, 0.1)\n",
    "    ) +\n",
    "    scale_y_continuous(\n",
    "        breaks = scales::pretty_breaks(),\n",
    "        limits = c(1, 3),\n",
    "        expand = c(0.1, 0.1)  # y축의 여백을 0으로 설정\n",
    "    ) +\n",
    "    labs(\n",
    "        x = \"DCR (GCTA)\",\n",
    "        y = \"DCR (BIGFAM)\"\n",
    "    ) +\n",
    "    theme(\n",
    "        plot.margin = margin(t = 2, r = 6, b = 0, l = 1, unit = \"mm\"),\n",
    "        axis.text = element_text(size = 12)\n",
    "    )\n",
    "\n",
    "\n",
    "p"
   ]
  },
  {
   "cell_type": "code",
   "execution_count": 43,
   "metadata": {
    "vscode": {
     "languageId": "r"
    }
   },
   "outputs": [
    {
     "data": {
      "text/plain": [
       "\n",
       "Call:\n",
       "lm(formula = DCR_bigfam ~ 0 + DCR_gcta, data = df_xmxf)\n",
       "\n",
       "Residuals:\n",
       "    Min      1Q  Median      3Q     Max \n",
       "-0.9601 -0.1206  0.1208  0.3417  0.5736 \n",
       "\n",
       "Coefficients:\n",
       "         Estimate Std. Error t value Pr(>|t|)    \n",
       "DCR_gcta  1.04395    0.04503   23.18   <2e-16 ***\n",
       "---\n",
       "Signif. codes:  0 ‘***’ 0.001 ‘**’ 0.01 ‘*’ 0.05 ‘.’ 0.1 ‘ ’ 1\n",
       "\n",
       "Residual standard error: 0.4027 on 23 degrees of freedom\n",
       "Multiple R-squared:  0.959,\tAdjusted R-squared:  0.9572 \n",
       "F-statistic: 537.4 on 1 and 23 DF,  p-value: < 2.2e-16\n"
      ]
     },
     "metadata": {},
     "output_type": "display_data"
    }
   ],
   "source": [
    "summary(fit)"
   ]
  },
  {
   "cell_type": "code",
   "execution_count": 44,
   "metadata": {
    "vscode": {
     "languageId": "r"
    }
   },
   "outputs": [
    {
     "name": "stderr",
     "output_type": "stream",
     "text": [
      "Warning message:\n",
      "“\u001b[1m\u001b[22mRemoved 2 rows containing missing values (`geom_point()`).”\n"
     ]
    }
   ],
   "source": [
    "ggsave(\n",
    "    filename = \"/data/jerrylee/pjt/BIGFAM.v.2.0/figures/X.DCR-vs-UKB.pdf\",\n",
    "    plot = p,\n",
    "    width = 77,\n",
    "    height = 64,\n",
    "    units = \"mm\",\n",
    "    dpi = 300\n",
    ")"
   ]
  },
  {
   "cell_type": "code",
   "execution_count": null,
   "metadata": {
    "vscode": {
     "languageId": "r"
    }
   },
   "outputs": [],
   "source": []
  }
 ],
 "metadata": {
  "kernelspec": {
   "display_name": "R",
   "language": "R",
   "name": "ir"
  },
  "language_info": {
   "codemirror_mode": "r",
   "file_extension": ".r",
   "mimetype": "text/x-r-source",
   "name": "R",
   "pygments_lexer": "r",
   "version": "4.3.1"
  }
 },
 "nbformat": 4,
 "nbformat_minor": 2
}
