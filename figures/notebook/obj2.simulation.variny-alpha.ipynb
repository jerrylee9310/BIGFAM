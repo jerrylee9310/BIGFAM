{
 "cells": [
  {
   "cell_type": "code",
   "execution_count": 1,
   "metadata": {
    "vscode": {
     "languageId": "r"
    }
   },
   "outputs": [
    {
     "name": "stderr",
     "output_type": "stream",
     "text": [
      "\n",
      "다음의 패키지를 부착합니다: ‘dplyr’\n",
      "\n",
      "\n",
      "The following objects are masked from ‘package:data.table’:\n",
      "\n",
      "    between, first, last\n",
      "\n",
      "\n",
      "The following objects are masked from ‘package:stats’:\n",
      "\n",
      "    filter, lag\n",
      "\n",
      "\n",
      "The following objects are masked from ‘package:base’:\n",
      "\n",
      "    intersect, setdiff, setequal, union\n",
      "\n",
      "\n",
      "\n",
      "다음의 패키지를 부착합니다: ‘purrr’\n",
      "\n",
      "\n",
      "The following object is masked from ‘package:data.table’:\n",
      "\n",
      "    transpose\n",
      "\n",
      "\n",
      "\n",
      "다음의 패키지를 부착합니다: ‘cowplot’\n",
      "\n",
      "\n",
      "The following object is masked from ‘package:patchwork’:\n",
      "\n",
      "    align_plots\n",
      "\n",
      "\n"
     ]
    },
    {
     "ename": "ERROR",
     "evalue": "Error in library(ggbreak): ‘ggbreak’이라고 불리는 패키지가 없습니다\n",
     "output_type": "error",
     "traceback": [
      "Error in library(ggbreak): ‘ggbreak’이라고 불리는 패키지가 없습니다\nTraceback:\n",
      "1. library(ggbreak)"
     ]
    }
   ],
   "source": [
    "library(ggplot2)\n",
    "library(data.table)\n",
    "library(dplyr)\n",
    "library(tidyr)\n",
    "library(purrr) \n",
    "library(patchwork)\n",
    "library(cowplot)\n",
    "library(ggbreak)\n",
    "library(scales)\n",
    "if (!require(extrafont)) install.packages(\"extrafont\")\n",
    "library(extrafont)\n",
    "\n",
    "# 3. 폰트 로드\n",
    "loadfonts()"
   ]
  },
  {
   "cell_type": "markdown",
   "metadata": {},
   "source": [
    "# Step 1. Load data"
   ]
  },
  {
   "cell_type": "code",
   "execution_count": 6,
   "metadata": {
    "vscode": {
     "languageId": "r"
    }
   },
   "outputs": [
    {
     "data": {
      "text/html": [
       "<table class=\"dataframe\">\n",
       "<caption>A data.table: 6 × 6</caption>\n",
       "<thead>\n",
       "\t<tr><th scope=col>A_true</th><th scope=col>X_true</th><th scope=col>eta</th><th scope=col>alp</th><th scope=col>X_ridge</th><th scope=col>X_noRidge</th></tr>\n",
       "\t<tr><th scope=col>&lt;dbl&gt;</th><th scope=col>&lt;dbl&gt;</th><th scope=col>&lt;dbl&gt;</th><th scope=col>&lt;dbl&gt;</th><th scope=col>&lt;dbl&gt;</th><th scope=col>&lt;dbl&gt;</th></tr>\n",
       "</thead>\n",
       "<tbody>\n",
       "\t<tr><td>0.1</td><td>0.005</td><td>0.341828</td><td>-2</td><td>0.02481899</td><td>0.02501505</td></tr>\n",
       "\t<tr><td>0.1</td><td>0.005</td><td>0.341828</td><td>-1</td><td>0.02445001</td><td>0.02501505</td></tr>\n",
       "\t<tr><td>0.1</td><td>0.005</td><td>0.341828</td><td> 0</td><td>0.02343095</td><td>0.02501505</td></tr>\n",
       "\t<tr><td>0.1</td><td>0.005</td><td>0.341828</td><td> 1</td><td>0.02088449</td><td>0.02501505</td></tr>\n",
       "\t<tr><td>0.1</td><td>0.005</td><td>0.341828</td><td> 2</td><td>0.01584637</td><td>0.02501505</td></tr>\n",
       "\t<tr><td>0.1</td><td>0.005</td><td>0.341828</td><td> 3</td><td>0.00929009</td><td>0.02501505</td></tr>\n",
       "</tbody>\n",
       "</table>\n"
      ],
      "text/latex": [
       "A data.table: 6 × 6\n",
       "\\begin{tabular}{llllll}\n",
       " A\\_true & X\\_true & eta & alp & X\\_ridge & X\\_noRidge\\\\\n",
       " <dbl> & <dbl> & <dbl> & <dbl> & <dbl> & <dbl>\\\\\n",
       "\\hline\n",
       "\t 0.1 & 0.005 & 0.341828 & -2 & 0.02481899 & 0.02501505\\\\\n",
       "\t 0.1 & 0.005 & 0.341828 & -1 & 0.02445001 & 0.02501505\\\\\n",
       "\t 0.1 & 0.005 & 0.341828 &  0 & 0.02343095 & 0.02501505\\\\\n",
       "\t 0.1 & 0.005 & 0.341828 &  1 & 0.02088449 & 0.02501505\\\\\n",
       "\t 0.1 & 0.005 & 0.341828 &  2 & 0.01584637 & 0.02501505\\\\\n",
       "\t 0.1 & 0.005 & 0.341828 &  3 & 0.00929009 & 0.02501505\\\\\n",
       "\\end{tabular}\n"
      ],
      "text/markdown": [
       "\n",
       "A data.table: 6 × 6\n",
       "\n",
       "| A_true &lt;dbl&gt; | X_true &lt;dbl&gt; | eta &lt;dbl&gt; | alp &lt;dbl&gt; | X_ridge &lt;dbl&gt; | X_noRidge &lt;dbl&gt; |\n",
       "|---|---|---|---|---|---|\n",
       "| 0.1 | 0.005 | 0.341828 | -2 | 0.02481899 | 0.02501505 |\n",
       "| 0.1 | 0.005 | 0.341828 | -1 | 0.02445001 | 0.02501505 |\n",
       "| 0.1 | 0.005 | 0.341828 |  0 | 0.02343095 | 0.02501505 |\n",
       "| 0.1 | 0.005 | 0.341828 |  1 | 0.02088449 | 0.02501505 |\n",
       "| 0.1 | 0.005 | 0.341828 |  2 | 0.01584637 | 0.02501505 |\n",
       "| 0.1 | 0.005 | 0.341828 |  3 | 0.00929009 | 0.02501505 |\n",
       "\n"
      ],
      "text/plain": [
       "  A_true X_true eta      alp X_ridge    X_noRidge \n",
       "1 0.1    0.005  0.341828 -2  0.02481899 0.02501505\n",
       "2 0.1    0.005  0.341828 -1  0.02445001 0.02501505\n",
       "3 0.1    0.005  0.341828  0  0.02343095 0.02501505\n",
       "4 0.1    0.005  0.341828  1  0.02088449 0.02501505\n",
       "5 0.1    0.005  0.341828  2  0.01584637 0.02501505\n",
       "6 0.1    0.005  0.341828  3  0.00929009 0.02501505"
      ]
     },
     "metadata": {},
     "output_type": "display_data"
    }
   ],
   "source": [
    "df <- fread(\n",
    "    \"/data/jerrylee/pjt/BIGFAM.v.2.0/data/simulation/obj2/simulation.l2.tsv\",\n",
    "    sep = \"\\t\"\n",
    ")\n",
    "\n",
    "head(df)"
   ]
  },
  {
   "cell_type": "markdown",
   "metadata": {},
   "source": [
    "# plot theme"
   ]
  },
  {
   "cell_type": "code",
   "execution_count": 7,
   "metadata": {
    "vscode": {
     "languageId": "r"
    }
   },
   "outputs": [],
   "source": [
    "# 공통 테마 함수 정의\n",
    "get_nature_theme <- function() {\n",
    "    theme_bw() +\n",
    "        theme(\n",
    "            # 전체적인 배경\n",
    "            panel.background = element_rect(fill = NA, color = NA),\n",
    "            panel.grid.major = element_blank(),\n",
    "            panel.grid.minor = element_blank(),\n",
    "            panel.border = element_blank(),  \n",
    "            \n",
    "            # 축 설정\n",
    "            axis.line.x.top = element_blank(),\n",
    "            axis.line.y.right = element_blank(),\n",
    "            axis.line.x.bottom = element_line(color = \"black\", size = 0.3),  \n",
    "            axis.line.y.left = element_line(color = \"black\", size = 0.3),    \n",
    "            axis.text = element_text(size = 6.5, color = \"black\"),\n",
    "            axis.title = element_text(size = 7.5, color = \"black\"),\n",
    "            axis.ticks = element_line(size = 0.3),\n",
    "            axis.ticks.length = unit(0.8, \"mm\"),\n",
    "            \n",
    "            # 범례 설정\n",
    "            legend.margin = margin(1, 1, 1, 1, unit = \"mm\"),\n",
    "            # legend.spacing.y = unit(0.1, \"cm\"),\n",
    "            \n",
    "            # 여백 설정\n",
    "            # plot.margin = unit(c(0.1, 0.2, 0.1, 0.1), \"cm\")\n",
    "            plot.margin = margin(0, 0, 0, 0)\n",
    "        )\n",
    "}"
   ]
  },
  {
   "cell_type": "markdown",
   "metadata": {},
   "source": [
    "# Step 2. Plot"
   ]
  },
  {
   "cell_type": "code",
   "execution_count": 8,
   "metadata": {
    "vscode": {
     "languageId": "r"
    }
   },
   "outputs": [
    {
     "data": {
      "text/html": [
       "<table class=\"dataframe\">\n",
       "<caption>A tibble: 6 × 6</caption>\n",
       "<thead>\n",
       "\t<tr><th scope=col>A_true</th><th scope=col>X_true</th><th scope=col>eta</th><th scope=col>alp</th><th scope=col>method</th><th scope=col>X</th></tr>\n",
       "\t<tr><th scope=col>&lt;dbl&gt;</th><th scope=col>&lt;dbl&gt;</th><th scope=col>&lt;dbl&gt;</th><th scope=col>&lt;fct&gt;</th><th scope=col>&lt;chr&gt;</th><th scope=col>&lt;dbl&gt;</th></tr>\n",
       "</thead>\n",
       "<tbody>\n",
       "\t<tr><td>0.1</td><td>0.005</td><td>0.341828</td><td>-2</td><td>X_ridge  </td><td>0.02481899</td></tr>\n",
       "\t<tr><td>0.1</td><td>0.005</td><td>0.341828</td><td>-2</td><td>X_noRidge</td><td>0.02501505</td></tr>\n",
       "\t<tr><td>0.1</td><td>0.005</td><td>0.341828</td><td>-1</td><td>X_ridge  </td><td>0.02445001</td></tr>\n",
       "\t<tr><td>0.1</td><td>0.005</td><td>0.341828</td><td>-1</td><td>X_noRidge</td><td>0.02501505</td></tr>\n",
       "\t<tr><td>0.1</td><td>0.005</td><td>0.341828</td><td>0 </td><td>X_ridge  </td><td>0.02343095</td></tr>\n",
       "\t<tr><td>0.1</td><td>0.005</td><td>0.341828</td><td>0 </td><td>X_noRidge</td><td>0.02501505</td></tr>\n",
       "</tbody>\n",
       "</table>\n"
      ],
      "text/latex": [
       "A tibble: 6 × 6\n",
       "\\begin{tabular}{llllll}\n",
       " A\\_true & X\\_true & eta & alp & method & X\\\\\n",
       " <dbl> & <dbl> & <dbl> & <fct> & <chr> & <dbl>\\\\\n",
       "\\hline\n",
       "\t 0.1 & 0.005 & 0.341828 & -2 & X\\_ridge   & 0.02481899\\\\\n",
       "\t 0.1 & 0.005 & 0.341828 & -2 & X\\_noRidge & 0.02501505\\\\\n",
       "\t 0.1 & 0.005 & 0.341828 & -1 & X\\_ridge   & 0.02445001\\\\\n",
       "\t 0.1 & 0.005 & 0.341828 & -1 & X\\_noRidge & 0.02501505\\\\\n",
       "\t 0.1 & 0.005 & 0.341828 & 0  & X\\_ridge   & 0.02343095\\\\\n",
       "\t 0.1 & 0.005 & 0.341828 & 0  & X\\_noRidge & 0.02501505\\\\\n",
       "\\end{tabular}\n"
      ],
      "text/markdown": [
       "\n",
       "A tibble: 6 × 6\n",
       "\n",
       "| A_true &lt;dbl&gt; | X_true &lt;dbl&gt; | eta &lt;dbl&gt; | alp &lt;fct&gt; | method &lt;chr&gt; | X &lt;dbl&gt; |\n",
       "|---|---|---|---|---|---|\n",
       "| 0.1 | 0.005 | 0.341828 | -2 | X_ridge   | 0.02481899 |\n",
       "| 0.1 | 0.005 | 0.341828 | -2 | X_noRidge | 0.02501505 |\n",
       "| 0.1 | 0.005 | 0.341828 | -1 | X_ridge   | 0.02445001 |\n",
       "| 0.1 | 0.005 | 0.341828 | -1 | X_noRidge | 0.02501505 |\n",
       "| 0.1 | 0.005 | 0.341828 | 0  | X_ridge   | 0.02343095 |\n",
       "| 0.1 | 0.005 | 0.341828 | 0  | X_noRidge | 0.02501505 |\n",
       "\n"
      ],
      "text/plain": [
       "  A_true X_true eta      alp method    X         \n",
       "1 0.1    0.005  0.341828 -2  X_ridge   0.02481899\n",
       "2 0.1    0.005  0.341828 -2  X_noRidge 0.02501505\n",
       "3 0.1    0.005  0.341828 -1  X_ridge   0.02445001\n",
       "4 0.1    0.005  0.341828 -1  X_noRidge 0.02501505\n",
       "5 0.1    0.005  0.341828 0   X_ridge   0.02343095\n",
       "6 0.1    0.005  0.341828 0   X_noRidge 0.02501505"
      ]
     },
     "metadata": {},
     "output_type": "display_data"
    }
   ],
   "source": [
    "df_melt <- df %>%\n",
    "  pivot_longer(\n",
    "    cols = c(\"X_ridge\", \"X_noRidge\"), # value_vars에 해당\n",
    "    names_to = \"method\",              # var_name에 해당\n",
    "    values_to = \"X\"                   # value_name에 해당\n",
    "  )\n",
    "\n",
    "df_melt$alp <- as.factor(df_melt$alp)\n",
    "head(df_melt)\n"
   ]
  },
  {
   "cell_type": "code",
   "execution_count": 9,
   "metadata": {
    "vscode": {
     "languageId": "r"
    }
   },
   "outputs": [
    {
     "name": "stderr",
     "output_type": "stream",
     "text": [
      "Warning message:\n",
      "“\u001b[1m\u001b[22mThe `size` argument of `element_line()` is deprecated as of ggplot2 3.4.0.\n",
      "\u001b[36mℹ\u001b[39m Please use the `linewidth` argument instead.”\n"
     ]
    },
    {
     "data": {
      "image/png": "[encoded data removed]",
      "text/plain": [
       "plot without title"
      ]
     },
     "metadata": {
      "image/png": {
       "height": 420,
       "width": 420
      }
     },
     "output_type": "display_data"
    }
   ],
   "source": [
    "p <- ggplot(df_melt, aes(x = alp, y = X, fill = method)) +\n",
    "  geom_boxplot() +\n",
    "  geom_hline(aes(yintercept = X_true), linetype = \"dashed\", color = \"red\") +  # true line 추가\n",
    "  facet_wrap(~X_true, ncol = 1) +  # X_true 값별로 row 생성\n",
    "  scale_fill_brewer(palette = \"Set2\", \n",
    "                   labels = c(\"without L2\", \"with L2\")) +  # 범례 라벨 변경\n",
    "  \n",
    "  get_nature_theme() +\n",
    "  labs(\n",
    "    x = \"weight(alpha)\",\n",
    "    y = \"X chromosome heritability\",\n",
    "    fill = \"Method\"\n",
    "  )\n",
    "\n",
    "p"
   ]
  },
  {
   "cell_type": "code",
   "execution_count": 10,
   "metadata": {
    "vscode": {
     "languageId": "r"
    }
   },
   "outputs": [],
   "source": [
    "\n",
    "output_path <- paste0(\n",
    "    \"/data/jerrylee/pjt/BIGFAM.v.2.0/figures/simulation.X-varying-alpha.pdf\"\n",
    ")\n",
    "\n",
    "ggsave(\n",
    "    filename = output_path,\n",
    "    plot = p,\n",
    "    width = 138,\n",
    "    height = 120,\n",
    "    units = \"mm\",\n",
    "    dpi = 300,\n",
    "    device = cairo_pdf\n",
    ")\n"
   ]
  },
  {
   "cell_type": "code",
   "execution_count": null,
   "metadata": {
    "vscode": {
     "languageId": "r"
    }
   },
   "outputs": [],
   "source": []
  }
 ],
 "metadata": {
  "kernelspec": {
   "display_name": "R",
   "language": "R",
   "name": "ir"
  },
  "language_info": {
   "codemirror_mode": "r",
   "file_extension": ".r",
   "mimetype": "text/x-r-source",
   "name": "R",
   "pygments_lexer": "r",
   "version": "4.3.1"
  }
 },
 "nbformat": 4,
 "nbformat_minor": 2
}
